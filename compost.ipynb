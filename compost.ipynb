{
  "cells": [
    {
      "cell_type": "markdown",
      "metadata": {
        "id": "zj1CY3QFiK5w"
      },
      "source": [
        "# Set Embeddings"
      ]
    },
    {
      "cell_type": "code",
      "execution_count": null,
      "metadata": {
        "id": "oxjG24RDSRyB"
      },
      "outputs": [],
      "source": [
        "reinstall = True"
      ]
    },
    {
      "cell_type": "code",
      "execution_count": null,
      "metadata": {
        "id": "CYH3nIXOku9F"
      },
      "outputs": [],
      "source": [
        "if reinstall == True:\n",
        "  !pip install datasets\n",
        "  !pip install sentence_transformers\n",
        "  !pip install utils\n",
        "  !pip install gensim nltk\n",
        "  !pip install scikit-dimension"
      ]
    },
    {
      "cell_type": "code",
      "execution_count": null,
      "metadata": {
        "id": "AqxmFbBnqEZj"
      },
      "outputs": [],
      "source": [
        "import os\n",
        "import numpy as np\n",
        "import warnings\n",
        "import itertools\n",
        "\n",
        "from sklearn.metrics import accuracy_score\n",
        "\n",
        "import os\n",
        "import pickle\n",
        "import numpy as np\n",
        "import pandas as pd\n",
        "import warnings\n",
        "import itertools\n",
        "import csv\n",
        "import random\n",
        "import matplotlib.pyplot as plt\n",
        "random.seed(0)  # standardized default seed\n",
        "\n",
        "import torch\n",
        "from datasets import Dataset, load_dataset\n",
        "import torch\n",
        "import torch.nn.functional as F\n",
        "\n",
        "import skdim\n",
        "\n",
        "from utils import *\n",
        "# from utils.feed_forward import FeedForward\n",
        "# from utils.cls import extract_cls_embeddings\n",
        "os.environ[\"TOKENIZERS_PARALLELISM\"] = \"false\"\n"
      ]
    },
    {
      "cell_type": "code",
      "execution_count": null,
      "metadata": {
        "id": "K6J_sw_AfY5f"
      },
      "outputs": [],
      "source": [
        "import torch\n",
        "import torch.nn as nn\n",
        "import torch.optim as optim\n",
        "from torch.utils.data import DataLoader, TensorDataset\n",
        "from skdim.id import TwoNN\n",
        "from sklearn.metrics import matthews_corrcoef"
      ]
    },
    {
      "cell_type": "code",
      "execution_count": null,
      "metadata": {
        "colab": {
          "base_uri": "https://localhost:8080/"
        },
        "id": "9fAKlIR8T_Ql",
        "outputId": "641cc5f5-662b-4fd7-e02d-3823bc71336e"
      },
      "outputs": [
        {
          "output_type": "stream",
          "name": "stdout",
          "text": [
            "cpu\n"
          ]
        }
      ],
      "source": [
        "# Set Device ##########################################################\n",
        "device_name = \"cpu\"  # default device is CPU\n",
        "if torch.cuda.is_available():\n",
        "    device_name = \"cuda\"  # CUDA for NVIDIA GPU\n",
        "elif torch.backends.mps.is_available():\n",
        "    device_name = torch.device(\"mps\")  # Metal Performance Shaders for Apple M-series GPU\n",
        "device = torch.device(device_name)\n",
        "print(device_name)\n",
        "#######################################################################"
      ]
    },
    {
      "cell_type": "code",
      "execution_count": null,
      "metadata": {
        "colab": {
          "base_uri": "https://localhost:8080/"
        },
        "id": "XZ8hqELGfkFU",
        "outputId": "03d569ee-bced-4dad-b144-7428da714952"
      },
      "outputs": [
        {
          "output_type": "stream",
          "name": "stdout",
          "text": [
            "Mounted at /content/drive\n"
          ]
        }
      ],
      "source": [
        "from google.colab import drive\n",
        "drive.mount('/content/drive', force_remount=True)"
      ]
    },
    {
      "cell_type": "markdown",
      "metadata": {
        "id": "fo5l6FTMRbKL"
      },
      "source": [
        "## Change these:"
      ]
    },
    {
      "cell_type": "code",
      "execution_count": null,
      "metadata": {
        "id": "A2u7fyv9Rvsv"
      },
      "outputs": [],
      "source": [
        "# choose cached or not\n",
        "cached = True\n",
        "test_cached = True\n",
        "\n",
        "# choose model\n",
        "## 'MPNetBase'\n",
        "## 'DistilRoBERTaBase'\n",
        "## 'MPNetST'\n",
        "## 'DistilRoBERTaST'\n",
        "## 'GloVe100'\n",
        "model_name = 'GloVe100'\n",
        "\n",
        "emb_size = 768\n",
        "if model_name == 'GloVe100':\n",
        "  emb_size = 100\n",
        "\n",
        "# choose task\n",
        "## 'cola'\n",
        "## 'sst2'\n",
        "## 'mrpc'\n",
        "## 'stsb'\n",
        "## 'qqp'\n",
        "## 'mnli_matched'\n",
        "## 'mnli_mismatched'\n",
        "## 'qnli'\n",
        "## 'rte'\n",
        "## 'wnli'\n",
        "task = 'sst2'\n",
        "\n",
        "two_sentence = True\n",
        "if task == 'cola' or task == 'sst2':\n",
        "  two_sentence = False\n",
        "\n",
        "# choose type\n",
        "## 'cls'\n",
        "## 'mean_pooling'\n",
        "## 'st'\n",
        "## 'cbow'\n",
        "emb_type = 'cbow'\n",
        "\n",
        "# choose split\n",
        "## 'train' (not applicable for mnli)\n",
        "## 'val'\n",
        "## 'test' (only applicable for mrpc)\n",
        "split = 'train'\n",
        "test_split = 'val'\n",
        "\n",
        "# choose number of classes\n",
        "## usually 2, 3 for mnli, regression for stsb (set to 5)\n",
        "classes = 2\n",
        "if task == 'mnli_matched' or task == 'mnli_mismatched':\n",
        "  classes = 3\n",
        "if task == 'stsb':\n",
        "  classes = 5\n",
        "\n",
        "# choose the number of isomap and t-sne components\n",
        "## usually 2 or 3\n",
        "n_isomap_components = 2\n",
        "n_tsne_components = 2"
      ]
    },
    {
      "cell_type": "markdown",
      "metadata": {
        "id": "dAVtPHwx_8f9"
      },
      "source": [
        "## Set model"
      ]
    },
    {
      "cell_type": "code",
      "execution_count": null,
      "metadata": {
        "id": "Iol8vdTRcQNs"
      },
      "outputs": [],
      "source": [
        "if model_name == 'MPNetBase':\n",
        "  from transformers import MPNetTokenizer, MPNetModel\n",
        "  tokenizer = MPNetTokenizer.from_pretrained('sentence-transformers/all-mpnet-base-v2')\n",
        "  model = MPNetModel.from_pretrained(\"microsoft/mpnet-base\").to(device)"
      ]
    },
    {
      "cell_type": "code",
      "execution_count": null,
      "metadata": {
        "id": "Hfr0EWFWcQNt"
      },
      "outputs": [],
      "source": [
        "if model_name == 'DistilRoBERTaBase':\n",
        "  from transformers import RobertaTokenizer, RobertaModel\n",
        "  tokenizer = RobertaTokenizer.from_pretrained('distilroberta-base')\n",
        "  model = RobertaModel.from_pretrained('distilroberta-base').to(device)"
      ]
    },
    {
      "cell_type": "code",
      "execution_count": null,
      "metadata": {
        "id": "FOgd0uQ_cQNu"
      },
      "outputs": [],
      "source": [
        "if model_name == 'MPNetST':\n",
        "  from sentence_transformers import SentenceTransformer\n",
        "  model = SentenceTransformer('sentence-transformers/all-mpnet-base-v2').to(device)"
      ]
    },
    {
      "cell_type": "code",
      "execution_count": null,
      "metadata": {
        "id": "F33JjqTwcQNu"
      },
      "outputs": [],
      "source": [
        "if model_name == 'DistilRoBERTaST':\n",
        "  from sentence_transformers import SentenceTransformer\n",
        "  model = SentenceTransformer('sentence-transformers/all-distilroberta-v1').to(device)"
      ]
    },
    {
      "cell_type": "code",
      "execution_count": null,
      "metadata": {
        "id": "J7c0cj3p0XYj",
        "colab": {
          "base_uri": "https://localhost:8080/"
        },
        "outputId": "da2a1ee1-e541-445e-c605-11b148beef8a"
      },
      "outputs": [
        {
          "output_type": "stream",
          "name": "stdout",
          "text": [
            "[==================================================] 100.0% 128.1/128.1MB downloaded\n"
          ]
        }
      ],
      "source": [
        "if model_name == 'GloVe100':\n",
        "  import gensim.downloader as api\n",
        "  model = api.load('glove-wiki-gigaword-100')  # or another model"
      ]
    },
    {
      "cell_type": "markdown",
      "metadata": {
        "id": "m2kYjjB5AAn2"
      },
      "source": [
        "## Load data"
      ]
    },
    {
      "cell_type": "code",
      "execution_count": null,
      "metadata": {
        "colab": {
          "base_uri": "https://localhost:8080/"
        },
        "id": "4s8EX0oXcQNv",
        "outputId": "22036a7b-eaa7-4e8b-c193-c9f304f714e8"
      },
      "outputs": [
        {
          "output_type": "execute_result",
          "data": {
            "text/plain": [
              "DatasetDict({\n",
              "    train: Dataset({\n",
              "        features: ['sentence', 'label', 'idx'],\n",
              "        num_rows: 67349\n",
              "    })\n",
              "    validation: Dataset({\n",
              "        features: ['sentence', 'label', 'idx'],\n",
              "        num_rows: 872\n",
              "    })\n",
              "    test: Dataset({\n",
              "        features: ['sentence', 'label', 'idx'],\n",
              "        num_rows: 1821\n",
              "    })\n",
              "})"
            ]
          },
          "metadata": {},
          "execution_count": 298
        }
      ],
      "source": [
        "data = load_dataset(\"glue\", task)\n",
        "data"
      ]
    },
    {
      "cell_type": "markdown",
      "metadata": {
        "id": "UZqokx4A7-Qe"
      },
      "source": [
        "## Run if embeddings have already been cached"
      ]
    },
    {
      "cell_type": "code",
      "execution_count": null,
      "metadata": {
        "colab": {
          "base_uri": "https://localhost:8080/"
        },
        "id": "0FuWSOkh5mHN",
        "outputId": "f3eb48de-9be0-48c8-ed37-dccc24ca7a5d"
      },
      "outputs": [
        {
          "output_type": "stream",
          "name": "stdout",
          "text": [
            "X_emb shape: (67349, 100)\n"
          ]
        }
      ],
      "source": [
        "# assumes embeddings are saved in .npy files\n",
        "\n",
        "if cached:\n",
        "\n",
        "  file_path = f'/content/drive/My Drive/projectx_pain/embeddings/{emb_type}/{task}/X_{split}_{model_name}.npy'\n",
        "  X_emb = np.load(file_path)\n",
        "\n",
        "  # set to |u-v| embedding\n",
        "  if two_sentence:\n",
        "    # set or just u-v if evaluating entailment\n",
        "    if task == 'mnli' or task == 'qnli' or task == 'rte':\n",
        "      X_emb = X_emb[:, 0:emb_size] - X_emb[:, emb_size:]\n",
        "    else:\n",
        "      X_emb = np.abs(X_emb[:, 0:emb_size] - X_emb[:, emb_size:])\n",
        "\n",
        "  # Check the shape of the loaded embeddings\n",
        "  print(\"X_emb shape:\", X_emb.shape)"
      ]
    },
    {
      "cell_type": "code",
      "execution_count": null,
      "metadata": {
        "colab": {
          "base_uri": "https://localhost:8080/"
        },
        "id": "mKaroBBN7jfp",
        "outputId": "4b1769c2-fd78-43ef-dc8a-ea5d636d853e"
      },
      "outputs": [
        {
          "output_type": "stream",
          "name": "stdout",
          "text": [
            "test_X_emb shape: (872, 100)\n"
          ]
        }
      ],
      "source": [
        "# assumes embeddings are saved in .npy files\n",
        "\n",
        "if test_cached:\n",
        "\n",
        "  file_path = f'/content/drive/My Drive/projectx_pain/embeddings/{emb_type}/{task}/X_{test_split}_{model_name}.npy'\n",
        "  test_X_emb = np.load(file_path)\n",
        "\n",
        "  # set to |u-v| embedding\n",
        "  if two_sentence:\n",
        "    # set or just u-v if evaluating entailment\n",
        "    if task == 'mnli' or task == 'qnli' or task == 'rte':\n",
        "      test_X_emb = test_X_emb[:, 0:emb_size] - test_X_emb[:, emb_size:]\n",
        "    else:\n",
        "      test_X_emb = np.abs(test_X_emb[:, 0:emb_size] - test_X_emb[:, emb_size:])\n",
        "\n",
        "  # Check the shape of the loaded embeddings\n",
        "  print(\"test_X_emb shape:\", test_X_emb.shape)"
      ]
    },
    {
      "cell_type": "code",
      "execution_count": null,
      "metadata": {
        "colab": {
          "base_uri": "https://localhost:8080/"
        },
        "id": "V-Mops6Yx0O_",
        "outputId": "1d587bb0-e01c-4b02-d4a2-90a660c530d6"
      },
      "outputs": [
        {
          "output_type": "stream",
          "name": "stdout",
          "text": [
            "Y_emb len: 67349\n"
          ]
        }
      ],
      "source": [
        "if cached:\n",
        "  # Y_train = data[\"train\"][\"label\"]\n",
        "  # Y_val = data[\"validation\"][\"label\"]\n",
        "  # Y_test = data[\"test\"][\"label\"]\n",
        "  if split == 'val':\n",
        "    Y_emb = data[\"validation\"][\"label\"]\n",
        "  else:\n",
        "    Y_emb = data[split][\"label\"]\n",
        "\n",
        "  print(\"Y_emb len:\", len(Y_emb))"
      ]
    },
    {
      "cell_type": "code",
      "execution_count": null,
      "metadata": {
        "colab": {
          "base_uri": "https://localhost:8080/"
        },
        "id": "KKw56OxG-_U4",
        "outputId": "017d24a0-f01e-4ad2-f870-71e382968ebe"
      },
      "outputs": [
        {
          "output_type": "stream",
          "name": "stdout",
          "text": [
            "test_Y_emb len: 872\n"
          ]
        }
      ],
      "source": [
        "if test_cached:\n",
        "  if test_split == 'val':\n",
        "    test_Y_emb = data[\"validation\"][\"label\"]\n",
        "  else:\n",
        "    test_Y_emb = data[test_split][\"label\"]\n",
        "\n",
        "  print(\"test_Y_emb len:\", len(test_Y_emb))"
      ]
    },
    {
      "cell_type": "code",
      "execution_count": null,
      "metadata": {
        "colab": {
          "base_uri": "https://localhost:8080/"
        },
        "id": "V4lb4zyfyK_M",
        "outputId": "68fef7b7-fc09-47c9-e520-4ada4ca99d58"
      },
      "outputs": [
        {
          "output_type": "stream",
          "name": "stdout",
          "text": [
            "5000\n",
            "(67349, 100)\n",
            "X_emb shape: (5000, 100)\n",
            "Y_emb len: 5000\n"
          ]
        }
      ],
      "source": [
        "if cached:\n",
        "  # truncate to just the first 5000 examples so that it's easier to run\n",
        "\n",
        "  print(np.min([5000, np.size(X_emb, 0)]))\n",
        "\n",
        "  print(X_emb.shape)\n",
        "  X_emb = X_emb[0:np.min([5000, np.size(X_emb, 0)]), :]\n",
        "  Y_emb = Y_emb[0:np.min([5000, np.size(Y_emb)])]\n",
        "\n",
        "  print(\"X_emb shape:\", X_emb.shape)\n",
        "  print(\"Y_emb len:\", len(Y_emb))"
      ]
    },
    {
      "cell_type": "code",
      "execution_count": null,
      "metadata": {
        "colab": {
          "base_uri": "https://localhost:8080/"
        },
        "id": "zwaVpO7e_LmP",
        "outputId": "30421d8f-67a3-4d35-d22a-4d39a459ed1b"
      },
      "outputs": [
        {
          "output_type": "stream",
          "name": "stdout",
          "text": [
            "872\n",
            "(872, 100)\n",
            "X_emb shape: (872, 100)\n",
            "Y_emb len: 872\n"
          ]
        }
      ],
      "source": [
        "if test_cached:\n",
        "  # truncate to just the first 5000 examples so that it's easier to run\n",
        "\n",
        "  print(np.min([5000, np.size(test_X_emb, 0)]))\n",
        "\n",
        "  print(test_X_emb.shape)\n",
        "  test_X_emb = test_X_emb[0:np.min([5000, np.size(test_X_emb, 0)]), :]\n",
        "  test_Y_emb = test_Y_emb[0:np.min([5000, np.size(test_Y_emb)])]\n",
        "\n",
        "  print(\"X_emb shape:\", test_X_emb.shape)\n",
        "  print(\"Y_emb len:\", len(test_Y_emb))"
      ]
    },
    {
      "cell_type": "markdown",
      "metadata": {
        "id": "yDZe7WJoxFUC"
      },
      "source": [
        "## Generate cls embeddings if needed\n",
        "(note there is no generation of mean pooling; don't use this notebook if you don't already have cached mean pooled embeddings)\n",
        "\n",
        "(NOT UPDATED TO INCLUDE TEST EMBEDDINGS BECAUSE I'M LAZY)"
      ]
    },
    {
      "cell_type": "markdown",
      "metadata": {
        "id": "7OZqtiQmAIqH"
      },
      "source": [
        "### Run for single sentence tasks; skip for double sentence tasks"
      ]
    },
    {
      "cell_type": "code",
      "execution_count": null,
      "metadata": {
        "id": "es6MUBAymyj1"
      },
      "outputs": [],
      "source": [
        "if not cached and emb_type == 'cls' and not two_sentence:\n",
        "  ### ONLY FOR SINGLE SENTENCES\n",
        "\n",
        "  X_train = data[\"train\"][\"sentence\"]\n",
        "  X_val = data[\"validation\"][\"sentence\"]\n",
        "  X_test = data[\"test\"][\"sentence\"]\n",
        "\n",
        "  Y_train = data[\"train\"][\"label\"]\n",
        "  Y_val = data[\"validation\"][\"label\"]\n",
        "  Y_test = data[\"test\"][\"label\"]"
      ]
    },
    {
      "cell_type": "code",
      "execution_count": null,
      "metadata": {
        "id": "B67U08nVtPzT"
      },
      "outputs": [],
      "source": [
        "if not cached and emb_type == 'cls' and not two_sentence:\n",
        "  ### ONLY FOR ONE SENTENCE\n",
        "\n",
        "  X_train = tokenizer(X_train, padding=True, truncation=True, return_tensors='pt')\n",
        "  X_val = tokenizer(X_val, padding=True, truncation=True, return_tensors='pt')\n",
        "  X_test = tokenizer(X_test, padding=True, truncation=True, return_tensors='pt')"
      ]
    },
    {
      "cell_type": "code",
      "execution_count": null,
      "metadata": {
        "id": "1c6E3hiatSGd"
      },
      "outputs": [],
      "source": [
        "if not cached and emb_type == 'cls' and not two_sentence:\n",
        "  ### 1s\n",
        "\n",
        "  from torch.utils.data import DataLoader, TensorDataset\n",
        "\n",
        "  def create_data_loader(tokenized_data, batch_size=512):\n",
        "      dataset = TensorDataset(tokenized_data['input_ids'], tokenized_data['attention_mask'])\n",
        "      return DataLoader(dataset, batch_size=batch_size)\n",
        "\n",
        "  # Creating DataLoaders\n",
        "  train_loader = create_data_loader(X_train)\n",
        "  val_loader = create_data_loader(X_val)\n",
        "  test_loader = create_data_loader(X_test)\n",
        "\n",
        "  def get_cls_embeddings(data_loader):\n",
        "      cls_embeddings = []\n",
        "      for batch in data_loader:\n",
        "          inputs = {'input_ids': batch[0], 'attention_mask': batch[1]}\n",
        "          with torch.no_grad():\n",
        "              outputs = model(**inputs)\n",
        "              cls_embeddings_batch = outputs.last_hidden_state[:, 0, :]\n",
        "              cls_embeddings.append(cls_embeddings_batch)\n",
        "      return torch.cat(cls_embeddings, dim=0)\n",
        "\n",
        "  # Extracting CLS embeddings\n",
        "  X_train_cls = get_cls_embeddings(train_loader)\n",
        "  X_val_cls = get_cls_embeddings(val_loader)\n",
        "  X_test_cls = get_cls_embeddings(test_loader)\n"
      ]
    },
    {
      "cell_type": "code",
      "execution_count": null,
      "metadata": {
        "id": "ZDtjgueLMxXp"
      },
      "outputs": [],
      "source": [
        "# save\n",
        "\n",
        "if not cached and emb_type == 'cls' and not two_sentence:\n",
        "\n",
        "  if split == 'train':\n",
        "    X_emb = X_train_cls\n",
        "    Y_emb = Y_train_cls\n",
        "  elif split == 'val':\n",
        "    X_emb = X_val_cls\n",
        "    Y_emb = Y_val_cls\n",
        "  else:\n",
        "    X_emb = X_val_cls\n",
        "    Y_emb = Y_val_cls\n",
        "\n",
        "  path = f'/content/drive/MyDrive/projectx_pain/embeddings/{emb_type}/{task}/'\n",
        "  os.makedirs(path, exist_ok=True)  # This creates the directory if it doesn't exist\n",
        "\n",
        "  np.save(path + f'X_train_{model_name}', X_train_cls)\n",
        "  np.save(path + f'X_test_{model_name}', X_test_cls)\n",
        "  np.save(path + f'X_val_{model_name}', X_val_cls)"
      ]
    },
    {
      "cell_type": "markdown",
      "metadata": {
        "id": "xa26DO5QAOzy"
      },
      "source": [
        "### Run for double sentence tasks; skip for single sentence tasks"
      ]
    },
    {
      "cell_type": "code",
      "execution_count": null,
      "metadata": {
        "id": "hG68FwPqA2qd"
      },
      "outputs": [],
      "source": [
        "# this may error out if running on qqp, rte, qnli, or wnli\n",
        "\n",
        "if not cached and emb_type == 'cls' and two_sentence:\n",
        "  ### ONLY FOR TWO SENTENCES\n",
        "\n",
        "  X_train_1 = data[\"train\"][\"sentence1\"]\n",
        "  X_train_2 = data[\"train\"][\"sentence2\"]\n",
        "  X_val_1 = data[\"validation\"][\"sentence1\"]\n",
        "  X_val_2 = data[\"validation\"][\"sentence2\"]\n",
        "  X_test_1 = data[\"test\"][\"sentence1\"]\n",
        "  X_test_2 = data[\"test\"][\"sentence2\"]\n",
        "\n",
        "  Y_train = data[\"train\"][\"label\"]\n",
        "  Y_val = data[\"validation\"][\"label\"]\n",
        "  Y_test = data[\"test\"][\"label\"]"
      ]
    },
    {
      "cell_type": "code",
      "execution_count": null,
      "metadata": {
        "id": "9XtO7SBMCBvk"
      },
      "outputs": [],
      "source": [
        "if not cached and emb_type == 'cls' and two_sentence:\n",
        "  ### ONLY FOR TWO SENTENCES\n",
        "\n",
        "  X_train_1 = tokenizer(X_train_1, padding=True, truncation=True, return_tensors='pt')\n",
        "  X_train_2 = tokenizer(X_train_2, padding=True, truncation=True, return_tensors='pt')\n",
        "  X_val_1 = tokenizer(X_val_1, padding=True, truncation=True, return_tensors='pt')\n",
        "  X_val_2 = tokenizer(X_val_2, padding=True, truncation=True, return_tensors='pt')\n",
        "  X_test_1 = tokenizer(X_test_1, padding=True, truncation=True, return_tensors='pt')\n",
        "  X_test_2 = tokenizer(X_test_2, padding=True, truncation=True, return_tensors='pt')"
      ]
    },
    {
      "cell_type": "code",
      "execution_count": null,
      "metadata": {
        "id": "yQyiky2GCR1F"
      },
      "outputs": [],
      "source": [
        "if not cached and emb_type == 'cls' and two_sentence:\n",
        "  ### 2s\n",
        "\n",
        "  from torch.utils.data import DataLoader, TensorDataset\n",
        "\n",
        "  def create_data_loader(tokenized_data, batch_size=512):\n",
        "      dataset = TensorDataset(tokenized_data['input_ids'], tokenized_data['attention_mask'])\n",
        "      return DataLoader(dataset, batch_size=batch_size)\n",
        "\n",
        "  # Creating DataLoaders\n",
        "  train_loader = create_data_loader(X_train_1)\n",
        "  val_loader = create_data_loader(X_val_1)\n",
        "  test_loader = create_data_loader(X_test_1)\n",
        "\n",
        "  def get_cls_embeddings(data_loader):\n",
        "      cls_embeddings = []\n",
        "      for batch in data_loader:\n",
        "          inputs = {'input_ids': batch[0], 'attention_mask': batch[1]}\n",
        "          with torch.no_grad():\n",
        "              outputs = model(**inputs)\n",
        "              cls_embeddings_batch = outputs.last_hidden_state[:, 0, :]\n",
        "              cls_embeddings.append(cls_embeddings_batch)\n",
        "              print(len(cls_embeddings))\n",
        "      return torch.cat(cls_embeddings, dim=0)\n",
        "\n",
        "  # Extracting CLS embeddings\n",
        "  X_train_1_cls = get_cls_embeddings(train_loader)\n",
        "  X_val_1_cls = get_cls_embeddings(val_loader)\n",
        "  X_test_1_cls = get_cls_embeddings(test_loader)\n",
        "\n",
        "  # Creating DataLoaders\n",
        "  train_loader = create_data_loader(X_train_2)\n",
        "  val_loader = create_data_loader(X_val_2)\n",
        "  test_loader = create_data_loader(X_test_2)\n",
        "\n",
        "  def get_cls_embeddings(data_loader):\n",
        "      cls_embeddings = []\n",
        "      for batch in data_loader:\n",
        "          inputs = {'input_ids': batch[0], 'attention_mask': batch[1]}\n",
        "          with torch.no_grad():\n",
        "              outputs = model(**inputs)\n",
        "              cls_embeddings_batch = outputs.last_hidden_state[:, 0, :]\n",
        "              cls_embeddings.append(cls_embeddings_batch)\n",
        "      return torch.cat(cls_embeddings, dim=0)\n",
        "\n",
        "  # Extracting CLS embeddings\n",
        "  X_train_2_cls = get_cls_embeddings(train_loader)\n",
        "  X_val_2_cls = get_cls_embeddings(val_loader)\n",
        "  X_test_2_cls = get_cls_embeddings(test_loader)"
      ]
    },
    {
      "cell_type": "code",
      "execution_count": null,
      "metadata": {
        "id": "uPr2SAeZfUHl"
      },
      "outputs": [],
      "source": [
        "# concatenate and save\n",
        "\n",
        "if not cached and emb_type == 'cls' and two_sentence:\n",
        "  X_train_cls = np.hstack((X_train_1_cls, X_train_2_cls))\n",
        "  X_test_cls = np.hstack((X_test_1_cls, X_test_2_cls))\n",
        "  X_val_cls = np.hstack((X_val_1_cls, X_val_2_cls))\n",
        "\n",
        "  path = f'/content/drive/MyDrive/projectx_pain/embeddings/{emb_type}/{task}/'\n",
        "  os.makedirs(path, exist_ok=True)  # This creates the directory if it doesn't exist\n",
        "\n",
        "  np.save(path + f'X_train_{model_name}', X_train_cls)\n",
        "  np.save(path + f'X_test_{model_name}', X_test_cls)\n",
        "  np.save(path + f'X_val_{model_name}', X_val_cls)\n",
        "\n",
        "  if split == 'train':\n",
        "    X_emb = X_train_cls\n",
        "    Y_emb = Y_train_cls\n",
        "  elif split == 'val':\n",
        "    X_emb = X_val_cls\n",
        "    Y_emb = Y_val_cls\n",
        "  else:\n",
        "    X_emb = X_val_cls\n",
        "    Y_emb = Y_val_cls"
      ]
    },
    {
      "cell_type": "markdown",
      "metadata": {
        "id": "dNT9uXGlBpWQ"
      },
      "source": [
        "## Generate sentence transformer embeddings if needed\n",
        "\n",
        "(NOT UPDATED TO INCLUDE TEST EMBEDDINGS BECAUSE I'M LAZY)"
      ]
    },
    {
      "cell_type": "markdown",
      "metadata": {
        "id": "FexRZ-Y5P7Sw"
      },
      "source": [
        "### Run for one sentence tasks"
      ]
    },
    {
      "cell_type": "code",
      "execution_count": null,
      "metadata": {
        "id": "X4TVZ5neCBP4"
      },
      "outputs": [],
      "source": [
        "if not cached and emb_type == 'st' and not two_sentence:\n",
        "\n",
        "  # EXPENSIVE OPERATION: This cell may take about 2 minutes or more to run\n",
        "\n",
        "  with torch.no_grad():\n",
        "      X_train_st = model.encode(data[\"train\"][\"sentence\"])\n",
        "      X_val_st = model.encode(data[\"validation\"][\"sentence\"])\n",
        "      X_test_st = model.encode(data[\"test\"][\"sentence\"])\n",
        "\n",
        "      Y_train_st = np.array(data[\"train\"][\"label\"])\n",
        "      Y_val_st = np.array(data[\"validation\"][\"label\"])\n",
        "      Y_test_st = np.array(data[\"test\"][\"label\"])"
      ]
    },
    {
      "cell_type": "code",
      "execution_count": null,
      "metadata": {
        "id": "Eq0_uM_cFjOS"
      },
      "outputs": [],
      "source": [
        "if not cached and emb_type == 'st' and not two_sentence:\n",
        "\n",
        "  if split == 'train':\n",
        "    X_emb = X_train_st\n",
        "    Y_emb = Y_train_st\n",
        "  elif split == 'val':\n",
        "    X_emb = X_val_st\n",
        "    Y_emb = Y_val_st\n",
        "  else:\n",
        "    X_emb = X_val_st\n",
        "    Y_emb = Y_val_st\n",
        "\n",
        "  # Save to the mounted Google Drive\n",
        "  path = f'/content/drive/MyDrive/projectx_pain/embeddings/{emb_type}/{task}/'\n",
        "  os.makedirs(path, exist_ok=True)  # This creates the directory if it doesn't exist\n",
        "\n",
        "  np.save(path + f'X_train_{model_name}', X_train_st)\n",
        "  np.save(path + f'X_test_{model_name}', X_test_st)\n",
        "  np.save(path + f'X_val_{model_name}', X_val_st)"
      ]
    },
    {
      "cell_type": "markdown",
      "metadata": {
        "id": "zdn1JQyrQDmy"
      },
      "source": [
        "### Run for two sentence tasks"
      ]
    },
    {
      "cell_type": "code",
      "execution_count": null,
      "metadata": {
        "id": "g7W-EPXZQHIK"
      },
      "outputs": [],
      "source": [
        "if not cached and emb_type == 'st' and two_sentence:\n",
        "\n",
        "  # EXPENSIVE OPERATION: This cell may take about 2 minutes or more to run\n",
        "\n",
        "  if task == 'qnli':\n",
        "    with torch.no_grad():\n",
        "      X_train_1_st = model.encode(data[\"train\"][\"question\"])\n",
        "      X_train_2_st = model.encode(data[\"train\"][\"sentence\"])\n",
        "      X_val_1_st = model.encode(data[\"validation\"][\"question\"])\n",
        "      X_val_2_st = model.encode(data[\"validation\"][\"sentence\"])\n",
        "      X_test_1_st = model.encode(data[\"test\"][\"question\"])\n",
        "      X_test_2_st = model.encode(data[\"test\"][\"sentence\"])\n",
        "\n",
        "      Y_train_st = np.array(data[\"train\"][\"label\"])\n",
        "      Y_val_st = np.array(data[\"validation\"][\"label\"])\n",
        "      Y_test_st = np.array(data[\"test\"][\"label\"])\n",
        "\n",
        "  elif task == 'qqp' or task == 'rte':\n",
        "    with torch.no_grad():\n",
        "      X_train_1_st = model.encode(data[\"train\"][\"question1\"][:5000])\n",
        "      X_train_2_st = model.encode(data[\"train\"][\"question2\"][:5000])\n",
        "      X_val_1_st = model.encode(data[\"validation\"][\"question1\"][:5000])\n",
        "      X_val_2_st = model.encode(data[\"validation\"][\"question2\"][:5000])\n",
        "      X_test_1_st = model.encode(data[\"test\"][\"question1\"][:5000])\n",
        "      X_test_2_st = model.encode(data[\"test\"][\"question2\"][:5000])\n",
        "\n",
        "      Y_train_st = np.array(data[\"train\"][\"label\"])\n",
        "      Y_val_st = np.array(data[\"validation\"][\"label\"])\n",
        "      Y_test_st = np.array(data[\"test\"][\"label\"])\n",
        "\n",
        "  else:\n",
        "    with torch.no_grad():\n",
        "        X_train_1_st = model.encode(data[\"train\"][\"sentence1\"])\n",
        "        X_train_2_st = model.encode(data[\"train\"][\"sentence2\"])\n",
        "        X_val_1_st = model.encode(data[\"validation\"][\"sentence1\"])\n",
        "        X_val_2_st = model.encode(data[\"validation\"][\"sentence2\"])\n",
        "        X_test_1_st = model.encode(data[\"test\"][\"sentence1\"])\n",
        "        X_test_2_st = model.encode(data[\"test\"][\"sentence2\"])\n",
        "\n",
        "        Y_train_st = np.array(data[\"train\"][\"label\"])\n",
        "        Y_val_st = np.array(data[\"validation\"][\"label\"])\n",
        "        Y_test_st = np.array(data[\"test\"][\"label\"])"
      ]
    },
    {
      "cell_type": "code",
      "execution_count": null,
      "metadata": {
        "id": "t0wtNmSaQIOv"
      },
      "outputs": [],
      "source": [
        "if not cached and emb_type == 'st' and two_sentence:\n",
        "\n",
        "  # concatenate\n",
        "  X_train_st = np.hstack((X_train_1_st, X_train_2_st))\n",
        "  X_test_st = np.hstack((X_test_1_st, X_test_2_st))\n",
        "  X_val_st = np.hstack((X_val_1_st, X_val_2_st))\n",
        "\n",
        "  if split == 'train':\n",
        "    X_emb = X_train_st\n",
        "    Y_emb = Y_train_st\n",
        "  elif split == 'val':\n",
        "    X_emb = X_val_st\n",
        "    Y_emb = Y_val_st\n",
        "  else:\n",
        "    X_emb = X_val_st\n",
        "    Y_emb = Y_val_st\n",
        "\n",
        "  # Save to the mounted Google Drive\n",
        "  path = f'/content/drive/MyDrive/projectx_pain/embeddings/{emb_type}/{task}/'\n",
        "  os.makedirs(path, exist_ok=True)  # This creates the directory if it doesn't exist\n",
        "\n",
        "  np.save(path + f'X_train_{model_name}', X_train_st)\n",
        "  np.save(path + f'X_test_{model_name}', X_test_st)\n",
        "  np.save(path + f'X_val_{model_name}', X_val_st)"
      ]
    },
    {
      "cell_type": "markdown",
      "metadata": {
        "id": "kk-zMSyg3gkI"
      },
      "source": [
        "## Generate cbow embeddings if needed\n",
        "\n",
        "(NOT UPDATED TO INCLUDE TEST EMBEDDINGS BECAUSE I'M LAZY)"
      ]
    },
    {
      "cell_type": "code",
      "execution_count": null,
      "metadata": {
        "id": "XfdmDtCT3fh7"
      },
      "outputs": [],
      "source": [
        "if not cached and emb_type == 'cbow':\n",
        "\n",
        "  # define generating function (not that kind)\n",
        "\n",
        "  from nltk.tokenize import word_tokenize\n",
        "  import nltk\n",
        "  nltk.download('punkt')\n",
        "\n",
        "  def generate_cbow_embeddings(sentences, model):\n",
        "      embeddings = []\n",
        "      for sentence in sentences:\n",
        "          tokens = word_tokenize(sentence.lower())\n",
        "          valid_tokens = [token for token in tokens if token in model.key_to_index]\n",
        "          if valid_tokens:\n",
        "              sentence_embedding = np.mean([model[token] for token in valid_tokens], axis=0)\n",
        "          else:\n",
        "              sentence_embedding = np.zeros(model.vector_size)\n",
        "          embeddings.append(sentence_embedding)\n",
        "      return np.array(embeddings)"
      ]
    },
    {
      "cell_type": "markdown",
      "metadata": {
        "id": "TCIitcWA4HXJ"
      },
      "source": [
        "### Run for one sentence tasks"
      ]
    },
    {
      "cell_type": "code",
      "execution_count": null,
      "metadata": {
        "id": "aJ_oGuDQ38HG"
      },
      "outputs": [],
      "source": [
        "if not cached and emb_type == 'cbow' and not two_sentence:\n",
        "\n",
        "    X_train_cbow = generate_cbow_embeddings(data['train']['sentence'], model)\n",
        "    X_test_cbow = generate_cbow_embeddings(data['test']['sentence'], model)\n",
        "    X_val_cbow = generate_cbow_embeddings(data['validation']['sentence'], model)\n",
        "\n",
        "    Y_train_cbow = np.array(data[\"train\"][\"label\"])\n",
        "    Y_val_cbow = np.array(data[\"validation\"][\"label\"])\n",
        "    Y_test_cbow = np.array(data[\"test\"][\"label\"])"
      ]
    },
    {
      "cell_type": "code",
      "execution_count": null,
      "metadata": {
        "id": "kco7Uz-j54d5"
      },
      "outputs": [],
      "source": [
        "if not cached and emb_type == 'cbow' and not two_sentence:\n",
        "\n",
        "  if split == 'train':\n",
        "    X_emb = X_train_\n",
        "    Y_emb = Y_train_\n",
        "  elif split == 'val':\n",
        "    X_emb = X_val_\n",
        "    Y_emb = Y_val_\n",
        "  else:\n",
        "    X_emb = X_val_\n",
        "    Y_emb = Y_val_\n",
        "\n",
        "  # Save to the mounted Google Drive\n",
        "  path = f'/content/drive/MyDrive/projectx_pain/embeddings/{emb_type}/{task}/'\n",
        "  os.makedirs(path, exist_ok=True)  # This creates the directory if it doesn't exist\n",
        "\n",
        "  np.save(path + f'X_train_{model_name}', X_train_cbow)\n",
        "  np.save(path + f'X_test_{model_name}', X_test_cbow)\n",
        "  np.save(path + f'X_val_{model_name}', X_val_cbow)"
      ]
    },
    {
      "cell_type": "markdown",
      "metadata": {
        "id": "1gbjg5OX6WHr"
      },
      "source": [
        "### Run for two sentence tasks"
      ]
    },
    {
      "cell_type": "code",
      "execution_count": null,
      "metadata": {
        "id": "fOtnu7-p6Vl_"
      },
      "outputs": [],
      "source": [
        "# FIX THIS\n",
        "\n",
        "if not cached and emb_type == 'cbow' and two_sentence:\n",
        "\n",
        "    if task == 'qnli':\n",
        "      if split == 'train':\n",
        "        X_train_1_cbow = generate_cbow_embeddings(data['train']['question'], model)\n",
        "        X_train_2_cbow = generate_cbow_embeddings(data['train']['sentence'], model)\n",
        "        X_train_cbow = np.hstack((X_train_1_cbow, X_train_2_cbow))\n",
        "        Y_train_cbow = np.array(data[\"train\"][\"label\"])\n",
        "      if split == 'test':\n",
        "        X_test_1_cbow = generate_cbow_embeddings(data['test']['question'], model)\n",
        "        X_test_2_cbow = generate_cbow_embeddings(data['test']['sentence'], model)\n",
        "        X_test_cbow = np.hstack((X_test_1_cbow, X_test_2_cbow))\n",
        "        Y_test_cbow = np.array(data[\"test\"][\"label\"])\n",
        "      if split == 'val':\n",
        "        X_val_1_cbow = generate_cbow_embeddings(data['validation']['question'], model)\n",
        "        X_val_2_cbow = generate_cbow_embeddings(data['validation']['sentence'], model)\n",
        "        X_val_cbow = np.hstack((X_val_1_cbow, X_val_2_cbow))\n",
        "        Y_val_cbow = np.array(data[\"validation\"][\"label\"])\n",
        "\n",
        "    if task == 'mnli_matched' or task == 'mnli_mismatched':\n",
        "      if split == 'train':\n",
        "        X_train_1_cbow = generate_cbow_embeddings(data['train']['premise'], model)\n",
        "        X_train_2_cbow = generate_cbow_embeddings(data['train']['hypothesis'], model)\n",
        "        X_train_cbow = np.hstack((X_train_1_cbow, X_train_2_cbow))\n",
        "        Y_train_cbow = np.array(data[\"train\"][\"label\"])\n",
        "      if split == 'test':\n",
        "        X_test_1_cbow = generate_cbow_embeddings(data['test']['premise'], model)\n",
        "        X_test_2_cbow = generate_cbow_embeddings(data['test']['hypothesis'], model)\n",
        "        X_test_cbow = np.hstack((X_test_1_cbow, X_test_2_cbow))\n",
        "        Y_test_cbow = np.array(data[\"test\"][\"label\"])\n",
        "      if split == 'val':\n",
        "        X_val_1_cbow = generate_cbow_embeddings(data['validation']['premise'], model)\n",
        "        X_val_2_cbow = generate_cbow_embeddings(data['validation']['hypothesis'], model)\n",
        "        X_val_cbow = np.hstack((X_val_1_cbow, X_val_2_cbow))\n",
        "        Y_val_cbow = np.array(data[\"validation\"][\"label\"])\n",
        "\n",
        "    if task == 'qqp' or task == 'rte':\n",
        "      if split == 'train':\n",
        "        X_train_1_cbow = generate_cbow_embeddings(data['train']['question1'], model)\n",
        "        X_train_2_cbow = generate_cbow_embeddings(data['train']['question2'], model)\n",
        "        X_train_cbow = np.hstack((X_train_1_cbow, X_train_2_cbow))\n",
        "        Y_train_cbow = np.array(data[\"train\"][\"label\"])\n",
        "      if split == 'test':\n",
        "        X_test_1_cbow = generate_cbow_embeddings(data['test']['question1'], model)\n",
        "        X_test_2_cbow = generate_cbow_embeddings(data['test']['question2'], model)\n",
        "        X_test_cbow = np.hstack((X_test_1_cbow, X_test_2_cbow))\n",
        "        Y_test_cbow = np.array(data[\"test\"][\"label\"])\n",
        "      if split == 'val':\n",
        "        X_val_1_cbow = generate_cbow_embeddings(data['validation']['question1'], model)\n",
        "        X_val_2_cbow = generate_cbow_embeddings(data['validation']['question2'], model)\n",
        "        X_val_cbow = np.hstack((X_val_1_cbow, X_val_2_cbow))\n",
        "        Y_val_cbow = np.array(data[\"validation\"][\"label\"])\n",
        "\n",
        "\n",
        "    else:\n",
        "      if split == 'train':\n",
        "        X_train_1_cbow = generate_cbow_embeddings(data['train']['sentence1'], model)\n",
        "        X_train_2_cbow = generate_cbow_embeddings(data['train']['sentence2'], model)\n",
        "        X_train_cbow = np.hstack((X_train_1_cbow, X_train_2_cbow))\n",
        "        Y_train_cbow = np.array(data[\"train\"][\"label\"])\n",
        "      if split == 'test':\n",
        "        X_test_1_cbow = generate_cbow_embeddings(data['test']['sentence1'], model)\n",
        "        X_test_2_cbow = generate_cbow_embeddings(data['test']['sentence2'], model)\n",
        "        X_test_cbow = np.hstack((X_test_1_cbow, X_test_2_cbow))\n",
        "        Y_test_cbow = np.array(data[\"test\"][\"label\"])\n",
        "      if split == 'val':\n",
        "        X_val_1_cbow = generate_cbow_embeddings(data['validation']['sentence1'], model)\n",
        "        X_val_2_cbow = generate_cbow_embeddings(data['validation']['sentence2'], model)\n",
        "        X_val_cbow = np.hstack((X_val_1_cbow, X_val_2_cbow))\n",
        "        Y_val_cbow = np.array(data[\"validation\"][\"label\"])"
      ]
    },
    {
      "cell_type": "code",
      "execution_count": null,
      "metadata": {
        "id": "V__nYTqq7G3D"
      },
      "outputs": [],
      "source": [
        "if not cached and emb_type == 'cbow' and two_sentence:\n",
        "\n",
        "  # Save to the mounted Google Drive\n",
        "  path = f'/content/drive/MyDrive/projectx_pain/embeddings/{emb_type}/{task}/'\n",
        "  os.makedirs(path, exist_ok=True)  # This creates the directory if it doesn't exist\n",
        "\n",
        "  if split == 'train':\n",
        "    X_emb = X_train_cbow\n",
        "    Y_emb = Y_train_cbow\n",
        "    np.save(path + f'X_train_{model_name}', X_train_cbow)\n",
        "  elif split == 'val':\n",
        "    X_emb = X_val_cbow\n",
        "    Y_emb = Y_val_cbow\n",
        "    np.save(path + f'X_val_{model_name}', X_val_cbow)\n",
        "  else:\n",
        "    X_emb = X_test_cbow\n",
        "    Y_emb = Y_test_cbow\n",
        "    np.save(path + f'X_test_{model_name}', X_test_cbow)"
      ]
    },
    {
      "cell_type": "markdown",
      "metadata": {
        "id": "TqUgG_p86DnM"
      },
      "source": [
        "## Set to |u-v| or u-v embeddings and truncate"
      ]
    },
    {
      "cell_type": "code",
      "execution_count": null,
      "metadata": {
        "id": "oZJriyUY59FB"
      },
      "outputs": [],
      "source": [
        "# set to |u-v| embedding\n",
        "if not cached and two_sentence:\n",
        "  # or just u-v if evaluating entailment\n",
        "  if task == 'mnli_matched' or task == 'mnli_mismatched' or task == 'qnli' or task == 'rte':\n",
        "    X_emb = X_emb[:, 0:emb_size] - X_emb[:, emb_size:]\n",
        "  else:\n",
        "    X_emb = np.abs(X_emb[:, 0:emb_size] - X_emb[:, emb_size:])\n",
        "\n",
        "  # truncate to just the first 5000 examples so that it's easier to run\n",
        "  print(np.min([5000, np.size(X_emb, 0)]))\n",
        "  print(X_emb.shape)\n",
        "  X_emb = X_emb[0:np.min([5000, np.size(X_emb, 0)]), :]\n",
        "  Y_emb = Y_emb[0:np.min([5000, np.size(Y_emb)])]\n",
        "  print(\"X_emb shape:\", X_emb.shape)\n",
        "  print(\"Y_emb len:\", len(Y_emb))"
      ]
    },
    {
      "cell_type": "markdown",
      "metadata": {
        "id": "w1uO75odiU20"
      },
      "source": [
        "# Manifold Learning"
      ]
    },
    {
      "cell_type": "markdown",
      "metadata": {
        "id": "e5BGXqat2FMy"
      },
      "source": [
        "## Set up text file to write results to"
      ]
    },
    {
      "cell_type": "code",
      "execution_count": null,
      "metadata": {
        "id": "GJzTCnQT2dmb"
      },
      "outputs": [],
      "source": [
        "# Specify the path for the folder and the file\n",
        "folder_path = f'/content/drive/My Drive/projectx_pain/results_part2/{task}-{model_name}-{emb_type}-train_{split}-test_{test_split}'\n",
        "\n",
        "# Check if the folder exists, create it if not\n",
        "if not os.path.exists(folder_path):\n",
        "    os.makedirs(folder_path)"
      ]
    },
    {
      "cell_type": "markdown",
      "metadata": {
        "id": "L6qNI15IKgnk"
      },
      "source": [
        "## RandPCA"
      ]
    },
    {
      "cell_type": "code",
      "execution_count": null,
      "metadata": {
        "id": "0W4mp99A1Co6"
      },
      "outputs": [],
      "source": [
        "import matplotlib.pyplot as plt\n",
        "from sklearn.decomposition import PCA as RandomizedPCA\n",
        "randPCA_model = RandomizedPCA(emb_size).fit(X_emb)"
      ]
    },
    {
      "cell_type": "code",
      "execution_count": null,
      "metadata": {
        "id": "zks_P3aB1RLd"
      },
      "outputs": [],
      "source": [
        "# Estimate intrinsic dimensionality based on different thresholds\n",
        "\n",
        "txt_file_path = os.path.join(folder_path, f'{task}-{model_name}-{emb_type}-train_{split}-RandPCAThresholds.txt')\n",
        "\n",
        "# Assuming model.explained_variance_ratio_ is the variance ratio array from PCA\n",
        "cumulative_variance = np.cumsum(randPCA_model.explained_variance_ratio_)\n",
        "\n",
        "# Thresholds\n",
        "thresholds = [0.6, 0.8, 0.9, 0.95, 0.975]\n",
        "\n",
        "# Finding the number of components for each threshold\n",
        "n_components_for_threshold = {}\n",
        "for threshold in thresholds:\n",
        "    print(threshold)\n",
        "    n_components = np.where(cumulative_variance >= threshold)[0][0] + 1  # Adding 1 because of 0-indexing\n",
        "    n_components_for_threshold[threshold] = n_components\n",
        "\n",
        "print(n_components_for_threshold)\n",
        "\n",
        "# Write to file\n",
        "with open(txt_file_path, 'w') as file:\n",
        "    file.write('Randomized PCA intrinsic dimensionality estimates given threshold\\n')\n",
        "    file.write(str(n_components_for_threshold) + '\\n')\n",
        "print(f\"File written at {txt_file_path}\")"
      ]
    },
    {
      "cell_type": "code",
      "execution_count": null,
      "metadata": {
        "id": "ZEzlxIrB1pPT"
      },
      "outputs": [],
      "source": [
        "plt.plot(np.cumsum(randPCA_model.explained_variance_ratio_))\n",
        "# Adding a horizontal line at 0.9 threshold\n",
        "plt.axhline(y=0.9, color='r', linestyle='--')\n",
        "\n",
        "# Adding a vertical line at the point where the cumulative variance reaches 0.9\n",
        "plt.axvline(x=n_components_for_threshold[0.9], color='r', linestyle='--')\n",
        "# Annotating the intersection point\n",
        "plt.annotate(f'{n_components_for_threshold[0.9]} components', (n_components_for_threshold[0.9], 0.9), textcoords=\"offset points\", xytext=(-10,-10), ha='center')\n",
        "\n",
        "plt.xlabel('n components')\n",
        "plt.ylabel('cumulative variance');\n",
        "plt.title(f'Estimated variance over n-component RandPCA ({task}, {model_name}, {emb_type}, train: {split})')\n",
        "# plt.show()\n",
        "\n",
        "\n",
        "# Save plot\n",
        "\n",
        "# Specify the path for the folder and the plot file\n",
        "plot_file_path = os.path.join(folder_path, f'{task}-{model_name}-{emb_type}-train_{split}-RandPCA.png')\n",
        "\n",
        "# Check if the folder exists, create it if not\n",
        "if not os.path.exists(folder_path):\n",
        "    os.makedirs(folder_path)\n",
        "\n",
        "# Save the plot\n",
        "plt.savefig(plot_file_path)\n",
        "plt.show()\n",
        "\n",
        "print(f\"Plot saved at {plot_file_path}\")"
      ]
    },
    {
      "cell_type": "code",
      "execution_count": null,
      "metadata": {
        "id": "3cbcsTSfBJW2"
      },
      "outputs": [],
      "source": [
        "test_randPCA_model = RandomizedPCA(emb_size).fit(test_X_emb)"
      ]
    },
    {
      "cell_type": "code",
      "execution_count": null,
      "metadata": {
        "id": "6P22laB5BYLO"
      },
      "outputs": [],
      "source": [
        "# Estimate intrinsic dimensionality based on different thresholds\n",
        "\n",
        "txt_file_path = os.path.join(folder_path, f'{task}-{model_name}-{emb_type}-test_{test_split}-RandPCAThresholds.txt')\n",
        "\n",
        "# Assuming model.explained_variance_ratio_ is the variance ratio array from PCA\n",
        "cumulative_variance = np.cumsum(test_randPCA_model.explained_variance_ratio_)\n",
        "\n",
        "# Thresholds\n",
        "thresholds = [0.6, 0.8, 0.9, 0.95, 0.975]\n",
        "\n",
        "# Finding the number of components for each threshold\n",
        "n_components_for_threshold = {}\n",
        "for threshold in thresholds:\n",
        "    print(threshold)\n",
        "    n_components = np.where(cumulative_variance >= threshold)[0][0] + 1  # Adding 1 because of 0-indexing\n",
        "    n_components_for_threshold[threshold] = n_components\n",
        "\n",
        "print(n_components_for_threshold)\n",
        "\n",
        "# Write to file\n",
        "with open(txt_file_path, 'w') as file:\n",
        "    file.write('Randomized PCA intrinsic dimensionality estimates given threshold\\n')\n",
        "    file.write(str(n_components_for_threshold) + '\\n')\n",
        "print(f\"File written at {txt_file_path}\")"
      ]
    },
    {
      "cell_type": "code",
      "execution_count": null,
      "metadata": {
        "id": "FXpmz1o-CKK9"
      },
      "outputs": [],
      "source": [
        "plt.plot(np.cumsum(test_randPCA_model.explained_variance_ratio_))\n",
        "# Adding a horizontal line at 0.9 threshold\n",
        "plt.axhline(y=0.9, color='r', linestyle='--')\n",
        "\n",
        "# Adding a vertical line at the point where the cumulative variance reaches 0.9\n",
        "plt.axvline(x=n_components_for_threshold[0.9], color='r', linestyle='--')\n",
        "# Annotating the intersection point\n",
        "plt.annotate(f'{n_components_for_threshold[0.9]} components', (n_components_for_threshold[0.9], 0.9), textcoords=\"offset points\", xytext=(-10,-10), ha='center')\n",
        "\n",
        "plt.xlabel('n components')\n",
        "plt.ylabel('cumulative variance');\n",
        "plt.title(f'Estimated variance over n-component RandPCA ({task}, {model_name}, {emb_type}, test: {test_split})')\n",
        "\n",
        "# Save plot\n",
        "\n",
        "# Specify the path for the folder and the plot file\n",
        "plot_file_path = os.path.join(folder_path, f'{task}-{model_name}-{emb_type}-test_{test_split}-RandPCA.png')\n",
        "\n",
        "# Check if the folder exists, create it if not\n",
        "if not os.path.exists(folder_path):\n",
        "    os.makedirs(folder_path)\n",
        "\n",
        "# Save the plot\n",
        "plt.savefig(plot_file_path)\n",
        "plt.show()\n",
        "\n",
        "print(f\"Plot saved at {plot_file_path}\")"
      ]
    },
    {
      "cell_type": "markdown",
      "metadata": {
        "id": "WuppXWXtJIKE"
      },
      "source": [
        "## SKLearn Bonanza (intrinsic dimensionality)"
      ]
    },
    {
      "cell_type": "code",
      "execution_count": null,
      "metadata": {
        "colab": {
          "base_uri": "https://localhost:8080/"
        },
        "id": "U4LUUKIRJN4B",
        "outputId": "b1b8d87f-5a87-4873-9dab-bc98df5b8e3d"
      },
      "outputs": [
        {
          "output_type": "stream",
          "name": "stdout",
          "text": [
            "local (lPCA) =  16.8238\n",
            "File written at /content/drive/My Drive/projectx_pain/results_part2/sst2-GloVe100-cbow-train_train-test_val/sst2-GloVe100-cbow-train_train-inputLPCAIDests.txt\n",
            "local (lPCA) =  18.857798165137616\n",
            "File written at /content/drive/My Drive/projectx_pain/results_part2/sst2-GloVe100-cbow-train_train-test_val/sst2-GloVe100-cbow-test_val-inputLPCAIDests.txt\n"
          ]
        }
      ],
      "source": [
        "# estimate global and local intrinsic dimension of X_emb using different estimators from sklearn\n",
        "\n",
        "from sklearn.manifold import LocallyLinearEmbedding\n",
        "from sklearn.neighbors import NearestNeighbors\n",
        "from sklearn.decomposition import PCA\n",
        "from sklearn import manifold\n",
        "import skdim\n",
        "\n",
        "txt_file_path = os.path.join(folder_path, f'{task}-{model_name}-{emb_type}-train_{split}-inputLPCAIDests.txt')\n",
        "# estimate local intrinsic dimension (dimension in k-NN around each points)\n",
        "lpca = skdim.id.lPCA().fit_pw(X_emb, n_neighbors = 20, n_jobs = 1)\n",
        "print('local (lPCA) = ', np.mean(lpca.dimension_pw_))\n",
        "# Write to file\n",
        "with open(txt_file_path, 'w') as file:\n",
        "    file.write('lPCA ID est:\\n')\n",
        "    file.write(str([np.mean(lpca.dimension_pw_)]))\n",
        "print(f\"File written at {txt_file_path}\")\n",
        "\n",
        "txt_file_path = os.path.join(folder_path, f'{task}-{model_name}-{emb_type}-test_{test_split}-inputLPCAIDests.txt')\n",
        "lpca = skdim.id.lPCA().fit_pw(test_X_emb, n_neighbors = 20, n_jobs = 1)\n",
        "print('local (lPCA) = ', np.mean(lpca.dimension_pw_))\n",
        "# Write to file\n",
        "with open(txt_file_path, 'w') as file:\n",
        "    file.write('lPCA ID est:\\n')\n",
        "    file.write(str([np.mean(lpca.dimension_pw_)]))\n",
        "print(f\"File written at {txt_file_path}\")\n"
      ]
    },
    {
      "cell_type": "markdown",
      "metadata": {
        "id": "_XqxDUDJd8Lr"
      },
      "source": [
        "## TwoNN"
      ]
    },
    {
      "cell_type": "code",
      "execution_count": null,
      "metadata": {
        "colab": {
          "base_uri": "https://localhost:8080/"
        },
        "id": "1DwQBdXMxbu7",
        "outputId": "71712ec0-cd5c-4018-8aed-0a4039900ba1"
      },
      "outputs": [
        {
          "output_type": "stream",
          "name": "stdout",
          "text": [
            "twoNN ID est =  7.936218524742606\n",
            "File written at /content/drive/My Drive/projectx_pain/results_part2/sst2-GloVe100-cbow-train_train-test_val/sst2-GloVe100-cbow-train_train-inputTwoNNIDests.txt\n",
            "twoNN ID est =  27.16221658962008\n",
            "File written at /content/drive/My Drive/projectx_pain/results_part2/sst2-GloVe100-cbow-train_train-test_val/sst2-GloVe100-cbow-test_val-inputTwoNNIDests.txt\n"
          ]
        }
      ],
      "source": [
        "# TwoNN dimensionality of embeddings\n",
        "\n",
        "txt_file_path = os.path.join(folder_path, f'{task}-{model_name}-{emb_type}-train_{split}-inputTwoNNIDests.txt')\n",
        "twoNNIdEst = TwoNN().fit_transform(X_emb)\n",
        "print('twoNN ID est = ', twoNNIdEst)\n",
        "# Write to file\n",
        "with open(txt_file_path, 'w') as file:\n",
        "    file.write('twoNN ID est:\\n')\n",
        "    file.write(str([twoNNIdEst]))\n",
        "print(f\"File written at {txt_file_path}\")\n",
        "\n",
        "txt_file_path = os.path.join(folder_path, f'{task}-{model_name}-{emb_type}-test_{test_split}-inputTwoNNIDests.txt')\n",
        "twoNNIdEst = TwoNN().fit_transform(test_X_emb)\n",
        "print('twoNN ID est = ', twoNNIdEst)\n",
        "# Write to file\n",
        "with open(txt_file_path, 'w') as file:\n",
        "    file.write('twoNN ID est:\\n')\n",
        "    file.write(str([twoNNIdEst]))\n",
        "print(f\"File written at {txt_file_path}\")"
      ]
    },
    {
      "cell_type": "code",
      "execution_count": null,
      "metadata": {
        "id": "lo5aOQ03rfda"
      },
      "outputs": [],
      "source": [
        "#convert X_emb to float\n",
        "X_emb_2nn = X_emb.astype(float)\n",
        "# convert Y_emb to one-hot encodings and convert to float\n",
        "Y_emb_2nn = np.eye(2)[Y_emb].astype(float)\n",
        "# Convert to PyTorch tensors\n",
        "train_data = TensorDataset(torch.FloatTensor(X_emb_2nn), torch.LongTensor(Y_emb_2nn))"
      ]
    },
    {
      "cell_type": "code",
      "execution_count": null,
      "metadata": {
        "id": "HwvOaZZqqG4C"
      },
      "outputs": [],
      "source": [
        "#convert test_X_emb to float\n",
        "test_X_emb_2nn = test_X_emb.astype(float)\n",
        "# convert test_Y_emb to one-hot encodings and convert to float\n",
        "test_Y_emb_2nn = np.eye(2)[test_Y_emb].astype(float)\n",
        "# Convert to PyTorch tensors\n",
        "test_data = TensorDataset(torch.FloatTensor(test_X_emb_2nn), torch.LongTensor(test_Y_emb_2nn))"
      ]
    },
    {
      "cell_type": "code",
      "execution_count": null,
      "metadata": {
        "id": "TlBkuKsjlmuR"
      },
      "outputs": [],
      "source": [
        "# For each desired number of hidden layers, create and train a separate model\n",
        "bc = 32\n",
        "hidden_layer_configs = [2]\n",
        "input_size = emb_size\n",
        "hidden_size = emb_size\n",
        "num_epochs = 100\n",
        "output_size = classes\n",
        "learning_rate = 0.01\n",
        "\n",
        "# Early stopping parameters\n",
        "patience = 10\n",
        "min_delta = 0\n",
        "weight_decay = 0.01"
      ]
    },
    {
      "cell_type": "code",
      "execution_count": null,
      "metadata": {
        "id": "2-mCalGUejfH"
      },
      "outputs": [],
      "source": [
        "# DataLoader\n",
        "train_loader = DataLoader(train_data, batch_size=bc, shuffle=False)\n",
        "test_loader = DataLoader(test_data, batch_size=bc, shuffle=False)"
      ]
    },
    {
      "cell_type": "code",
      "execution_count": null,
      "metadata": {
        "colab": {
          "base_uri": "https://localhost:8080/"
        },
        "id": "phA9ej9eYle4",
        "outputId": "e2850adf-b724-4a0e-eff2-937f5be85b8f"
      },
      "outputs": [
        {
          "output_type": "stream",
          "name": "stdout",
          "text": [
            "(872, 100)\n"
          ]
        }
      ],
      "source": [
        "print(np.shape(test_X_emb_2nn))"
      ]
    },
    {
      "cell_type": "code",
      "execution_count": null,
      "metadata": {
        "id": "MwSSceWeewE7"
      },
      "outputs": [],
      "source": [
        "class FFN(nn.Module):\n",
        "    def __init__(self, input_size, num_hidden_layers, hidden_size, output_size):\n",
        "        super(FFN, self).__init__()\n",
        "        layers = [nn.Linear(input_size, hidden_size), nn.ReLU()]\n",
        "\n",
        "        for _ in range(num_hidden_layers - 1):\n",
        "            layers.append(nn.Linear(hidden_size, hidden_size))\n",
        "            layers.append(nn.ReLU())\n",
        "\n",
        "        layers.append(nn.Linear(hidden_size, output_size))\n",
        "        # layers.append(nn.Softmax(dim=1))\n",
        "        self.model = nn.Sequential(*layers)\n",
        "\n",
        "    def forward(self, x):\n",
        "        # print(f'in FFN, shape of self.model(x) = %f', np.shape(self.model(x))) # REMOVE\n",
        "        return self.model(x)\n",
        "\n",
        "    def get_intermediate_layers(self, x):\n",
        "        intermediate_outputs = []\n",
        "        with torch.no_grad():\n",
        "            for layer in self.model:\n",
        "                x = layer(x)\n",
        "                if isinstance(layer, nn.ReLU):\n",
        "                    intermediate_outputs.append(x.detach().cpu().numpy())\n",
        "        return intermediate_outputs # has shape [num hidden layers, batch size, 768]"
      ]
    },
    {
      "cell_type": "code",
      "execution_count": null,
      "metadata": {
        "id": "FctOYslRlqze"
      },
      "outputs": [],
      "source": [
        "for num_hidden_layers in hidden_layer_configs:\n",
        "    print(f\"Training model with {num_hidden_layers} hidden layers\")\n",
        "    model = FFN(input_size=input_size, num_hidden_layers=num_hidden_layers, hidden_size=hidden_size, output_size=output_size)\n",
        "    optimizer = optim.Adam(model.parameters(), lr=learning_rate, weight_decay=weight_decay)\n",
        "    criterion = nn.CrossEntropyLoss()\n",
        "\n",
        "    # Initialize variables for early stopping\n",
        "    best_loss = float('inf')\n",
        "    patience_counter = 0\n",
        "\n",
        "    txt_file_path = os.path.join(folder_path, f'{task}-{model_name}-{emb_type}-train_{split}-IDPerEpochPerLayer-{num_hidden_layers}.txt')\n",
        "    with open(txt_file_path, 'w') as file:\n",
        "        file.write(f\"\\nnumber of hidden layers: \\n\")\n",
        "        file.write(str(num_hidden_layers))\n",
        "\n",
        "    # Training loop with ID tracking.\n",
        "\n",
        "    model.train()\n",
        "    epoch = 0\n",
        "    training_losses = []\n",
        "    validation_losses = []\n",
        "\n",
        "    while epoch < num_epochs:\n",
        "        outputs_per_layer = []\n",
        "        stupid_dumbass_variable = True\n",
        "        training_loss = 0.0\n",
        "        validation_loss = 0.0\n",
        "\n",
        "        # Training phase\n",
        "        for inputs, labels in train_loader:\n",
        "            optimizer.zero_grad()\n",
        "            outputs = model(inputs)\n",
        "            loss = criterion(outputs, labels.float())\n",
        "            training_loss += loss.item()\n",
        "            loss.backward()\n",
        "            optimizer.step()\n",
        "\n",
        "            # Track ID\n",
        "            intermediate_outputs = model.get_intermediate_layers(inputs)\n",
        "            if stupid_dumbass_variable:\n",
        "              outputs_per_layer = intermediate_outputs\n",
        "              stupid_dumbass_variable = False\n",
        "            else:\n",
        "              outputs_per_layer = np.concatenate((outputs_per_layer, intermediate_outputs), axis=1)\n",
        "\n",
        "        training_losses.append(training_loss / len(Y_emb))\n",
        "\n",
        "        # Validation phase\n",
        "        model.eval()\n",
        "        with torch.no_grad():\n",
        "            for val_inputs, val_labels in test_loader:  # Assuming you have a validation loader 'val_loader'\n",
        "                val_outputs = model(val_inputs)\n",
        "                val_loss = criterion(val_outputs, val_labels.float())\n",
        "                validation_loss += val_loss.item()\n",
        "\n",
        "        validation_losses.append(validation_loss / len(test_Y_emb))\n",
        "\n",
        "        # Calculate the ID per layer for the epoch\n",
        "        lPCA_per_layer = np.zeros(num_hidden_layers)\n",
        "        twoNN_per_layer = np.zeros(num_hidden_layers)\n",
        "        for i in range(num_hidden_layers):\n",
        "            # lPCA_per_layer[i] = np.mean(skdim.id.lPCA().fit_pw(outputs_per_layer[i], n_neighbors = 20, n_jobs = 1).dimension_pw_) # UNCOMMENT\n",
        "            twoNN_per_layer[i] = TwoNN().fit_transform(outputs_per_layer[i])\n",
        "\n",
        "        # print(f\"Epoch {epoch+1}, lPCA_per_layer: \", lPCA_per_layer) # UNCOMMENT\n",
        "        print(f\"Epoch {epoch+1}, twoNN_per_layer: \", twoNN_per_layer)\n",
        "\n",
        "        with open(txt_file_path, 'a') as file: # UNCOMMENT\n",
        "            # file.write(f\"\\nEpoch {epoch+1}, lPCA_per_layer: \\n\") # UNCOMMENT\n",
        "            # file.write(str(lPCA_per_layer))\n",
        "            file.write(f\"\\nEpoch {epoch+1}, twoNN_per_layer: \\n\")\n",
        "            file.write(str(twoNN_per_layer))\n",
        "        print(f\"File written at {txt_file_path}\")\n",
        "\n",
        "        # At the end of each epoch, check if early stopping should be triggered\n",
        "        if validation_loss < best_loss - min_delta:\n",
        "            best_loss = validation_loss\n",
        "            patience_counter = 0  # Reset patience counter\n",
        "        else:\n",
        "            patience_counter += 1\n",
        "\n",
        "        if patience_counter >= patience:\n",
        "            print(\"Stopping early due to no improvement\")\n",
        "            # set epoch to last epoch to do t-sne plots and then break\n",
        "            epoch = num_epochs - 1\n",
        "\n",
        "        # t-SNE stuff - only do this for the last epoch because it's lowkey time consuming\n",
        "        if False and epoch == num_epochs - 1 and num_hidden_layers in {1, 2, 3, 5}:\n",
        "\n",
        "            from sklearn.decomposition import PCA\n",
        "            from sklearn.manifold import TSNE\n",
        "            import matplotlib.pyplot as plt\n",
        "            from mpl_toolkits.mplot3d import Axes3D\n",
        "\n",
        "            for i in range(num_hidden_layers):\n",
        "\n",
        "                # Apply t-SNE\n",
        "                perp = int(np.floor(len(outputs_per_layer[i]) / classes))\n",
        "                tsne = TSNE(n_components=n_tsne_components, random_state=0, perplexity=perp, init=\"pca\")\n",
        "                tsne_embeddings = tsne.fit_transform(outputs_per_layer[i])\n",
        "\n",
        "                # Plot\n",
        "\n",
        "                point_size = 2\n",
        "\n",
        "                if n_tsne_components == 2:\n",
        "                  plt.scatter(tsne_embeddings[:, 0], tsne_embeddings[:, 1], s=point_size, c=Y_emb, cmap='viridis')\n",
        "                  plt.title(f'2D t-SNE visualization of CLS embeddings ({task}, {model_name}, {emb_type}, train: {split}, layer {i+1})')\n",
        "                elif n_tsne_components == 3:\n",
        "                  fig = plt.figure(figsize=(12, 8))\n",
        "                  ax = fig.add_subplot(111, projection='3d')\n",
        "                  ax.scatter(tsne_embeddings[:, 0], tsne_embeddings[:, 1], tsne_embeddings[:, 2], s=point_size, c=Y_emb, cmap='viridis')\n",
        "                  ax.set_title(f'3D t-SNE visualization of CLS embeddings ({task}, {model_name}, {emb_type}, train: {split}, layer {i+1})')\n",
        "\n",
        "                plot_file_path = os.path.join(folder_path, f'{task}-{model_name}-{emb_type}-train_{split}-layer{i+1}({num_hidden_layers})-tSNE.png')\n",
        "\n",
        "                # Save the plot\n",
        "                plt.savefig(plot_file_path)\n",
        "                plt.show()\n",
        "\n",
        "                print(f\"Plot saved at {plot_file_path}\")\n",
        "\n",
        "        # increment epoch\n",
        "        epoch += 1\n",
        "\n",
        "    # Plotting training and validation loss\n",
        "    plt.figure(figsize=(12, 8))\n",
        "    plt.plot(training_losses, label='Training Loss')\n",
        "    plt.plot(validation_losses, label='Validation Loss')\n",
        "    plt.title('Training and Validation Loss over Epochs')\n",
        "    plt.xlabel('Epochs')\n",
        "    plt.ylabel('Loss')\n",
        "    plt.legend()\n",
        "    plot_file_path = os.path.join(folder_path, f'{task}-{model_name}-{emb_type}-train_{split}-tvLoss-nl({num_hidden_layers})-ep({num_epochs})-bc({bc})-pa({patience}).png')\n",
        "    plt.savefig(plot_file_path)\n",
        "    plt.show()\n",
        "    print(f\"Plot saved at {plot_file_path}\")\n",
        "\n",
        "\n",
        "    # Evaluation on the test set\n",
        "    model.eval()\n",
        "    with torch.no_grad():\n",
        "        outputs_per_layer = []\n",
        "        predictions = []\n",
        "        stupid_dumbass_variable = True # is this the first batch\n",
        "        for inputs, labels in test_loader:\n",
        "            outputs = model(inputs)\n",
        "\n",
        "            intermediate_outputs = model.get_intermediate_layers(inputs)\n",
        "            if stupid_dumbass_variable:\n",
        "                outputs_per_layer = intermediate_outputs\n",
        "                predictions = outputs\n",
        "                stupid_dumbass_variable = False\n",
        "            else:\n",
        "                outputs_per_layer = np.concatenate((outputs_per_layer, intermediate_outputs), axis=1)\n",
        "                predictions = np.concatenate((predictions, outputs), axis=0)\n",
        "\n",
        "        # Calculate the ID per layer for the epoch\n",
        "        lPCA_per_layer = np.zeros(num_hidden_layers)\n",
        "        twoNN_per_layer = np.zeros(num_hidden_layers)\n",
        "        for i in range(num_hidden_layers):\n",
        "            lPCA_per_layer[i] = np.mean(skdim.id.lPCA().fit_pw(outputs_per_layer[i], n_neighbors = 20, n_jobs = 1).dimension_pw_)\n",
        "            twoNN_per_layer[i] = TwoNN().fit_transform(outputs_per_layer[i])\n",
        "\n",
        "        print(f\"lPCA_per_layer: \", lPCA_per_layer)\n",
        "        print(f\"twoNN_per_layer: \", twoNN_per_layer)\n",
        "\n",
        "        txt_file_path = os.path.join(folder_path, f'{task}-{model_name}-{emb_type}-test_{test_split}-data-{num_hidden_layers}.txt')\n",
        "        with open(txt_file_path, 'w') as file:\n",
        "            file.write(f\"\\nnumber of hidden layers: \\n\")\n",
        "            file.write(str(num_hidden_layers))\n",
        "            file.write(f\"\\nlPCA_per_layer: \\n\")\n",
        "            file.write(str(lPCA_per_layer))\n",
        "            file.write(f\"\\ntwoNN_per_layer: \\n\")\n",
        "            file.write(str(twoNN_per_layer))\n",
        "        print(f\"File written at {txt_file_path}\")\n",
        "\n",
        "        if test_Y_emb[0] != -1:\n",
        "            acc = 100 * sum(test_Y_emb == np.argmax(predictions, axis=1)) / len(test_Y_emb)\n",
        "            mcc = matthews_corrcoef(test_Y_emb, np.argmax(predictions, axis=1))\n",
        "            print(\"Accuracy on the test set: \" + str(acc))\n",
        "            print(\"MCC Score: \" + str(mcc))\n",
        "            with open(txt_file_path, 'a') as file:\n",
        "                file.write(f\"\\nAccuracy on the test set: \\n\")\n",
        "                file.write(str(acc))\n",
        "                file.write(f\"\\nMCC Score: \\n\")\n",
        "                file.write(str(mcc))\n",
        "            print(f\"File written at {txt_file_path}\")\n",
        "\n",
        "\n",
        "    # t-SNE stuff - colors correspond to PREDICTED values if true labels are unavailable\n",
        "    if num_hidden_layers in {1, 2, 3, 5}:\n",
        "\n",
        "        from sklearn.decomposition import PCA\n",
        "        from sklearn.manifold import TSNE\n",
        "        import matplotlib.pyplot as plt\n",
        "        from mpl_toolkits.mplot3d import Axes3D\n",
        "\n",
        "        for i in range(num_hidden_layers):\n",
        "\n",
        "            # Apply t-SNE\n",
        "            perp = int(np.floor(len(outputs_per_layer[i]) / classes))\n",
        "            tsne = TSNE(n_components=n_tsne_components, random_state=0, perplexity=perp, init=\"pca\")\n",
        "            tsne_embeddings = tsne.fit_transform(outputs_per_layer[i])\n",
        "\n",
        "            # Plot\n",
        "\n",
        "            point_size = 2\n",
        "\n",
        "            if test_Y_emb[0] != -1:\n",
        "                colors = test_Y_emb\n",
        "            else:\n",
        "                colors = predictions[:,0]\n",
        "\n",
        "            if n_tsne_components == 2:\n",
        "              plt.scatter(tsne_embeddings[:, 0], tsne_embeddings[:, 1], s=point_size, c=colors, cmap='viridis')\n",
        "              plt.title(f'2D t-SNE visualization of CLS embeddings ({task}, {model_name}, {emb_type}, test: {test_split}, layer {i+1})')\n",
        "            elif n_tsne_components == 3:\n",
        "              fig = plt.figure(figsize=(12, 8))\n",
        "              ax = fig.add_subplot(111, projection='3d')\n",
        "              ax.scatter(tsne_embeddings[:, 0], tsne_embeddings[:, 1], tsne_embeddings[:, 2], s=point_size, c=colors, cmap='viridis')\n",
        "              ax.set_title(f'3D t-SNE visualization of CLS embeddings ({task}, {model_name}, {emb_type}, test: {test_split}, layer {i+1})')\n",
        "\n",
        "            plot_file_path = os.path.join(folder_path, f'{task}-{model_name}-{emb_type}-test_{test_split}-layer{i+1}({num_hidden_layers})-tSNE.png')\n",
        "\n",
        "            # Save the plot\n",
        "            plt.savefig(plot_file_path)\n",
        "            plt.show()\n",
        "\n",
        "            print(f\"Plot saved at {plot_file_path}\")"
      ]
    },
    {
      "cell_type": "code",
      "source": [
        "perp = int(np.floor(len(predictions[:,0]) / classes))\n",
        "tsne = TSNE(n_components=n_tsne_components, random_state=0, perplexity=perp, init=\"pca\")\n",
        "tsne_embeddings = tsne.fit_transform(predictions)\n",
        "plt.scatter(tsne_embeddings[:,0], tsne_embeddings[:, 1], s=point_size, c=test_Y_emb, cmap='viridis')"
      ],
      "metadata": {
        "id": "MZ8VJQ_sStdg"
      },
      "execution_count": null,
      "outputs": []
    },
    {
      "cell_type": "code",
      "source": [
        "plt.scatter(predictions[:,0], predictions[:, 1], s=point_size, c=test_Y_emb, cmap='viridis')"
      ],
      "metadata": {
        "id": "rytPWAx6VYof"
      },
      "execution_count": null,
      "outputs": []
    },
    {
      "cell_type": "markdown",
      "metadata": {
        "id": "-swiFfsL2iWj"
      },
      "source": [
        "## t-SNE\n",
        "t-SNE converts affinities of data points to probabilities. The affinities in the original space are represented by Gaussian joint probabilities and the affinities in the embedded space are represented by Student’s t-distributions. t-SNE usually doesn't handle very high"
      ]
    },
    {
      "cell_type": "code",
      "execution_count": null,
      "metadata": {
        "id": "LPZuLq0qQN2i"
      },
      "outputs": [],
      "source": [
        "# TESTING PLAYGROUND\n",
        "\n",
        "from sklearn.decomposition import PCA\n",
        "from sklearn.manifold import TSNE\n",
        "\n",
        "# # Apply PCA\n",
        "# pca = PCA(n_components=50)\n",
        "# reduced_embeddings = pca.fit_transform(X_emb) # if this errors out try adding a .numpy() to the end of X_emb\n",
        "\n",
        "\n",
        "\n",
        "# Apply t-SNE\n",
        "perp = int(np.floor(len(X_emb) / classes))\n",
        "tsne = TSNE(n_components=n_tsne_components, random_state=0, perplexity=perp, init=\"pca\")\n",
        "tsne_embeddings = tsne.fit_transform(X_emb)"
      ]
    },
    {
      "cell_type": "code",
      "execution_count": null,
      "metadata": {
        "id": "30iyzFbZuw43",
        "colab": {
          "base_uri": "https://localhost:8080/",
          "height": 469
        },
        "outputId": "2de20a6d-9a48-427f-bc99-19b7dae50eff"
      },
      "outputs": [
        {
          "output_type": "display_data",
          "data": {
            "text/plain": [
              "<Figure size 640x480 with 1 Axes>"
            ],
            "image/png": "[encoded data removed]"
          },
          "metadata": {}
        },
        {
          "output_type": "stream",
          "name": "stdout",
          "text": [
            "Plot saved at /content/drive/My Drive/projectx_pain/results_part2/sst2-GloVe100-cbow-train_train-test_val/sst2-GloVe100-cbow-test_val-layer0(2)-tSNE.png\n"
          ]
        }
      ],
      "source": [
        "import matplotlib.pyplot as plt\n",
        "from mpl_toolkits.mplot3d import Axes3D\n",
        "\n",
        "point_size = 2\n",
        "\n",
        "if n_tsne_components == 2:\n",
        "  plt.scatter(tsne_embeddings[:, 0], tsne_embeddings[:, 1], s=point_size, c=Y_emb, cmap='viridis')\n",
        "  plt.title(f'2D t-SNE visualization of CLS embeddings ({task}, {model_name}, {emb_type})')\n",
        "elif n_tsne_components == 3:\n",
        "  fig = plt.figure(figsize=(12, 8))\n",
        "  ax = fig.add_subplot(111, projection='3d')\n",
        "  ax.scatter(tsne_embeddings[:, 0], tsne_embeddings[:, 1], tsne_embeddings[:, 2], s=point_size, c=Y_emb, cmap='viridis')\n",
        "  ax.set_title(f'3D t-SNE visualization of CLS embeddings ({task}, {model_name}, {emb_type}')\n",
        "\n",
        "\n",
        "# Save plot\n",
        "\n",
        "# Specify the path for the folder and the plot file\n",
        "plot_file_path = os.path.join(folder_path, f'{task}-{model_name}-{emb_type}-test_{test_split}-layer{0}({num_hidden_layers})-tSNE.png')\n",
        "\n",
        "# Save the plot\n",
        "plt.savefig(plot_file_path)\n",
        "plt.show()\n",
        "\n",
        "print(f\"Plot saved at {plot_file_path}\")"
      ]
    }
  ],
  "metadata": {
    "colab": {
      "collapsed_sections": [
        "dAVtPHwx_8f9",
        "m2kYjjB5AAn2",
        "UZqokx4A7-Qe",
        "yDZe7WJoxFUC",
        "dNT9uXGlBpWQ",
        "kk-zMSyg3gkI",
        "1gbjg5OX6WHr",
        "TPWH38ikKlmz",
        "-swiFfsL2iWj"
      ],
      "provenance": []
    },
    "kernelspec": {
      "display_name": "Python 3",
      "name": "python3"
    },
    "language_info": {
      "name": "python"
    }
  },
  "nbformat": 4,
  "nbformat_minor": 0
}