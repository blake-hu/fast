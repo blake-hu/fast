{
  "cells": [
    {
      "cell_type": "markdown",
      "source": [
        "# Embeddings"
      ],
      "metadata": {
        "id": "zj1CY3QFiK5w"
      }
    },
    {
      "cell_type": "code",
      "execution_count": 1,
      "metadata": {
        "id": "VeqoEA_rsmD8"
      },
      "outputs": [],
      "source": [
        "# ! pip install -r requirements.in\n",
        "# !pip install skip_kernel_extension"
      ]
    },
    {
      "cell_type": "code",
      "execution_count": 2,
      "metadata": {
        "id": "CYH3nIXOku9F",
        "colab": {
          "base_uri": "https://localhost:8080/"
        },
        "outputId": "35d5d208-3511-4cda-b0c1-eef5ba382d53"
      },
      "outputs": [
        {
          "output_type": "stream",
          "name": "stdout",
          "text": [
            "Collecting datasets\n",
            "  Downloading datasets-2.16.1-py3-none-any.whl (507 kB)\n",
            "\u001b[?25l     \u001b[90m━━━━━━━━━━━━━━━━━━━━━━━━━━━━━━━━━━━━━━━━\u001b[0m \u001b[32m0.0/507.1 kB\u001b[0m \u001b[31m?\u001b[0m eta \u001b[36m-:--:--\u001b[0m\r\u001b[2K     \u001b[91m━━━\u001b[0m\u001b[90m╺\u001b[0m\u001b[90m━━━━━━━━━━━━━━━━━━━━━━━━━━━━━━━━━━━━\u001b[0m \u001b[32m41.0/507.1 kB\u001b[0m \u001b[31m1.1 MB/s\u001b[0m eta \u001b[36m0:00:01\u001b[0m\r\u001b[2K     \u001b[91m━━━━━━━━━━━━━━━━━━━━━━━━━━━━━━━━━━━━━━━\u001b[0m\u001b[91m╸\u001b[0m \u001b[32m501.8/507.1 kB\u001b[0m \u001b[31m7.2 MB/s\u001b[0m eta \u001b[36m0:00:01\u001b[0m\r\u001b[2K     \u001b[90m━━━━━━━━━━━━━━━━━━━━━━━━━━━━━━━━━━━━━━━━\u001b[0m \u001b[32m507.1/507.1 kB\u001b[0m \u001b[31m5.0 MB/s\u001b[0m eta \u001b[36m0:00:00\u001b[0m\n",
            "\u001b[?25hRequirement already satisfied: filelock in /usr/local/lib/python3.10/dist-packages (from datasets) (3.13.1)\n",
            "Requirement already satisfied: numpy>=1.17 in /usr/local/lib/python3.10/dist-packages (from datasets) (1.23.5)\n",
            "Requirement already satisfied: pyarrow>=8.0.0 in /usr/local/lib/python3.10/dist-packages (from datasets) (10.0.1)\n",
            "Collecting pyarrow-hotfix (from datasets)\n",
            "  Downloading pyarrow_hotfix-0.6-py3-none-any.whl (7.9 kB)\n",
            "Collecting dill<0.3.8,>=0.3.0 (from datasets)\n",
            "  Downloading dill-0.3.7-py3-none-any.whl (115 kB)\n",
            "\u001b[2K     \u001b[90m━━━━━━━━━━━━━━━━━━━━━━━━━━━━━━━━━━━━━━━━\u001b[0m \u001b[32m115.3/115.3 kB\u001b[0m \u001b[31m6.4 MB/s\u001b[0m eta \u001b[36m0:00:00\u001b[0m\n",
            "\u001b[?25hRequirement already satisfied: pandas in /usr/local/lib/python3.10/dist-packages (from datasets) (1.5.3)\n",
            "Requirement already satisfied: requests>=2.19.0 in /usr/local/lib/python3.10/dist-packages (from datasets) (2.31.0)\n",
            "Requirement already satisfied: tqdm>=4.62.1 in /usr/local/lib/python3.10/dist-packages (from datasets) (4.66.1)\n",
            "Requirement already satisfied: xxhash in /usr/local/lib/python3.10/dist-packages (from datasets) (3.4.1)\n",
            "Collecting multiprocess (from datasets)\n",
            "  Downloading multiprocess-0.70.15-py310-none-any.whl (134 kB)\n",
            "\u001b[2K     \u001b[90m━━━━━━━━━━━━━━━━━━━━━━━━━━━━━━━━━━━━━━━━\u001b[0m \u001b[32m134.8/134.8 kB\u001b[0m \u001b[31m6.9 MB/s\u001b[0m eta \u001b[36m0:00:00\u001b[0m\n",
            "\u001b[?25hRequirement already satisfied: fsspec[http]<=2023.10.0,>=2023.1.0 in /usr/local/lib/python3.10/dist-packages (from datasets) (2023.6.0)\n",
            "Requirement already satisfied: aiohttp in /usr/local/lib/python3.10/dist-packages (from datasets) (3.9.1)\n",
            "Requirement already satisfied: huggingface-hub>=0.19.4 in /usr/local/lib/python3.10/dist-packages (from datasets) (0.20.1)\n",
            "Requirement already satisfied: packaging in /usr/local/lib/python3.10/dist-packages (from datasets) (23.2)\n",
            "Requirement already satisfied: pyyaml>=5.1 in /usr/local/lib/python3.10/dist-packages (from datasets) (6.0.1)\n",
            "Requirement already satisfied: attrs>=17.3.0 in /usr/local/lib/python3.10/dist-packages (from aiohttp->datasets) (23.1.0)\n",
            "Requirement already satisfied: multidict<7.0,>=4.5 in /usr/local/lib/python3.10/dist-packages (from aiohttp->datasets) (6.0.4)\n",
            "Requirement already satisfied: yarl<2.0,>=1.0 in /usr/local/lib/python3.10/dist-packages (from aiohttp->datasets) (1.9.4)\n",
            "Requirement already satisfied: frozenlist>=1.1.1 in /usr/local/lib/python3.10/dist-packages (from aiohttp->datasets) (1.4.1)\n",
            "Requirement already satisfied: aiosignal>=1.1.2 in /usr/local/lib/python3.10/dist-packages (from aiohttp->datasets) (1.3.1)\n",
            "Requirement already satisfied: async-timeout<5.0,>=4.0 in /usr/local/lib/python3.10/dist-packages (from aiohttp->datasets) (4.0.3)\n",
            "Requirement already satisfied: typing-extensions>=3.7.4.3 in /usr/local/lib/python3.10/dist-packages (from huggingface-hub>=0.19.4->datasets) (4.5.0)\n",
            "Requirement already satisfied: charset-normalizer<4,>=2 in /usr/local/lib/python3.10/dist-packages (from requests>=2.19.0->datasets) (3.3.2)\n",
            "Requirement already satisfied: idna<4,>=2.5 in /usr/local/lib/python3.10/dist-packages (from requests>=2.19.0->datasets) (3.6)\n",
            "Requirement already satisfied: urllib3<3,>=1.21.1 in /usr/local/lib/python3.10/dist-packages (from requests>=2.19.0->datasets) (2.0.7)\n",
            "Requirement already satisfied: certifi>=2017.4.17 in /usr/local/lib/python3.10/dist-packages (from requests>=2.19.0->datasets) (2023.11.17)\n",
            "Requirement already satisfied: python-dateutil>=2.8.1 in /usr/local/lib/python3.10/dist-packages (from pandas->datasets) (2.8.2)\n",
            "Requirement already satisfied: pytz>=2020.1 in /usr/local/lib/python3.10/dist-packages (from pandas->datasets) (2023.3.post1)\n",
            "Requirement already satisfied: six>=1.5 in /usr/local/lib/python3.10/dist-packages (from python-dateutil>=2.8.1->pandas->datasets) (1.16.0)\n",
            "Installing collected packages: pyarrow-hotfix, dill, multiprocess, datasets\n",
            "Successfully installed datasets-2.16.1 dill-0.3.7 multiprocess-0.70.15 pyarrow-hotfix-0.6\n",
            "Collecting sentence_transformers\n",
            "  Downloading sentence-transformers-2.2.2.tar.gz (85 kB)\n",
            "\u001b[2K     \u001b[90m━━━━━━━━━━━━━━━━━━━━━━━━━━━━━━━━━━━━━━━━\u001b[0m \u001b[32m86.0/86.0 kB\u001b[0m \u001b[31m1.6 MB/s\u001b[0m eta \u001b[36m0:00:00\u001b[0m\n",
            "\u001b[?25h  Preparing metadata (setup.py) ... \u001b[?25l\u001b[?25hdone\n",
            "Requirement already satisfied: transformers<5.0.0,>=4.6.0 in /usr/local/lib/python3.10/dist-packages (from sentence_transformers) (4.35.2)\n",
            "Requirement already satisfied: tqdm in /usr/local/lib/python3.10/dist-packages (from sentence_transformers) (4.66.1)\n",
            "Requirement already satisfied: torch>=1.6.0 in /usr/local/lib/python3.10/dist-packages (from sentence_transformers) (2.1.0+cu121)\n",
            "Requirement already satisfied: torchvision in /usr/local/lib/python3.10/dist-packages (from sentence_transformers) (0.16.0+cu121)\n",
            "Requirement already satisfied: numpy in /usr/local/lib/python3.10/dist-packages (from sentence_transformers) (1.23.5)\n",
            "Requirement already satisfied: scikit-learn in /usr/local/lib/python3.10/dist-packages (from sentence_transformers) (1.2.2)\n",
            "Requirement already satisfied: scipy in /usr/local/lib/python3.10/dist-packages (from sentence_transformers) (1.11.4)\n",
            "Requirement already satisfied: nltk in /usr/local/lib/python3.10/dist-packages (from sentence_transformers) (3.8.1)\n",
            "Collecting sentencepiece (from sentence_transformers)\n",
            "  Downloading sentencepiece-0.1.99-cp310-cp310-manylinux_2_17_x86_64.manylinux2014_x86_64.whl (1.3 MB)\n",
            "\u001b[2K     \u001b[90m━━━━━━━━━━━━━━━━━━━━━━━━━━━━━━━━━━━━━━━━\u001b[0m \u001b[32m1.3/1.3 MB\u001b[0m \u001b[31m6.0 MB/s\u001b[0m eta \u001b[36m0:00:00\u001b[0m\n",
            "\u001b[?25hRequirement already satisfied: huggingface-hub>=0.4.0 in /usr/local/lib/python3.10/dist-packages (from sentence_transformers) (0.20.1)\n",
            "Requirement already satisfied: filelock in /usr/local/lib/python3.10/dist-packages (from huggingface-hub>=0.4.0->sentence_transformers) (3.13.1)\n",
            "Requirement already satisfied: fsspec>=2023.5.0 in /usr/local/lib/python3.10/dist-packages (from huggingface-hub>=0.4.0->sentence_transformers) (2023.6.0)\n",
            "Requirement already satisfied: requests in /usr/local/lib/python3.10/dist-packages (from huggingface-hub>=0.4.0->sentence_transformers) (2.31.0)\n",
            "Requirement already satisfied: pyyaml>=5.1 in /usr/local/lib/python3.10/dist-packages (from huggingface-hub>=0.4.0->sentence_transformers) (6.0.1)\n",
            "Requirement already satisfied: typing-extensions>=3.7.4.3 in /usr/local/lib/python3.10/dist-packages (from huggingface-hub>=0.4.0->sentence_transformers) (4.5.0)\n",
            "Requirement already satisfied: packaging>=20.9 in /usr/local/lib/python3.10/dist-packages (from huggingface-hub>=0.4.0->sentence_transformers) (23.2)\n",
            "Requirement already satisfied: sympy in /usr/local/lib/python3.10/dist-packages (from torch>=1.6.0->sentence_transformers) (1.12)\n",
            "Requirement already satisfied: networkx in /usr/local/lib/python3.10/dist-packages (from torch>=1.6.0->sentence_transformers) (3.2.1)\n",
            "Requirement already satisfied: jinja2 in /usr/local/lib/python3.10/dist-packages (from torch>=1.6.0->sentence_transformers) (3.1.2)\n",
            "Requirement already satisfied: triton==2.1.0 in /usr/local/lib/python3.10/dist-packages (from torch>=1.6.0->sentence_transformers) (2.1.0)\n",
            "Requirement already satisfied: regex!=2019.12.17 in /usr/local/lib/python3.10/dist-packages (from transformers<5.0.0,>=4.6.0->sentence_transformers) (2023.6.3)\n",
            "Requirement already satisfied: tokenizers<0.19,>=0.14 in /usr/local/lib/python3.10/dist-packages (from transformers<5.0.0,>=4.6.0->sentence_transformers) (0.15.0)\n",
            "Requirement already satisfied: safetensors>=0.3.1 in /usr/local/lib/python3.10/dist-packages (from transformers<5.0.0,>=4.6.0->sentence_transformers) (0.4.1)\n",
            "Requirement already satisfied: click in /usr/local/lib/python3.10/dist-packages (from nltk->sentence_transformers) (8.1.7)\n",
            "Requirement already satisfied: joblib in /usr/local/lib/python3.10/dist-packages (from nltk->sentence_transformers) (1.3.2)\n",
            "Requirement already satisfied: threadpoolctl>=2.0.0 in /usr/local/lib/python3.10/dist-packages (from scikit-learn->sentence_transformers) (3.2.0)\n",
            "Requirement already satisfied: pillow!=8.3.*,>=5.3.0 in /usr/local/lib/python3.10/dist-packages (from torchvision->sentence_transformers) (9.4.0)\n",
            "Requirement already satisfied: MarkupSafe>=2.0 in /usr/local/lib/python3.10/dist-packages (from jinja2->torch>=1.6.0->sentence_transformers) (2.1.3)\n",
            "Requirement already satisfied: charset-normalizer<4,>=2 in /usr/local/lib/python3.10/dist-packages (from requests->huggingface-hub>=0.4.0->sentence_transformers) (3.3.2)\n",
            "Requirement already satisfied: idna<4,>=2.5 in /usr/local/lib/python3.10/dist-packages (from requests->huggingface-hub>=0.4.0->sentence_transformers) (3.6)\n",
            "Requirement already satisfied: urllib3<3,>=1.21.1 in /usr/local/lib/python3.10/dist-packages (from requests->huggingface-hub>=0.4.0->sentence_transformers) (2.0.7)\n",
            "Requirement already satisfied: certifi>=2017.4.17 in /usr/local/lib/python3.10/dist-packages (from requests->huggingface-hub>=0.4.0->sentence_transformers) (2023.11.17)\n",
            "Requirement already satisfied: mpmath>=0.19 in /usr/local/lib/python3.10/dist-packages (from sympy->torch>=1.6.0->sentence_transformers) (1.3.0)\n",
            "Building wheels for collected packages: sentence_transformers\n",
            "  Building wheel for sentence_transformers (setup.py) ... \u001b[?25l\u001b[?25hdone\n",
            "  Created wheel for sentence_transformers: filename=sentence_transformers-2.2.2-py3-none-any.whl size=125923 sha256=10aa7a8f66a06d467614c5923f3abda305e190d9475533125c7402cf2d80cd00\n",
            "  Stored in directory: /root/.cache/pip/wheels/62/f2/10/1e606fd5f02395388f74e7462910fe851042f97238cbbd902f\n",
            "Successfully built sentence_transformers\n",
            "Installing collected packages: sentencepiece, sentence_transformers\n",
            "Successfully installed sentence_transformers-2.2.2 sentencepiece-0.1.99\n",
            "Collecting utils\n",
            "  Downloading utils-1.0.1-py2.py3-none-any.whl (21 kB)\n",
            "Installing collected packages: utils\n",
            "Successfully installed utils-1.0.1\n",
            "Requirement already satisfied: gensim in /usr/local/lib/python3.10/dist-packages (4.3.2)\n",
            "Requirement already satisfied: nltk in /usr/local/lib/python3.10/dist-packages (3.8.1)\n",
            "Requirement already satisfied: numpy>=1.18.5 in /usr/local/lib/python3.10/dist-packages (from gensim) (1.23.5)\n",
            "Requirement already satisfied: scipy>=1.7.0 in /usr/local/lib/python3.10/dist-packages (from gensim) (1.11.4)\n",
            "Requirement already satisfied: smart-open>=1.8.1 in /usr/local/lib/python3.10/dist-packages (from gensim) (6.4.0)\n",
            "Requirement already satisfied: click in /usr/local/lib/python3.10/dist-packages (from nltk) (8.1.7)\n",
            "Requirement already satisfied: joblib in /usr/local/lib/python3.10/dist-packages (from nltk) (1.3.2)\n",
            "Requirement already satisfied: regex>=2021.8.3 in /usr/local/lib/python3.10/dist-packages (from nltk) (2023.6.3)\n",
            "Requirement already satisfied: tqdm in /usr/local/lib/python3.10/dist-packages (from nltk) (4.66.1)\n"
          ]
        }
      ],
      "source": [
        "!pip install datasets\n",
        "!pip install sentence_transformers\n",
        "!pip install utils\n",
        "!pip install gensim nltk"
      ]
    },
    {
      "cell_type": "code",
      "execution_count": 3,
      "metadata": {
        "id": "AqxmFbBnqEZj"
      },
      "outputs": [],
      "source": [
        "import os\n",
        "import numpy as np\n",
        "import warnings\n",
        "import itertools\n",
        "\n",
        "from sklearn.metrics import accuracy_score\n",
        "\n",
        "import os\n",
        "import pickle\n",
        "import numpy as np\n",
        "import pandas as pd\n",
        "import warnings\n",
        "import itertools\n",
        "import csv\n",
        "import random\n",
        "random.seed(0)  # standardized default seed\n",
        "\n",
        "import torch\n",
        "from datasets import Dataset, load_dataset\n",
        "import torch\n",
        "import torch.nn.functional as F\n",
        "\n",
        "from utils import *\n",
        "# from utils.feed_forward import FeedForward\n",
        "# from utils.cls import extract_cls_embeddings\n",
        "os.environ[\"TOKENIZERS_PARALLELISM\"] = \"false\"\n"
      ]
    },
    {
      "cell_type": "code",
      "execution_count": 4,
      "metadata": {
        "colab": {
          "base_uri": "https://localhost:8080/"
        },
        "id": "9fAKlIR8T_Ql",
        "outputId": "faefb180-4f29-4bbe-e41c-d8e3ddbd12cb"
      },
      "outputs": [
        {
          "output_type": "stream",
          "name": "stdout",
          "text": [
            "cpu\n"
          ]
        }
      ],
      "source": [
        "# Set Device ##########################################################\n",
        "device_name = \"cpu\"  # default device is CPU\n",
        "if torch.cuda.is_available():\n",
        "    device_name = \"cuda\"  # CUDA for NVIDIA GPU\n",
        "elif torch.backends.mps.is_available():\n",
        "    device_name = torch.device(\"mps\")  # Metal Performance Shaders for Apple M-series GPU\n",
        "device = torch.device(device_name)\n",
        "print(device_name)\n",
        "#######################################################################"
      ]
    },
    {
      "cell_type": "code",
      "execution_count": 5,
      "metadata": {
        "colab": {
          "base_uri": "https://localhost:8080/"
        },
        "id": "XZ8hqELGfkFU",
        "outputId": "7127ab6b-aa6c-40ba-b54a-6d768bf01425"
      },
      "outputs": [
        {
          "output_type": "stream",
          "name": "stdout",
          "text": [
            "Mounted at /content/drive\n"
          ]
        }
      ],
      "source": [
        "from google.colab import drive\n",
        "drive.mount('/content/drive', force_remount=True)"
      ]
    },
    {
      "cell_type": "markdown",
      "source": [
        "## Change these:"
      ],
      "metadata": {
        "id": "fo5l6FTMRbKL"
      }
    },
    {
      "cell_type": "code",
      "source": [
        "# choose cached or not\n",
        "cached = True\n",
        "\n",
        "# choose model\n",
        "## 'MPNetBase'\n",
        "## 'DistilRoBERTaBase'\n",
        "## 'MPNetST'\n",
        "## 'DistilRoBERTaST'\n",
        "## 'GloVe100'\n",
        "model_name = 'DistilRoBERTaBase'\n",
        "\n",
        "emb_size = 768\n",
        "if model_name == 'GloVe100':\n",
        "  emb_size = 100\n",
        "\n",
        "# choose task\n",
        "## 'cola'\n",
        "## 'sst2'\n",
        "## 'mrpc'\n",
        "## 'stsb'\n",
        "## 'qnli'\n",
        "## 'rte'\n",
        "## 'wnli'\n",
        "task = 'cola'\n",
        "\n",
        "two_sentence = True\n",
        "if task == 'cola' or task == 'sst2':\n",
        "  two_sentence = False\n",
        "\n",
        "# choose type\n",
        "## 'cls'\n",
        "## 'mean_pooling'\n",
        "## 'st'\n",
        "## 'cbow'\n",
        "emb_type = 'cls'\n",
        "\n",
        "# choose the number of isomap and t-sne components\n",
        "## usually 2 or 3\n",
        "n_isomap_components = 2\n",
        "n_tsne_components = 2"
      ],
      "metadata": {
        "id": "A2u7fyv9Rvsv"
      },
      "execution_count": 36,
      "outputs": []
    },
    {
      "cell_type": "markdown",
      "metadata": {
        "id": "dAVtPHwx_8f9"
      },
      "source": [
        "## Set model"
      ]
    },
    {
      "cell_type": "code",
      "execution_count": 37,
      "metadata": {
        "id": "Iol8vdTRcQNs"
      },
      "outputs": [],
      "source": [
        "if model_name == 'MPNetBase':\n",
        "  from transformers import MPNetTokenizer, MPNetModel\n",
        "  tokenizer = MPNetTokenizer.from_pretrained('sentence-transformers/all-mpnet-base-v2')\n",
        "  model = MPNetModel.from_pretrained(\"microsoft/mpnet-base\").to(device)"
      ]
    },
    {
      "cell_type": "code",
      "execution_count": 38,
      "metadata": {
        "id": "Hfr0EWFWcQNt",
        "colab": {
          "base_uri": "https://localhost:8080/"
        },
        "outputId": "02b86240-550f-4b60-dfcd-4e6c2d925cac"
      },
      "outputs": [
        {
          "output_type": "stream",
          "name": "stderr",
          "text": [
            "/usr/local/lib/python3.10/dist-packages/huggingface_hub/utils/_token.py:72: UserWarning: \n",
            "The secret `HF_TOKEN` does not exist in your Colab secrets.\n",
            "To authenticate with the Hugging Face Hub, create a token in your settings tab (https://huggingface.co/settings/tokens), set it as secret in your Google Colab and restart your session.\n",
            "You will be able to reuse this secret in all of your notebooks.\n",
            "Please note that authentication is recommended but still optional to access public models or datasets.\n",
            "  warnings.warn(\n"
          ]
        }
      ],
      "source": [
        "if model_name == 'DistilRoBERTaBase':\n",
        "  from transformers import RobertaTokenizer, RobertaModel\n",
        "  tokenizer = RobertaTokenizer.from_pretrained('distilroberta-base')\n",
        "  model = RobertaModel.from_pretrained('distilroberta-base').to(device)"
      ]
    },
    {
      "cell_type": "code",
      "execution_count": 39,
      "metadata": {
        "id": "FOgd0uQ_cQNu"
      },
      "outputs": [],
      "source": [
        "if model_name == 'MPNetST':\n",
        "  from sentence_transformers import SentenceTransformer\n",
        "  model = SentenceTransformer('sentence-transformers/all-mpnet-base-v2').to(device)"
      ]
    },
    {
      "cell_type": "code",
      "execution_count": 40,
      "metadata": {
        "id": "F33JjqTwcQNu"
      },
      "outputs": [],
      "source": [
        "if model_name == 'DistilRoBERTaST':\n",
        "  from sentence_transformers import SentenceTransformer\n",
        "  model = SentenceTransformer('sentence-transformers/all-distilroberta-v1').to(device)"
      ]
    },
    {
      "cell_type": "code",
      "source": [
        "if model_name == 'GloVe100':\n",
        "  import gensim.downloader as api\n",
        "  model = api.load('glove-wiki-gigaword-100')  # or another model"
      ],
      "metadata": {
        "id": "J7c0cj3p0XYj"
      },
      "execution_count": 41,
      "outputs": []
    },
    {
      "cell_type": "markdown",
      "metadata": {
        "id": "m2kYjjB5AAn2"
      },
      "source": [
        "## Load data"
      ]
    },
    {
      "cell_type": "code",
      "execution_count": 42,
      "metadata": {
        "colab": {
          "base_uri": "https://localhost:8080/",
          "height": 0,
          "referenced_widgets": [
            "af6170ad26bd4091a318fb27e8e29a70",
            "4a0d7b9cd93e40c690a05bc8b6c153cf",
            "fe2ee1e7980a469cbbf62bb579cfeb54",
            "602a91ef2d36470a94431facf17cf96f",
            "6e27ad16e2de41dfbe2cc627a18e1cc9",
            "8ebe1b667d7b45aa990855cb8f8fb5e0",
            "0b853504d7cf435b934e7a50cbebde9a",
            "d969dd56b3c34ad4bc9e565bcf279813",
            "95f356f3a9b74e4289e0a22cde7efff2",
            "b86fe362356b4aee99a6470509ada626",
            "fd24fb1cd4c6446181e520b9d2072225",
            "0a71d4aee564482b81c2eab4338f3cfb",
            "f81c52390eb647b08e19d08b452b3d09",
            "b990cd230d2947d8b6d521d8a460cd35",
            "e32b7a84c3ab486095c3e1c164106f6d",
            "05b0eaf1e9d44e329d76b406dcb0f706",
            "1cd82f3c461341a394a1d72ce1fc0777",
            "d0738a8e3436454e8a12268fafb70b9f",
            "2ce0bc34c0f34cfab63b61b0508aea13",
            "f8532384e6124dac957e48c73ccac069",
            "9cab1c8d297f4c75871bcea32b6c8983",
            "a297c229d0cf49108481d6454db823d8",
            "06b182fef14648f3bfc83ecea98afeb0",
            "1fc3e5b989b24d6ca1cd68e253847f96",
            "44bc10ab5c2a471b8e74caeb8c3b0c6f",
            "dbc56924610d4b6cb21892d7a12815ba",
            "95c08918b8754c43b76df7f0c93bd254",
            "847a60dc7d3348798ccdc643f28777d3",
            "91d8b82ff7274ce89e7d1bfe23ebbdb9",
            "b974b0bdd23240cdb974607d8caabad1",
            "1bb1f10a160e4148963c43499359adae",
            "c08ed78de3eb4cd7b9c93a71d7db93a4",
            "7a8cf088026847e6958066549e778d9e",
            "25b0d642cff84858a734464a9c8a0afd",
            "7cd19b6186494c1e8e0759f1f9c13a62",
            "5406c39781bb47908b01cffdb21c7e5c",
            "bd366667ec3c41d4b85571bd4c927959",
            "7317940379354114bf511a546bedf1ea",
            "54d0d17791664164b00f15b47d7e73b8",
            "86015797e6f34bc08dcc234713284122",
            "311bf11a297846e285f98f56d05c5864",
            "e34a479b948349cca78e9de3bf5ee42e",
            "ccd9a49929364de7984d30e9176f2b69",
            "b8c0a878bba04691af6fc5ad9325fce4",
            "40e330a4d6de4d03b8eb51ec0a3350f4",
            "2aace45279614e2d9ffa9d50ca52a181",
            "62a8a457d6884080a6e9cc7aadb141aa",
            "086e8fc48ab94fcdbb3f83e2b0c4a4d9",
            "8a6a8eeb019645d9966fc06bb57deb83",
            "1ce6225a2b74473a94d08d3c28d8636f",
            "ed391cf0d8ba4b0ba17a2c6bca1e66e0",
            "df4f78bdff7040dda4bf374e0993b6a5",
            "bc87f38cef7d4365b45ce7645bd3b3fb",
            "ffba8d0ab9014edf94f3cafc632bc30f",
            "4ea0af59c40b4b4b845579b782af3cfa",
            "b70ea473063446d696c2e6c9fc691ffa",
            "8abcedcac9db4da68a8a9a9f3d260d06",
            "483b653f193c40afa9a68e1e9ede06c3",
            "c545564faaa9414195b51e79ed13e1dd",
            "975f7c53bc7d4788900f48c9d3daf946",
            "b6cef15f01644863ac97b5e3a0a411b5",
            "a3ccc27bd6b244f68e2040c5c54cc287",
            "6ae13df374894a77b504583a22c1f7dc",
            "da6972e522ba47e1826056dff4c6cc60",
            "3a6a6e89e6bb486593b9506d4be7647b",
            "4468f0f0a8e64367bc643c66dcf920d1"
          ]
        },
        "id": "4s8EX0oXcQNv",
        "outputId": "9aa1e269-e7d6-45f9-9a9d-65e7bd3cb482"
      },
      "outputs": [
        {
          "output_type": "display_data",
          "data": {
            "text/plain": [
              "Downloading data:   0%|          | 0.00/251k [00:00<?, ?B/s]"
            ],
            "application/vnd.jupyter.widget-view+json": {
              "version_major": 2,
              "version_minor": 0,
              "model_id": "af6170ad26bd4091a318fb27e8e29a70"
            }
          },
          "metadata": {}
        },
        {
          "output_type": "display_data",
          "data": {
            "text/plain": [
              "Downloading data:   0%|          | 0.00/37.6k [00:00<?, ?B/s]"
            ],
            "application/vnd.jupyter.widget-view+json": {
              "version_major": 2,
              "version_minor": 0,
              "model_id": "0a71d4aee564482b81c2eab4338f3cfb"
            }
          },
          "metadata": {}
        },
        {
          "output_type": "display_data",
          "data": {
            "text/plain": [
              "Downloading data:   0%|          | 0.00/37.7k [00:00<?, ?B/s]"
            ],
            "application/vnd.jupyter.widget-view+json": {
              "version_major": 2,
              "version_minor": 0,
              "model_id": "06b182fef14648f3bfc83ecea98afeb0"
            }
          },
          "metadata": {}
        },
        {
          "output_type": "display_data",
          "data": {
            "text/plain": [
              "Generating train split:   0%|          | 0/8551 [00:00<?, ? examples/s]"
            ],
            "application/vnd.jupyter.widget-view+json": {
              "version_major": 2,
              "version_minor": 0,
              "model_id": "25b0d642cff84858a734464a9c8a0afd"
            }
          },
          "metadata": {}
        },
        {
          "output_type": "display_data",
          "data": {
            "text/plain": [
              "Generating validation split:   0%|          | 0/1043 [00:00<?, ? examples/s]"
            ],
            "application/vnd.jupyter.widget-view+json": {
              "version_major": 2,
              "version_minor": 0,
              "model_id": "40e330a4d6de4d03b8eb51ec0a3350f4"
            }
          },
          "metadata": {}
        },
        {
          "output_type": "display_data",
          "data": {
            "text/plain": [
              "Generating test split:   0%|          | 0/1063 [00:00<?, ? examples/s]"
            ],
            "application/vnd.jupyter.widget-view+json": {
              "version_major": 2,
              "version_minor": 0,
              "model_id": "b70ea473063446d696c2e6c9fc691ffa"
            }
          },
          "metadata": {}
        },
        {
          "output_type": "execute_result",
          "data": {
            "text/plain": [
              "DatasetDict({\n",
              "    train: Dataset({\n",
              "        features: ['sentence', 'label', 'idx'],\n",
              "        num_rows: 8551\n",
              "    })\n",
              "    validation: Dataset({\n",
              "        features: ['sentence', 'label', 'idx'],\n",
              "        num_rows: 1043\n",
              "    })\n",
              "    test: Dataset({\n",
              "        features: ['sentence', 'label', 'idx'],\n",
              "        num_rows: 1063\n",
              "    })\n",
              "})"
            ]
          },
          "metadata": {},
          "execution_count": 42
        }
      ],
      "source": [
        "data = load_dataset(\"glue\", task)\n",
        "data"
      ]
    },
    {
      "cell_type": "markdown",
      "source": [
        "## Run if embeddings have already been cached"
      ],
      "metadata": {
        "id": "UZqokx4A7-Qe"
      }
    },
    {
      "cell_type": "code",
      "source": [
        "# assumes embeddings are saved in .npy files\n",
        "\n",
        "if cached:\n",
        "  # Specify the path to your embeddings file in Google Drive\n",
        "  # Update the path below according to where your file is stored in Google Drive\n",
        "  file_path = f'/content/drive/My Drive/projectx_pain/embeddings/{emb_type}/{task}/X_train_{model_name}.npy'\n",
        "  X_train_cls = np.load(file_path)\n",
        "\n",
        "  file_path = f'/content/drive/My Drive/projectx_pain/embeddings/{emb_type}/{task}/X_test_{model_name}.npy'\n",
        "  X_test_cls = np.load(file_path)\n",
        "\n",
        "  file_path = f'/content/drive/My Drive/projectx_pain/embeddings/{emb_type}/{task}/X_val_{model_name}.npy'\n",
        "  X_val_cls = np.load(file_path)\n",
        "\n",
        "  # set to u-v embedding\n",
        "  if two_sentence:\n",
        "    X_train_cls = np.abs(X_train_cls[:, 0:emb_size] - X_train_cls[:, emb_size:])\n",
        "    X_test_cls = np.abs(X_test_cls[:, 0:emb_size] - X_test_cls[:, emb_size:])\n",
        "    X_val_cls = np.abs(X_val_cls[:, 0:emb_size] - X_val_cls[:, emb_size:])\n",
        "\n",
        "  # Check the shape of the loaded embeddings\n",
        "  print(\"X_train_cls shape:\", X_train_cls.shape)\n",
        "  print(\"X_test_cls shape:\", X_test_cls.shape)\n",
        "  print(\"X_val_cls shape:\", X_val_cls.shape)"
      ],
      "metadata": {
        "id": "0FuWSOkh5mHN",
        "colab": {
          "base_uri": "https://localhost:8080/"
        },
        "outputId": "371874c9-ca18-4edd-edee-2b1804f05f50"
      },
      "execution_count": 43,
      "outputs": [
        {
          "output_type": "stream",
          "name": "stdout",
          "text": [
            "X_train_cls shape: (8551, 768)\n",
            "X_test_cls shape: (1063, 768)\n",
            "X_val_cls shape: (1043, 768)\n"
          ]
        }
      ]
    },
    {
      "cell_type": "code",
      "execution_count": 44,
      "metadata": {
        "id": "V-Mops6Yx0O_"
      },
      "outputs": [],
      "source": [
        "if cached:\n",
        "  Y_train = data[\"train\"][\"label\"]\n",
        "  Y_val = data[\"validation\"][\"label\"]\n",
        "  Y_test = data[\"test\"][\"label\"]"
      ]
    },
    {
      "cell_type": "code",
      "source": [
        "if cached:\n",
        "  # truncate to just the first 5000 examples so that it's easier to run\n",
        "\n",
        "  print(np.min([5000, np.size(X_train_cls, 0)]))\n",
        "\n",
        "  print(X_train_cls.shape)\n",
        "  X_train_cls = X_train_cls[0:np.min([5000, np.size(X_train_cls, 0)]), :]\n",
        "  Y_train = Y_train[0:np.min([5000, np.size(Y_train)])]\n",
        "\n",
        "  print(\"X_train_cls shape:\", X_train_cls.shape)\n",
        "  print(\"Y_train len:\", len(Y_train))"
      ],
      "metadata": {
        "id": "V4lb4zyfyK_M",
        "colab": {
          "base_uri": "https://localhost:8080/"
        },
        "outputId": "1dcb49e1-a296-4b8c-c38e-2745d505b37d"
      },
      "execution_count": 45,
      "outputs": [
        {
          "output_type": "stream",
          "name": "stdout",
          "text": [
            "5000\n",
            "(8551, 768)\n",
            "X_train_cls shape: (5000, 768)\n",
            "Y_train len: 5000\n"
          ]
        }
      ]
    },
    {
      "cell_type": "markdown",
      "metadata": {
        "id": "yDZe7WJoxFUC"
      },
      "source": [
        "## Load/Generate cls embeddings\n",
        "(note there is no generation of mean pooling; don't use this notebook if you don't already have cached mean pooled embeddings)"
      ]
    },
    {
      "cell_type": "markdown",
      "metadata": {
        "id": "7OZqtiQmAIqH"
      },
      "source": [
        "### Run for single sentence tasks; skip for double sentence tasks"
      ]
    },
    {
      "cell_type": "code",
      "execution_count": 46,
      "metadata": {
        "id": "es6MUBAymyj1"
      },
      "outputs": [],
      "source": [
        "if not cached and emb_type == 'cls' and not two_sentence:\n",
        "  ### ONLY FOR SINGLE SENTENCES\n",
        "\n",
        "  X_train = data[\"train\"][\"sentence\"]\n",
        "  X_val = data[\"validation\"][\"sentence\"]\n",
        "  X_test = data[\"test\"][\"sentence\"]\n",
        "\n",
        "  Y_train = data[\"train\"][\"label\"]\n",
        "  Y_val = data[\"validation\"][\"label\"]\n",
        "  Y_test = data[\"test\"][\"label\"]\n",
        "\n",
        "  # # only select 10% of each for the purpose of embeddings\n",
        "  # proportion = 0.10\n",
        "\n",
        "  # tr_len = len(X_train)\n",
        "  # tr_indices = np.random.choice(tr_len, int(tr_len * proportion), replace=False)\n",
        "  # X_train = (np.array(X_train)[tr_indices]).tolist()\n",
        "  # Y_train = (np.array(Y_train)[tr_indices]).tolist()\n",
        "\n",
        "  # v_len = len(X_val)\n",
        "  # v_indices = np.random.choice(v_len, int(v_len * proportion), replace=False)\n",
        "  # X_val = (np.array(X_val)[v_indices]).tolist()\n",
        "  # Y_val = (np.array(Y_val)[v_indices]).tolist()\n",
        "\n",
        "  # te_len = len(X_test)\n",
        "  # te_indices = np.random.choice(te_len, int(te_len * proportion), replace=False)\n",
        "  # X_test = (np.array(X_test)[te_indices]).tolist()\n",
        "  # Y_test = (np.array(Y_test)[te_indices]).tolist()"
      ]
    },
    {
      "cell_type": "code",
      "execution_count": 47,
      "metadata": {
        "id": "B67U08nVtPzT"
      },
      "outputs": [],
      "source": [
        "if not cached and emb_type == 'cls' and not two_sentence:\n",
        "  ### ONLY FOR ONE SENTENCE\n",
        "\n",
        "  X_train = tokenizer(X_train, padding=True, truncation=True, return_tensors='pt')\n",
        "  X_val = tokenizer(X_val, padding=True, truncation=True, return_tensors='pt')\n",
        "  X_test = tokenizer(X_test, padding=True, truncation=True, return_tensors='pt')"
      ]
    },
    {
      "cell_type": "code",
      "execution_count": 48,
      "metadata": {
        "id": "1c6E3hiatSGd"
      },
      "outputs": [],
      "source": [
        "if not cached and emb_type == 'cls' and not two_sentence:\n",
        "  ### 1s\n",
        "\n",
        "  from torch.utils.data import DataLoader, TensorDataset\n",
        "\n",
        "  def create_data_loader(tokenized_data, batch_size=512):\n",
        "      dataset = TensorDataset(tokenized_data['input_ids'], tokenized_data['attention_mask'])\n",
        "      return DataLoader(dataset, batch_size=batch_size)\n",
        "\n",
        "  # Creating DataLoaders\n",
        "  train_loader = create_data_loader(X_train)\n",
        "  val_loader = create_data_loader(X_val)\n",
        "  test_loader = create_data_loader(X_test)\n",
        "\n",
        "  def get_cls_embeddings(data_loader):\n",
        "      cls_embeddings = []\n",
        "      for batch in data_loader:\n",
        "          inputs = {'input_ids': batch[0], 'attention_mask': batch[1]}\n",
        "          with torch.no_grad():\n",
        "              outputs = model(**inputs)\n",
        "              cls_embeddings_batch = outputs.last_hidden_state[:, 0, :]\n",
        "              cls_embeddings.append(cls_embeddings_batch)\n",
        "      return torch.cat(cls_embeddings, dim=0)\n",
        "\n",
        "  # Extracting CLS embeddings\n",
        "  X_train_cls = get_cls_embeddings(train_loader)\n",
        "  X_val_cls = get_cls_embeddings(val_loader)\n",
        "  X_test_cls = get_cls_embeddings(test_loader)\n"
      ]
    },
    {
      "cell_type": "code",
      "source": [
        "# save\n",
        "\n",
        "if not cached and emb_type == 'cls' and not two_sentence:\n",
        "\n",
        "  path = f'/content/drive/MyDrive/projectx_pain/embeddings/{emb_type}/{task}/'\n",
        "  os.makedirs(path, exist_ok=True)  # This creates the directory if it doesn't exist\n",
        "\n",
        "  np.save(path + f'X_train_{model_name}', X_train_cls)\n",
        "  np.save(path + f'X_test_{model_name}', X_test_cls)\n",
        "  np.save(path + f'X_val_{model_name}', X_val_cls)"
      ],
      "metadata": {
        "id": "ZDtjgueLMxXp"
      },
      "execution_count": 49,
      "outputs": []
    },
    {
      "cell_type": "markdown",
      "metadata": {
        "id": "xa26DO5QAOzy"
      },
      "source": [
        "### Run for double sentence tasks; skip for single sentence tasks"
      ]
    },
    {
      "cell_type": "code",
      "execution_count": 50,
      "metadata": {
        "id": "hG68FwPqA2qd"
      },
      "outputs": [],
      "source": [
        "if not cached and emb_type == 'cls' and two_sentence:\n",
        "  ### ONLY FOR TWO SENTENCES\n",
        "\n",
        "  X_train_1 = data[\"train\"][\"sentence1\"]\n",
        "  X_train_2 = data[\"train\"][\"sentence2\"]\n",
        "  X_val_1 = data[\"validation\"][\"sentence1\"]\n",
        "  X_val_2 = data[\"validation\"][\"sentence2\"]\n",
        "  X_test_1 = data[\"test\"][\"sentence1\"]\n",
        "  X_test_2 = data[\"test\"][\"sentence2\"]\n",
        "\n",
        "  Y_train = data[\"train\"][\"label\"]\n",
        "  Y_val = data[\"validation\"][\"label\"]\n",
        "  Y_test = data[\"test\"][\"label\"]"
      ]
    },
    {
      "cell_type": "code",
      "execution_count": 51,
      "metadata": {
        "id": "9XtO7SBMCBvk"
      },
      "outputs": [],
      "source": [
        "if not cached and emb_type == 'cls' and two_sentence:\n",
        "  ### ONLY FOR TWO SENTENCES\n",
        "\n",
        "  X_train_1 = tokenizer(X_train_1, padding=True, truncation=True, return_tensors='pt')\n",
        "  X_train_2 = tokenizer(X_train_2, padding=True, truncation=True, return_tensors='pt')\n",
        "  X_val_1 = tokenizer(X_val_1, padding=True, truncation=True, return_tensors='pt')\n",
        "  X_val_2 = tokenizer(X_val_2, padding=True, truncation=True, return_tensors='pt')\n",
        "  X_test_1 = tokenizer(X_test_1, padding=True, truncation=True, return_tensors='pt')\n",
        "  X_test_2 = tokenizer(X_test_2, padding=True, truncation=True, return_tensors='pt')"
      ]
    },
    {
      "cell_type": "code",
      "execution_count": 52,
      "metadata": {
        "id": "yQyiky2GCR1F"
      },
      "outputs": [],
      "source": [
        "if not cached and emb_type == 'cls' and two_sentence:\n",
        "  ### 2s\n",
        "\n",
        "  from torch.utils.data import DataLoader, TensorDataset\n",
        "\n",
        "  def create_data_loader(tokenized_data, batch_size=512):\n",
        "      dataset = TensorDataset(tokenized_data['input_ids'], tokenized_data['attention_mask'])\n",
        "      return DataLoader(dataset, batch_size=batch_size)\n",
        "\n",
        "  # Creating DataLoaders\n",
        "  train_loader = create_data_loader(X_train_1)\n",
        "  val_loader = create_data_loader(X_val_1)\n",
        "  test_loader = create_data_loader(X_test_1)\n",
        "\n",
        "  def get_cls_embeddings(data_loader):\n",
        "      cls_embeddings = []\n",
        "      for batch in data_loader:\n",
        "          inputs = {'input_ids': batch[0], 'attention_mask': batch[1]}\n",
        "          with torch.no_grad():\n",
        "              outputs = model(**inputs)\n",
        "              cls_embeddings_batch = outputs.last_hidden_state[:, 0, :]\n",
        "              cls_embeddings.append(cls_embeddings_batch)\n",
        "              print(len(cls_embeddings))\n",
        "      return torch.cat(cls_embeddings, dim=0)\n",
        "\n",
        "  # Extracting CLS embeddings\n",
        "  X_train_1_cls = get_cls_embeddings(train_loader)\n",
        "  X_val_1_cls = get_cls_embeddings(val_loader)\n",
        "  X_test_1_cls = get_cls_embeddings(test_loader)\n",
        "\n",
        "  # Creating DataLoaders\n",
        "  train_loader = create_data_loader(X_train_2)\n",
        "  val_loader = create_data_loader(X_val_2)\n",
        "  test_loader = create_data_loader(X_test_2)\n",
        "\n",
        "  def get_cls_embeddings(data_loader):\n",
        "      cls_embeddings = []\n",
        "      for batch in data_loader:\n",
        "          inputs = {'input_ids': batch[0], 'attention_mask': batch[1]}\n",
        "          with torch.no_grad():\n",
        "              outputs = model(**inputs)\n",
        "              cls_embeddings_batch = outputs.last_hidden_state[:, 0, :]\n",
        "              cls_embeddings.append(cls_embeddings_batch)\n",
        "      return torch.cat(cls_embeddings, dim=0)\n",
        "\n",
        "  # Extracting CLS embeddings\n",
        "  X_train_2_cls = get_cls_embeddings(train_loader)\n",
        "  X_val_2_cls = get_cls_embeddings(val_loader)\n",
        "  X_test_2_cls = get_cls_embeddings(test_loader)"
      ]
    },
    {
      "cell_type": "code",
      "execution_count": 53,
      "metadata": {
        "id": "uPr2SAeZfUHl"
      },
      "outputs": [],
      "source": [
        "# concatenate and save\n",
        "\n",
        "if not cached and emb_type == 'cls' and two_sentence:\n",
        "  X_train_cls = np.hstack((X_train_1_cls, X_train_2_cls))\n",
        "  X_test_cls = np.hstack((X_test_1_cls, X_test_2_cls))\n",
        "  X_val_cls = np.hstack((X_val_1_cls, X_val_2_cls))\n",
        "\n",
        "  path = f'/content/drive/MyDrive/projectx_pain/embeddings/{emb_type}/{task}/'\n",
        "  os.makedirs(path, exist_ok=True)  # This creates the directory if it doesn't exist\n",
        "\n",
        "  np.save(path + f'X_train_{model_name}', X_train_cls)\n",
        "  np.save(path + f'X_test_{model_name}', X_test_cls)\n",
        "  np.save(path + f'X_val_{model_name}', X_val_cls)"
      ]
    },
    {
      "cell_type": "markdown",
      "source": [
        "## Load/generate sentence transformer embeddings"
      ],
      "metadata": {
        "id": "dNT9uXGlBpWQ"
      }
    },
    {
      "cell_type": "markdown",
      "source": [
        "### Run for one sentence tasks"
      ],
      "metadata": {
        "id": "FexRZ-Y5P7Sw"
      }
    },
    {
      "cell_type": "code",
      "source": [
        "if not cached and emb_type == 'st' and not two_sentence:\n",
        "\n",
        "  # EXPENSIVE OPERATION: This cell may take about 2 minutes or more to run\n",
        "\n",
        "  with torch.no_grad():\n",
        "      X_train_st = model.encode(data[\"train\"][\"sentence\"])\n",
        "      X_val_st = model.encode(data[\"validation\"][\"sentence\"])\n",
        "      X_test_st = model.encode(data[\"test\"][\"sentence\"])\n",
        "\n",
        "      Y_train_st = np.array(data[\"train\"][\"label\"])\n",
        "      Y_val_st = np.array(data[\"validation\"][\"label\"])\n",
        "      Y_test_st = np.array(data[\"test\"][\"label\"])"
      ],
      "metadata": {
        "id": "X4TVZ5neCBP4"
      },
      "execution_count": 54,
      "outputs": []
    },
    {
      "cell_type": "code",
      "source": [
        "if not cached and emb_type == 'st' and not two_sentence:\n",
        "\n",
        "  # Save to the mounted Google Drive\n",
        "  path = f'/content/drive/MyDrive/projectx_pain/embeddings/{emb_type}/{task}/'\n",
        "  os.makedirs(path, exist_ok=True)  # This creates the directory if it doesn't exist\n",
        "\n",
        "  np.save(path + f'X_train_{model_name}', X_train_st)\n",
        "  np.save(path + f'X_test_{model_name}', X_test_st)\n",
        "  np.save(path + f'X_val_{model_name}', X_val_st)"
      ],
      "metadata": {
        "id": "Eq0_uM_cFjOS"
      },
      "execution_count": 55,
      "outputs": []
    },
    {
      "cell_type": "markdown",
      "source": [
        "### Run for two sentence tasks"
      ],
      "metadata": {
        "id": "zdn1JQyrQDmy"
      }
    },
    {
      "cell_type": "code",
      "source": [
        "if not cached and emb_type == 'st' and two_sentence:\n",
        "\n",
        "  # EXPENSIVE OPERATION: This cell may take about 2 minutes or more to run\n",
        "\n",
        "  if task == 'qnli':\n",
        "    with torch.no_grad():\n",
        "      X_train_1_st = model.encode(data[\"train\"][\"question\"])\n",
        "      X_train_2_st = model.encode(data[\"train\"][\"sentence\"])\n",
        "      X_val_1_st = model.encode(data[\"validation\"][\"question\"])\n",
        "      X_val_2_st = model.encode(data[\"validation\"][\"sentence\"])\n",
        "      X_test_1_st = model.encode(data[\"test\"][\"question\"])\n",
        "      X_test_2_st = model.encode(data[\"test\"][\"sentence\"])\n",
        "\n",
        "      Y_train_st = np.array(data[\"train\"][\"label\"])\n",
        "      Y_val_st = np.array(data[\"validation\"][\"label\"])\n",
        "      Y_test_st = np.array(data[\"test\"][\"label\"])\n",
        "\n",
        "  else:\n",
        "    with torch.no_grad():\n",
        "        X_train_1_st = model.encode(data[\"train\"][\"sentence1\"])\n",
        "        X_train_2_st = model.encode(data[\"train\"][\"sentence2\"])\n",
        "        X_val_1_st = model.encode(data[\"validation\"][\"sentence1\"])\n",
        "        X_val_2_st = model.encode(data[\"validation\"][\"sentence2\"])\n",
        "        X_test_1_st = model.encode(data[\"test\"][\"sentence1\"])\n",
        "        X_test_2_st = model.encode(data[\"test\"][\"sentence2\"])\n",
        "\n",
        "        Y_train_st = np.array(data[\"train\"][\"label\"])\n",
        "        Y_val_st = np.array(data[\"validation\"][\"label\"])\n",
        "        Y_test_st = np.array(data[\"test\"][\"label\"])"
      ],
      "metadata": {
        "id": "g7W-EPXZQHIK"
      },
      "execution_count": 56,
      "outputs": []
    },
    {
      "cell_type": "code",
      "source": [
        "if not cached and emb_type == 'st' and two_sentence:\n",
        "\n",
        "  # concatenate\n",
        "  X_train_st = np.hstack((X_train_1_st, X_train_2_st))\n",
        "  X_test_st = np.hstack((X_test_1_st, X_test_2_st))\n",
        "  X_val_st = np.hstack((X_val_1_st, X_val_2_st))\n",
        "\n",
        "  # Save to the mounted Google Drive\n",
        "  path = f'/content/drive/MyDrive/projectx_pain/embeddings/{emb_type}/{task}/'\n",
        "  os.makedirs(path, exist_ok=True)  # This creates the directory if it doesn't exist\n",
        "\n",
        "  np.save(path + f'X_train_{model_name}', X_train_st)\n",
        "  np.save(path + f'X_test_{model_name}', X_test_st)\n",
        "  np.save(path + f'X_val_{model_name}', X_val_st)"
      ],
      "metadata": {
        "id": "t0wtNmSaQIOv"
      },
      "execution_count": 57,
      "outputs": []
    },
    {
      "cell_type": "markdown",
      "source": [
        "## Load/generate cbow embeddings"
      ],
      "metadata": {
        "id": "kk-zMSyg3gkI"
      }
    },
    {
      "cell_type": "code",
      "source": [
        "if not cached and emb_type == 'cbow':\n",
        "\n",
        "  # define generating function (not that kind)\n",
        "\n",
        "  from nltk.tokenize import word_tokenize\n",
        "  import nltk\n",
        "  nltk.download('punkt')\n",
        "\n",
        "  def generate_cbow_embeddings(sentences, model):\n",
        "      embeddings = []\n",
        "      for sentence in sentences:\n",
        "          tokens = word_tokenize(sentence.lower())\n",
        "          valid_tokens = [token for token in tokens if token in model.key_to_index]\n",
        "          if valid_tokens:\n",
        "              sentence_embedding = np.mean([model[token] for token in valid_tokens], axis=0)\n",
        "          else:\n",
        "              sentence_embedding = np.zeros(model.vector_size)\n",
        "          embeddings.append(sentence_embedding)\n",
        "      return np.array(embeddings)"
      ],
      "metadata": {
        "id": "XfdmDtCT3fh7"
      },
      "execution_count": 58,
      "outputs": []
    },
    {
      "cell_type": "markdown",
      "source": [
        "### Run for one sentence tasks"
      ],
      "metadata": {
        "id": "TCIitcWA4HXJ"
      }
    },
    {
      "cell_type": "code",
      "source": [
        "if not cached and emb_type == 'cbow' and not two_sentence:\n",
        "\n",
        "    X_train_cbow = generate_cbow_embeddings(data['train']['sentence'], model)\n",
        "    X_test_cbow = generate_cbow_embeddings(data['test']['sentence'], model)\n",
        "    X_val_cbow = generate_cbow_embeddings(data['validation']['sentence'], model)\n",
        "\n",
        "    Y_train_cbow = np.array(data[\"train\"][\"label\"])\n",
        "    Y_val_cbow = np.array(data[\"validation\"][\"label\"])\n",
        "    Y_test_cbow = np.array(data[\"test\"][\"label\"])"
      ],
      "metadata": {
        "id": "aJ_oGuDQ38HG"
      },
      "execution_count": 59,
      "outputs": []
    },
    {
      "cell_type": "code",
      "source": [
        "if not cached and emb_type == 'cbow' and not two_sentence:\n",
        "\n",
        "  # Save to the mounted Google Drive\n",
        "  path = f'/content/drive/MyDrive/projectx_pain/embeddings/{emb_type}/{task}/'\n",
        "  os.makedirs(path, exist_ok=True)  # This creates the directory if it doesn't exist\n",
        "\n",
        "  np.save(path + f'X_train_{model_name}', X_train_cbow)\n",
        "  np.save(path + f'X_test_{model_name}', X_test_cbow)\n",
        "  np.save(path + f'X_val_{model_name}', X_val_cbow)"
      ],
      "metadata": {
        "id": "kco7Uz-j54d5"
      },
      "execution_count": 60,
      "outputs": []
    },
    {
      "cell_type": "markdown",
      "source": [
        "### Run for two sentence tasks"
      ],
      "metadata": {
        "id": "1gbjg5OX6WHr"
      }
    },
    {
      "cell_type": "code",
      "source": [
        "if not cached and emb_type == 'cbow' and two_sentence:\n",
        "\n",
        "    if task == 'qnli':\n",
        "      X_train_1_cbow = generate_cbow_embeddings(data['train']['question'], model)\n",
        "      X_train_2_cbow = generate_cbow_embeddings(data['train']['sentence'], model)\n",
        "      X_test_1_cbow = generate_cbow_embeddings(data['test']['question'], model)\n",
        "      X_test_2_cbow = generate_cbow_embeddings(data['test']['sentence'], model)\n",
        "      X_val_1_cbow = generate_cbow_embeddings(data['validation']['question'], model)\n",
        "      X_val_2_cbow = generate_cbow_embeddings(data['validation']['sentence'], model)\n",
        "\n",
        "      Y_train_cbow = np.array(data[\"train\"][\"label\"])\n",
        "      Y_val_cbow = np.array(data[\"validation\"][\"label\"])\n",
        "      Y_test_cbow = np.array(data[\"test\"][\"label\"])\n",
        "\n",
        "    else:\n",
        "      X_train_1_cbow = generate_cbow_embeddings(data['train']['sentence1'], model)\n",
        "      X_train_2_cbow = generate_cbow_embeddings(data['train']['sentence2'], model)\n",
        "      X_test_1_cbow = generate_cbow_embeddings(data['test']['sentence1'], model)\n",
        "      X_test_2_cbow = generate_cbow_embeddings(data['test']['sentence2'], model)\n",
        "      X_val_1_cbow = generate_cbow_embeddings(data['validation']['sentence1'], model)\n",
        "      X_val_2_cbow = generate_cbow_embeddings(data['validation']['sentence2'], model)\n",
        "\n",
        "      Y_train_cbow = np.array(data[\"train\"][\"label\"])\n",
        "      Y_val_cbow = np.array(data[\"validation\"][\"label\"])\n",
        "      Y_test_cbow = np.array(data[\"test\"][\"label\"])"
      ],
      "metadata": {
        "id": "fOtnu7-p6Vl_"
      },
      "execution_count": 61,
      "outputs": []
    },
    {
      "cell_type": "code",
      "source": [
        "if not cached and emb_type == 'cbow' and two_sentence:\n",
        "\n",
        "  # concatenate\n",
        "  X_train_cbow = np.hstack((X_train_1_cbow, X_train_2_cbow))\n",
        "  X_test_cbow = np.hstack((X_test_1_cbow, X_test_2_cbow))\n",
        "  X_val_cbow = np.hstack((X_val_1_cbow, X_val_2_cbow))\n",
        "\n",
        "  # Save to the mounted Google Drive\n",
        "  path = f'/content/drive/MyDrive/projectx_pain/embeddings/{emb_type}/{task}/'\n",
        "  os.makedirs(path, exist_ok=True)  # This creates the directory if it doesn't exist\n",
        "\n",
        "  np.save(path + f'X_train_{model_name}', X_train_cbow)\n",
        "  np.save(path + f'X_test_{model_name}', X_test_cbow)\n",
        "  np.save(path + f'X_val_{model_name}', X_val_cbow)"
      ],
      "metadata": {
        "id": "V__nYTqq7G3D"
      },
      "execution_count": 62,
      "outputs": []
    },
    {
      "cell_type": "markdown",
      "source": [
        "# Manifold Learning"
      ],
      "metadata": {
        "id": "w1uO75odiU20"
      }
    },
    {
      "cell_type": "markdown",
      "source": [
        "## Set up text file to write results to"
      ],
      "metadata": {
        "id": "e5BGXqat2FMy"
      }
    },
    {
      "cell_type": "code",
      "source": [
        "# Specify the path for the folder and the file\n",
        "folder_path = f'/content/drive/My Drive/projectx_pain/manifold_results/{task}-{model_name}-{emb_type}'\n",
        "txt_file_path = os.path.join(folder_path, f'{task}-{model_name}-{emb_type}-quant.txt')\n",
        "\n",
        "# Check if the folder exists, create it if not\n",
        "if not os.path.exists(folder_path):\n",
        "    os.makedirs(folder_path)\n",
        "\n",
        "# # Write text to the file\n",
        "# text_to_write = \"This is the text that I want to write to the file.\"\n",
        "# with open(txt_file_path, 'w') as file:\n",
        "#     file.write(text_to_write)\n",
        "\n",
        "# print(f\"File written at {txt_file_path}\")"
      ],
      "metadata": {
        "id": "GJzTCnQT2dmb"
      },
      "execution_count": 63,
      "outputs": []
    },
    {
      "cell_type": "markdown",
      "source": [
        "## PCA"
      ],
      "metadata": {
        "id": "_M4gBqxR8tMp"
      }
    },
    {
      "cell_type": "code",
      "source": [
        "import numpy as np\n",
        "from sklearn.decomposition import PCA\n",
        "import matplotlib.pyplot as plt\n",
        "\n",
        "pca = PCA(emb_size).fit(X_train_cls)\n",
        "cumulative_variance_ratio = np.cumsum(pca.explained_variance_ratio_)\n",
        "\n",
        "plt.plot(cumulative_variance_ratio)\n",
        "plt.xlabel('Number of Components')\n",
        "plt.ylabel('Cumulative Explained Variance')\n",
        "plt.title('Cumulative Explained Variance by PCA Components')\n",
        "plt.show()\n",
        "\n",
        "# Find the number of components for a certain explained variance level, e.g., 95%\n",
        "n_components_95 = np.where(cumulative_variance_ratio >= 0.95)[0][0] + 1\n",
        "print(f\"Number of components to explain 95% variance: {n_components_95}\")\n"
      ],
      "metadata": {
        "id": "xurOJBvU8u6O",
        "colab": {
          "base_uri": "https://localhost:8080/",
          "height": 489
        },
        "outputId": "e156626d-c870-4dc3-8b90-7aaa57f02f5f"
      },
      "execution_count": 64,
      "outputs": [
        {
          "output_type": "display_data",
          "data": {
            "text/plain": [
              "<Figure size 640x480 with 1 Axes>"
            ],
            "image/png": "[encoded data removed]"
          },
          "metadata": {}
        },
        {
          "output_type": "stream",
          "name": "stdout",
          "text": [
            "Number of components to explain 95% variance: 179\n"
          ]
        }
      ]
    },
    {
      "cell_type": "markdown",
      "metadata": {
        "id": "L6qNI15IKgnk"
      },
      "source": [
        "## RandPCA"
      ]
    },
    {
      "cell_type": "code",
      "execution_count": 65,
      "metadata": {
        "id": "0W4mp99A1Co6"
      },
      "outputs": [],
      "source": [
        "import matplotlib.pyplot as plt\n",
        "from sklearn.decomposition import PCA as RandomizedPCA\n",
        "randPCA_model = RandomizedPCA(emb_size).fit(X_train_cls)"
      ]
    },
    {
      "cell_type": "code",
      "source": [
        "# Estimate intrinsic dimensionality based on different thresholds\n",
        "\n",
        "# Assuming model.explained_variance_ratio_ is the variance ratio array from PCA\n",
        "cumulative_variance = np.cumsum(randPCA_model.explained_variance_ratio_)\n",
        "\n",
        "# Thresholds\n",
        "thresholds = [0.6, 0.8, 0.9, 0.95, 0.975]\n",
        "\n",
        "# Finding the number of components for each threshold\n",
        "n_components_for_threshold = {}\n",
        "for threshold in thresholds:\n",
        "    n_components = np.where(cumulative_variance >= threshold)[0][0] + 1  # Adding 1 because of 0-indexing\n",
        "    n_components_for_threshold[threshold] = n_components\n",
        "\n",
        "print(n_components_for_threshold)\n",
        "\n",
        "# Write to file\n",
        "with open(txt_file_path, 'w') as file:\n",
        "    file.write('Randomized PCA intrinsic dimensionality estimates given threshold\\n')\n",
        "    file.write(str(n_components_for_threshold) + '\\n')\n",
        "print(f\"File written at {txt_file_path}\")"
      ],
      "metadata": {
        "id": "zks_P3aB1RLd",
        "colab": {
          "base_uri": "https://localhost:8080/"
        },
        "outputId": "e0cc245d-11f1-423f-eb0f-b1d6365f517d"
      },
      "execution_count": 66,
      "outputs": [
        {
          "output_type": "stream",
          "name": "stdout",
          "text": [
            "{0.6: 22, 0.8: 62, 0.9: 116, 0.95: 179, 0.975: 244}\n",
            "File written at /content/drive/My Drive/projectx_pain/manifold_results/cola-DistilRoBERTaBase-cls/cola-DistilRoBERTaBase-cls-quant.txt\n"
          ]
        }
      ]
    },
    {
      "cell_type": "code",
      "source": [
        "plt.plot(np.cumsum(randPCA_model.explained_variance_ratio_))\n",
        "# Adding a horizontal line at 0.9 threshold\n",
        "plt.axhline(y=0.9, color='r', linestyle='--')\n",
        "# Adding a vertical line at the point where the cumulative variance reaches 0.9\n",
        "plt.axvline(x=n_components_for_threshold[0.9], color='r', linestyle='--')\n",
        "# Annotating the intersection point\n",
        "plt.annotate(f'{n_components_for_threshold[0.9]} components', (n_components_for_threshold[0.9], 0.9), textcoords=\"offset points\", xytext=(-10,-10), ha='center')\n",
        "\n",
        "plt.xlabel('n components')\n",
        "plt.ylabel('cumulative variance');\n",
        "plt.title(f'Estimated variance over n-component RandPCA ({task}, {model_name}, {emb_type})')\n",
        "# plt.show()\n",
        "\n",
        "\n",
        "# Save plot\n",
        "\n",
        "# Specify the path for the folder and the plot file\n",
        "folder_path = f'/content/drive/My Drive/projectx_pain/manifold_results/{task}-{model_name}-{emb_type}'\n",
        "plot_file_path = os.path.join(folder_path, f'{task}-{model_name}-{emb_type}-RandPCA.png')\n",
        "\n",
        "# Check if the folder exists, create it if not\n",
        "if not os.path.exists(folder_path):\n",
        "    os.makedirs(folder_path)\n",
        "\n",
        "# Save the plot\n",
        "plt.savefig(plot_file_path)\n",
        "plt.show()\n",
        "\n",
        "print(f\"Plot saved at {plot_file_path}\")"
      ],
      "metadata": {
        "id": "ZEzlxIrB1pPT",
        "colab": {
          "base_uri": "https://localhost:8080/",
          "height": 489
        },
        "outputId": "317f5cee-ba1c-43e4-af55-d440b0bdd909"
      },
      "execution_count": 67,
      "outputs": [
        {
          "output_type": "display_data",
          "data": {
            "text/plain": [
              "<Figure size 640x480 with 1 Axes>"
            ],
            "image/png": "[encoded data removed]"
          },
          "metadata": {}
        },
        {
          "output_type": "stream",
          "name": "stdout",
          "text": [
            "Plot saved at /content/drive/My Drive/projectx_pain/manifold_results/cola-DistilRoBERTaBase-cls/cola-DistilRoBERTaBase-cls-RandPCA.png\n"
          ]
        }
      ]
    },
    {
      "cell_type": "code",
      "source": [
        "# random bullshit; ignore\n",
        "\n",
        "# from sklearn.decomposition import KernelPCA\n",
        "# kernelPCA_model = KernelPCA(n_components=768, kernel='rbf').fit(X_train_cls)\n",
        "# plt.plot(np.cumsum(kernelPCA_model.explained_variance_ratio_))\n",
        "# plt.xlabel('n components')\n",
        "# plt.ylabel('cumulative variance');\n",
        "# plt.title(f'Estimated variance over n-component KernelPCA ({task}, {model_name}, {emb_type})')"
      ],
      "metadata": {
        "id": "pgCBE9H4xIFE"
      },
      "execution_count": 68,
      "outputs": []
    },
    {
      "cell_type": "code",
      "execution_count": 69,
      "metadata": {
        "id": "v01Iqb_i-qeR"
      },
      "outputs": [],
      "source": [
        "# random bullshit; ignore\n",
        "\n",
        "# X_train_cls_np = X_train_cls.numpy()\n",
        "\n",
        "# length = len(X_train_cls_np)\n",
        "\n",
        "# interwoven_array = np.zeros((length, 1536))\n",
        "# for i in range(768):\n",
        "#     interwoven_array[:, 2*i] = X_train_cls_np[:, i]\n",
        "#     interwoven_array[:, 2*i + 1] = Y_train\n",
        "\n",
        "# X_train_cls = torch.from_numpy(interwoven_array)\n",
        "\n",
        "# print(X_train_cls.shape)"
      ]
    },
    {
      "cell_type": "code",
      "execution_count": 70,
      "metadata": {
        "id": "YqRd89zsDa3e"
      },
      "outputs": [],
      "source": [
        "# random bullshit, ignore\n",
        "\n",
        "# X_train_cls_np = np.zeros((6734, 768))\n",
        "# for i in range(768):\n",
        "#   X_train_cls_np[:, i]= interwoven_array[:, 2*i]\n",
        "\n",
        "# print(X_train_cls_np.shape)\n",
        "# print(X_train_cls_np[0])\n",
        "# print(X_train_cls_np[-1])"
      ]
    },
    {
      "cell_type": "markdown",
      "source": [
        "## [ignore] TwoNN"
      ],
      "metadata": {
        "id": "8n50fmJE9HcV"
      }
    },
    {
      "cell_type": "code",
      "source": [
        "# from sklearn.neighbors import NearestNeighbors\n",
        "# import numpy as np\n",
        "\n",
        "# def estimate_intrinsic_dimension(X, k=2):\n",
        "#     # Compute nearest neighbors\n",
        "#     nbrs = NearestNeighbors(n_neighbors=k).fit(X)\n",
        "#     distances, indices = nbrs.kneighbors(X)\n",
        "\n",
        "#     print(distances)\n",
        "#     print('\\n')\n",
        "#     print(indices)\n",
        "\n",
        "#     # Compute the ratio of distances\n",
        "#     distance_ratios = distances[:, 1] / distances[:, 0]\n",
        "\n",
        "#     # Use the TwoNN method to estimate intrinsic dimensionality\n",
        "#     intrinsic_dim = -2 / (np.mean(np.log(distance_ratios)))\n",
        "#     return intrinsic_dim\n",
        "\n",
        "# X = X_train_cls  # Replace with your embeddings\n",
        "# intrinsic_dimension = estimate_intrinsic_dimension(X)\n",
        "# print(f\"Estimated intrinsic dimensionality: {intrinsic_dimension}\")"
      ],
      "metadata": {
        "id": "9_65Rijb9JI_"
      },
      "execution_count": 71,
      "outputs": []
    },
    {
      "cell_type": "markdown",
      "source": [
        "## [ignore] Minka's MLE"
      ],
      "metadata": {
        "id": "ZOf3f8uBPNoH"
      }
    },
    {
      "cell_type": "code",
      "source": [
        "# from sklearn.neighbors import NearestNeighbors\n",
        "# import numpy as np\n",
        "# from sklearn.decomposition import KernelPCA\n",
        "\n",
        "# def mle_intrinsic_dimension(X, k=2):\n",
        "#     # Compute pairwise distances\n",
        "#     nbrs = NearestNeighbors(n_neighbors=k).fit(X)\n",
        "#     distances, _ = nbrs.kneighbors(X)\n",
        "\n",
        "#     # Compute the log of distances\n",
        "#     log_distances = np.log(distances[:, 1:])\n",
        "\n",
        "#     # Estimate the intrinsic dimensionality\n",
        "#     return -np.mean(log_distances) / np.log(k - 1)\n",
        "\n",
        "# X = X_train_cls  # Replace with your embeddings\n",
        "# intrinsic_dimension_mle = mle_intrinsic_dimension(X)\n",
        "# print(f\"Estimated intrinsic dimensionality (MLE): {intrinsic_dimension_mle}\")\n"
      ],
      "metadata": {
        "id": "7Fqp23BUPSXL"
      },
      "execution_count": 72,
      "outputs": []
    },
    {
      "cell_type": "markdown",
      "metadata": {
        "id": "TPWH38ikKlmz"
      },
      "source": [
        "## Isomap\n",
        "Isomap seeks a lower-dimensional embedding which maintains geodesic distances between all points"
      ]
    },
    {
      "cell_type": "code",
      "execution_count": null,
      "metadata": {
        "id": "XeFQiHFq2jxW"
      },
      "outputs": [],
      "source": [
        "from sklearn.manifold import Isomap\n",
        "isomap_model = Isomap(n_components=n_isomap_components)\n",
        "proj = isomap_model.fit_transform(X_train_cls)"
      ]
    },
    {
      "cell_type": "code",
      "execution_count": 74,
      "metadata": {
        "id": "HjEUm8WfBb_S",
        "colab": {
          "base_uri": "https://localhost:8080/",
          "height": 469
        },
        "outputId": "edb9e4ce-60e4-45f4-dc2c-cad5c27d6c80"
      },
      "outputs": [
        {
          "output_type": "display_data",
          "data": {
            "text/plain": [
              "<Figure size 640x480 with 1 Axes>"
            ],
            "image/png": "[encoded data removed]"
          },
          "metadata": {}
        },
        {
          "output_type": "stream",
          "name": "stdout",
          "text": [
            "Plot saved at /content/drive/My Drive/projectx_pain/manifold_results/cola-DistilRoBERTaBase-cls/cola-DistilRoBERTaBase-cls-isomap.png\n"
          ]
        }
      ],
      "source": [
        "import matplotlib.pyplot as plt\n",
        "from mpl_toolkits.mplot3d import Axes3D\n",
        "\n",
        "point_size = 2\n",
        "\n",
        "if n_isomap_components == 2:\n",
        "  plt.scatter(proj[:, 0], proj[:, 1], s=point_size, c=Y_train, cmap='viridis')\n",
        "  plt.title(f'2D isomap visualization of CLS embeddings ({task}, {model_name}, {emb_type})')\n",
        "elif n_isomap_components == 3:\n",
        "  fig = plt.figure(figsize=(12, 8))\n",
        "  ax = fig.add_subplot(111, projection='3d')\n",
        "  ax.scatter(proj[:, 0], proj[:, 1], proj[:, 2], s=point_size, c=Y_train, cmap='viridis')\n",
        "  ax.set_title(f'3D isomap visualization of CLS embeddings ({task}, {model_name}, {emb_type})')\n",
        "\n",
        "\n",
        "# Save plot\n",
        "\n",
        "# Specify the path for the folder and the plot file\n",
        "folder_path = f'/content/drive/My Drive/projectx_pain/manifold_results/{task}-{model_name}-{emb_type}'\n",
        "plot_file_path = os.path.join(folder_path, f'{task}-{model_name}-{emb_type}-isomap.png')\n",
        "\n",
        "# Check if the folder exists, create it if not\n",
        "if not os.path.exists(folder_path):\n",
        "    os.makedirs(folder_path)\n",
        "\n",
        "# Save the plot\n",
        "plt.savefig(plot_file_path)\n",
        "plt.show()\n",
        "\n",
        "print(f\"Plot saved at {plot_file_path}\")"
      ]
    },
    {
      "cell_type": "markdown",
      "metadata": {
        "id": "-swiFfsL2iWj"
      },
      "source": [
        "## t-SNE\n",
        "t-SNE converts affinities of data points to probabilities. The affinities in the original space are represented by Gaussian joint probabilities and the affinities in the embedded space are represented by Student’s t-distributions. t-SNE usually doesn't handle very high"
      ]
    },
    {
      "cell_type": "code",
      "execution_count": 75,
      "metadata": {
        "id": "W1sr9JK2pBrg"
      },
      "outputs": [],
      "source": [
        "from sklearn.decomposition import PCA\n",
        "from sklearn.manifold import TSNE\n",
        "\n",
        "# Apply PCA\n",
        "pca = PCA(n_components=50)\n",
        "reduced_embeddings = pca.fit_transform(X_train_cls) # if this errors out try adding a .numpy() to the end of X_train_cls\n",
        "\n",
        "# Apply t-SNE\n",
        "tsne = TSNE(n_components=n_tsne_components, random_state=0)\n",
        "tsne_embeddings = tsne.fit_transform(reduced_embeddings)\n",
        "tsne_embeddings_test = tsne.fit_transform(pca.fit_transform(X_test_cls)) # if this errors out try adding a .numpy() to the end of X_train_cls"
      ]
    },
    {
      "cell_type": "code",
      "execution_count": 76,
      "metadata": {
        "id": "30iyzFbZuw43",
        "colab": {
          "base_uri": "https://localhost:8080/",
          "height": 469
        },
        "outputId": "4b2f29bc-5b54-4ef6-9540-428e6daf8fbc"
      },
      "outputs": [
        {
          "output_type": "display_data",
          "data": {
            "text/plain": [
              "<Figure size 640x480 with 1 Axes>"
            ],
            "image/png": "[encoded data removed]"
          },
          "metadata": {}
        },
        {
          "output_type": "stream",
          "name": "stdout",
          "text": [
            "Plot saved at /content/drive/My Drive/projectx_pain/manifold_results/cola-DistilRoBERTaBase-cls/cola-DistilRoBERTaBase-cls-tSNE.png\n"
          ]
        }
      ],
      "source": [
        "import matplotlib.pyplot as plt\n",
        "from mpl_toolkits.mplot3d import Axes3D\n",
        "\n",
        "point_size = 2\n",
        "\n",
        "if n_tsne_components == 2:\n",
        "  plt.scatter(tsne_embeddings[:, 0], tsne_embeddings[:, 1], s=point_size, c=Y_train, cmap='viridis')\n",
        "  plt.title(f'2D t-SNE visualization of CLS embeddings ({task}, {model_name}, {emb_type})')\n",
        "elif n_tsne_components == 3:\n",
        "  fig = plt.figure(figsize=(12, 8))\n",
        "  ax = fig.add_subplot(111, projection='3d')\n",
        "  ax.scatter(tsne_embeddings[:, 0], tsne_embeddings[:, 1], tsne_embeddings[:, 2], s=point_size, c=Y_train, cmap='viridis')\n",
        "  ax.set_title(f'3D t-SNE visualization of CLS embeddings ({task}, {model_name}, {emb_type}')\n",
        "\n",
        "\n",
        "# Save plot\n",
        "\n",
        "# Specify the path for the folder and the plot file\n",
        "folder_path = f'/content/drive/My Drive/projectx_pain/manifold_results/{task}-{model_name}-{emb_type}'\n",
        "plot_file_path = os.path.join(folder_path, f'{task}-{model_name}-{emb_type}-tSNE.png')\n",
        "\n",
        "# Check if the folder exists, create it if not\n",
        "if not os.path.exists(folder_path):\n",
        "    os.makedirs(folder_path)\n",
        "\n",
        "# Save the plot\n",
        "plt.savefig(plot_file_path)\n",
        "plt.show()\n",
        "\n",
        "print(f\"Plot saved at {plot_file_path}\")"
      ]
    },
    {
      "cell_type": "markdown",
      "metadata": {
        "id": "gPe3NR7HTAyd"
      },
      "source": [
        "# Evaluation"
      ]
    },
    {
      "cell_type": "code",
      "source": [
        "# this is just to stop the execution here because the code below is basically useless\n",
        "\n",
        "assert False"
      ],
      "metadata": {
        "id": "iXp6ze4MnyKQ",
        "colab": {
          "base_uri": "https://localhost:8080/",
          "height": 211
        },
        "outputId": "71175195-5144-4b8c-91d6-7ba6573c4049"
      },
      "execution_count": 77,
      "outputs": [
        {
          "output_type": "error",
          "ename": "AssertionError",
          "evalue": "ignored",
          "traceback": [
            "\u001b[0;31m---------------------------------------------------------------------------\u001b[0m",
            "\u001b[0;31mAssertionError\u001b[0m                            Traceback (most recent call last)",
            "\u001b[0;32m<ipython-input-77-8300695bda7c>\u001b[0m in \u001b[0;36m<cell line: 3>\u001b[0;34m()\u001b[0m\n\u001b[1;32m      1\u001b[0m \u001b[0;31m# this is just to stop the execution here because the code below is basically useless\u001b[0m\u001b[0;34m\u001b[0m\u001b[0;34m\u001b[0m\u001b[0m\n\u001b[1;32m      2\u001b[0m \u001b[0;34m\u001b[0m\u001b[0m\n\u001b[0;32m----> 3\u001b[0;31m \u001b[0;32massert\u001b[0m \u001b[0;32mFalse\u001b[0m\u001b[0;34m\u001b[0m\u001b[0;34m\u001b[0m\u001b[0m\n\u001b[0m",
            "\u001b[0;31mAssertionError\u001b[0m: "
          ]
        }
      ]
    },
    {
      "cell_type": "code",
      "execution_count": null,
      "metadata": {
        "id": "hoJfRQvmTDaC"
      },
      "outputs": [],
      "source": [
        "from sklearn.metrics import silhouette_score\n",
        "from sklearn.mixture import GaussianMixture\n",
        "from sklearn.neural_network import MLPRegressor"
      ]
    },
    {
      "cell_type": "code",
      "execution_count": null,
      "metadata": {
        "id": "ME1vCN1wTKMj"
      },
      "outputs": [],
      "source": [
        "# Assuming you have the t-SNE embeddings and labels already loaded\n",
        "# tsne_embeddings: numpy array of shape (n_samples, L)\n",
        "# labels: numpy array of shape (n_samples,)\n",
        "\n",
        "# 1. Evaluate clusterness with Silhouette Score\n",
        "silhouette_avg = silhouette_score(tsne_embeddings, Y_train)\n",
        "print(f\"Silhouette Score: {silhouette_avg}\")"
      ]
    },
    {
      "cell_type": "code",
      "execution_count": null,
      "metadata": {
        "id": "bvtjRBEeTsMR"
      },
      "outputs": [],
      "source": [
        "# 2. Gaussian Mixture Model Clustering\n",
        "# Choose the number of components based on domain knowledge, BIC, or AIC\n",
        "n_components = 5  # for example\n",
        "gmm = GaussianMixture(n_components=n_components, random_state=42)\n",
        "gmm.fit(tsne_embeddings)\n",
        "gmm_labels = gmm.predict(tsne_embeddings)\n",
        "print(f\"AIC: {gmm.aic(tsne_embeddings)}\")\n",
        "print(f\"BIC: {gmm.bic(tsne_embeddings)}\")"
      ]
    },
    {
      "cell_type": "code",
      "execution_count": null,
      "metadata": {
        "id": "GO-B61fWTuJf"
      },
      "outputs": [],
      "source": [
        "# 3. Feed Forward Neural Network\n",
        "# For simplicity, we'll use a regressor with one hidden layer of size 100\n",
        "# You can adjust the architecture as needed\n",
        "ffnn = MLPRegressor(hidden_layer_sizes=(630, 536, 397, 213, 100, 40,), random_state=42, max_iter=500)\n",
        "ffnn.fit(X_train_cls, Y_train)\n",
        "\n",
        "# To evaluate the FFNN, you might want to use mean squared error or similar metrics\n",
        "# But ensure you have a train-test split or cross-validation for a proper evaluation"
      ]
    },
    {
      "cell_type": "code",
      "execution_count": null,
      "metadata": {
        "id": "Nm1dDT0ygt6j"
      },
      "outputs": [],
      "source": [
        "from sklearn.metrics import mean_squared_error\n",
        "\n",
        "# Predict on the test data\n",
        "Y_pred = ffnn.predict(X_test_cls)\n",
        "\n",
        "# Evaluate performance\n",
        "mse = mean_squared_error(Y_test, Y_pred)\n",
        "print(f\"Mean Squared Error: {mse}\")"
      ]
    },
    {
      "cell_type": "code",
      "source": [
        "print(Y_pred.shape)\n",
        "print(tsne_embeddings_test.shape)\n",
        "print(np.sum(Y_test == Y_pred))\n",
        "print(Y_train)\n",
        "print(Y_pred)"
      ],
      "metadata": {
        "id": "91cFK68h1qWp"
      },
      "execution_count": null,
      "outputs": []
    },
    {
      "cell_type": "code",
      "source": [
        "from sklearn.neighbors import NearestNeighbors\n",
        "\n",
        "# Assuming 'tsne_embeddings' is your t-SNE 2D embeddings\n",
        "# and 'true_labels' is the continuous labels from zero to five for the embeddings\n",
        "\n",
        "# Create a NearestNeighbors model to find k-nearest neighbors\n",
        "knn = NearestNeighbors(n_neighbors=10)  # Use an appropriate value for k\n",
        "knn.fit(tsne_embeddings)\n",
        "\n",
        "# Find the k-nearest neighbors for each point in the embeddings\n",
        "distances, indices = knn.kneighbors(tsne_embeddings)\n",
        "\n",
        "# Compute the local homogeneity score for each point\n",
        "homogeneity_scores = []\n",
        "for idx, point_indices in enumerate(indices):\n",
        "    # Calculate the average label of the neighbors\n",
        "    neighbor_labels = [Y_train[i] for i in point_indices[1:]]\n",
        "    local_avg_label = np.mean(neighbor_labels[1:])  # Exclude the point itself\n",
        "    # Compare the average to the point's true label\n",
        "    homogeneity_score = abs(Y_train[idx] - local_avg_label)\n",
        "    homogeneity_scores.append(homogeneity_score)\n",
        "\n",
        "# Convert to a NumPy array for convenience\n",
        "homogeneity_scores = np.array(homogeneity_scores)\n",
        "\n",
        "# Compute the overall average homogeneity score for the dataset\n",
        "average_homogeneity = np.mean(homogeneity_scores)\n",
        "print(f'Average local homogeneity score: {average_homogeneity}')\n",
        "\n",
        "# for distilroberta cls on stsb"
      ],
      "metadata": {
        "id": "TS_i3Jcct_p6"
      },
      "execution_count": null,
      "outputs": []
    },
    {
      "cell_type": "markdown",
      "metadata": {
        "id": "6LFc8ApQto6G"
      },
      "source": [
        "\n",
        "\n",
        "---\n",
        "\n"
      ]
    },
    {
      "cell_type": "code",
      "execution_count": null,
      "metadata": {
        "id": "BIlVhlhLsfCl"
      },
      "outputs": [],
      "source": [
        "param_grid = {\n",
        "    'num_epochs': [100],\n",
        "    'batch_size': [32, 128, 512],\n",
        "    'learning_rate': [1e-2, 1e-3, 1e-4, 1e-5],\n",
        "    'category': ['C'],\n",
        "    'norm': [False],\n",
        "    'size': [768],\n",
        "    'num_layers': [1, 3, 5, 10],\n",
        "    'weight_decay': [1e-2, 1e-3, 1e-4, 1e-5],\n",
        "    'patience': [3],\n",
        "    'min_delta': [0],\n",
        "    'device': [device]\n",
        "}\n",
        "\n",
        "# Create a list of all combinations of hyperparameters\n",
        "all_params = [dict(zip(param_grid.keys(), v))\n",
        "              for v in itertools.product(*param_grid.values())]\n",
        "\n",
        "best_params = None\n",
        "highest_val_accuracy = 0\n",
        "\n",
        "# Iterate over all combinations of hyperparameters\n",
        "for params in all_params:\n",
        "    print(\"Training with parameters:\", params)\n",
        "    # Initialize the model with current set of hyperparameters\n",
        "    feed_forward = FeedForward(**params)\n",
        "\n",
        "    _, _, val_accuracy = feed_forward.fit(X_train, Y_train, X_val, Y_val)\n",
        "    print(\"Validation accuracy:\", val_accuracy)\n",
        "\n",
        "    # Save the parameters if they provide a better accuracy\n",
        "    if val_accuracy > highest_val_accuracy:\n",
        "        highest_val_accuracy = val_accuracy\n",
        "        best_params = params\n",
        "\n",
        "# Print the best parameters\n",
        "print(\"Best Parameters:\", best_params)\n",
        "print(\"Highest Validation Accuracy:\", highest_val_accuracy)"
      ]
    },
    {
      "cell_type": "code",
      "execution_count": null,
      "metadata": {
        "id": "WOzQmgIRo9hO"
      },
      "outputs": [],
      "source": [
        "with torch.no_grad():\n",
        "    outputs = model(**inputs)\n",
        "    cls_embeddings = outputs.last_hidden_state[:, 0, :]"
      ]
    },
    {
      "cell_type": "markdown",
      "source": [
        "## Write results to file"
      ],
      "metadata": {
        "id": "w_R95jJnf_n5"
      }
    },
    {
      "cell_type": "code",
      "source": [
        "# Specify the path for the folder and the file\n",
        "folder_path = f'/content/drive/My Drive/projectx_pain/manifold_results/{task}-{model_name}-{emb_type}'\n",
        "file_path = os.path.join(folder_path, f'{task}-{model_name}-{emb_type}-quant.txt')\n",
        "\n",
        "# Check if the folder exists, create it if not\n",
        "if not os.path.exists(folder_path):\n",
        "    os.makedirs(folder_path)\n",
        "\n",
        "# Write text to the file\n",
        "text_to_write = \"This is the text that I want to write to the file.\"\n",
        "with open(file_path, 'w') as file:\n",
        "    file.write(text_to_write)\n",
        "\n",
        "print(f\"File written at {file_path}\")"
      ],
      "metadata": {
        "id": "m9YVI-kIgBXY"
      },
      "execution_count": null,
      "outputs": []
    },
    {
      "cell_type": "markdown",
      "source": [
        "#Ignore"
      ],
      "metadata": {
        "id": "txdm7K4qGnUw"
      }
    },
    {
      "cell_type": "code",
      "source": [
        "\n",
        "\n",
        "# # Specify the path to your embeddings file in Google Drive\n",
        "# # Update the path below according to where your file is stored in Google Drive\n",
        "# file_path = f'/content/drive/My Drive/projectx_pain/embeddings/cls/stsb/X_train_1_cls.npy'\n",
        "# X_train_1_cls = np.load(file_path)\n",
        "# file_path = f'/content/drive/My Drive/projectx_pain/embeddings/cls/stsb/X_train_2_cls.npy'\n",
        "# X_train_2_cls = np.load(file_path)\n",
        "# file_path = f'/content/drive/My Drive/projectx_pain/embeddings/cls/stsb/X_test_1_cls.npy'\n",
        "# X_test_1_cls = np.load(file_path)\n",
        "# file_path = f'/content/drive/My Drive/projectx_pain/embeddings/cls/stsb/X_test_2_cls.npy'\n",
        "# X_test_2_cls = np.load(file_path)\n",
        "# file_path = f'/content/drive/My Drive/projectx_pain/embeddings/cls/stsb/X_val_1_cls.npy'\n",
        "# X_val_1_cls = np.load(file_path)\n",
        "# file_path = f'/content/drive/My Drive/projectx_pain/embeddings/cls/stsb/X_val_2_cls.npy'\n",
        "# X_val_2_cls = np.load(file_path)\n",
        "\n",
        "# # Check the shape of the loaded embeddings\n",
        "# print(\"X_train_1_cls shape:\", X_train_1_cls.shape)\n",
        "\n",
        "# # If your embeddings are in a different format, e.g., a CSV file, use the appropriate method to load them\n",
        "# # For example, for a CSV file:\n",
        "# # embeddings = pd.read_csv(file_path)\n",
        "\n",
        "# # set to u-v embedding\n",
        "# X_train_DistilRoBERTaBase = np.hstack((X_train_1_cls, X_train_2_cls))\n",
        "# X_test_DistilRoBERTaBase = np.hstack((X_test_1_cls, X_test_2_cls))\n",
        "# X_val_DistilRoBERTaBase = np.hstack((X_val_1_cls, X_val_2_cls))\n",
        "\n",
        "# # Check the shape of the loaded embeddings\n",
        "# print(\"X_train_cls shape:\", X_train_DistilRoBERTaBase.shape)\n",
        "# print(\"X_test_cls shape:\", X_test_DistilRoBERTaBase.shape)\n",
        "# print(\"X_val_cls shape:\", X_val_DistilRoBERTaBase.shape)\n",
        "\n",
        "\n",
        "# # # Save to the mounted Google Drive\n",
        "# # path = \"/content/drive/MyDrive/projectx_pain/cls/stsb\"\n",
        "# # np.save(path + \"X_train_DistilRoBERTaBase\", X_train_DistilRoBERTaBase)\n",
        "# # np.save(path + \"X_test_DistilRoBERTaBase\", X_test_DistilRoBERTaBaseval_1_cls)\n",
        "# # np.save(path + \"X_val_DistilRoBERTaBase\", X_val_DistilRoBERTaBase)\n",
        "\n",
        "# path = \"/content/drive/MyDrive/projectx_pain/embeddings/cls/stsb/\"\n",
        "# os.makedirs(path, exist_ok=True)  # This creates the directory if it doesn't exist\n",
        "\n",
        "# np.save(path + \"X_train_DistilRoBERTaBase\", X_train_DistilRoBERTaBase)\n",
        "# np.save(path + \"X_test_DistilRoBERTaBase\", X_test_DistilRoBERTaBase)\n",
        "# np.save(path + \"X_val_DistilRoBERTaBase\", X_val_DistilRoBERTaBase)"
      ],
      "metadata": {
        "id": "UzkL44jrGmAw"
      },
      "execution_count": null,
      "outputs": []
    },
    {
      "cell_type": "code",
      "execution_count": null,
      "metadata": {
        "id": "hhC_kQe6drLz"
      },
      "outputs": [],
      "source": [
        "# if not cached:\n",
        "#   # Save embeddings\n",
        "\n",
        "#   np.save(f'dr_{task}_X_train_1_cls.npy', X_train_1_cls)  # Saves the file in the current directory\n",
        "#   np.save(f'dr_{task}_X_val_1_cls.npy', X_val_1_cls)\n",
        "#   np.save(f'dr_{task}_X_test_1_cls.npy', X_test_1_cls)\n",
        "#   np.save(f'dr_{task}_X_train_2_cls.npy', X_train_2_cls)\n",
        "#   np.save(f'dr_{task}_X_val_2_cls.npy', X_val_2_cls)\n",
        "#   np.save(f'dr_{task}_X_test_2_cls.npy', X_test_2_cls)"
      ]
    },
    {
      "cell_type": "markdown",
      "metadata": {
        "id": "b5MeA6oLAmo8"
      },
      "source": [
        "## [ignore] get u*v embedding; skip if not generating cached embeddings"
      ]
    },
    {
      "cell_type": "code",
      "execution_count": null,
      "metadata": {
        "id": "zi29421lLjP6"
      },
      "outputs": [],
      "source": [
        "# ### 2s\n",
        "\n",
        "# # u*v\n",
        "# X_train_cls = X_train_1_cls * X_train_2_cls"
      ]
    },
    {
      "cell_type": "code",
      "execution_count": null,
      "metadata": {
        "id": "lNZA998txE2l"
      },
      "outputs": [],
      "source": [
        "# this is just from when i saved the two sentence embeddings for two-sentence tasks in separate files; ignore\n",
        "\n",
        "# if cached:\n",
        "#   # Specify the path to your embeddings file in Google Drive\n",
        "#   # Update the path below according to where your file is stored in Google Drive\n",
        "#   file_path = f'/content/drive/My Drive/projectx_pain/embeddings/{emb_type}/{task}/X_train_1_cls.npy'\n",
        "\n",
        "#   # Load the embeddings\n",
        "#   # This example assumes the embeddings are saved in a NumPy .npy file\n",
        "#   X_train_1_cls = np.load(file_path)\n",
        "\n",
        "#   file_path = f'/content/drive/My Drive/projectx_pain/{task}_embeddings/X_train_2_cls.npy'\n",
        "#   X_train_2_cls = np.load(file_path)\n",
        "\n",
        "#   file_path = f'/content/drive/My Drive/projectx_pain/{task}_embeddings/X_test_1_cls.npy'\n",
        "#   X_test_1_cls = np.load(file_path)\n",
        "\n",
        "#   file_path = f'/content/drive/My Drive/projectx_pain/{task}_embeddings/X_test_2_cls.npy'\n",
        "#   X_test_2_cls = np.load(file_path)\n",
        "\n",
        "#   # If your embeddings are in a different format, e.g., a CSV file, use the appropriate method to load them\n",
        "#   # For example, for a CSV file:\n",
        "#   # embeddings = pd.read_csv(file_path)\n",
        "\n",
        "#   # Check the shape of the loaded embeddings\n",
        "#   print(\"X_train_1 shape:\", X_train_1_cls.shape)"
      ]
    }
  ],
  "metadata": {
    "colab": {
      "provenance": [],
      "collapsed_sections": [
        "7OZqtiQmAIqH",
        "xa26DO5QAOzy",
        "gxgGlRsjAeFR",
        "b5MeA6oLAmo8"
      ]
    },
    "kernelspec": {
      "display_name": "Python 3",
      "name": "python3"
    },
    "language_info": {
      "name": "python"
    },
    "widgets": {
      "application/vnd.jupyter.widget-state+json": {
        "af6170ad26bd4091a318fb27e8e29a70": {
          "model_module": "@jupyter-widgets/controls",
          "model_name": "HBoxModel",
          "model_module_version": "1.5.0",
          "state": {
            "_dom_classes": [],
            "_model_module": "@jupyter-widgets/controls",
            "_model_module_version": "1.5.0",
            "_model_name": "HBoxModel",
            "_view_count": null,
            "_view_module": "@jupyter-widgets/controls",
            "_view_module_version": "1.5.0",
            "_view_name": "HBoxView",
            "box_style": "",
            "children": [
              "IPY_MODEL_4a0d7b9cd93e40c690a05bc8b6c153cf",
              "IPY_MODEL_fe2ee1e7980a469cbbf62bb579cfeb54",
              "IPY_MODEL_602a91ef2d36470a94431facf17cf96f"
            ],
            "layout": "IPY_MODEL_6e27ad16e2de41dfbe2cc627a18e1cc9"
          }
        },
        "4a0d7b9cd93e40c690a05bc8b6c153cf": {
          "model_module": "@jupyter-widgets/controls",
          "model_name": "HTMLModel",
          "model_module_version": "1.5.0",
          "state": {
            "_dom_classes": [],
            "_model_module": "@jupyter-widgets/controls",
            "_model_module_version": "1.5.0",
            "_model_name": "HTMLModel",
            "_view_count": null,
            "_view_module": "@jupyter-widgets/controls",
            "_view_module_version": "1.5.0",
            "_view_name": "HTMLView",
            "description": "",
            "description_tooltip": null,
            "layout": "IPY_MODEL_8ebe1b667d7b45aa990855cb8f8fb5e0",
            "placeholder": "​",
            "style": "IPY_MODEL_0b853504d7cf435b934e7a50cbebde9a",
            "value": "Downloading data: 100%"
          }
        },
        "fe2ee1e7980a469cbbf62bb579cfeb54": {
          "model_module": "@jupyter-widgets/controls",
          "model_name": "FloatProgressModel",
          "model_module_version": "1.5.0",
          "state": {
            "_dom_classes": [],
            "_model_module": "@jupyter-widgets/controls",
            "_model_module_version": "1.5.0",
            "_model_name": "FloatProgressModel",
            "_view_count": null,
            "_view_module": "@jupyter-widgets/controls",
            "_view_module_version": "1.5.0",
            "_view_name": "ProgressView",
            "bar_style": "success",
            "description": "",
            "description_tooltip": null,
            "layout": "IPY_MODEL_d969dd56b3c34ad4bc9e565bcf279813",
            "max": 251124,
            "min": 0,
            "orientation": "horizontal",
            "style": "IPY_MODEL_95f356f3a9b74e4289e0a22cde7efff2",
            "value": 251124
          }
        },
        "602a91ef2d36470a94431facf17cf96f": {
          "model_module": "@jupyter-widgets/controls",
          "model_name": "HTMLModel",
          "model_module_version": "1.5.0",
          "state": {
            "_dom_classes": [],
            "_model_module": "@jupyter-widgets/controls",
            "_model_module_version": "1.5.0",
            "_model_name": "HTMLModel",
            "_view_count": null,
            "_view_module": "@jupyter-widgets/controls",
            "_view_module_version": "1.5.0",
            "_view_name": "HTMLView",
            "description": "",
            "description_tooltip": null,
            "layout": "IPY_MODEL_b86fe362356b4aee99a6470509ada626",
            "placeholder": "​",
            "style": "IPY_MODEL_fd24fb1cd4c6446181e520b9d2072225",
            "value": " 251k/251k [00:00&lt;00:00, 472kB/s]"
          }
        },
        "6e27ad16e2de41dfbe2cc627a18e1cc9": {
          "model_module": "@jupyter-widgets/base",
          "model_name": "LayoutModel",
          "model_module_version": "1.2.0",
          "state": {
            "_model_module": "@jupyter-widgets/base",
            "_model_module_version": "1.2.0",
            "_model_name": "LayoutModel",
            "_view_count": null,
            "_view_module": "@jupyter-widgets/base",
            "_view_module_version": "1.2.0",
            "_view_name": "LayoutView",
            "align_content": null,
            "align_items": null,
            "align_self": null,
            "border": null,
            "bottom": null,
            "display": null,
            "flex": null,
            "flex_flow": null,
            "grid_area": null,
            "grid_auto_columns": null,
            "grid_auto_flow": null,
            "grid_auto_rows": null,
            "grid_column": null,
            "grid_gap": null,
            "grid_row": null,
            "grid_template_areas": null,
            "grid_template_columns": null,
            "grid_template_rows": null,
            "height": null,
            "justify_content": null,
            "justify_items": null,
            "left": null,
            "margin": null,
            "max_height": null,
            "max_width": null,
            "min_height": null,
            "min_width": null,
            "object_fit": null,
            "object_position": null,
            "order": null,
            "overflow": null,
            "overflow_x": null,
            "overflow_y": null,
            "padding": null,
            "right": null,
            "top": null,
            "visibility": null,
            "width": null
          }
        },
        "8ebe1b667d7b45aa990855cb8f8fb5e0": {
          "model_module": "@jupyter-widgets/base",
          "model_name": "LayoutModel",
          "model_module_version": "1.2.0",
          "state": {
            "_model_module": "@jupyter-widgets/base",
            "_model_module_version": "1.2.0",
            "_model_name": "LayoutModel",
            "_view_count": null,
            "_view_module": "@jupyter-widgets/base",
            "_view_module_version": "1.2.0",
            "_view_name": "LayoutView",
            "align_content": null,
            "align_items": null,
            "align_self": null,
            "border": null,
            "bottom": null,
            "display": null,
            "flex": null,
            "flex_flow": null,
            "grid_area": null,
            "grid_auto_columns": null,
            "grid_auto_flow": null,
            "grid_auto_rows": null,
            "grid_column": null,
            "grid_gap": null,
            "grid_row": null,
            "grid_template_areas": null,
            "grid_template_columns": null,
            "grid_template_rows": null,
            "height": null,
            "justify_content": null,
            "justify_items": null,
            "left": null,
            "margin": null,
            "max_height": null,
            "max_width": null,
            "min_height": null,
            "min_width": null,
            "object_fit": null,
            "object_position": null,
            "order": null,
            "overflow": null,
            "overflow_x": null,
            "overflow_y": null,
            "padding": null,
            "right": null,
            "top": null,
            "visibility": null,
            "width": null
          }
        },
        "0b853504d7cf435b934e7a50cbebde9a": {
          "model_module": "@jupyter-widgets/controls",
          "model_name": "DescriptionStyleModel",
          "model_module_version": "1.5.0",
          "state": {
            "_model_module": "@jupyter-widgets/controls",
            "_model_module_version": "1.5.0",
            "_model_name": "DescriptionStyleModel",
            "_view_count": null,
            "_view_module": "@jupyter-widgets/base",
            "_view_module_version": "1.2.0",
            "_view_name": "StyleView",
            "description_width": ""
          }
        },
        "d969dd56b3c34ad4bc9e565bcf279813": {
          "model_module": "@jupyter-widgets/base",
          "model_name": "LayoutModel",
          "model_module_version": "1.2.0",
          "state": {
            "_model_module": "@jupyter-widgets/base",
            "_model_module_version": "1.2.0",
            "_model_name": "LayoutModel",
            "_view_count": null,
            "_view_module": "@jupyter-widgets/base",
            "_view_module_version": "1.2.0",
            "_view_name": "LayoutView",
            "align_content": null,
            "align_items": null,
            "align_self": null,
            "border": null,
            "bottom": null,
            "display": null,
            "flex": null,
            "flex_flow": null,
            "grid_area": null,
            "grid_auto_columns": null,
            "grid_auto_flow": null,
            "grid_auto_rows": null,
            "grid_column": null,
            "grid_gap": null,
            "grid_row": null,
            "grid_template_areas": null,
            "grid_template_columns": null,
            "grid_template_rows": null,
            "height": null,
            "justify_content": null,
            "justify_items": null,
            "left": null,
            "margin": null,
            "max_height": null,
            "max_width": null,
            "min_height": null,
            "min_width": null,
            "object_fit": null,
            "object_position": null,
            "order": null,
            "overflow": null,
            "overflow_x": null,
            "overflow_y": null,
            "padding": null,
            "right": null,
            "top": null,
            "visibility": null,
            "width": null
          }
        },
        "95f356f3a9b74e4289e0a22cde7efff2": {
          "model_module": "@jupyter-widgets/controls",
          "model_name": "ProgressStyleModel",
          "model_module_version": "1.5.0",
          "state": {
            "_model_module": "@jupyter-widgets/controls",
            "_model_module_version": "1.5.0",
            "_model_name": "ProgressStyleModel",
            "_view_count": null,
            "_view_module": "@jupyter-widgets/base",
            "_view_module_version": "1.2.0",
            "_view_name": "StyleView",
            "bar_color": null,
            "description_width": ""
          }
        },
        "b86fe362356b4aee99a6470509ada626": {
          "model_module": "@jupyter-widgets/base",
          "model_name": "LayoutModel",
          "model_module_version": "1.2.0",
          "state": {
            "_model_module": "@jupyter-widgets/base",
            "_model_module_version": "1.2.0",
            "_model_name": "LayoutModel",
            "_view_count": null,
            "_view_module": "@jupyter-widgets/base",
            "_view_module_version": "1.2.0",
            "_view_name": "LayoutView",
            "align_content": null,
            "align_items": null,
            "align_self": null,
            "border": null,
            "bottom": null,
            "display": null,
            "flex": null,
            "flex_flow": null,
            "grid_area": null,
            "grid_auto_columns": null,
            "grid_auto_flow": null,
            "grid_auto_rows": null,
            "grid_column": null,
            "grid_gap": null,
            "grid_row": null,
            "grid_template_areas": null,
            "grid_template_columns": null,
            "grid_template_rows": null,
            "height": null,
            "justify_content": null,
            "justify_items": null,
            "left": null,
            "margin": null,
            "max_height": null,
            "max_width": null,
            "min_height": null,
            "min_width": null,
            "object_fit": null,
            "object_position": null,
            "order": null,
            "overflow": null,
            "overflow_x": null,
            "overflow_y": null,
            "padding": null,
            "right": null,
            "top": null,
            "visibility": null,
            "width": null
          }
        },
        "fd24fb1cd4c6446181e520b9d2072225": {
          "model_module": "@jupyter-widgets/controls",
          "model_name": "DescriptionStyleModel",
          "model_module_version": "1.5.0",
          "state": {
            "_model_module": "@jupyter-widgets/controls",
            "_model_module_version": "1.5.0",
            "_model_name": "DescriptionStyleModel",
            "_view_count": null,
            "_view_module": "@jupyter-widgets/base",
            "_view_module_version": "1.2.0",
            "_view_name": "StyleView",
            "description_width": ""
          }
        },
        "0a71d4aee564482b81c2eab4338f3cfb": {
          "model_module": "@jupyter-widgets/controls",
          "model_name": "HBoxModel",
          "model_module_version": "1.5.0",
          "state": {
            "_dom_classes": [],
            "_model_module": "@jupyter-widgets/controls",
            "_model_module_version": "1.5.0",
            "_model_name": "HBoxModel",
            "_view_count": null,
            "_view_module": "@jupyter-widgets/controls",
            "_view_module_version": "1.5.0",
            "_view_name": "HBoxView",
            "box_style": "",
            "children": [
              "IPY_MODEL_f81c52390eb647b08e19d08b452b3d09",
              "IPY_MODEL_b990cd230d2947d8b6d521d8a460cd35",
              "IPY_MODEL_e32b7a84c3ab486095c3e1c164106f6d"
            ],
            "layout": "IPY_MODEL_05b0eaf1e9d44e329d76b406dcb0f706"
          }
        },
        "f81c52390eb647b08e19d08b452b3d09": {
          "model_module": "@jupyter-widgets/controls",
          "model_name": "HTMLModel",
          "model_module_version": "1.5.0",
          "state": {
            "_dom_classes": [],
            "_model_module": "@jupyter-widgets/controls",
            "_model_module_version": "1.5.0",
            "_model_name": "HTMLModel",
            "_view_count": null,
            "_view_module": "@jupyter-widgets/controls",
            "_view_module_version": "1.5.0",
            "_view_name": "HTMLView",
            "description": "",
            "description_tooltip": null,
            "layout": "IPY_MODEL_1cd82f3c461341a394a1d72ce1fc0777",
            "placeholder": "​",
            "style": "IPY_MODEL_d0738a8e3436454e8a12268fafb70b9f",
            "value": "Downloading data: 100%"
          }
        },
        "b990cd230d2947d8b6d521d8a460cd35": {
          "model_module": "@jupyter-widgets/controls",
          "model_name": "FloatProgressModel",
          "model_module_version": "1.5.0",
          "state": {
            "_dom_classes": [],
            "_model_module": "@jupyter-widgets/controls",
            "_model_module_version": "1.5.0",
            "_model_name": "FloatProgressModel",
            "_view_count": null,
            "_view_module": "@jupyter-widgets/controls",
            "_view_module_version": "1.5.0",
            "_view_name": "ProgressView",
            "bar_style": "success",
            "description": "",
            "description_tooltip": null,
            "layout": "IPY_MODEL_2ce0bc34c0f34cfab63b61b0508aea13",
            "max": 37551,
            "min": 0,
            "orientation": "horizontal",
            "style": "IPY_MODEL_f8532384e6124dac957e48c73ccac069",
            "value": 37551
          }
        },
        "e32b7a84c3ab486095c3e1c164106f6d": {
          "model_module": "@jupyter-widgets/controls",
          "model_name": "HTMLModel",
          "model_module_version": "1.5.0",
          "state": {
            "_dom_classes": [],
            "_model_module": "@jupyter-widgets/controls",
            "_model_module_version": "1.5.0",
            "_model_name": "HTMLModel",
            "_view_count": null,
            "_view_module": "@jupyter-widgets/controls",
            "_view_module_version": "1.5.0",
            "_view_name": "HTMLView",
            "description": "",
            "description_tooltip": null,
            "layout": "IPY_MODEL_9cab1c8d297f4c75871bcea32b6c8983",
            "placeholder": "​",
            "style": "IPY_MODEL_a297c229d0cf49108481d6454db823d8",
            "value": " 37.6k/37.6k [00:00&lt;00:00, 75.2kB/s]"
          }
        },
        "05b0eaf1e9d44e329d76b406dcb0f706": {
          "model_module": "@jupyter-widgets/base",
          "model_name": "LayoutModel",
          "model_module_version": "1.2.0",
          "state": {
            "_model_module": "@jupyter-widgets/base",
            "_model_module_version": "1.2.0",
            "_model_name": "LayoutModel",
            "_view_count": null,
            "_view_module": "@jupyter-widgets/base",
            "_view_module_version": "1.2.0",
            "_view_name": "LayoutView",
            "align_content": null,
            "align_items": null,
            "align_self": null,
            "border": null,
            "bottom": null,
            "display": null,
            "flex": null,
            "flex_flow": null,
            "grid_area": null,
            "grid_auto_columns": null,
            "grid_auto_flow": null,
            "grid_auto_rows": null,
            "grid_column": null,
            "grid_gap": null,
            "grid_row": null,
            "grid_template_areas": null,
            "grid_template_columns": null,
            "grid_template_rows": null,
            "height": null,
            "justify_content": null,
            "justify_items": null,
            "left": null,
            "margin": null,
            "max_height": null,
            "max_width": null,
            "min_height": null,
            "min_width": null,
            "object_fit": null,
            "object_position": null,
            "order": null,
            "overflow": null,
            "overflow_x": null,
            "overflow_y": null,
            "padding": null,
            "right": null,
            "top": null,
            "visibility": null,
            "width": null
          }
        },
        "1cd82f3c461341a394a1d72ce1fc0777": {
          "model_module": "@jupyter-widgets/base",
          "model_name": "LayoutModel",
          "model_module_version": "1.2.0",
          "state": {
            "_model_module": "@jupyter-widgets/base",
            "_model_module_version": "1.2.0",
            "_model_name": "LayoutModel",
            "_view_count": null,
            "_view_module": "@jupyter-widgets/base",
            "_view_module_version": "1.2.0",
            "_view_name": "LayoutView",
            "align_content": null,
            "align_items": null,
            "align_self": null,
            "border": null,
            "bottom": null,
            "display": null,
            "flex": null,
            "flex_flow": null,
            "grid_area": null,
            "grid_auto_columns": null,
            "grid_auto_flow": null,
            "grid_auto_rows": null,
            "grid_column": null,
            "grid_gap": null,
            "grid_row": null,
            "grid_template_areas": null,
            "grid_template_columns": null,
            "grid_template_rows": null,
            "height": null,
            "justify_content": null,
            "justify_items": null,
            "left": null,
            "margin": null,
            "max_height": null,
            "max_width": null,
            "min_height": null,
            "min_width": null,
            "object_fit": null,
            "object_position": null,
            "order": null,
            "overflow": null,
            "overflow_x": null,
            "overflow_y": null,
            "padding": null,
            "right": null,
            "top": null,
            "visibility": null,
            "width": null
          }
        },
        "d0738a8e3436454e8a12268fafb70b9f": {
          "model_module": "@jupyter-widgets/controls",
          "model_name": "DescriptionStyleModel",
          "model_module_version": "1.5.0",
          "state": {
            "_model_module": "@jupyter-widgets/controls",
            "_model_module_version": "1.5.0",
            "_model_name": "DescriptionStyleModel",
            "_view_count": null,
            "_view_module": "@jupyter-widgets/base",
            "_view_module_version": "1.2.0",
            "_view_name": "StyleView",
            "description_width": ""
          }
        },
        "2ce0bc34c0f34cfab63b61b0508aea13": {
          "model_module": "@jupyter-widgets/base",
          "model_name": "LayoutModel",
          "model_module_version": "1.2.0",
          "state": {
            "_model_module": "@jupyter-widgets/base",
            "_model_module_version": "1.2.0",
            "_model_name": "LayoutModel",
            "_view_count": null,
            "_view_module": "@jupyter-widgets/base",
            "_view_module_version": "1.2.0",
            "_view_name": "LayoutView",
            "align_content": null,
            "align_items": null,
            "align_self": null,
            "border": null,
            "bottom": null,
            "display": null,
            "flex": null,
            "flex_flow": null,
            "grid_area": null,
            "grid_auto_columns": null,
            "grid_auto_flow": null,
            "grid_auto_rows": null,
            "grid_column": null,
            "grid_gap": null,
            "grid_row": null,
            "grid_template_areas": null,
            "grid_template_columns": null,
            "grid_template_rows": null,
            "height": null,
            "justify_content": null,
            "justify_items": null,
            "left": null,
            "margin": null,
            "max_height": null,
            "max_width": null,
            "min_height": null,
            "min_width": null,
            "object_fit": null,
            "object_position": null,
            "order": null,
            "overflow": null,
            "overflow_x": null,
            "overflow_y": null,
            "padding": null,
            "right": null,
            "top": null,
            "visibility": null,
            "width": null
          }
        },
        "f8532384e6124dac957e48c73ccac069": {
          "model_module": "@jupyter-widgets/controls",
          "model_name": "ProgressStyleModel",
          "model_module_version": "1.5.0",
          "state": {
            "_model_module": "@jupyter-widgets/controls",
            "_model_module_version": "1.5.0",
            "_model_name": "ProgressStyleModel",
            "_view_count": null,
            "_view_module": "@jupyter-widgets/base",
            "_view_module_version": "1.2.0",
            "_view_name": "StyleView",
            "bar_color": null,
            "description_width": ""
          }
        },
        "9cab1c8d297f4c75871bcea32b6c8983": {
          "model_module": "@jupyter-widgets/base",
          "model_name": "LayoutModel",
          "model_module_version": "1.2.0",
          "state": {
            "_model_module": "@jupyter-widgets/base",
            "_model_module_version": "1.2.0",
            "_model_name": "LayoutModel",
            "_view_count": null,
            "_view_module": "@jupyter-widgets/base",
            "_view_module_version": "1.2.0",
            "_view_name": "LayoutView",
            "align_content": null,
            "align_items": null,
            "align_self": null,
            "border": null,
            "bottom": null,
            "display": null,
            "flex": null,
            "flex_flow": null,
            "grid_area": null,
            "grid_auto_columns": null,
            "grid_auto_flow": null,
            "grid_auto_rows": null,
            "grid_column": null,
            "grid_gap": null,
            "grid_row": null,
            "grid_template_areas": null,
            "grid_template_columns": null,
            "grid_template_rows": null,
            "height": null,
            "justify_content": null,
            "justify_items": null,
            "left": null,
            "margin": null,
            "max_height": null,
            "max_width": null,
            "min_height": null,
            "min_width": null,
            "object_fit": null,
            "object_position": null,
            "order": null,
            "overflow": null,
            "overflow_x": null,
            "overflow_y": null,
            "padding": null,
            "right": null,
            "top": null,
            "visibility": null,
            "width": null
          }
        },
        "a297c229d0cf49108481d6454db823d8": {
          "model_module": "@jupyter-widgets/controls",
          "model_name": "DescriptionStyleModel",
          "model_module_version": "1.5.0",
          "state": {
            "_model_module": "@jupyter-widgets/controls",
            "_model_module_version": "1.5.0",
            "_model_name": "DescriptionStyleModel",
            "_view_count": null,
            "_view_module": "@jupyter-widgets/base",
            "_view_module_version": "1.2.0",
            "_view_name": "StyleView",
            "description_width": ""
          }
        },
        "06b182fef14648f3bfc83ecea98afeb0": {
          "model_module": "@jupyter-widgets/controls",
          "model_name": "HBoxModel",
          "model_module_version": "1.5.0",
          "state": {
            "_dom_classes": [],
            "_model_module": "@jupyter-widgets/controls",
            "_model_module_version": "1.5.0",
            "_model_name": "HBoxModel",
            "_view_count": null,
            "_view_module": "@jupyter-widgets/controls",
            "_view_module_version": "1.5.0",
            "_view_name": "HBoxView",
            "box_style": "",
            "children": [
              "IPY_MODEL_1fc3e5b989b24d6ca1cd68e253847f96",
              "IPY_MODEL_44bc10ab5c2a471b8e74caeb8c3b0c6f",
              "IPY_MODEL_dbc56924610d4b6cb21892d7a12815ba"
            ],
            "layout": "IPY_MODEL_95c08918b8754c43b76df7f0c93bd254"
          }
        },
        "1fc3e5b989b24d6ca1cd68e253847f96": {
          "model_module": "@jupyter-widgets/controls",
          "model_name": "HTMLModel",
          "model_module_version": "1.5.0",
          "state": {
            "_dom_classes": [],
            "_model_module": "@jupyter-widgets/controls",
            "_model_module_version": "1.5.0",
            "_model_name": "HTMLModel",
            "_view_count": null,
            "_view_module": "@jupyter-widgets/controls",
            "_view_module_version": "1.5.0",
            "_view_name": "HTMLView",
            "description": "",
            "description_tooltip": null,
            "layout": "IPY_MODEL_847a60dc7d3348798ccdc643f28777d3",
            "placeholder": "​",
            "style": "IPY_MODEL_91d8b82ff7274ce89e7d1bfe23ebbdb9",
            "value": "Downloading data: 100%"
          }
        },
        "44bc10ab5c2a471b8e74caeb8c3b0c6f": {
          "model_module": "@jupyter-widgets/controls",
          "model_name": "FloatProgressModel",
          "model_module_version": "1.5.0",
          "state": {
            "_dom_classes": [],
            "_model_module": "@jupyter-widgets/controls",
            "_model_module_version": "1.5.0",
            "_model_name": "FloatProgressModel",
            "_view_count": null,
            "_view_module": "@jupyter-widgets/controls",
            "_view_module_version": "1.5.0",
            "_view_name": "ProgressView",
            "bar_style": "success",
            "description": "",
            "description_tooltip": null,
            "layout": "IPY_MODEL_b974b0bdd23240cdb974607d8caabad1",
            "max": 37719,
            "min": 0,
            "orientation": "horizontal",
            "style": "IPY_MODEL_1bb1f10a160e4148963c43499359adae",
            "value": 37719
          }
        },
        "dbc56924610d4b6cb21892d7a12815ba": {
          "model_module": "@jupyter-widgets/controls",
          "model_name": "HTMLModel",
          "model_module_version": "1.5.0",
          "state": {
            "_dom_classes": [],
            "_model_module": "@jupyter-widgets/controls",
            "_model_module_version": "1.5.0",
            "_model_name": "HTMLModel",
            "_view_count": null,
            "_view_module": "@jupyter-widgets/controls",
            "_view_module_version": "1.5.0",
            "_view_name": "HTMLView",
            "description": "",
            "description_tooltip": null,
            "layout": "IPY_MODEL_c08ed78de3eb4cd7b9c93a71d7db93a4",
            "placeholder": "​",
            "style": "IPY_MODEL_7a8cf088026847e6958066549e778d9e",
            "value": " 37.7k/37.7k [00:00&lt;00:00, 66.1kB/s]"
          }
        },
        "95c08918b8754c43b76df7f0c93bd254": {
          "model_module": "@jupyter-widgets/base",
          "model_name": "LayoutModel",
          "model_module_version": "1.2.0",
          "state": {
            "_model_module": "@jupyter-widgets/base",
            "_model_module_version": "1.2.0",
            "_model_name": "LayoutModel",
            "_view_count": null,
            "_view_module": "@jupyter-widgets/base",
            "_view_module_version": "1.2.0",
            "_view_name": "LayoutView",
            "align_content": null,
            "align_items": null,
            "align_self": null,
            "border": null,
            "bottom": null,
            "display": null,
            "flex": null,
            "flex_flow": null,
            "grid_area": null,
            "grid_auto_columns": null,
            "grid_auto_flow": null,
            "grid_auto_rows": null,
            "grid_column": null,
            "grid_gap": null,
            "grid_row": null,
            "grid_template_areas": null,
            "grid_template_columns": null,
            "grid_template_rows": null,
            "height": null,
            "justify_content": null,
            "justify_items": null,
            "left": null,
            "margin": null,
            "max_height": null,
            "max_width": null,
            "min_height": null,
            "min_width": null,
            "object_fit": null,
            "object_position": null,
            "order": null,
            "overflow": null,
            "overflow_x": null,
            "overflow_y": null,
            "padding": null,
            "right": null,
            "top": null,
            "visibility": null,
            "width": null
          }
        },
        "847a60dc7d3348798ccdc643f28777d3": {
          "model_module": "@jupyter-widgets/base",
          "model_name": "LayoutModel",
          "model_module_version": "1.2.0",
          "state": {
            "_model_module": "@jupyter-widgets/base",
            "_model_module_version": "1.2.0",
            "_model_name": "LayoutModel",
            "_view_count": null,
            "_view_module": "@jupyter-widgets/base",
            "_view_module_version": "1.2.0",
            "_view_name": "LayoutView",
            "align_content": null,
            "align_items": null,
            "align_self": null,
            "border": null,
            "bottom": null,
            "display": null,
            "flex": null,
            "flex_flow": null,
            "grid_area": null,
            "grid_auto_columns": null,
            "grid_auto_flow": null,
            "grid_auto_rows": null,
            "grid_column": null,
            "grid_gap": null,
            "grid_row": null,
            "grid_template_areas": null,
            "grid_template_columns": null,
            "grid_template_rows": null,
            "height": null,
            "justify_content": null,
            "justify_items": null,
            "left": null,
            "margin": null,
            "max_height": null,
            "max_width": null,
            "min_height": null,
            "min_width": null,
            "object_fit": null,
            "object_position": null,
            "order": null,
            "overflow": null,
            "overflow_x": null,
            "overflow_y": null,
            "padding": null,
            "right": null,
            "top": null,
            "visibility": null,
            "width": null
          }
        },
        "91d8b82ff7274ce89e7d1bfe23ebbdb9": {
          "model_module": "@jupyter-widgets/controls",
          "model_name": "DescriptionStyleModel",
          "model_module_version": "1.5.0",
          "state": {
            "_model_module": "@jupyter-widgets/controls",
            "_model_module_version": "1.5.0",
            "_model_name": "DescriptionStyleModel",
            "_view_count": null,
            "_view_module": "@jupyter-widgets/base",
            "_view_module_version": "1.2.0",
            "_view_name": "StyleView",
            "description_width": ""
          }
        },
        "b974b0bdd23240cdb974607d8caabad1": {
          "model_module": "@jupyter-widgets/base",
          "model_name": "LayoutModel",
          "model_module_version": "1.2.0",
          "state": {
            "_model_module": "@jupyter-widgets/base",
            "_model_module_version": "1.2.0",
            "_model_name": "LayoutModel",
            "_view_count": null,
            "_view_module": "@jupyter-widgets/base",
            "_view_module_version": "1.2.0",
            "_view_name": "LayoutView",
            "align_content": null,
            "align_items": null,
            "align_self": null,
            "border": null,
            "bottom": null,
            "display": null,
            "flex": null,
            "flex_flow": null,
            "grid_area": null,
            "grid_auto_columns": null,
            "grid_auto_flow": null,
            "grid_auto_rows": null,
            "grid_column": null,
            "grid_gap": null,
            "grid_row": null,
            "grid_template_areas": null,
            "grid_template_columns": null,
            "grid_template_rows": null,
            "height": null,
            "justify_content": null,
            "justify_items": null,
            "left": null,
            "margin": null,
            "max_height": null,
            "max_width": null,
            "min_height": null,
            "min_width": null,
            "object_fit": null,
            "object_position": null,
            "order": null,
            "overflow": null,
            "overflow_x": null,
            "overflow_y": null,
            "padding": null,
            "right": null,
            "top": null,
            "visibility": null,
            "width": null
          }
        },
        "1bb1f10a160e4148963c43499359adae": {
          "model_module": "@jupyter-widgets/controls",
          "model_name": "ProgressStyleModel",
          "model_module_version": "1.5.0",
          "state": {
            "_model_module": "@jupyter-widgets/controls",
            "_model_module_version": "1.5.0",
            "_model_name": "ProgressStyleModel",
            "_view_count": null,
            "_view_module": "@jupyter-widgets/base",
            "_view_module_version": "1.2.0",
            "_view_name": "StyleView",
            "bar_color": null,
            "description_width": ""
          }
        },
        "c08ed78de3eb4cd7b9c93a71d7db93a4": {
          "model_module": "@jupyter-widgets/base",
          "model_name": "LayoutModel",
          "model_module_version": "1.2.0",
          "state": {
            "_model_module": "@jupyter-widgets/base",
            "_model_module_version": "1.2.0",
            "_model_name": "LayoutModel",
            "_view_count": null,
            "_view_module": "@jupyter-widgets/base",
            "_view_module_version": "1.2.0",
            "_view_name": "LayoutView",
            "align_content": null,
            "align_items": null,
            "align_self": null,
            "border": null,
            "bottom": null,
            "display": null,
            "flex": null,
            "flex_flow": null,
            "grid_area": null,
            "grid_auto_columns": null,
            "grid_auto_flow": null,
            "grid_auto_rows": null,
            "grid_column": null,
            "grid_gap": null,
            "grid_row": null,
            "grid_template_areas": null,
            "grid_template_columns": null,
            "grid_template_rows": null,
            "height": null,
            "justify_content": null,
            "justify_items": null,
            "left": null,
            "margin": null,
            "max_height": null,
            "max_width": null,
            "min_height": null,
            "min_width": null,
            "object_fit": null,
            "object_position": null,
            "order": null,
            "overflow": null,
            "overflow_x": null,
            "overflow_y": null,
            "padding": null,
            "right": null,
            "top": null,
            "visibility": null,
            "width": null
          }
        },
        "7a8cf088026847e6958066549e778d9e": {
          "model_module": "@jupyter-widgets/controls",
          "model_name": "DescriptionStyleModel",
          "model_module_version": "1.5.0",
          "state": {
            "_model_module": "@jupyter-widgets/controls",
            "_model_module_version": "1.5.0",
            "_model_name": "DescriptionStyleModel",
            "_view_count": null,
            "_view_module": "@jupyter-widgets/base",
            "_view_module_version": "1.2.0",
            "_view_name": "StyleView",
            "description_width": ""
          }
        },
        "25b0d642cff84858a734464a9c8a0afd": {
          "model_module": "@jupyter-widgets/controls",
          "model_name": "HBoxModel",
          "model_module_version": "1.5.0",
          "state": {
            "_dom_classes": [],
            "_model_module": "@jupyter-widgets/controls",
            "_model_module_version": "1.5.0",
            "_model_name": "HBoxModel",
            "_view_count": null,
            "_view_module": "@jupyter-widgets/controls",
            "_view_module_version": "1.5.0",
            "_view_name": "HBoxView",
            "box_style": "",
            "children": [
              "IPY_MODEL_7cd19b6186494c1e8e0759f1f9c13a62",
              "IPY_MODEL_5406c39781bb47908b01cffdb21c7e5c",
              "IPY_MODEL_bd366667ec3c41d4b85571bd4c927959"
            ],
            "layout": "IPY_MODEL_7317940379354114bf511a546bedf1ea"
          }
        },
        "7cd19b6186494c1e8e0759f1f9c13a62": {
          "model_module": "@jupyter-widgets/controls",
          "model_name": "HTMLModel",
          "model_module_version": "1.5.0",
          "state": {
            "_dom_classes": [],
            "_model_module": "@jupyter-widgets/controls",
            "_model_module_version": "1.5.0",
            "_model_name": "HTMLModel",
            "_view_count": null,
            "_view_module": "@jupyter-widgets/controls",
            "_view_module_version": "1.5.0",
            "_view_name": "HTMLView",
            "description": "",
            "description_tooltip": null,
            "layout": "IPY_MODEL_54d0d17791664164b00f15b47d7e73b8",
            "placeholder": "​",
            "style": "IPY_MODEL_86015797e6f34bc08dcc234713284122",
            "value": "Generating train split: 100%"
          }
        },
        "5406c39781bb47908b01cffdb21c7e5c": {
          "model_module": "@jupyter-widgets/controls",
          "model_name": "FloatProgressModel",
          "model_module_version": "1.5.0",
          "state": {
            "_dom_classes": [],
            "_model_module": "@jupyter-widgets/controls",
            "_model_module_version": "1.5.0",
            "_model_name": "FloatProgressModel",
            "_view_count": null,
            "_view_module": "@jupyter-widgets/controls",
            "_view_module_version": "1.5.0",
            "_view_name": "ProgressView",
            "bar_style": "success",
            "description": "",
            "description_tooltip": null,
            "layout": "IPY_MODEL_311bf11a297846e285f98f56d05c5864",
            "max": 8551,
            "min": 0,
            "orientation": "horizontal",
            "style": "IPY_MODEL_e34a479b948349cca78e9de3bf5ee42e",
            "value": 8551
          }
        },
        "bd366667ec3c41d4b85571bd4c927959": {
          "model_module": "@jupyter-widgets/controls",
          "model_name": "HTMLModel",
          "model_module_version": "1.5.0",
          "state": {
            "_dom_classes": [],
            "_model_module": "@jupyter-widgets/controls",
            "_model_module_version": "1.5.0",
            "_model_name": "HTMLModel",
            "_view_count": null,
            "_view_module": "@jupyter-widgets/controls",
            "_view_module_version": "1.5.0",
            "_view_name": "HTMLView",
            "description": "",
            "description_tooltip": null,
            "layout": "IPY_MODEL_ccd9a49929364de7984d30e9176f2b69",
            "placeholder": "​",
            "style": "IPY_MODEL_b8c0a878bba04691af6fc5ad9325fce4",
            "value": " 8551/8551 [00:00&lt;00:00, 195550.32 examples/s]"
          }
        },
        "7317940379354114bf511a546bedf1ea": {
          "model_module": "@jupyter-widgets/base",
          "model_name": "LayoutModel",
          "model_module_version": "1.2.0",
          "state": {
            "_model_module": "@jupyter-widgets/base",
            "_model_module_version": "1.2.0",
            "_model_name": "LayoutModel",
            "_view_count": null,
            "_view_module": "@jupyter-widgets/base",
            "_view_module_version": "1.2.0",
            "_view_name": "LayoutView",
            "align_content": null,
            "align_items": null,
            "align_self": null,
            "border": null,
            "bottom": null,
            "display": null,
            "flex": null,
            "flex_flow": null,
            "grid_area": null,
            "grid_auto_columns": null,
            "grid_auto_flow": null,
            "grid_auto_rows": null,
            "grid_column": null,
            "grid_gap": null,
            "grid_row": null,
            "grid_template_areas": null,
            "grid_template_columns": null,
            "grid_template_rows": null,
            "height": null,
            "justify_content": null,
            "justify_items": null,
            "left": null,
            "margin": null,
            "max_height": null,
            "max_width": null,
            "min_height": null,
            "min_width": null,
            "object_fit": null,
            "object_position": null,
            "order": null,
            "overflow": null,
            "overflow_x": null,
            "overflow_y": null,
            "padding": null,
            "right": null,
            "top": null,
            "visibility": null,
            "width": null
          }
        },
        "54d0d17791664164b00f15b47d7e73b8": {
          "model_module": "@jupyter-widgets/base",
          "model_name": "LayoutModel",
          "model_module_version": "1.2.0",
          "state": {
            "_model_module": "@jupyter-widgets/base",
            "_model_module_version": "1.2.0",
            "_model_name": "LayoutModel",
            "_view_count": null,
            "_view_module": "@jupyter-widgets/base",
            "_view_module_version": "1.2.0",
            "_view_name": "LayoutView",
            "align_content": null,
            "align_items": null,
            "align_self": null,
            "border": null,
            "bottom": null,
            "display": null,
            "flex": null,
            "flex_flow": null,
            "grid_area": null,
            "grid_auto_columns": null,
            "grid_auto_flow": null,
            "grid_auto_rows": null,
            "grid_column": null,
            "grid_gap": null,
            "grid_row": null,
            "grid_template_areas": null,
            "grid_template_columns": null,
            "grid_template_rows": null,
            "height": null,
            "justify_content": null,
            "justify_items": null,
            "left": null,
            "margin": null,
            "max_height": null,
            "max_width": null,
            "min_height": null,
            "min_width": null,
            "object_fit": null,
            "object_position": null,
            "order": null,
            "overflow": null,
            "overflow_x": null,
            "overflow_y": null,
            "padding": null,
            "right": null,
            "top": null,
            "visibility": null,
            "width": null
          }
        },
        "86015797e6f34bc08dcc234713284122": {
          "model_module": "@jupyter-widgets/controls",
          "model_name": "DescriptionStyleModel",
          "model_module_version": "1.5.0",
          "state": {
            "_model_module": "@jupyter-widgets/controls",
            "_model_module_version": "1.5.0",
            "_model_name": "DescriptionStyleModel",
            "_view_count": null,
            "_view_module": "@jupyter-widgets/base",
            "_view_module_version": "1.2.0",
            "_view_name": "StyleView",
            "description_width": ""
          }
        },
        "311bf11a297846e285f98f56d05c5864": {
          "model_module": "@jupyter-widgets/base",
          "model_name": "LayoutModel",
          "model_module_version": "1.2.0",
          "state": {
            "_model_module": "@jupyter-widgets/base",
            "_model_module_version": "1.2.0",
            "_model_name": "LayoutModel",
            "_view_count": null,
            "_view_module": "@jupyter-widgets/base",
            "_view_module_version": "1.2.0",
            "_view_name": "LayoutView",
            "align_content": null,
            "align_items": null,
            "align_self": null,
            "border": null,
            "bottom": null,
            "display": null,
            "flex": null,
            "flex_flow": null,
            "grid_area": null,
            "grid_auto_columns": null,
            "grid_auto_flow": null,
            "grid_auto_rows": null,
            "grid_column": null,
            "grid_gap": null,
            "grid_row": null,
            "grid_template_areas": null,
            "grid_template_columns": null,
            "grid_template_rows": null,
            "height": null,
            "justify_content": null,
            "justify_items": null,
            "left": null,
            "margin": null,
            "max_height": null,
            "max_width": null,
            "min_height": null,
            "min_width": null,
            "object_fit": null,
            "object_position": null,
            "order": null,
            "overflow": null,
            "overflow_x": null,
            "overflow_y": null,
            "padding": null,
            "right": null,
            "top": null,
            "visibility": null,
            "width": null
          }
        },
        "e34a479b948349cca78e9de3bf5ee42e": {
          "model_module": "@jupyter-widgets/controls",
          "model_name": "ProgressStyleModel",
          "model_module_version": "1.5.0",
          "state": {
            "_model_module": "@jupyter-widgets/controls",
            "_model_module_version": "1.5.0",
            "_model_name": "ProgressStyleModel",
            "_view_count": null,
            "_view_module": "@jupyter-widgets/base",
            "_view_module_version": "1.2.0",
            "_view_name": "StyleView",
            "bar_color": null,
            "description_width": ""
          }
        },
        "ccd9a49929364de7984d30e9176f2b69": {
          "model_module": "@jupyter-widgets/base",
          "model_name": "LayoutModel",
          "model_module_version": "1.2.0",
          "state": {
            "_model_module": "@jupyter-widgets/base",
            "_model_module_version": "1.2.0",
            "_model_name": "LayoutModel",
            "_view_count": null,
            "_view_module": "@jupyter-widgets/base",
            "_view_module_version": "1.2.0",
            "_view_name": "LayoutView",
            "align_content": null,
            "align_items": null,
            "align_self": null,
            "border": null,
            "bottom": null,
            "display": null,
            "flex": null,
            "flex_flow": null,
            "grid_area": null,
            "grid_auto_columns": null,
            "grid_auto_flow": null,
            "grid_auto_rows": null,
            "grid_column": null,
            "grid_gap": null,
            "grid_row": null,
            "grid_template_areas": null,
            "grid_template_columns": null,
            "grid_template_rows": null,
            "height": null,
            "justify_content": null,
            "justify_items": null,
            "left": null,
            "margin": null,
            "max_height": null,
            "max_width": null,
            "min_height": null,
            "min_width": null,
            "object_fit": null,
            "object_position": null,
            "order": null,
            "overflow": null,
            "overflow_x": null,
            "overflow_y": null,
            "padding": null,
            "right": null,
            "top": null,
            "visibility": null,
            "width": null
          }
        },
        "b8c0a878bba04691af6fc5ad9325fce4": {
          "model_module": "@jupyter-widgets/controls",
          "model_name": "DescriptionStyleModel",
          "model_module_version": "1.5.0",
          "state": {
            "_model_module": "@jupyter-widgets/controls",
            "_model_module_version": "1.5.0",
            "_model_name": "DescriptionStyleModel",
            "_view_count": null,
            "_view_module": "@jupyter-widgets/base",
            "_view_module_version": "1.2.0",
            "_view_name": "StyleView",
            "description_width": ""
          }
        },
        "40e330a4d6de4d03b8eb51ec0a3350f4": {
          "model_module": "@jupyter-widgets/controls",
          "model_name": "HBoxModel",
          "model_module_version": "1.5.0",
          "state": {
            "_dom_classes": [],
            "_model_module": "@jupyter-widgets/controls",
            "_model_module_version": "1.5.0",
            "_model_name": "HBoxModel",
            "_view_count": null,
            "_view_module": "@jupyter-widgets/controls",
            "_view_module_version": "1.5.0",
            "_view_name": "HBoxView",
            "box_style": "",
            "children": [
              "IPY_MODEL_2aace45279614e2d9ffa9d50ca52a181",
              "IPY_MODEL_62a8a457d6884080a6e9cc7aadb141aa",
              "IPY_MODEL_086e8fc48ab94fcdbb3f83e2b0c4a4d9"
            ],
            "layout": "IPY_MODEL_8a6a8eeb019645d9966fc06bb57deb83"
          }
        },
        "2aace45279614e2d9ffa9d50ca52a181": {
          "model_module": "@jupyter-widgets/controls",
          "model_name": "HTMLModel",
          "model_module_version": "1.5.0",
          "state": {
            "_dom_classes": [],
            "_model_module": "@jupyter-widgets/controls",
            "_model_module_version": "1.5.0",
            "_model_name": "HTMLModel",
            "_view_count": null,
            "_view_module": "@jupyter-widgets/controls",
            "_view_module_version": "1.5.0",
            "_view_name": "HTMLView",
            "description": "",
            "description_tooltip": null,
            "layout": "IPY_MODEL_1ce6225a2b74473a94d08d3c28d8636f",
            "placeholder": "​",
            "style": "IPY_MODEL_ed391cf0d8ba4b0ba17a2c6bca1e66e0",
            "value": "Generating validation split: 100%"
          }
        },
        "62a8a457d6884080a6e9cc7aadb141aa": {
          "model_module": "@jupyter-widgets/controls",
          "model_name": "FloatProgressModel",
          "model_module_version": "1.5.0",
          "state": {
            "_dom_classes": [],
            "_model_module": "@jupyter-widgets/controls",
            "_model_module_version": "1.5.0",
            "_model_name": "FloatProgressModel",
            "_view_count": null,
            "_view_module": "@jupyter-widgets/controls",
            "_view_module_version": "1.5.0",
            "_view_name": "ProgressView",
            "bar_style": "success",
            "description": "",
            "description_tooltip": null,
            "layout": "IPY_MODEL_df4f78bdff7040dda4bf374e0993b6a5",
            "max": 1043,
            "min": 0,
            "orientation": "horizontal",
            "style": "IPY_MODEL_bc87f38cef7d4365b45ce7645bd3b3fb",
            "value": 1043
          }
        },
        "086e8fc48ab94fcdbb3f83e2b0c4a4d9": {
          "model_module": "@jupyter-widgets/controls",
          "model_name": "HTMLModel",
          "model_module_version": "1.5.0",
          "state": {
            "_dom_classes": [],
            "_model_module": "@jupyter-widgets/controls",
            "_model_module_version": "1.5.0",
            "_model_name": "HTMLModel",
            "_view_count": null,
            "_view_module": "@jupyter-widgets/controls",
            "_view_module_version": "1.5.0",
            "_view_name": "HTMLView",
            "description": "",
            "description_tooltip": null,
            "layout": "IPY_MODEL_ffba8d0ab9014edf94f3cafc632bc30f",
            "placeholder": "​",
            "style": "IPY_MODEL_4ea0af59c40b4b4b845579b782af3cfa",
            "value": " 1043/1043 [00:00&lt;00:00, 33264.84 examples/s]"
          }
        },
        "8a6a8eeb019645d9966fc06bb57deb83": {
          "model_module": "@jupyter-widgets/base",
          "model_name": "LayoutModel",
          "model_module_version": "1.2.0",
          "state": {
            "_model_module": "@jupyter-widgets/base",
            "_model_module_version": "1.2.0",
            "_model_name": "LayoutModel",
            "_view_count": null,
            "_view_module": "@jupyter-widgets/base",
            "_view_module_version": "1.2.0",
            "_view_name": "LayoutView",
            "align_content": null,
            "align_items": null,
            "align_self": null,
            "border": null,
            "bottom": null,
            "display": null,
            "flex": null,
            "flex_flow": null,
            "grid_area": null,
            "grid_auto_columns": null,
            "grid_auto_flow": null,
            "grid_auto_rows": null,
            "grid_column": null,
            "grid_gap": null,
            "grid_row": null,
            "grid_template_areas": null,
            "grid_template_columns": null,
            "grid_template_rows": null,
            "height": null,
            "justify_content": null,
            "justify_items": null,
            "left": null,
            "margin": null,
            "max_height": null,
            "max_width": null,
            "min_height": null,
            "min_width": null,
            "object_fit": null,
            "object_position": null,
            "order": null,
            "overflow": null,
            "overflow_x": null,
            "overflow_y": null,
            "padding": null,
            "right": null,
            "top": null,
            "visibility": null,
            "width": null
          }
        },
        "1ce6225a2b74473a94d08d3c28d8636f": {
          "model_module": "@jupyter-widgets/base",
          "model_name": "LayoutModel",
          "model_module_version": "1.2.0",
          "state": {
            "_model_module": "@jupyter-widgets/base",
            "_model_module_version": "1.2.0",
            "_model_name": "LayoutModel",
            "_view_count": null,
            "_view_module": "@jupyter-widgets/base",
            "_view_module_version": "1.2.0",
            "_view_name": "LayoutView",
            "align_content": null,
            "align_items": null,
            "align_self": null,
            "border": null,
            "bottom": null,
            "display": null,
            "flex": null,
            "flex_flow": null,
            "grid_area": null,
            "grid_auto_columns": null,
            "grid_auto_flow": null,
            "grid_auto_rows": null,
            "grid_column": null,
            "grid_gap": null,
            "grid_row": null,
            "grid_template_areas": null,
            "grid_template_columns": null,
            "grid_template_rows": null,
            "height": null,
            "justify_content": null,
            "justify_items": null,
            "left": null,
            "margin": null,
            "max_height": null,
            "max_width": null,
            "min_height": null,
            "min_width": null,
            "object_fit": null,
            "object_position": null,
            "order": null,
            "overflow": null,
            "overflow_x": null,
            "overflow_y": null,
            "padding": null,
            "right": null,
            "top": null,
            "visibility": null,
            "width": null
          }
        },
        "ed391cf0d8ba4b0ba17a2c6bca1e66e0": {
          "model_module": "@jupyter-widgets/controls",
          "model_name": "DescriptionStyleModel",
          "model_module_version": "1.5.0",
          "state": {
            "_model_module": "@jupyter-widgets/controls",
            "_model_module_version": "1.5.0",
            "_model_name": "DescriptionStyleModel",
            "_view_count": null,
            "_view_module": "@jupyter-widgets/base",
            "_view_module_version": "1.2.0",
            "_view_name": "StyleView",
            "description_width": ""
          }
        },
        "df4f78bdff7040dda4bf374e0993b6a5": {
          "model_module": "@jupyter-widgets/base",
          "model_name": "LayoutModel",
          "model_module_version": "1.2.0",
          "state": {
            "_model_module": "@jupyter-widgets/base",
            "_model_module_version": "1.2.0",
            "_model_name": "LayoutModel",
            "_view_count": null,
            "_view_module": "@jupyter-widgets/base",
            "_view_module_version": "1.2.0",
            "_view_name": "LayoutView",
            "align_content": null,
            "align_items": null,
            "align_self": null,
            "border": null,
            "bottom": null,
            "display": null,
            "flex": null,
            "flex_flow": null,
            "grid_area": null,
            "grid_auto_columns": null,
            "grid_auto_flow": null,
            "grid_auto_rows": null,
            "grid_column": null,
            "grid_gap": null,
            "grid_row": null,
            "grid_template_areas": null,
            "grid_template_columns": null,
            "grid_template_rows": null,
            "height": null,
            "justify_content": null,
            "justify_items": null,
            "left": null,
            "margin": null,
            "max_height": null,
            "max_width": null,
            "min_height": null,
            "min_width": null,
            "object_fit": null,
            "object_position": null,
            "order": null,
            "overflow": null,
            "overflow_x": null,
            "overflow_y": null,
            "padding": null,
            "right": null,
            "top": null,
            "visibility": null,
            "width": null
          }
        },
        "bc87f38cef7d4365b45ce7645bd3b3fb": {
          "model_module": "@jupyter-widgets/controls",
          "model_name": "ProgressStyleModel",
          "model_module_version": "1.5.0",
          "state": {
            "_model_module": "@jupyter-widgets/controls",
            "_model_module_version": "1.5.0",
            "_model_name": "ProgressStyleModel",
            "_view_count": null,
            "_view_module": "@jupyter-widgets/base",
            "_view_module_version": "1.2.0",
            "_view_name": "StyleView",
            "bar_color": null,
            "description_width": ""
          }
        },
        "ffba8d0ab9014edf94f3cafc632bc30f": {
          "model_module": "@jupyter-widgets/base",
          "model_name": "LayoutModel",
          "model_module_version": "1.2.0",
          "state": {
            "_model_module": "@jupyter-widgets/base",
            "_model_module_version": "1.2.0",
            "_model_name": "LayoutModel",
            "_view_count": null,
            "_view_module": "@jupyter-widgets/base",
            "_view_module_version": "1.2.0",
            "_view_name": "LayoutView",
            "align_content": null,
            "align_items": null,
            "align_self": null,
            "border": null,
            "bottom": null,
            "display": null,
            "flex": null,
            "flex_flow": null,
            "grid_area": null,
            "grid_auto_columns": null,
            "grid_auto_flow": null,
            "grid_auto_rows": null,
            "grid_column": null,
            "grid_gap": null,
            "grid_row": null,
            "grid_template_areas": null,
            "grid_template_columns": null,
            "grid_template_rows": null,
            "height": null,
            "justify_content": null,
            "justify_items": null,
            "left": null,
            "margin": null,
            "max_height": null,
            "max_width": null,
            "min_height": null,
            "min_width": null,
            "object_fit": null,
            "object_position": null,
            "order": null,
            "overflow": null,
            "overflow_x": null,
            "overflow_y": null,
            "padding": null,
            "right": null,
            "top": null,
            "visibility": null,
            "width": null
          }
        },
        "4ea0af59c40b4b4b845579b782af3cfa": {
          "model_module": "@jupyter-widgets/controls",
          "model_name": "DescriptionStyleModel",
          "model_module_version": "1.5.0",
          "state": {
            "_model_module": "@jupyter-widgets/controls",
            "_model_module_version": "1.5.0",
            "_model_name": "DescriptionStyleModel",
            "_view_count": null,
            "_view_module": "@jupyter-widgets/base",
            "_view_module_version": "1.2.0",
            "_view_name": "StyleView",
            "description_width": ""
          }
        },
        "b70ea473063446d696c2e6c9fc691ffa": {
          "model_module": "@jupyter-widgets/controls",
          "model_name": "HBoxModel",
          "model_module_version": "1.5.0",
          "state": {
            "_dom_classes": [],
            "_model_module": "@jupyter-widgets/controls",
            "_model_module_version": "1.5.0",
            "_model_name": "HBoxModel",
            "_view_count": null,
            "_view_module": "@jupyter-widgets/controls",
            "_view_module_version": "1.5.0",
            "_view_name": "HBoxView",
            "box_style": "",
            "children": [
              "IPY_MODEL_8abcedcac9db4da68a8a9a9f3d260d06",
              "IPY_MODEL_483b653f193c40afa9a68e1e9ede06c3",
              "IPY_MODEL_c545564faaa9414195b51e79ed13e1dd"
            ],
            "layout": "IPY_MODEL_975f7c53bc7d4788900f48c9d3daf946"
          }
        },
        "8abcedcac9db4da68a8a9a9f3d260d06": {
          "model_module": "@jupyter-widgets/controls",
          "model_name": "HTMLModel",
          "model_module_version": "1.5.0",
          "state": {
            "_dom_classes": [],
            "_model_module": "@jupyter-widgets/controls",
            "_model_module_version": "1.5.0",
            "_model_name": "HTMLModel",
            "_view_count": null,
            "_view_module": "@jupyter-widgets/controls",
            "_view_module_version": "1.5.0",
            "_view_name": "HTMLView",
            "description": "",
            "description_tooltip": null,
            "layout": "IPY_MODEL_b6cef15f01644863ac97b5e3a0a411b5",
            "placeholder": "​",
            "style": "IPY_MODEL_a3ccc27bd6b244f68e2040c5c54cc287",
            "value": "Generating test split: 100%"
          }
        },
        "483b653f193c40afa9a68e1e9ede06c3": {
          "model_module": "@jupyter-widgets/controls",
          "model_name": "FloatProgressModel",
          "model_module_version": "1.5.0",
          "state": {
            "_dom_classes": [],
            "_model_module": "@jupyter-widgets/controls",
            "_model_module_version": "1.5.0",
            "_model_name": "FloatProgressModel",
            "_view_count": null,
            "_view_module": "@jupyter-widgets/controls",
            "_view_module_version": "1.5.0",
            "_view_name": "ProgressView",
            "bar_style": "success",
            "description": "",
            "description_tooltip": null,
            "layout": "IPY_MODEL_6ae13df374894a77b504583a22c1f7dc",
            "max": 1063,
            "min": 0,
            "orientation": "horizontal",
            "style": "IPY_MODEL_da6972e522ba47e1826056dff4c6cc60",
            "value": 1063
          }
        },
        "c545564faaa9414195b51e79ed13e1dd": {
          "model_module": "@jupyter-widgets/controls",
          "model_name": "HTMLModel",
          "model_module_version": "1.5.0",
          "state": {
            "_dom_classes": [],
            "_model_module": "@jupyter-widgets/controls",
            "_model_module_version": "1.5.0",
            "_model_name": "HTMLModel",
            "_view_count": null,
            "_view_module": "@jupyter-widgets/controls",
            "_view_module_version": "1.5.0",
            "_view_name": "HTMLView",
            "description": "",
            "description_tooltip": null,
            "layout": "IPY_MODEL_3a6a6e89e6bb486593b9506d4be7647b",
            "placeholder": "​",
            "style": "IPY_MODEL_4468f0f0a8e64367bc643c66dcf920d1",
            "value": " 1063/1063 [00:00&lt;00:00, 35901.00 examples/s]"
          }
        },
        "975f7c53bc7d4788900f48c9d3daf946": {
          "model_module": "@jupyter-widgets/base",
          "model_name": "LayoutModel",
          "model_module_version": "1.2.0",
          "state": {
            "_model_module": "@jupyter-widgets/base",
            "_model_module_version": "1.2.0",
            "_model_name": "LayoutModel",
            "_view_count": null,
            "_view_module": "@jupyter-widgets/base",
            "_view_module_version": "1.2.0",
            "_view_name": "LayoutView",
            "align_content": null,
            "align_items": null,
            "align_self": null,
            "border": null,
            "bottom": null,
            "display": null,
            "flex": null,
            "flex_flow": null,
            "grid_area": null,
            "grid_auto_columns": null,
            "grid_auto_flow": null,
            "grid_auto_rows": null,
            "grid_column": null,
            "grid_gap": null,
            "grid_row": null,
            "grid_template_areas": null,
            "grid_template_columns": null,
            "grid_template_rows": null,
            "height": null,
            "justify_content": null,
            "justify_items": null,
            "left": null,
            "margin": null,
            "max_height": null,
            "max_width": null,
            "min_height": null,
            "min_width": null,
            "object_fit": null,
            "object_position": null,
            "order": null,
            "overflow": null,
            "overflow_x": null,
            "overflow_y": null,
            "padding": null,
            "right": null,
            "top": null,
            "visibility": null,
            "width": null
          }
        },
        "b6cef15f01644863ac97b5e3a0a411b5": {
          "model_module": "@jupyter-widgets/base",
          "model_name": "LayoutModel",
          "model_module_version": "1.2.0",
          "state": {
            "_model_module": "@jupyter-widgets/base",
            "_model_module_version": "1.2.0",
            "_model_name": "LayoutModel",
            "_view_count": null,
            "_view_module": "@jupyter-widgets/base",
            "_view_module_version": "1.2.0",
            "_view_name": "LayoutView",
            "align_content": null,
            "align_items": null,
            "align_self": null,
            "border": null,
            "bottom": null,
            "display": null,
            "flex": null,
            "flex_flow": null,
            "grid_area": null,
            "grid_auto_columns": null,
            "grid_auto_flow": null,
            "grid_auto_rows": null,
            "grid_column": null,
            "grid_gap": null,
            "grid_row": null,
            "grid_template_areas": null,
            "grid_template_columns": null,
            "grid_template_rows": null,
            "height": null,
            "justify_content": null,
            "justify_items": null,
            "left": null,
            "margin": null,
            "max_height": null,
            "max_width": null,
            "min_height": null,
            "min_width": null,
            "object_fit": null,
            "object_position": null,
            "order": null,
            "overflow": null,
            "overflow_x": null,
            "overflow_y": null,
            "padding": null,
            "right": null,
            "top": null,
            "visibility": null,
            "width": null
          }
        },
        "a3ccc27bd6b244f68e2040c5c54cc287": {
          "model_module": "@jupyter-widgets/controls",
          "model_name": "DescriptionStyleModel",
          "model_module_version": "1.5.0",
          "state": {
            "_model_module": "@jupyter-widgets/controls",
            "_model_module_version": "1.5.0",
            "_model_name": "DescriptionStyleModel",
            "_view_count": null,
            "_view_module": "@jupyter-widgets/base",
            "_view_module_version": "1.2.0",
            "_view_name": "StyleView",
            "description_width": ""
          }
        },
        "6ae13df374894a77b504583a22c1f7dc": {
          "model_module": "@jupyter-widgets/base",
          "model_name": "LayoutModel",
          "model_module_version": "1.2.0",
          "state": {
            "_model_module": "@jupyter-widgets/base",
            "_model_module_version": "1.2.0",
            "_model_name": "LayoutModel",
            "_view_count": null,
            "_view_module": "@jupyter-widgets/base",
            "_view_module_version": "1.2.0",
            "_view_name": "LayoutView",
            "align_content": null,
            "align_items": null,
            "align_self": null,
            "border": null,
            "bottom": null,
            "display": null,
            "flex": null,
            "flex_flow": null,
            "grid_area": null,
            "grid_auto_columns": null,
            "grid_auto_flow": null,
            "grid_auto_rows": null,
            "grid_column": null,
            "grid_gap": null,
            "grid_row": null,
            "grid_template_areas": null,
            "grid_template_columns": null,
            "grid_template_rows": null,
            "height": null,
            "justify_content": null,
            "justify_items": null,
            "left": null,
            "margin": null,
            "max_height": null,
            "max_width": null,
            "min_height": null,
            "min_width": null,
            "object_fit": null,
            "object_position": null,
            "order": null,
            "overflow": null,
            "overflow_x": null,
            "overflow_y": null,
            "padding": null,
            "right": null,
            "top": null,
            "visibility": null,
            "width": null
          }
        },
        "da6972e522ba47e1826056dff4c6cc60": {
          "model_module": "@jupyter-widgets/controls",
          "model_name": "ProgressStyleModel",
          "model_module_version": "1.5.0",
          "state": {
            "_model_module": "@jupyter-widgets/controls",
            "_model_module_version": "1.5.0",
            "_model_name": "ProgressStyleModel",
            "_view_count": null,
            "_view_module": "@jupyter-widgets/base",
            "_view_module_version": "1.2.0",
            "_view_name": "StyleView",
            "bar_color": null,
            "description_width": ""
          }
        },
        "3a6a6e89e6bb486593b9506d4be7647b": {
          "model_module": "@jupyter-widgets/base",
          "model_name": "LayoutModel",
          "model_module_version": "1.2.0",
          "state": {
            "_model_module": "@jupyter-widgets/base",
            "_model_module_version": "1.2.0",
            "_model_name": "LayoutModel",
            "_view_count": null,
            "_view_module": "@jupyter-widgets/base",
            "_view_module_version": "1.2.0",
            "_view_name": "LayoutView",
            "align_content": null,
            "align_items": null,
            "align_self": null,
            "border": null,
            "bottom": null,
            "display": null,
            "flex": null,
            "flex_flow": null,
            "grid_area": null,
            "grid_auto_columns": null,
            "grid_auto_flow": null,
            "grid_auto_rows": null,
            "grid_column": null,
            "grid_gap": null,
            "grid_row": null,
            "grid_template_areas": null,
            "grid_template_columns": null,
            "grid_template_rows": null,
            "height": null,
            "justify_content": null,
            "justify_items": null,
            "left": null,
            "margin": null,
            "max_height": null,
            "max_width": null,
            "min_height": null,
            "min_width": null,
            "object_fit": null,
            "object_position": null,
            "order": null,
            "overflow": null,
            "overflow_x": null,
            "overflow_y": null,
            "padding": null,
            "right": null,
            "top": null,
            "visibility": null,
            "width": null
          }
        },
        "4468f0f0a8e64367bc643c66dcf920d1": {
          "model_module": "@jupyter-widgets/controls",
          "model_name": "DescriptionStyleModel",
          "model_module_version": "1.5.0",
          "state": {
            "_model_module": "@jupyter-widgets/controls",
            "_model_module_version": "1.5.0",
            "_model_name": "DescriptionStyleModel",
            "_view_count": null,
            "_view_module": "@jupyter-widgets/base",
            "_view_module_version": "1.2.0",
            "_view_name": "StyleView",
            "description_width": ""
          }
        }
      }
    }
  },
  "nbformat": 4,
  "nbformat_minor": 0
}