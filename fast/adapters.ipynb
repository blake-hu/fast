{
 "cells": [
  {
   "cell_type": "markdown",
   "metadata": {},
   "source": [
    "# Adapters"
   ]
  },
  {
   "cell_type": "markdown",
   "metadata": {},
   "source": [
    "Notebook for adapter training."
   ]
  },
  {
   "cell_type": "markdown",
   "metadata": {},
   "source": [
    "## User input"
   ]
  },
  {
   "cell_type": "code",
   "execution_count": null,
   "metadata": {},
   "outputs": [],
   "source": [
    "task_param = \"cola\"\n",
    "\n",
    "training_params = {\n",
    "    'learning_rate': 1e-4,\n",
    "    'num_train_epochs': 6,\n",
    "    'per_device_train_batch_size': 32,\n",
    "    'per_device_eval_batch_size': 32,\n",
    "    'output_dir': 'adapter-distillroberta-base'\n",
    "}"
   ]
  },
  {
   "cell_type": "markdown",
   "metadata": {},
   "source": [
    "## Setup"
   ]
  },
  {
   "cell_type": "markdown",
   "metadata": {},
   "source": [
    "### Modules"
   ]
  },
  {
   "cell_type": "code",
   "execution_count": null,
   "metadata": {},
   "outputs": [],
   "source": [
    "# # Installations for Colab \n",
    "# !pip install statsmodels==0.13.5\n",
    "# !pip install scikit-learn==1.1.3\n",
    "# !pip install pytest==7.4.0\n",
    "# !pip install pandas==1.5.3\n",
    "# !pip install numpy==1.24.4\n",
    "# !pip install matplotlib==3.7.2\n",
    "# !pip install torch==2.0.1\n",
    "# !pip install datasets==2.14.5\n",
    "# !pip install ipywidgets==8.1.1\n",
    "# !pip install jupyterlab==4.0.8\n",
    "# !pip install pynvml==11.5.0\n",
    "# !pip install sentence-transformers==2.3.1\n",
    "# !pip install adapters==0.1.1\n",
    "# !pip install accelerate -U # This installs accelerate-0.26.1"
   ]
  },
  {
   "cell_type": "code",
   "execution_count": null,
   "metadata": {},
   "outputs": [],
   "source": [
    "import os\n",
    "import numpy as np\n",
    "import torch\n",
    "from collections import namedtuple\n",
    "\n",
    "# Dataset\n",
    "from datasets import load_dataset\n",
    "from transformers import RobertaTokenizer, RobertaConfig, TrainingArguments, EvalPrediction, default_data_collator\n",
    "from adapters import AutoAdapterModel, AdapterTrainer, ConfigUnion, BnConfig, ParBnConfig, PrefixTuningConfig"
   ]
  },
  {
   "cell_type": "markdown",
   "metadata": {},
   "source": [
    "### Device"
   ]
  },
  {
   "cell_type": "code",
   "execution_count": null,
   "metadata": {},
   "outputs": [],
   "source": [
    "device_name = \"cpu\"  # Default device is CPU\n",
    "if torch.cuda.is_available():\n",
    "    if 'COLAB_GPU' in os.environ: # Detects if notebook is being run in a colab environment\n",
    "        print(\"colab environment\")\n",
    "        device_name = \"cuda\" # if you're using a T4 GPU on Colab, the device name should be \"cuda\"\n",
    "    else:\n",
    "        device_name = \"cuda:0\" # CUDA for NVIDIA GPU\n",
    "elif torch.backends.mps.is_available():\n",
    "    device_name = torch.device(\"mps\")  # Metal Performance Shaders for Apple M-series GPU\n",
    "\n",
    "device = torch.device(device_name)\n",
    "print(device_name)"
   ]
  },
  {
   "cell_type": "markdown",
   "metadata": {},
   "source": [
    "### Task"
   ]
  },
  {
   "cell_type": "code",
   "execution_count": null,
   "metadata": {},
   "outputs": [],
   "source": [
    "TaskConfig = namedtuple(\"TaskConfig\", [\"sentence_type\", \"class_type\", \"num_classes\", \"col_names\"])\n",
    "\n",
    "task_configs = {\n",
    "    \"cola\": TaskConfig(\"one\", \"BC\", 2, ['sentence']),\n",
    "    \"sst2\": TaskConfig(\"one\", \"BC\", 2, ['sentence']),\n",
    "    \"mrpc\": TaskConfig(\"two\", \"BC\", 2, ['sentence1', 'sentence2']),\n",
    "    \"stsb\": TaskConfig(\"two\", \"R\", None, ['sentence1', 'sentence2']),\n",
    "    \"qqp\": TaskConfig(\"two\", \"BC\", 2, ['question1', 'question2']),\n",
    "    \"mnli_matched\": TaskConfig(\"two\", \"MC\", 3, ['premise', 'hypothesis']),\n",
    "    \"mnli_mismatched\": TaskConfig(\"two\", \"MC\", 3, ['premise', 'hypothesis']),\n",
    "    \"qnli\": TaskConfig(\"two\", \"BC\", 2, ['question', 'sentence']),\n",
    "    \"rte\": TaskConfig(\"two\", \"BC\", 2, ['sentence1', 'sentence2']),\n",
    "    \"wnli\": TaskConfig(\"two\", \"BC\", 2, ['sentence1', 'sentence2']),\n",
    "}\n",
    "\n",
    "task_config = task_configs[task_param]"
   ]
  },
  {
   "cell_type": "markdown",
   "metadata": {},
   "source": [
    "## Dataset"
   ]
  },
  {
   "cell_type": "markdown",
   "metadata": {},
   "source": [
    "### Load dataset"
   ]
  },
  {
   "cell_type": "code",
   "execution_count": null,
   "metadata": {},
   "outputs": [],
   "source": [
    "if task_param == \"mnli_matched\": \n",
    "    data = load_dataset(\"glue\", \"mnli\") \n",
    "    val_key = \"validation_matched\"\n",
    "    test_key = \"test_matched\"\n",
    "elif task_param == \"mnli_mismatched\":\n",
    "    data = load_dataset(\"glue\", \"mnli\") \n",
    "    val_key = \"validation_mismatched\"\n",
    "    test_key = \"test_mismatched\"\n",
    "else:\n",
    "    data = load_dataset(\"glue\", task_param)\n",
    "    val_key = \"validation\"\n",
    "    test_key = \"test\"\n",
    "\n",
    "data"
   ]
  },
  {
   "cell_type": "markdown",
   "metadata": {},
   "source": [
    "### Process dataset"
   ]
  },
  {
   "cell_type": "code",
   "execution_count": null,
   "metadata": {},
   "outputs": [],
   "source": [
    "tokenizer = RobertaTokenizer.from_pretrained('distilroberta-base')\n",
    "\n",
    "max_len = 512 # TODO: How is this value decided?\n",
    "\n",
    "def tokenize(examples):\n",
    "    return tokenizer(examples[task_config.col_names[0]],\n",
    "                     add_special_tokens=True, \n",
    "                     padding='max_length',\n",
    "                     truncation=True,\n",
    "                     max_length=max_len,\n",
    "                     return_tensors='pt')\n",
    "\n",
    "def tokenize_double(examples):\n",
    "    return tokenizer(examples[task_config.col_names[0]],\n",
    "                     examples[task_config.col_names[1]],\n",
    "                     add_special_tokens=True,\n",
    "                     padding='max_length',\n",
    "                     truncation=True,\n",
    "                     max_length=max_len,\n",
    "                     return_tensors='pt')\n",
    "\n",
    "# Tokenize the input\n",
    "data = data.map(tokenize, batched=True)\n",
    "# The transformers model expects the target class column to be named \"labels\"\n",
    "data = data.rename_column(original_column_name=\"label\", new_column_name=\"labels\") \n",
    "# Transform to pytorch tensors and only output the required columns\n",
    "data.set_format(type=\"torch\", columns=[\"input_ids\", \"attention_mask\", \"labels\"])"
   ]
  },
  {
   "cell_type": "markdown",
   "metadata": {},
   "source": [
    "## Adapter"
   ]
  },
  {
   "cell_type": "markdown",
   "metadata": {},
   "source": [
    "### Model setup"
   ]
  },
  {
   "cell_type": "code",
   "execution_count": null,
   "metadata": {},
   "outputs": [],
   "source": [
    "if task_config.class_type == \"R\":\n",
    "    config = RobertaConfig.from_pretrained(\"distilroberta-base\")\n",
    "else:\n",
    "    config = RobertaConfig.from_pretrained(\n",
    "        \"distilroberta-base\",\n",
    "        num_labels=task_config.num_classes)\n",
    "\n",
    "model = AutoAdapterModel.from_pretrained(\n",
    "    \"distilroberta-base\",\n",
    "    config=config).to(device)"
   ]
  },
  {
   "cell_type": "markdown",
   "metadata": {},
   "source": [
    "### Adapter setup"
   ]
  },
  {
   "cell_type": "code",
   "execution_count": null,
   "metadata": {},
   "outputs": [],
   "source": [
    "adapter_config = BnConfig(mh_adapter=True,\n",
    "                          output_adapter=True,\n",
    "                          reduction_factor=2,\n",
    "                          non_linearity='relu')\n",
    "\n",
    "# Other adapter config options: \n",
    "# ParBnConfig(reduction_factor=4)\n",
    "# PrefixTuningConfig(flat=False, prefix_length=30)\n",
    "# ConfigUnion(\n",
    "#     PrefixTuningConfig(prefix_length=20),\n",
    "#     ParBnConfig(reduction_factor=4),)\n",
    "\n",
    "# Add a new adapter\n",
    "model.add_adapter(task_param, config=adapter_config)\n",
    "\n",
    "# Add a matching prediction head\n",
    "if task_config.class_type == \"R\":\n",
    "    model.add_regression_head(task_param) \n",
    "else:\n",
    "    model.add_classification_head(\n",
    "        task_param,\n",
    "        num_labels=task_config.num_classes)\n",
    "\n",
    "# Freeze all weights in the model except for those of the adapter\n",
    "model.train_adapter(task_param)\n",
    "\n",
    "# Activate the adapter\n",
    "model.set_active_adapters(task_param) "
   ]
  },
  {
   "cell_type": "markdown",
   "metadata": {},
   "source": [
    "## Training"
   ]
  },
  {
   "cell_type": "markdown",
   "metadata": {},
   "source": [
    "### Trainer setup"
   ]
  },
  {
   "cell_type": "code",
   "execution_count": null,
   "metadata": {},
   "outputs": [],
   "source": [
    "def compute_accuracy(p: EvalPrediction):\n",
    "  preds = np.argmax(p.predictions, axis=1)\n",
    "  return {\"acc\": (preds == p.label_ids).mean()}\n",
    "\n",
    "training_args = TrainingArguments(\n",
    "    learning_rate=training_params['learning_rate'],\n",
    "    num_train_epochs=training_params['num_train_epochs'],\n",
    "    per_device_train_batch_size=training_params['per_device_train_batch_size'],\n",
    "    per_device_eval_batch_size=training_params['per_device_eval_batch_size'],\n",
    "    output_dir=training_params['output_dir'],\n",
    "    overwrite_output_dir=True,\n",
    "    remove_unused_columns=False) # Ensures dataset labels are properly passed to the model\n",
    "\n",
    "trainer = AdapterTrainer(\n",
    "    model=model,\n",
    "    args=training_args,\n",
    "    train_dataset=data[\"train\"],\n",
    "    eval_dataset=data[\"validation\"],\n",
    "    compute_metrics=compute_accuracy,\n",
    "    data_collator=default_data_collator)"
   ]
  },
  {
   "cell_type": "markdown",
   "metadata": {},
   "source": [
    "### Training loop"
   ]
  },
  {
   "cell_type": "code",
   "execution_count": null,
   "metadata": {},
   "outputs": [],
   "source": [
    "trainer.train()"
   ]
  }
 ],
 "metadata": {
  "kernelspec": {
   "display_name": "fast",
   "language": "python",
   "name": "python3"
  },
  "language_info": {
   "codemirror_mode": {
    "name": "ipython",
    "version": 3
   },
   "file_extension": ".py",
   "mimetype": "text/x-python",
   "name": "python",
   "nbconvert_exporter": "python",
   "pygments_lexer": "ipython3",
   "version": "3.9.0"
  }
 },
 "nbformat": 4,
 "nbformat_minor": 2
}
