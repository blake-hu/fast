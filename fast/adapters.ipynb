{
 "cells": [
  {
   "cell_type": "markdown",
   "metadata": {},
   "source": [
    "# Adapter"
   ]
  },
  {
   "cell_type": "markdown",
   "metadata": {},
   "source": [
    "Benchmarking example"
   ]
  },
  {
   "cell_type": "code",
   "execution_count": null,
   "metadata": {},
   "outputs": [],
   "source": [
    "import time\n",
    "import pathlib\n",
    "import csv\n",
    "import itertools\n",
    "from datetime import datetime\n",
    "from tqdm import tqdm\n",
    "\n",
    "import threading\n",
    "import pynvml\n",
    "from utils.adapter import BERTAdapter"
   ]
  },
  {
   "cell_type": "code",
   "execution_count": null,
   "metadata": {},
   "outputs": [],
   "source": [
    "adapter_param_grid = {\n",
    "    'num_epochs': [50],\n",
    "    'batch_size': [32, 512],\n",
    "    'learning_rate': [1e-2, 1e-3],\n",
    "    'category': [task_config.class_type],\n",
    "    'device': [device_name]\n",
    "}\n",
    "\n",
    "# Create a list of all combinations of hyperparameters\n",
    "adapter_params = [dict(zip(adapter_param_grid.keys(), v)) for v in itertools.product(*adapter_param_grid.values())]\n",
    "print(f\"{len(adapter_params)} hyperparameter combinations\")"
   ]
  },
  {
   "cell_type": "code",
   "execution_count": null,
   "metadata": {},
   "outputs": [],
   "source": [
    "# Setup for saving power outputs\n",
    "results_folder = pathlib.Path(f\"results/adapter/{task_param}\")\n",
    "results_folder.mkdir(parents=True, exist_ok=True)\n",
    "save_file_id = datetime.now().strftime(\"%Y%m%d_%H%M%S\")\n",
    "results_file = results_folder / f\"val_{save_file_id}.csv\"\n",
    "with open(results_file, 'w', newline='') as csvfile:\n",
    "    writer = csv.writer(csvfile)\n",
    "    writer.writerow(['power', 'time'])\n",
    "print(f\"saving results to ./{results_file}\")\n",
    "\n",
    "# Iterate over all combinations of hyperparameters\n",
    "adapter_bar = tqdm(enumerate(adapter_params), total=len(adapter_params))\n",
    "for i, params in adapter_bar:\n",
    "    # Formatting params to display\n",
    "    print_params = params.copy()\n",
    "    for param in ['category', 'device']:\n",
    "        del print_params[param]\n",
    "\n",
    "    # Initialize the model with current set of hyperparameters\n",
    "    adapter = BERTAdapter(**params)\n",
    "\n",
    "    # Create a thread for tracking power output (NVIDIA ONLY), logs power and time\n",
    "    def get_power():\n",
    "        pynvml.nvmlInit()\n",
    "        while not adapter.train_stop_flag:\n",
    "            handle = pynvml.nvmlDeviceGetHandleByIndex(0)  # Returns device handle, index 0 specifies the first GPU\n",
    "            power = pynvml.nvmlDeviceGetPowerUsage(handle)  # Retrieves power usage for GPU in milliwatts\n",
    "            power = power / 1000  # convert mW to W\n",
    "            curr_time = time.time()\n",
    "            print(\"Current NVIDIA power output:\", power, \"at time\", curr_time)\n",
    "            # Write to results csv\n",
    "            with open(results_file, 'a', newline='') as csvfile:\n",
    "                writer = csv.writer(csvfile)\n",
    "                writer.writerow([power, curr_time])\n",
    "                \n",
    "        pynvml.nvmlShutdown()\n",
    "        \n",
    "    power_thread = threading.Thread(target=get_power)\n",
    "\n",
    "    # Make sure power output was recorded in the correct time range\n",
    "    print(\"Start time:\", time.time()) \n",
    "\n",
    "    if recomputed:\n",
    "        power_thread.start()  # Start the benchmarking thread\n",
    "        adapter.fit(X_train_recomputed,\n",
    "                    Y_train,\n",
    "                    X_val_recomputed,\n",
    "                    Y_val)\n",
    "        power_thread.join()  # Wait for the thread to complete\n",
    "    else:\n",
    "        power_thread.start()  # Start the benchmarking thread\n",
    "        adapter.fit(X_train,\n",
    "                    Y_train,\n",
    "                    X_val,\n",
    "                    Y_val)\n",
    "        power_thread.join()  # Wait for the thread to complete\n",
    "        \n",
    "    print(\"End time:\", time.time())"
   ]
  }
 ],
 "metadata": {
  "language_info": {
   "name": "python"
  }
 },
 "nbformat": 4,
 "nbformat_minor": 2
}
