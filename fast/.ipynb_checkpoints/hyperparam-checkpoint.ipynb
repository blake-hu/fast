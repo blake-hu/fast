{
 "cells": [
  {
   "cell_type": "markdown",
   "id": "c61a5329-3d6e-438a-b5b6-76b9172f903a",
   "metadata": {},
   "source": [
    "# Extract Best Hyperparameters"
   ]
  },
  {
   "cell_type": "code",
   "execution_count": 1,
   "id": "a4d91904-7fb0-40ff-a07c-2664660f5d7d",
   "metadata": {},
   "outputs": [],
   "source": [
    "import csv\n",
    "import os\n",
    "import pandas as pd\n",
    "import warnings\n",
    "warnings.filterwarnings(\"ignore\")\n",
    "\n",
    "results_base = \"./results/\""
   ]
  },
  {
   "cell_type": "markdown",
   "id": "570ff9c2-42cd-41b7-be0f-cc6775ff37b8",
   "metadata": {},
   "source": [
    "## Get best row and return as dict"
   ]
  },
  {
   "cell_type": "code",
   "execution_count": 30,
   "id": "036b2c55-d063-4094-a481-dc1466d81e1e",
   "metadata": {},
   "outputs": [
    {
     "name": "stdout",
     "output_type": "stream",
     "text": [
      "pearson\n"
     ]
    },
    {
     "ename": "KeyError",
     "evalue": "'metric'",
     "output_type": "error",
     "traceback": [
      "\u001b[0;31m---------------------------------------------------------------------------\u001b[0m",
      "\u001b[0;31mKeyError\u001b[0m                                  Traceback (most recent call last)",
      "Cell \u001b[0;32mIn[30], line 31\u001b[0m\n\u001b[1;32m     27\u001b[0m     hyperparam_grid[key] \u001b[38;5;241m=\u001b[39m \u001b[38;5;28mlist\u001b[39m(val\u001b[38;5;241m.\u001b[39mvalues())\n\u001b[1;32m     29\u001b[0m \u001b[38;5;28mprint\u001b[39m(metric)\n\u001b[0;32m---> 31\u001b[0m \u001b[38;5;28mprint\u001b[39m(\u001b[38;5;124mf\u001b[39m\u001b[38;5;124m\"\u001b[39m\u001b[38;5;132;01m{\u001b[39;00mmetric\u001b[38;5;132;01m}\u001b[39;00m\u001b[38;5;124m score: \u001b[39m\u001b[38;5;132;01m{\u001b[39;00mhyperparam_grid[\u001b[38;5;124m'\u001b[39m\u001b[38;5;124mmetric\u001b[39m\u001b[38;5;124m'\u001b[39m]\u001b[38;5;132;01m}\u001b[39;00m\u001b[38;5;124m\"\u001b[39m)\n\u001b[1;32m     33\u001b[0m \u001b[38;5;28;01mfor\u001b[39;00m key \u001b[38;5;129;01min\u001b[39;00m [\u001b[38;5;124m\"\u001b[39m\u001b[38;5;124mpearson\u001b[39m\u001b[38;5;124m\"\u001b[39m, \u001b[38;5;124m\"\u001b[39m\u001b[38;5;124mspearman\u001b[39m\u001b[38;5;124m\"\u001b[39m, \u001b[38;5;124m\"\u001b[39m\u001b[38;5;124maccuracy\u001b[39m\u001b[38;5;124m\"\u001b[39m, \u001b[38;5;124m\"\u001b[39m\u001b[38;5;124mmcc\u001b[39m\u001b[38;5;124m\"\u001b[39m, \u001b[38;5;124m\"\u001b[39m\u001b[38;5;124mf1\u001b[39m\u001b[38;5;124m\"\u001b[39m]:\n\u001b[1;32m     34\u001b[0m     \u001b[38;5;28;01mdel\u001b[39;00m hyperparam_grid[key]\n",
      "\u001b[0;31mKeyError\u001b[0m: 'metric'"
     ]
    }
   ],
   "source": [
    "embedding = \"cls\"\n",
    "task = \"stsb\"\n",
    "\n",
    "results_dir = os.path.join(results_base, embedding, task)\n",
    "file_list = os.listdir(results_dir)\n",
    "\n",
    "results_df = pd.DataFrame()\n",
    "\n",
    "for filename in file_list:\n",
    "    filepath = os.path.join(results_dir, filename)\n",
    "    with open(filepath, 'r') as file:\n",
    "        df_new = pd.read_csv(file)\n",
    "        if results_df.empty:\n",
    "            results_df = df_new\n",
    "        else:\n",
    "            results_df = pd.concat([results_df, df_new])\n",
    "\n",
    "metric = \"accuracy\"\n",
    "if task.lower() == \"stsb\":\n",
    "    metric = \"pearson\"\n",
    "    \n",
    "best = results_df[metric].max()\n",
    "best_row = results_df[results_df[metric] == best]\n",
    "\n",
    "hyperparam_grid = {}\n",
    "for key, val in best_row.to_dict().items():\n",
    "    hyperparam_grid[key] = list(val.values())\n",
    "\n",
    "print(f\"{metric} score: {hyperparam_grid['metric']}\")\n",
    "\n",
    "for key in [\"pearson\", \"spearman\", \"accuracy\", \"mcc\", \"f1\"]:\n",
    "    del hyperparam_grid[key]\n",
    "\n",
    "hyperparam_grid"
   ]
  },
  {
   "cell_type": "code",
   "execution_count": null,
   "id": "6e7ab9eb-8694-4465-b27d-805f8a8443fa",
   "metadata": {},
   "outputs": [],
   "source": []
  }
 ],
 "metadata": {
  "kernelspec": {
   "display_name": "Python 3 (ipykernel)",
   "language": "python",
   "name": "python3"
  },
  "language_info": {
   "codemirror_mode": {
    "name": "ipython",
    "version": 3
   },
   "file_extension": ".py",
   "mimetype": "text/x-python",
   "name": "python",
   "nbconvert_exporter": "python",
   "pygments_lexer": "ipython3",
   "version": "3.9.0"
  }
 },
 "nbformat": 4,
 "nbformat_minor": 5
}
