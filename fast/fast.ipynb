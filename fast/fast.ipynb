{
 "cells": [
  {
   "cell_type": "markdown",
   "metadata": {},
   "source": [
    "# FAST: Feedforward-Augmented Sentence Transformers"
   ]
  },
  {
   "cell_type": "markdown",
   "metadata": {},
   "source": [
    "## Imports & Setup"
   ]
  },
  {
   "cell_type": "code",
   "execution_count": 1,
   "metadata": {},
   "outputs": [],
   "source": [
    "# REQUIRED IMPORTS & SETUP\n",
    "\n",
    "import os\n",
    "import pickle\n",
    "import numpy as np \n",
    "import pandas as pd \n",
    "import warnings\n",
    "import itertools\n",
    "from tqdm import tqdm\n",
    "\n",
    "import torch\n",
    "from sentence_transformers import SentenceTransformer\n",
    "from datasets import Dataset, load_dataset\n",
    "from sklearn.metrics import accuracy_score\n",
    "\n",
    "from utils.feed_forward import FeedForward\n",
    "from utils.cls import extract_cls_embeddings\n",
    "os.environ[\"TOKENIZERS_PARALLELISM\"] = \"false\"\n",
    "\n",
    "# Set Device ##########################################################\n",
    "device_name = \"cpu\"  # default device is CPU\n",
    "if torch.cuda.is_available():\n",
    "    device_name = \"cuda:0\"  # CUDA for NVIDIA GPU\n",
    "elif torch.backends.mps.is_available():\n",
    "    device_name = torch.device(\"mps\")  # Metal Performance Shaders for Apple M-series GPU\n",
    "device = torch.device(device_name)\n",
    "#######################################################################"
   ]
  },
  {
   "cell_type": "markdown",
   "metadata": {},
   "source": [
    "# Load Models\n",
    "Load models from HuggingFace and send to GPU device"
   ]
  },
  {
   "cell_type": "code",
   "execution_count": 2,
   "metadata": {},
   "outputs": [],
   "source": [
    "mpnetv2 = SentenceTransformer(\"all-mpnet-base-v2\").to(device)"
   ]
  },
  {
   "cell_type": "markdown",
   "metadata": {},
   "source": [
    "## Load Data"
   ]
  },
  {
   "cell_type": "code",
   "execution_count": 3,
   "metadata": {},
   "outputs": [
    {
     "data": {
      "text/plain": [
       "DatasetDict({\n",
       "    train: Dataset({\n",
       "        features: ['sentence1', 'sentence2', 'label', 'idx'],\n",
       "        num_rows: 3668\n",
       "    })\n",
       "    validation: Dataset({\n",
       "        features: ['sentence1', 'sentence2', 'label', 'idx'],\n",
       "        num_rows: 408\n",
       "    })\n",
       "    test: Dataset({\n",
       "        features: ['sentence1', 'sentence2', 'label', 'idx'],\n",
       "        num_rows: 1725\n",
       "    })\n",
       "})"
      ]
     },
     "execution_count": 3,
     "metadata": {},
     "output_type": "execute_result"
    }
   ],
   "source": [
    "data = load_dataset(\"glue\", \"mrpc\")\n",
    "data"
   ]
  },
  {
   "cell_type": "markdown",
   "metadata": {},
   "source": [
    "# Encode Sentence Embeddings"
   ]
  },
  {
   "cell_type": "markdown",
   "metadata": {},
   "source": [
    "Generate sentence embeddings using sentence transformer model."
   ]
  },
  {
   "cell_type": "code",
   "execution_count": 4,
   "metadata": {},
   "outputs": [],
   "source": [
    "# for QNLI\n",
    "# X_train = np.concatenate((mpnetv2.encode(data[\"train\"][\"question\"]), mpnetv2.encode(data[\"train\"][\"sentence\"])), axis=1)\n",
    "# X_val = np.concatenate((mpnetv2.encode(data[\"validation\"][\"question\"]), mpnetv2.encode(data[\"validation\"][\"sentence\"])), axis=1)\n",
    "# X_test = np.concatenate((mpnetv2.encode(data[\"test\"][\"question\"]), mpnetv2.encode(data[\"test\"][\"sentence\"])), axis=1)\n",
    "\n",
    "# for MRPC\n",
    "X_train = np.concatenate((mpnetv2.encode(data[\"train\"][\"sentence1\"]), mpnetv2.encode(data[\"train\"][\"sentence2\"])), axis=1)\n",
    "X_val = np.concatenate((mpnetv2.encode(data[\"validation\"][\"sentence1\"]), mpnetv2.encode(data[\"validation\"][\"sentence2\"])), axis=1)\n",
    "X_test = np.concatenate((mpnetv2.encode(data[\"test\"][\"sentence1\"]), mpnetv2.encode(data[\"test\"][\"sentence2\"])), axis=1)\n",
    "\n",
    "Y_train = np.array(data[\"train\"][\"label\"])\n",
    "Y_val = np.array(data[\"validation\"][\"label\"])\n",
    "Y_test = np.array(data[\"test\"][\"label\"])"
   ]
  },
  {
   "cell_type": "code",
   "execution_count": 21,
   "metadata": {},
   "outputs": [],
   "source": [
    "X_train = mpnetv2.encode(data[\"train\"][\"sentence\"])\n",
    "X_val = mpnetv2.encode(data[\"validation\"][\"sentence\"])\n",
    "X_test = mpnetv2.encode(data[\"test\"][\"sentence\"])\n",
    "\n",
    "Y_train = np.array(data[\"train\"][\"label\"])\n",
    "Y_val = np.array(data[\"validation\"][\"label\"])\n",
    "Y_test = np.array(data[\"test\"][\"label\"])"
   ]
  },
  {
   "cell_type": "markdown",
   "metadata": {},
   "source": [
    "Save encodings and labels to disk for reuse. This is done because encoding embeddings takes a significant time but the encodings do not change throughout training, so we can cache it."
   ]
  },
  {
   "cell_type": "code",
   "execution_count": 41,
   "metadata": {},
   "outputs": [],
   "source": [
    "with open('./output/X_train.pt', 'wb') as X_train_file:\n",
    "    torch.save(X_train, X_train_file)\n",
    "with open('./output/X_val.pt', 'wb') as X_val_file:\n",
    "    torch.save(X_val, X_val_file)\n",
    "with open('./output/X_test.pt', 'wb') as X_test_file:\n",
    "    torch.save(X_test, X_test_file)\n",
    "with open('./output/Y_train.npy', 'wb') as Y_train_file:\n",
    "    np.save(Y_train_file, Y_train)\n",
    "with open('./output/Y_val.npy', 'wb') as Y_val_file:\n",
    "    np.save(Y_val_file, Y_val)\n",
    "with open('./output/Y_test.npy', 'wb') as Y_test_file:\n",
    "    np.save(Y_test_file, Y_test)"
   ]
  },
  {
   "cell_type": "markdown",
   "metadata": {},
   "source": [
    "Load saved encodings and labels from disk, if previously saved."
   ]
  },
  {
   "cell_type": "code",
   "execution_count": 42,
   "metadata": {},
   "outputs": [],
   "source": [
    "with open('./output/X_train.pt', 'rb') as X_train_file:\n",
    "    X_train = torch.load(X_train_file)\n",
    "with open('./output/X_val.pt', 'rb') as X_val_file:\n",
    "    X_val = torch.load(X_val_file)\n",
    "with open('./output/X_test.pt', 'rb') as X_test_file:\n",
    "    X_test = torch.load(X_test_file)\n",
    "with open('./output/Y_train.npy', 'rb') as Y_train_file:\n",
    "    Y_train = np.load(Y_train_file)\n",
    "with open('./output/Y_val.npy', 'rb') as Y_val_file:\n",
    "    Y_val = np.load(Y_val_file)\n",
    "with open('./output/Y_test.npy', 'rb') as Y_test_file:\n",
    "    Y_test = np.load(Y_test_file)"
   ]
  },
  {
   "cell_type": "markdown",
   "metadata": {},
   "source": [
    "## Define Hyperparameters\n",
    "Defining hyperparameter grid for grid search"
   ]
  },
  {
   "cell_type": "code",
   "execution_count": 6,
   "metadata": {},
   "outputs": [
    {
     "name": "stdout",
     "output_type": "stream",
     "text": [
      "144 hyperparameter combos\n"
     ]
    }
   ],
   "source": [
    "param_grid = {\n",
    "    'num_epochs': [100],\n",
    "    'batch_size': [32, 128, 512],\n",
    "    'learning_rate': [1e-2, 1e-3, 1e-4, 1e-5],\n",
    "    'category': ['C'],\n",
    "    'norm': [False],\n",
    "    'input_size': [768*2],\n",
    "    'layer_size': [768*2],\n",
    "    'num_layers': [1, 2, 3],\n",
    "    'weight_decay':[1e-2, 1e-3, 1e-4, 1e-5],\n",
    "    'patience': [3],\n",
    "    'min_delta': [0],\n",
    "    'device': [device_name]\n",
    "}\n",
    "\n",
    "# Create a list of all combinations of hyperparameters\n",
    "all_params = [dict(zip(param_grid.keys(), v)) for v in itertools.product(*param_grid.values())]\n",
    "print(f\"{len(all_params)} hyperparameter combos\")\n",
    "\n",
    "best_params = None\n",
    "highest_val_accuracy = 0"
   ]
  },
  {
   "cell_type": "markdown",
   "metadata": {},
   "source": [
    "# Training Loop for Hyperparameter Grid Search"
   ]
  },
  {
   "cell_type": "code",
   "execution_count": 7,
   "metadata": {},
   "outputs": [
    {
     "name": "stderr",
     "output_type": "stream",
     "text": [
      "  0%|          | 0/144 [00:00<?, ?it/s]"
     ]
    },
    {
     "name": "stdout",
     "output_type": "stream",
     "text": [
      "\n",
      "Training with parameters:\n",
      " {'num_epochs': 100, 'batch_size': 32, 'learning_rate': 0.01, 'category': 'C', 'norm': False, 'input_size': 1536, 'layer_size': 1536, 'num_layers': 1, 'weight_decay': 0.01, 'patience': 3, 'min_delta': 0, 'device': 'cuda:0'}\n"
     ]
    },
    {
     "name": "stderr",
     "output_type": "stream",
     "text": [
      "Current best val acc: 0.62745:   1%|          | 1/144 [00:00<01:28,  1.62it/s]"
     ]
    },
    {
     "name": "stdout",
     "output_type": "stream",
     "text": [
      "Early stopped on epoch: 4\n",
      "Validation accuracy: 0.6274509803921569\n",
      "Validation f1-score: 0.742372881355932\n",
      "Validation MCC     : 0.07839013055430459\n",
      "\n",
      "Training with parameters:\n",
      " {'num_epochs': 100, 'batch_size': 32, 'learning_rate': 0.01, 'category': 'C', 'norm': False, 'input_size': 1536, 'layer_size': 1536, 'num_layers': 1, 'weight_decay': 0.001, 'patience': 3, 'min_delta': 0, 'device': 'cuda:0'}\n"
     ]
    },
    {
     "name": "stderr",
     "output_type": "stream",
     "text": [
      "Current best val acc: 0.65686:   1%|▏         | 2/144 [00:01<01:24,  1.68it/s]"
     ]
    },
    {
     "name": "stdout",
     "output_type": "stream",
     "text": [
      "Early stopped on epoch: 4\n",
      "Validation accuracy: 0.6568627450980392\n",
      "Validation f1-score: 0.7741935483870968\n",
      "Validation MCC     : 0.09698162152983697\n",
      "\n",
      "Training with parameters:\n",
      " {'num_epochs': 100, 'batch_size': 32, 'learning_rate': 0.01, 'category': 'C', 'norm': False, 'input_size': 1536, 'layer_size': 1536, 'num_layers': 1, 'weight_decay': 0.0001, 'patience': 3, 'min_delta': 0, 'device': 'cuda:0'}\n"
     ]
    },
    {
     "name": "stderr",
     "output_type": "stream",
     "text": [
      "Current best val acc: 0.65686:   2%|▏         | 3/144 [00:01<01:22,  1.70it/s]"
     ]
    },
    {
     "name": "stdout",
     "output_type": "stream",
     "text": [
      "Early stopped on epoch: 4\n",
      "Validation accuracy: 0.5808823529411765\n",
      "Validation f1-score: 0.6666666666666667\n",
      "Validation MCC     : 0.11708259582604517\n",
      "\n",
      "Training with parameters:\n",
      " {'num_epochs': 100, 'batch_size': 32, 'learning_rate': 0.01, 'category': 'C', 'norm': False, 'input_size': 1536, 'layer_size': 1536, 'num_layers': 1, 'weight_decay': 1e-05, 'patience': 3, 'min_delta': 0, 'device': 'cuda:0'}\n"
     ]
    },
    {
     "name": "stderr",
     "output_type": "stream",
     "text": [
      "Current best val acc: 0.65686:   3%|▎         | 4/144 [00:02<01:21,  1.72it/s]"
     ]
    },
    {
     "name": "stdout",
     "output_type": "stream",
     "text": [
      "Early stopped on epoch: 4\n",
      "Validation accuracy: 0.6299019607843137\n",
      "Validation f1-score: 0.7401032702237521\n",
      "Validation MCC     : 0.10199378355454142\n",
      "\n",
      "Training with parameters:\n",
      " {'num_epochs': 100, 'batch_size': 32, 'learning_rate': 0.01, 'category': 'C', 'norm': False, 'input_size': 1536, 'layer_size': 1536, 'num_layers': 2, 'weight_decay': 0.01, 'patience': 3, 'min_delta': 0, 'device': 'cuda:0'}\n"
     ]
    },
    {
     "name": "stderr",
     "output_type": "stream",
     "text": [
      "Current best val acc: 0.65686:   3%|▎         | 5/144 [00:03<01:36,  1.45it/s]"
     ]
    },
    {
     "name": "stdout",
     "output_type": "stream",
     "text": [
      "Early stopped on epoch: 4\n",
      "Validation accuracy: 0.6372549019607843\n",
      "Validation f1-score: 0.7439446366782007\n",
      "Validation MCC     : 0.1255225187286956\n",
      "\n",
      "Training with parameters:\n",
      " {'num_epochs': 100, 'batch_size': 32, 'learning_rate': 0.01, 'category': 'C', 'norm': False, 'input_size': 1536, 'layer_size': 1536, 'num_layers': 2, 'weight_decay': 0.001, 'patience': 3, 'min_delta': 0, 'device': 'cuda:0'}\n"
     ]
    },
    {
     "name": "stderr",
     "output_type": "stream",
     "text": [
      "Current best val acc: 0.65686:   4%|▍         | 6/144 [00:04<01:44,  1.33it/s]"
     ]
    },
    {
     "name": "stdout",
     "output_type": "stream",
     "text": [
      "Early stopped on epoch: 4\n",
      "Validation accuracy: 0.6421568627450981\n",
      "Validation f1-score: 0.745644599303136\n",
      "Validation MCC     : 0.14455409692771182\n",
      "\n",
      "Training with parameters:\n",
      " {'num_epochs': 100, 'batch_size': 32, 'learning_rate': 0.01, 'category': 'C', 'norm': False, 'input_size': 1536, 'layer_size': 1536, 'num_layers': 2, 'weight_decay': 0.0001, 'patience': 3, 'min_delta': 0, 'device': 'cuda:0'}\n"
     ]
    },
    {
     "name": "stderr",
     "output_type": "stream",
     "text": [
      "Current best val acc: 0.65686:   5%|▍         | 7/144 [00:04<01:48,  1.26it/s]"
     ]
    },
    {
     "name": "stdout",
     "output_type": "stream",
     "text": [
      "Early stopped on epoch: 4\n",
      "Validation accuracy: 0.6397058823529411\n",
      "Validation f1-score: 0.7434554973821991\n",
      "Validation MCC     : 0.14044903135475256\n",
      "\n",
      "Training with parameters:\n",
      " {'num_epochs': 100, 'batch_size': 32, 'learning_rate': 0.01, 'category': 'C', 'norm': False, 'input_size': 1536, 'layer_size': 1536, 'num_layers': 2, 'weight_decay': 1e-05, 'patience': 3, 'min_delta': 0, 'device': 'cuda:0'}\n"
     ]
    },
    {
     "name": "stderr",
     "output_type": "stream",
     "text": [
      "Current best val acc: 0.65686:   6%|▌         | 8/144 [00:05<01:51,  1.22it/s]"
     ]
    },
    {
     "name": "stdout",
     "output_type": "stream",
     "text": [
      "Early stopped on epoch: 4\n",
      "Validation accuracy: 0.5882352941176471\n",
      "Validation f1-score: 0.6744186046511628\n",
      "Validation MCC     : 0.12748837618352024\n",
      "\n",
      "Training with parameters:\n",
      " {'num_epochs': 100, 'batch_size': 32, 'learning_rate': 0.01, 'category': 'C', 'norm': False, 'input_size': 1536, 'layer_size': 1536, 'num_layers': 3, 'weight_decay': 0.01, 'patience': 3, 'min_delta': 0, 'device': 'cuda:0'}\n"
     ]
    },
    {
     "name": "stderr",
     "output_type": "stream",
     "text": [
      "Current best val acc: 0.65686:   6%|▋         | 9/144 [00:06<02:02,  1.10it/s]"
     ]
    },
    {
     "name": "stdout",
     "output_type": "stream",
     "text": [
      "Early stopped on epoch: 4\n",
      "Validation accuracy: 0.6446078431372549\n",
      "Validation f1-score: 0.7495682210708118\n",
      "Validation MCC     : 0.1416174696288792\n",
      "\n",
      "Training with parameters:\n",
      " {'num_epochs': 100, 'batch_size': 32, 'learning_rate': 0.01, 'category': 'C', 'norm': False, 'input_size': 1536, 'layer_size': 1536, 'num_layers': 3, 'weight_decay': 0.001, 'patience': 3, 'min_delta': 0, 'device': 'cuda:0'}\n"
     ]
    },
    {
     "name": "stderr",
     "output_type": "stream",
     "text": [
      "Current best val acc: 0.65686:   7%|▋         | 10/144 [00:08<02:09,  1.04it/s]"
     ]
    },
    {
     "name": "stdout",
     "output_type": "stream",
     "text": [
      "Early stopped on epoch: 4\n",
      "Validation accuracy: 0.6372549019607843\n",
      "Validation f1-score: 0.7557755775577557\n",
      "Validation MCC     : 0.07122162638502226\n",
      "\n",
      "Training with parameters:\n",
      " {'num_epochs': 100, 'batch_size': 32, 'learning_rate': 0.01, 'category': 'C', 'norm': False, 'input_size': 1536, 'layer_size': 1536, 'num_layers': 3, 'weight_decay': 0.0001, 'patience': 3, 'min_delta': 0, 'device': 'cuda:0'}\n"
     ]
    },
    {
     "name": "stderr",
     "output_type": "stream",
     "text": [
      "Current best val acc: 0.65686:   8%|▊         | 11/144 [00:09<02:24,  1.09s/it]"
     ]
    },
    {
     "name": "stdout",
     "output_type": "stream",
     "text": [
      "Early stopped on epoch: 5\n",
      "Validation accuracy: 0.6274509803921569\n",
      "Validation f1-score: 0.7351916376306621\n",
      "Validation MCC     : 0.10921672631866063\n",
      "\n",
      "Training with parameters:\n",
      " {'num_epochs': 100, 'batch_size': 32, 'learning_rate': 0.01, 'category': 'C', 'norm': False, 'input_size': 1536, 'layer_size': 1536, 'num_layers': 3, 'weight_decay': 1e-05, 'patience': 3, 'min_delta': 0, 'device': 'cuda:0'}\n"
     ]
    },
    {
     "name": "stderr",
     "output_type": "stream",
     "text": [
      "Current best val acc: 0.65686:   8%|▊         | 12/144 [00:10<02:23,  1.09s/it]"
     ]
    },
    {
     "name": "stdout",
     "output_type": "stream",
     "text": [
      "Early stopped on epoch: 4\n",
      "Validation accuracy: 0.6544117647058824\n",
      "Validation f1-score: 0.7564766839378239\n",
      "Validation MCC     : 0.1655132213280449\n",
      "\n",
      "Training with parameters:\n",
      " {'num_epochs': 100, 'batch_size': 32, 'learning_rate': 0.001, 'category': 'C', 'norm': False, 'input_size': 1536, 'layer_size': 1536, 'num_layers': 1, 'weight_decay': 0.01, 'patience': 3, 'min_delta': 0, 'device': 'cuda:0'}\n"
     ]
    },
    {
     "name": "stderr",
     "output_type": "stream",
     "text": [
      "Current best val acc: 0.68137:   9%|▉         | 13/144 [00:11<02:02,  1.07it/s]"
     ]
    },
    {
     "name": "stdout",
     "output_type": "stream",
     "text": [
      "Early stopped on epoch: 4\n",
      "Validation accuracy: 0.6813725490196079\n",
      "Validation f1-score: 0.7962382445141066\n",
      "Validation MCC     : 0.13794704207879543\n",
      "\n",
      "Training with parameters:\n",
      " {'num_epochs': 100, 'batch_size': 32, 'learning_rate': 0.001, 'category': 'C', 'norm': False, 'input_size': 1536, 'layer_size': 1536, 'num_layers': 1, 'weight_decay': 0.001, 'patience': 3, 'min_delta': 0, 'device': 'cuda:0'}\n"
     ]
    },
    {
     "name": "stderr",
     "output_type": "stream",
     "text": [
      "Current best val acc: 0.68137:  10%|▉         | 14/144 [00:11<01:47,  1.21it/s]"
     ]
    },
    {
     "name": "stdout",
     "output_type": "stream",
     "text": [
      "Early stopped on epoch: 4\n",
      "Validation accuracy: 0.6299019607843137\n",
      "Validation f1-score: 0.747068676716918\n",
      "Validation MCC     : 0.0704791778121475\n",
      "\n",
      "Training with parameters:\n",
      " {'num_epochs': 100, 'batch_size': 32, 'learning_rate': 0.001, 'category': 'C', 'norm': False, 'input_size': 1536, 'layer_size': 1536, 'num_layers': 1, 'weight_decay': 0.0001, 'patience': 3, 'min_delta': 0, 'device': 'cuda:0'}\n"
     ]
    },
    {
     "name": "stderr",
     "output_type": "stream",
     "text": [
      "Current best val acc: 0.68137:  10%|█         | 15/144 [00:12<01:37,  1.32it/s]"
     ]
    },
    {
     "name": "stdout",
     "output_type": "stream",
     "text": [
      "Early stopped on epoch: 4\n",
      "Validation accuracy: 0.6568627450980392\n",
      "Validation f1-score: 0.773462783171521\n",
      "Validation MCC     : 0.10101700011146234\n",
      "\n",
      "Training with parameters:\n",
      " {'num_epochs': 100, 'batch_size': 32, 'learning_rate': 0.001, 'category': 'C', 'norm': False, 'input_size': 1536, 'layer_size': 1536, 'num_layers': 1, 'weight_decay': 1e-05, 'patience': 3, 'min_delta': 0, 'device': 'cuda:0'}\n"
     ]
    },
    {
     "name": "stderr",
     "output_type": "stream",
     "text": [
      "Current best val acc: 0.68137:  11%|█         | 16/144 [00:12<01:30,  1.42it/s]"
     ]
    },
    {
     "name": "stdout",
     "output_type": "stream",
     "text": [
      "Early stopped on epoch: 4\n",
      "Validation accuracy: 0.6421568627450981\n",
      "Validation f1-score: 0.7533783783783785\n",
      "Validation MCC     : 0.11178770292773703\n",
      "\n",
      "Training with parameters:\n",
      " {'num_epochs': 100, 'batch_size': 32, 'learning_rate': 0.001, 'category': 'C', 'norm': False, 'input_size': 1536, 'layer_size': 1536, 'num_layers': 2, 'weight_decay': 0.01, 'patience': 3, 'min_delta': 0, 'device': 'cuda:0'}\n"
     ]
    },
    {
     "name": "stderr",
     "output_type": "stream",
     "text": [
      "Current best val acc: 0.68137:  12%|█▏        | 17/144 [00:13<01:36,  1.32it/s]"
     ]
    },
    {
     "name": "stdout",
     "output_type": "stream",
     "text": [
      "Early stopped on epoch: 4\n",
      "Validation accuracy: 0.6200980392156863\n",
      "Validation f1-score: 0.7322970639032815\n",
      "Validation MCC     : 0.08187809038096489\n",
      "\n",
      "Training with parameters:\n",
      " {'num_epochs': 100, 'batch_size': 32, 'learning_rate': 0.001, 'category': 'C', 'norm': False, 'input_size': 1536, 'layer_size': 1536, 'num_layers': 2, 'weight_decay': 0.001, 'patience': 3, 'min_delta': 0, 'device': 'cuda:0'}\n"
     ]
    },
    {
     "name": "stderr",
     "output_type": "stream",
     "text": [
      "Current best val acc: 0.68137:  12%|█▎        | 18/144 [00:14<01:39,  1.26it/s]"
     ]
    },
    {
     "name": "stdout",
     "output_type": "stream",
     "text": [
      "Early stopped on epoch: 4\n",
      "Validation accuracy: 0.6691176470588235\n",
      "Validation f1-score: 0.7692307692307693\n",
      "Validation MCC     : 0.19172686248267184\n",
      "\n",
      "Training with parameters:\n",
      " {'num_epochs': 100, 'batch_size': 32, 'learning_rate': 0.001, 'category': 'C', 'norm': False, 'input_size': 1536, 'layer_size': 1536, 'num_layers': 2, 'weight_decay': 0.0001, 'patience': 3, 'min_delta': 0, 'device': 'cuda:0'}\n"
     ]
    },
    {
     "name": "stderr",
     "output_type": "stream",
     "text": [
      "Current best val acc: 0.68137:  13%|█▎        | 19/144 [00:15<01:42,  1.22it/s]"
     ]
    },
    {
     "name": "stdout",
     "output_type": "stream",
     "text": [
      "Early stopped on epoch: 4\n",
      "Validation accuracy: 0.6740196078431373\n",
      "Validation f1-score: 0.768695652173913\n",
      "Validation MCC     : 0.21955660196955432\n",
      "\n",
      "Training with parameters:\n",
      " {'num_epochs': 100, 'batch_size': 32, 'learning_rate': 0.001, 'category': 'C', 'norm': False, 'input_size': 1536, 'layer_size': 1536, 'num_layers': 2, 'weight_decay': 1e-05, 'patience': 3, 'min_delta': 0, 'device': 'cuda:0'}\n"
     ]
    },
    {
     "name": "stderr",
     "output_type": "stream",
     "text": [
      "Current best val acc: 0.68137:  14%|█▍        | 20/144 [00:16<01:43,  1.19it/s]"
     ]
    },
    {
     "name": "stdout",
     "output_type": "stream",
     "text": [
      "Early stopped on epoch: 4\n",
      "Validation accuracy: 0.6642156862745098\n",
      "Validation f1-score: 0.7658119658119658\n",
      "Validation MCC     : 0.1795537283567879\n",
      "\n",
      "Training with parameters:\n",
      " {'num_epochs': 100, 'batch_size': 32, 'learning_rate': 0.001, 'category': 'C', 'norm': False, 'input_size': 1536, 'layer_size': 1536, 'num_layers': 3, 'weight_decay': 0.01, 'patience': 3, 'min_delta': 0, 'device': 'cuda:0'}\n"
     ]
    },
    {
     "name": "stderr",
     "output_type": "stream",
     "text": [
      "Current best val acc: 0.68137:  15%|█▍        | 21/144 [00:17<01:52,  1.09it/s]"
     ]
    },
    {
     "name": "stdout",
     "output_type": "stream",
     "text": [
      "Early stopped on epoch: 4\n",
      "Validation accuracy: 0.6568627450980392\n",
      "Validation f1-score: 0.7674418604651164\n",
      "Validation MCC     : 0.13141577911512117\n",
      "\n",
      "Training with parameters:\n",
      " {'num_epochs': 100, 'batch_size': 32, 'learning_rate': 0.001, 'category': 'C', 'norm': False, 'input_size': 1536, 'layer_size': 1536, 'num_layers': 3, 'weight_decay': 0.001, 'patience': 3, 'min_delta': 0, 'device': 'cuda:0'}\n"
     ]
    },
    {
     "name": "stderr",
     "output_type": "stream",
     "text": [
      "Current best val acc: 0.68137:  15%|█▌        | 22/144 [00:18<02:08,  1.05s/it]"
     ]
    },
    {
     "name": "stdout",
     "output_type": "stream",
     "text": [
      "Early stopped on epoch: 5\n",
      "Validation accuracy: 0.678921568627451\n",
      "Validation f1-score: 0.7841845140032948\n",
      "Validation MCC     : 0.18196517966946543\n",
      "\n",
      "Training with parameters:\n",
      " {'num_epochs': 100, 'batch_size': 32, 'learning_rate': 0.001, 'category': 'C', 'norm': False, 'input_size': 1536, 'layer_size': 1536, 'num_layers': 3, 'weight_decay': 0.0001, 'patience': 3, 'min_delta': 0, 'device': 'cuda:0'}\n"
     ]
    },
    {
     "name": "stderr",
     "output_type": "stream",
     "text": [
      "Current best val acc: 0.68137:  16%|█▌        | 23/144 [00:20<02:18,  1.15s/it]"
     ]
    },
    {
     "name": "stdout",
     "output_type": "stream",
     "text": [
      "Early stopped on epoch: 5\n",
      "Validation accuracy: 0.6740196078431373\n",
      "Validation f1-score: 0.7757166947723438\n",
      "Validation MCC     : 0.19126745989892166\n",
      "\n",
      "Training with parameters:\n",
      " {'num_epochs': 100, 'batch_size': 32, 'learning_rate': 0.001, 'category': 'C', 'norm': False, 'input_size': 1536, 'layer_size': 1536, 'num_layers': 3, 'weight_decay': 1e-05, 'patience': 3, 'min_delta': 0, 'device': 'cuda:0'}\n"
     ]
    },
    {
     "name": "stderr",
     "output_type": "stream",
     "text": [
      "Current best val acc: 0.68627:  17%|█▋        | 24/144 [00:21<02:25,  1.21s/it]"
     ]
    },
    {
     "name": "stdout",
     "output_type": "stream",
     "text": [
      "Early stopped on epoch: 5\n",
      "Validation accuracy: 0.6862745098039216\n",
      "Validation f1-score: 0.785953177257525\n",
      "Validation MCC     : 0.21519788951608285\n",
      "\n",
      "Training with parameters:\n",
      " {'num_epochs': 100, 'batch_size': 32, 'learning_rate': 0.0001, 'category': 'C', 'norm': False, 'input_size': 1536, 'layer_size': 1536, 'num_layers': 1, 'weight_decay': 0.01, 'patience': 3, 'min_delta': 0, 'device': 'cuda:0'}\n"
     ]
    },
    {
     "name": "stderr",
     "output_type": "stream",
     "text": [
      "Current best val acc: 0.68873:  17%|█▋        | 25/144 [00:22<02:11,  1.11s/it]"
     ]
    },
    {
     "name": "stdout",
     "output_type": "stream",
     "text": [
      "Early stopped on epoch: 6\n",
      "Validation accuracy: 0.6887254901960784\n",
      "Validation f1-score: 0.804915514592934\n",
      "Validation MCC     : 0.14156677317614555\n",
      "\n",
      "Training with parameters:\n",
      " {'num_epochs': 100, 'batch_size': 32, 'learning_rate': 0.0001, 'category': 'C', 'norm': False, 'input_size': 1536, 'layer_size': 1536, 'num_layers': 1, 'weight_decay': 0.001, 'patience': 3, 'min_delta': 0, 'device': 'cuda:0'}\n"
     ]
    },
    {
     "name": "stderr",
     "output_type": "stream",
     "text": [
      "Current best val acc: 0.68873:  18%|█▊        | 26/144 [00:23<02:01,  1.03s/it]"
     ]
    },
    {
     "name": "stdout",
     "output_type": "stream",
     "text": [
      "Early stopped on epoch: 6\n",
      "Validation accuracy: 0.6813725490196079\n",
      "Validation f1-score: 0.7962382445141066\n",
      "Validation MCC     : 0.13794704207879543\n",
      "\n",
      "Training with parameters:\n",
      " {'num_epochs': 100, 'batch_size': 32, 'learning_rate': 0.0001, 'category': 'C', 'norm': False, 'input_size': 1536, 'layer_size': 1536, 'num_layers': 1, 'weight_decay': 0.0001, 'patience': 3, 'min_delta': 0, 'device': 'cuda:0'}\n"
     ]
    },
    {
     "name": "stderr",
     "output_type": "stream",
     "text": [
      "Current best val acc: 0.68873:  19%|█▉        | 27/144 [00:24<01:54,  1.02it/s]"
     ]
    },
    {
     "name": "stdout",
     "output_type": "stream",
     "text": [
      "Early stopped on epoch: 6\n",
      "Validation accuracy: 0.6764705882352942\n",
      "Validation f1-score: 0.7943925233644861\n",
      "Validation MCC     : 0.11395263148967148\n",
      "\n",
      "Training with parameters:\n",
      " {'num_epochs': 100, 'batch_size': 32, 'learning_rate': 0.0001, 'category': 'C', 'norm': False, 'input_size': 1536, 'layer_size': 1536, 'num_layers': 1, 'weight_decay': 1e-05, 'patience': 3, 'min_delta': 0, 'device': 'cuda:0'}\n"
     ]
    },
    {
     "name": "stderr",
     "output_type": "stream",
     "text": [
      "Current best val acc: 0.69118:  19%|█▉        | 28/144 [00:25<01:49,  1.05it/s]"
     ]
    },
    {
     "name": "stdout",
     "output_type": "stream",
     "text": [
      "Early stopped on epoch: 6\n",
      "Validation accuracy: 0.6911764705882353\n",
      "Validation f1-score: 0.8061538461538462\n",
      "Validation MCC     : 0.15238086095517642\n",
      "\n",
      "Training with parameters:\n",
      " {'num_epochs': 100, 'batch_size': 32, 'learning_rate': 0.0001, 'category': 'C', 'norm': False, 'input_size': 1536, 'layer_size': 1536, 'num_layers': 2, 'weight_decay': 0.01, 'patience': 3, 'min_delta': 0, 'device': 'cuda:0'}\n"
     ]
    },
    {
     "name": "stderr",
     "output_type": "stream",
     "text": [
      "Current best val acc: 0.69363:  20%|██        | 29/144 [00:26<01:54,  1.01it/s]"
     ]
    },
    {
     "name": "stdout",
     "output_type": "stream",
     "text": [
      "Early stopped on epoch: 5\n",
      "Validation accuracy: 0.6936274509803921\n",
      "Validation f1-score: 0.7987117552334944\n",
      "Validation MCC     : 0.2022984990145712\n",
      "\n",
      "Training with parameters:\n",
      " {'num_epochs': 100, 'batch_size': 32, 'learning_rate': 0.0001, 'category': 'C', 'norm': False, 'input_size': 1536, 'layer_size': 1536, 'num_layers': 2, 'weight_decay': 0.001, 'patience': 3, 'min_delta': 0, 'device': 'cuda:0'}\n"
     ]
    },
    {
     "name": "stderr",
     "output_type": "stream",
     "text": [
      "Current best val acc: 0.69363:  21%|██        | 30/144 [00:27<01:56,  1.03s/it]"
     ]
    },
    {
     "name": "stdout",
     "output_type": "stream",
     "text": [
      "Early stopped on epoch: 5\n",
      "Validation accuracy: 0.6691176470588235\n",
      "Validation f1-score: 0.7783251231527094\n",
      "Validation MCC     : 0.15198628524239083\n",
      "\n",
      "Training with parameters:\n",
      " {'num_epochs': 100, 'batch_size': 32, 'learning_rate': 0.0001, 'category': 'C', 'norm': False, 'input_size': 1536, 'layer_size': 1536, 'num_layers': 2, 'weight_decay': 0.0001, 'patience': 3, 'min_delta': 0, 'device': 'cuda:0'}\n"
     ]
    },
    {
     "name": "stderr",
     "output_type": "stream",
     "text": [
      "Current best val acc: 0.69363:  22%|██▏       | 31/144 [00:28<01:57,  1.04s/it]"
     ]
    },
    {
     "name": "stdout",
     "output_type": "stream",
     "text": [
      "Early stopped on epoch: 5\n",
      "Validation accuracy: 0.6617647058823529\n",
      "Validation f1-score: 0.77\n",
      "Validation MCC     : 0.1479010078489271\n",
      "\n",
      "Training with parameters:\n",
      " {'num_epochs': 100, 'batch_size': 32, 'learning_rate': 0.0001, 'category': 'C', 'norm': False, 'input_size': 1536, 'layer_size': 1536, 'num_layers': 2, 'weight_decay': 1e-05, 'patience': 3, 'min_delta': 0, 'device': 'cuda:0'}\n"
     ]
    },
    {
     "name": "stderr",
     "output_type": "stream",
     "text": [
      "Current best val acc: 0.69363:  22%|██▏       | 32/144 [00:29<01:58,  1.06s/it]"
     ]
    },
    {
     "name": "stdout",
     "output_type": "stream",
     "text": [
      "Early stopped on epoch: 5\n",
      "Validation accuracy: 0.6470588235294118\n",
      "Validation f1-score: 0.76\n",
      "Validation MCC     : 0.10929345109757568\n",
      "\n",
      "Training with parameters:\n",
      " {'num_epochs': 100, 'batch_size': 32, 'learning_rate': 0.0001, 'category': 'C', 'norm': False, 'input_size': 1536, 'layer_size': 1536, 'num_layers': 3, 'weight_decay': 0.01, 'patience': 3, 'min_delta': 0, 'device': 'cuda:0'}\n"
     ]
    },
    {
     "name": "stderr",
     "output_type": "stream",
     "text": [
      "Current best val acc: 0.69363:  23%|██▎       | 33/144 [00:30<02:07,  1.15s/it]"
     ]
    },
    {
     "name": "stdout",
     "output_type": "stream",
     "text": [
      "Early stopped on epoch: 5\n",
      "Validation accuracy: 0.6323529411764706\n",
      "Validation f1-score: 0.743150684931507\n",
      "Validation MCC     : 0.10233381945368783\n",
      "\n",
      "Training with parameters:\n",
      " {'num_epochs': 100, 'batch_size': 32, 'learning_rate': 0.0001, 'category': 'C', 'norm': False, 'input_size': 1536, 'layer_size': 1536, 'num_layers': 3, 'weight_decay': 0.001, 'patience': 3, 'min_delta': 0, 'device': 'cuda:0'}\n"
     ]
    },
    {
     "name": "stderr",
     "output_type": "stream",
     "text": [
      "Current best val acc: 0.69363:  24%|██▎       | 34/144 [00:31<02:05,  1.14s/it]"
     ]
    },
    {
     "name": "stdout",
     "output_type": "stream",
     "text": [
      "Early stopped on epoch: 4\n",
      "Validation accuracy: 0.6053921568627451\n",
      "Validation f1-score: 0.6979362101313322\n",
      "Validation MCC     : 0.13384511736496305\n",
      "\n",
      "Training with parameters:\n",
      " {'num_epochs': 100, 'batch_size': 32, 'learning_rate': 0.0001, 'category': 'C', 'norm': False, 'input_size': 1536, 'layer_size': 1536, 'num_layers': 3, 'weight_decay': 0.0001, 'patience': 3, 'min_delta': 0, 'device': 'cuda:0'}\n"
     ]
    },
    {
     "name": "stderr",
     "output_type": "stream",
     "text": [
      "Current best val acc: 0.69608:  24%|██▍       | 35/144 [00:33<02:11,  1.20s/it]"
     ]
    },
    {
     "name": "stdout",
     "output_type": "stream",
     "text": [
      "Early stopped on epoch: 5\n",
      "Validation accuracy: 0.696078431372549\n",
      "Validation f1-score: 0.7940199335548173\n",
      "Validation MCC     : 0.23525046878632802\n",
      "\n",
      "Training with parameters:\n",
      " {'num_epochs': 100, 'batch_size': 32, 'learning_rate': 0.0001, 'category': 'C', 'norm': False, 'input_size': 1536, 'layer_size': 1536, 'num_layers': 3, 'weight_decay': 1e-05, 'patience': 3, 'min_delta': 0, 'device': 'cuda:0'}\n"
     ]
    },
    {
     "name": "stderr",
     "output_type": "stream",
     "text": [
      "Current best val acc: 0.69608:  25%|██▌       | 36/144 [00:34<02:06,  1.17s/it]"
     ]
    },
    {
     "name": "stdout",
     "output_type": "stream",
     "text": [
      "Early stopped on epoch: 4\n",
      "Validation accuracy: 0.6544117647058824\n",
      "Validation f1-score: 0.7714748784440842\n",
      "Validation MCC     : 0.09602046482612785\n",
      "\n",
      "Training with parameters:\n",
      " {'num_epochs': 100, 'batch_size': 32, 'learning_rate': 1e-05, 'category': 'C', 'norm': False, 'input_size': 1536, 'layer_size': 1536, 'num_layers': 1, 'weight_decay': 0.01, 'patience': 3, 'min_delta': 0, 'device': 'cuda:0'}\n"
     ]
    },
    {
     "name": "stderr",
     "output_type": "stream",
     "text": [
      "Current best val acc: 0.70588:  26%|██▌       | 37/144 [00:38<03:52,  2.17s/it]"
     ]
    },
    {
     "name": "stdout",
     "output_type": "stream",
     "text": [
      "Early stopped on epoch: 32\n",
      "Validation accuracy: 0.7058823529411765\n",
      "Validation f1-score: 0.8187311178247733\n",
      "Validation MCC     : 0.19990543703818464\n",
      "\n",
      "Training with parameters:\n",
      " {'num_epochs': 100, 'batch_size': 32, 'learning_rate': 1e-05, 'category': 'C', 'norm': False, 'input_size': 1536, 'layer_size': 1536, 'num_layers': 1, 'weight_decay': 0.001, 'patience': 3, 'min_delta': 0, 'device': 'cuda:0'}\n"
     ]
    },
    {
     "name": "stderr",
     "output_type": "stream",
     "text": [
      "Current best val acc: 0.70588:  26%|██▋       | 38/144 [00:43<04:56,  2.80s/it]"
     ]
    },
    {
     "name": "stdout",
     "output_type": "stream",
     "text": [
      "Early stopped on epoch: 30\n",
      "Validation accuracy: 0.7058823529411765\n",
      "Validation f1-score: 0.8192771084337349\n",
      "Validation MCC     : 0.19947144516088813\n",
      "\n",
      "Training with parameters:\n",
      " {'num_epochs': 100, 'batch_size': 32, 'learning_rate': 1e-05, 'category': 'C', 'norm': False, 'input_size': 1536, 'layer_size': 1536, 'num_layers': 1, 'weight_decay': 0.0001, 'patience': 3, 'min_delta': 0, 'device': 'cuda:0'}\n"
     ]
    },
    {
     "name": "stderr",
     "output_type": "stream",
     "text": [
      "Current best val acc: 0.70588:  27%|██▋       | 39/144 [00:47<05:42,  3.26s/it]"
     ]
    },
    {
     "name": "stdout",
     "output_type": "stream",
     "text": [
      "Early stopped on epoch: 31\n",
      "Validation accuracy: 0.7034313725490197\n",
      "Validation f1-score: 0.8174962292609351\n",
      "Validation MCC     : 0.18844260071584729\n",
      "\n",
      "Training with parameters:\n",
      " {'num_epochs': 100, 'batch_size': 32, 'learning_rate': 1e-05, 'category': 'C', 'norm': False, 'input_size': 1536, 'layer_size': 1536, 'num_layers': 1, 'weight_decay': 1e-05, 'patience': 3, 'min_delta': 0, 'device': 'cuda:0'}\n"
     ]
    },
    {
     "name": "stderr",
     "output_type": "stream",
     "text": [
      "Current best val acc: 0.70833:  28%|██▊       | 40/144 [00:51<06:18,  3.64s/it]"
     ]
    },
    {
     "name": "stdout",
     "output_type": "stream",
     "text": [
      "Early stopped on epoch: 32\n",
      "Validation accuracy: 0.7083333333333334\n",
      "Validation f1-score: 0.8199697428139183\n",
      "Validation MCC     : 0.21103650383300465\n",
      "\n",
      "Training with parameters:\n",
      " {'num_epochs': 100, 'batch_size': 32, 'learning_rate': 1e-05, 'category': 'C', 'norm': False, 'input_size': 1536, 'layer_size': 1536, 'num_layers': 2, 'weight_decay': 0.01, 'patience': 3, 'min_delta': 0, 'device': 'cuda:0'}\n"
     ]
    },
    {
     "name": "stderr",
     "output_type": "stream",
     "text": [
      "Current best val acc: 0.70833:  28%|██▊       | 41/144 [00:55<06:16,  3.65s/it]"
     ]
    },
    {
     "name": "stdout",
     "output_type": "stream",
     "text": [
      "Early stopped on epoch: 17\n",
      "Validation accuracy: 0.6985294117647058\n",
      "Validation f1-score: 0.8133535660091046\n",
      "Validation MCC     : 0.16986083096841023\n",
      "\n",
      "Training with parameters:\n",
      " {'num_epochs': 100, 'batch_size': 32, 'learning_rate': 1e-05, 'category': 'C', 'norm': False, 'input_size': 1536, 'layer_size': 1536, 'num_layers': 2, 'weight_decay': 0.001, 'patience': 3, 'min_delta': 0, 'device': 'cuda:0'}\n"
     ]
    },
    {
     "name": "stderr",
     "output_type": "stream",
     "text": [
      "Current best val acc: 0.70833:  29%|██▉       | 42/144 [00:59<06:19,  3.72s/it]"
     ]
    },
    {
     "name": "stdout",
     "output_type": "stream",
     "text": [
      "Early stopped on epoch: 18\n",
      "Validation accuracy: 0.7009803921568627\n",
      "Validation f1-score: 0.8157099697885196\n",
      "Validation MCC     : 0.1779271513169291\n",
      "\n",
      "Training with parameters:\n",
      " {'num_epochs': 100, 'batch_size': 32, 'learning_rate': 1e-05, 'category': 'C', 'norm': False, 'input_size': 1536, 'layer_size': 1536, 'num_layers': 2, 'weight_decay': 0.0001, 'patience': 3, 'min_delta': 0, 'device': 'cuda:0'}\n"
     ]
    },
    {
     "name": "stderr",
     "output_type": "stream",
     "text": [
      "Current best val acc: 0.70833:  30%|██▉       | 43/144 [01:03<06:26,  3.83s/it]"
     ]
    },
    {
     "name": "stdout",
     "output_type": "stream",
     "text": [
      "Early stopped on epoch: 19\n",
      "Validation accuracy: 0.6838235294117647\n",
      "Validation f1-score: 0.8024502297090353\n",
      "Validation MCC     : 0.11919772430258552\n",
      "\n",
      "Training with parameters:\n",
      " {'num_epochs': 100, 'batch_size': 32, 'learning_rate': 1e-05, 'category': 'C', 'norm': False, 'input_size': 1536, 'layer_size': 1536, 'num_layers': 2, 'weight_decay': 1e-05, 'patience': 3, 'min_delta': 0, 'device': 'cuda:0'}\n"
     ]
    },
    {
     "name": "stderr",
     "output_type": "stream",
     "text": [
      "Current best val acc: 0.70833:  31%|███       | 44/144 [01:07<06:17,  3.78s/it]"
     ]
    },
    {
     "name": "stdout",
     "output_type": "stream",
     "text": [
      "Early stopped on epoch: 17\n",
      "Validation accuracy: 0.7009803921568627\n",
      "Validation f1-score: 0.8140243902439025\n",
      "Validation MCC     : 0.18299114964184818\n",
      "\n",
      "Training with parameters:\n",
      " {'num_epochs': 100, 'batch_size': 32, 'learning_rate': 1e-05, 'category': 'C', 'norm': False, 'input_size': 1536, 'layer_size': 1536, 'num_layers': 3, 'weight_decay': 0.01, 'patience': 3, 'min_delta': 0, 'device': 'cuda:0'}\n"
     ]
    },
    {
     "name": "stderr",
     "output_type": "stream",
     "text": [
      "Current best val acc: 0.70833:  31%|███▏      | 45/144 [01:10<05:49,  3.53s/it]"
     ]
    },
    {
     "name": "stdout",
     "output_type": "stream",
     "text": [
      "Early stopped on epoch: 11\n",
      "Validation accuracy: 0.6887254901960784\n",
      "Validation f1-score: 0.804915514592934\n",
      "Validation MCC     : 0.14156677317614555\n",
      "\n",
      "Training with parameters:\n",
      " {'num_epochs': 100, 'batch_size': 32, 'learning_rate': 1e-05, 'category': 'C', 'norm': False, 'input_size': 1536, 'layer_size': 1536, 'num_layers': 3, 'weight_decay': 0.001, 'patience': 3, 'min_delta': 0, 'device': 'cuda:0'}\n"
     ]
    },
    {
     "name": "stderr",
     "output_type": "stream",
     "text": [
      "Current best val acc: 0.70833:  32%|███▏      | 46/144 [01:13<05:37,  3.44s/it]"
     ]
    },
    {
     "name": "stdout",
     "output_type": "stream",
     "text": [
      "Early stopped on epoch: 12\n",
      "Validation accuracy: 0.6838235294117647\n",
      "Validation f1-score: 0.7962085308056872\n",
      "Validation MCC     : 0.15440435854986953\n",
      "\n",
      "Training with parameters:\n",
      " {'num_epochs': 100, 'batch_size': 32, 'learning_rate': 1e-05, 'category': 'C', 'norm': False, 'input_size': 1536, 'layer_size': 1536, 'num_layers': 3, 'weight_decay': 0.0001, 'patience': 3, 'min_delta': 0, 'device': 'cuda:0'}\n"
     ]
    },
    {
     "name": "stderr",
     "output_type": "stream",
     "text": [
      "Current best val acc: 0.70833:  33%|███▎      | 47/144 [01:16<05:19,  3.29s/it]"
     ]
    },
    {
     "name": "stdout",
     "output_type": "stream",
     "text": [
      "Early stopped on epoch: 11\n",
      "Validation accuracy: 0.7009803921568627\n",
      "Validation f1-score: 0.8117283950617284\n",
      "Validation MCC     : 0.1912697207374706\n",
      "\n",
      "Training with parameters:\n",
      " {'num_epochs': 100, 'batch_size': 32, 'learning_rate': 1e-05, 'category': 'C', 'norm': False, 'input_size': 1536, 'layer_size': 1536, 'num_layers': 3, 'weight_decay': 1e-05, 'patience': 3, 'min_delta': 0, 'device': 'cuda:0'}\n"
     ]
    },
    {
     "name": "stderr",
     "output_type": "stream",
     "text": [
      "Current best val acc: 0.70833:  33%|███▎      | 48/144 [01:19<05:21,  3.34s/it]"
     ]
    },
    {
     "name": "stdout",
     "output_type": "stream",
     "text": [
      "Early stopped on epoch: 13\n",
      "Validation accuracy: 0.6764705882352942\n",
      "Validation f1-score: 0.7884615384615384\n",
      "Validation MCC     : 0.1470557229164403\n",
      "\n",
      "Training with parameters:\n",
      " {'num_epochs': 100, 'batch_size': 128, 'learning_rate': 0.01, 'category': 'C', 'norm': False, 'input_size': 1536, 'layer_size': 1536, 'num_layers': 1, 'weight_decay': 0.01, 'patience': 3, 'min_delta': 0, 'device': 'cuda:0'}\n"
     ]
    },
    {
     "name": "stderr",
     "output_type": "stream",
     "text": [
      "Current best val acc: 0.70833:  34%|███▍      | 49/144 [01:20<03:49,  2.42s/it]"
     ]
    },
    {
     "name": "stdout",
     "output_type": "stream",
     "text": [
      "Early stopped on epoch: 4\n",
      "Validation accuracy: 0.6666666666666666\n",
      "Validation f1-score: 0.7655172413793103\n",
      "Validation MCC     : 0.1937645797079966\n",
      "\n",
      "Training with parameters:\n",
      " {'num_epochs': 100, 'batch_size': 128, 'learning_rate': 0.01, 'category': 'C', 'norm': False, 'input_size': 1536, 'layer_size': 1536, 'num_layers': 1, 'weight_decay': 0.001, 'patience': 3, 'min_delta': 0, 'device': 'cuda:0'}\n"
     ]
    },
    {
     "name": "stderr",
     "output_type": "stream",
     "text": [
      "Current best val acc: 0.70833:  35%|███▍      | 50/144 [01:20<02:45,  1.77s/it]"
     ]
    },
    {
     "name": "stdout",
     "output_type": "stream",
     "text": [
      "Early stopped on epoch: 4\n",
      "Validation accuracy: 0.6397058823529411\n",
      "Validation f1-score: 0.7360861759425494\n",
      "Validation MCC     : 0.16852706790792543\n",
      "\n",
      "Training with parameters:\n",
      " {'num_epochs': 100, 'batch_size': 128, 'learning_rate': 0.01, 'category': 'C', 'norm': False, 'input_size': 1536, 'layer_size': 1536, 'num_layers': 1, 'weight_decay': 0.0001, 'patience': 3, 'min_delta': 0, 'device': 'cuda:0'}\n"
     ]
    },
    {
     "name": "stderr",
     "output_type": "stream",
     "text": [
      "Current best val acc: 0.70833:  35%|███▌      | 51/144 [01:20<02:01,  1.31s/it]"
     ]
    },
    {
     "name": "stdout",
     "output_type": "stream",
     "text": [
      "Early stopped on epoch: 4\n",
      "Validation accuracy: 0.6299019607843137\n",
      "Validation f1-score: 0.7327433628318584\n",
      "Validation MCC     : 0.13155652112452218\n",
      "\n",
      "Training with parameters:\n",
      " {'num_epochs': 100, 'batch_size': 128, 'learning_rate': 0.01, 'category': 'C', 'norm': False, 'input_size': 1536, 'layer_size': 1536, 'num_layers': 1, 'weight_decay': 1e-05, 'patience': 3, 'min_delta': 0, 'device': 'cuda:0'}\n"
     ]
    },
    {
     "name": "stderr",
     "output_type": "stream",
     "text": [
      "Current best val acc: 0.70833:  36%|███▌      | 52/144 [01:20<01:31,  1.01it/s]"
     ]
    },
    {
     "name": "stdout",
     "output_type": "stream",
     "text": [
      "Early stopped on epoch: 4\n",
      "Validation accuracy: 0.6813725490196079\n",
      "Validation f1-score: 0.7804054054054054\n",
      "Validation MCC     : 0.21156212522911347\n",
      "\n",
      "Training with parameters:\n",
      " {'num_epochs': 100, 'batch_size': 128, 'learning_rate': 0.01, 'category': 'C', 'norm': False, 'input_size': 1536, 'layer_size': 1536, 'num_layers': 2, 'weight_decay': 0.01, 'patience': 3, 'min_delta': 0, 'device': 'cuda:0'}\n"
     ]
    },
    {
     "name": "stderr",
     "output_type": "stream",
     "text": [
      "Current best val acc: 0.70833:  37%|███▋      | 53/144 [01:21<01:11,  1.27it/s]"
     ]
    },
    {
     "name": "stdout",
     "output_type": "stream",
     "text": [
      "Early stopped on epoch: 4\n",
      "Validation accuracy: 0.6176470588235294\n",
      "Validation f1-score: 0.7337883959044369\n",
      "Validation MCC     : 0.061874776784440796\n",
      "\n",
      "Training with parameters:\n",
      " {'num_epochs': 100, 'batch_size': 128, 'learning_rate': 0.01, 'category': 'C', 'norm': False, 'input_size': 1536, 'layer_size': 1536, 'num_layers': 2, 'weight_decay': 0.001, 'patience': 3, 'min_delta': 0, 'device': 'cuda:0'}\n"
     ]
    },
    {
     "name": "stderr",
     "output_type": "stream",
     "text": [
      "Current best val acc: 0.70833:  38%|███▊      | 54/144 [01:21<00:58,  1.55it/s]"
     ]
    },
    {
     "name": "stdout",
     "output_type": "stream",
     "text": [
      "Early stopped on epoch: 4\n",
      "Validation accuracy: 0.6642156862745098\n",
      "Validation f1-score: 0.7750410509031198\n",
      "Validation MCC     : 0.13858152856731615\n",
      "\n",
      "Training with parameters:\n",
      " {'num_epochs': 100, 'batch_size': 128, 'learning_rate': 0.01, 'category': 'C', 'norm': False, 'input_size': 1536, 'layer_size': 1536, 'num_layers': 2, 'weight_decay': 0.0001, 'patience': 3, 'min_delta': 0, 'device': 'cuda:0'}\n"
     ]
    },
    {
     "name": "stderr",
     "output_type": "stream",
     "text": [
      "Current best val acc: 0.70833:  38%|███▊      | 55/144 [01:21<00:48,  1.83it/s]"
     ]
    },
    {
     "name": "stdout",
     "output_type": "stream",
     "text": [
      "Early stopped on epoch: 4\n",
      "Validation accuracy: 0.6274509803921569\n",
      "Validation f1-score: 0.7285714285714284\n",
      "Validation MCC     : 0.13485430586346753\n",
      "\n",
      "Training with parameters:\n",
      " {'num_epochs': 100, 'batch_size': 128, 'learning_rate': 0.01, 'category': 'C', 'norm': False, 'input_size': 1536, 'layer_size': 1536, 'num_layers': 2, 'weight_decay': 1e-05, 'patience': 3, 'min_delta': 0, 'device': 'cuda:0'}\n"
     ]
    },
    {
     "name": "stderr",
     "output_type": "stream",
     "text": [
      "Current best val acc: 0.70833:  39%|███▉      | 56/144 [01:22<00:43,  2.00it/s]"
     ]
    },
    {
     "name": "stdout",
     "output_type": "stream",
     "text": [
      "Early stopped on epoch: 5\n",
      "Validation accuracy: 0.6299019607843137\n",
      "Validation f1-score: 0.7364746945898778\n",
      "Validation MCC     : 0.11695448244424045\n",
      "\n",
      "Training with parameters:\n",
      " {'num_epochs': 100, 'batch_size': 128, 'learning_rate': 0.01, 'category': 'C', 'norm': False, 'input_size': 1536, 'layer_size': 1536, 'num_layers': 3, 'weight_decay': 0.01, 'patience': 3, 'min_delta': 0, 'device': 'cuda:0'}\n"
     ]
    },
    {
     "name": "stderr",
     "output_type": "stream",
     "text": [
      "Current best val acc: 0.70833:  40%|███▉      | 57/144 [01:22<00:40,  2.16it/s]"
     ]
    },
    {
     "name": "stdout",
     "output_type": "stream",
     "text": [
      "Early stopped on epoch: 4\n",
      "Validation accuracy: 0.6838235294117647\n",
      "Validation f1-score: 0.7922705314009661\n",
      "Validation MCC     : 0.1736693670000221\n",
      "\n",
      "Training with parameters:\n",
      " {'num_epochs': 100, 'batch_size': 128, 'learning_rate': 0.01, 'category': 'C', 'norm': False, 'input_size': 1536, 'layer_size': 1536, 'num_layers': 3, 'weight_decay': 0.001, 'patience': 3, 'min_delta': 0, 'device': 'cuda:0'}\n"
     ]
    },
    {
     "name": "stderr",
     "output_type": "stream",
     "text": [
      "Current best val acc: 0.70833:  40%|████      | 58/144 [01:22<00:37,  2.28it/s]"
     ]
    },
    {
     "name": "stdout",
     "output_type": "stream",
     "text": [
      "Early stopped on epoch: 4\n",
      "Validation accuracy: 0.6740196078431373\n",
      "Validation f1-score: 0.7808896210873146\n",
      "Validation MCC     : 0.1686887502515216\n",
      "\n",
      "Training with parameters:\n",
      " {'num_epochs': 100, 'batch_size': 128, 'learning_rate': 0.01, 'category': 'C', 'norm': False, 'input_size': 1536, 'layer_size': 1536, 'num_layers': 3, 'weight_decay': 0.0001, 'patience': 3, 'min_delta': 0, 'device': 'cuda:0'}\n"
     ]
    },
    {
     "name": "stderr",
     "output_type": "stream",
     "text": [
      "Current best val acc: 0.70833:  41%|████      | 59/144 [01:23<00:35,  2.38it/s]"
     ]
    },
    {
     "name": "stdout",
     "output_type": "stream",
     "text": [
      "Early stopped on epoch: 4\n",
      "Validation accuracy: 0.6102941176470589\n",
      "Validation f1-score: 0.7103825136612022\n",
      "Validation MCC     : 0.11551063872038249\n",
      "\n",
      "Training with parameters:\n",
      " {'num_epochs': 100, 'batch_size': 128, 'learning_rate': 0.01, 'category': 'C', 'norm': False, 'input_size': 1536, 'layer_size': 1536, 'num_layers': 3, 'weight_decay': 1e-05, 'patience': 3, 'min_delta': 0, 'device': 'cuda:0'}\n"
     ]
    },
    {
     "name": "stderr",
     "output_type": "stream",
     "text": [
      "Current best val acc: 0.70833:  42%|████▏     | 60/144 [01:23<00:36,  2.31it/s]"
     ]
    },
    {
     "name": "stdout",
     "output_type": "stream",
     "text": [
      "Early stopped on epoch: 5\n",
      "Validation accuracy: 0.6593137254901961\n",
      "Validation f1-score: 0.7725040916530278\n",
      "Validation MCC     : 0.12145301226897084\n",
      "\n",
      "Training with parameters:\n",
      " {'num_epochs': 100, 'batch_size': 128, 'learning_rate': 0.001, 'category': 'C', 'norm': False, 'input_size': 1536, 'layer_size': 1536, 'num_layers': 1, 'weight_decay': 0.01, 'patience': 3, 'min_delta': 0, 'device': 'cuda:0'}\n"
     ]
    },
    {
     "name": "stderr",
     "output_type": "stream",
     "text": [
      "Current best val acc: 0.70833:  42%|████▏     | 61/144 [01:24<00:32,  2.54it/s]"
     ]
    },
    {
     "name": "stdout",
     "output_type": "stream",
     "text": [
      "Early stopped on epoch: 5\n",
      "Validation accuracy: 0.6691176470588235\n",
      "Validation f1-score: 0.7797716150081566\n",
      "Validation MCC     : 0.14504423274473194\n",
      "\n",
      "Training with parameters:\n",
      " {'num_epochs': 100, 'batch_size': 128, 'learning_rate': 0.001, 'category': 'C', 'norm': False, 'input_size': 1536, 'layer_size': 1536, 'num_layers': 1, 'weight_decay': 0.001, 'patience': 3, 'min_delta': 0, 'device': 'cuda:0'}\n"
     ]
    },
    {
     "name": "stderr",
     "output_type": "stream",
     "text": [
      "Current best val acc: 0.70833:  43%|████▎     | 62/144 [01:24<00:28,  2.87it/s]"
     ]
    },
    {
     "name": "stdout",
     "output_type": "stream",
     "text": [
      "Early stopped on epoch: 4\n",
      "Validation accuracy: 0.6764705882352942\n",
      "Validation f1-score: 0.7931034482758621\n",
      "Validation MCC     : 0.1217320051533709\n",
      "\n",
      "Training with parameters:\n",
      " {'num_epochs': 100, 'batch_size': 128, 'learning_rate': 0.001, 'category': 'C', 'norm': False, 'input_size': 1536, 'layer_size': 1536, 'num_layers': 1, 'weight_decay': 0.0001, 'patience': 3, 'min_delta': 0, 'device': 'cuda:0'}\n"
     ]
    },
    {
     "name": "stderr",
     "output_type": "stream",
     "text": [
      "Current best val acc: 0.70833:  44%|████▍     | 63/144 [01:24<00:25,  3.12it/s]"
     ]
    },
    {
     "name": "stdout",
     "output_type": "stream",
     "text": [
      "Early stopped on epoch: 4\n",
      "Validation accuracy: 0.6715686274509803\n",
      "Validation f1-score: 0.7919254658385093\n",
      "Validation MCC     : 0.0927750029861375\n",
      "\n",
      "Training with parameters:\n",
      " {'num_epochs': 100, 'batch_size': 128, 'learning_rate': 0.001, 'category': 'C', 'norm': False, 'input_size': 1536, 'layer_size': 1536, 'num_layers': 1, 'weight_decay': 1e-05, 'patience': 3, 'min_delta': 0, 'device': 'cuda:0'}\n"
     ]
    },
    {
     "name": "stderr",
     "output_type": "stream",
     "text": [
      "Current best val acc: 0.70833:  44%|████▍     | 64/144 [01:24<00:25,  3.15it/s]"
     ]
    },
    {
     "name": "stdout",
     "output_type": "stream",
     "text": [
      "Early stopped on epoch: 5\n",
      "Validation accuracy: 0.6691176470588235\n",
      "Validation f1-score: 0.7819063004846526\n",
      "Validation MCC     : 0.13436708536098824\n",
      "\n",
      "Training with parameters:\n",
      " {'num_epochs': 100, 'batch_size': 128, 'learning_rate': 0.001, 'category': 'C', 'norm': False, 'input_size': 1536, 'layer_size': 1536, 'num_layers': 2, 'weight_decay': 0.01, 'patience': 3, 'min_delta': 0, 'device': 'cuda:0'}\n"
     ]
    },
    {
     "name": "stderr",
     "output_type": "stream",
     "text": [
      "Current best val acc: 0.70833:  45%|████▌     | 65/144 [01:25<00:25,  3.15it/s]"
     ]
    },
    {
     "name": "stdout",
     "output_type": "stream",
     "text": [
      "Early stopped on epoch: 4\n",
      "Validation accuracy: 0.6764705882352942\n",
      "Validation f1-score: 0.777027027027027\n",
      "Validation MCC     : 0.1990903224414414\n",
      "\n",
      "Training with parameters:\n",
      " {'num_epochs': 100, 'batch_size': 128, 'learning_rate': 0.001, 'category': 'C', 'norm': False, 'input_size': 1536, 'layer_size': 1536, 'num_layers': 2, 'weight_decay': 0.001, 'patience': 3, 'min_delta': 0, 'device': 'cuda:0'}\n"
     ]
    },
    {
     "name": "stderr",
     "output_type": "stream",
     "text": [
      "Current best val acc: 0.70833:  46%|████▌     | 66/144 [01:25<00:24,  3.16it/s]"
     ]
    },
    {
     "name": "stdout",
     "output_type": "stream",
     "text": [
      "Early stopped on epoch: 4\n",
      "Validation accuracy: 0.625\n",
      "Validation f1-score: 0.725314183123878\n",
      "Validation MCC     : 0.13458874426210432\n",
      "\n",
      "Training with parameters:\n",
      " {'num_epochs': 100, 'batch_size': 128, 'learning_rate': 0.001, 'category': 'C', 'norm': False, 'input_size': 1536, 'layer_size': 1536, 'num_layers': 2, 'weight_decay': 0.0001, 'patience': 3, 'min_delta': 0, 'device': 'cuda:0'}\n"
     ]
    },
    {
     "name": "stderr",
     "output_type": "stream",
     "text": [
      "Current best val acc: 0.70833:  47%|████▋     | 67/144 [01:25<00:24,  3.15it/s]"
     ]
    },
    {
     "name": "stdout",
     "output_type": "stream",
     "text": [
      "Early stopped on epoch: 4\n",
      "Validation accuracy: 0.6372549019607843\n",
      "Validation f1-score: 0.7299270072992701\n",
      "Validation MCC     : 0.17852313037231374\n",
      "\n",
      "Training with parameters:\n",
      " {'num_epochs': 100, 'batch_size': 128, 'learning_rate': 0.001, 'category': 'C', 'norm': False, 'input_size': 1536, 'layer_size': 1536, 'num_layers': 2, 'weight_decay': 1e-05, 'patience': 3, 'min_delta': 0, 'device': 'cuda:0'}\n"
     ]
    },
    {
     "name": "stderr",
     "output_type": "stream",
     "text": [
      "Current best val acc: 0.70833:  47%|████▋     | 68/144 [01:26<00:25,  2.95it/s]"
     ]
    },
    {
     "name": "stdout",
     "output_type": "stream",
     "text": [
      "Early stopped on epoch: 5\n",
      "Validation accuracy: 0.6642156862745098\n",
      "Validation f1-score: 0.7658119658119658\n",
      "Validation MCC     : 0.1795537283567879\n",
      "\n",
      "Training with parameters:\n",
      " {'num_epochs': 100, 'batch_size': 128, 'learning_rate': 0.001, 'category': 'C', 'norm': False, 'input_size': 1536, 'layer_size': 1536, 'num_layers': 3, 'weight_decay': 0.01, 'patience': 3, 'min_delta': 0, 'device': 'cuda:0'}\n"
     ]
    },
    {
     "name": "stderr",
     "output_type": "stream",
     "text": [
      "Current best val acc: 0.70833:  48%|████▊     | 69/144 [01:26<00:26,  2.85it/s]"
     ]
    },
    {
     "name": "stdout",
     "output_type": "stream",
     "text": [
      "Early stopped on epoch: 4\n",
      "Validation accuracy: 0.6593137254901961\n",
      "Validation f1-score: 0.7582608695652174\n",
      "Validation MCC     : 0.1841218339301642\n",
      "\n",
      "Training with parameters:\n",
      " {'num_epochs': 100, 'batch_size': 128, 'learning_rate': 0.001, 'category': 'C', 'norm': False, 'input_size': 1536, 'layer_size': 1536, 'num_layers': 3, 'weight_decay': 0.001, 'patience': 3, 'min_delta': 0, 'device': 'cuda:0'}\n"
     ]
    },
    {
     "name": "stderr",
     "output_type": "stream",
     "text": [
      "Current best val acc: 0.70833:  49%|████▊     | 70/144 [01:27<00:26,  2.79it/s]"
     ]
    },
    {
     "name": "stdout",
     "output_type": "stream",
     "text": [
      "Early stopped on epoch: 4\n",
      "Validation accuracy: 0.6495098039215687\n",
      "Validation f1-score: 0.7432675044883303\n",
      "Validation MCC     : 0.19115261700513952\n",
      "\n",
      "Training with parameters:\n",
      " {'num_epochs': 100, 'batch_size': 128, 'learning_rate': 0.001, 'category': 'C', 'norm': False, 'input_size': 1536, 'layer_size': 1536, 'num_layers': 3, 'weight_decay': 0.0001, 'patience': 3, 'min_delta': 0, 'device': 'cuda:0'}\n"
     ]
    },
    {
     "name": "stderr",
     "output_type": "stream",
     "text": [
      "Current best val acc: 0.70833:  49%|████▉     | 71/144 [01:27<00:26,  2.74it/s]"
     ]
    },
    {
     "name": "stdout",
     "output_type": "stream",
     "text": [
      "Early stopped on epoch: 4\n",
      "Validation accuracy: 0.6225490196078431\n",
      "Validation f1-score: 0.7317073170731707\n",
      "Validation MCC     : 0.09743760278231023\n",
      "\n",
      "Training with parameters:\n",
      " {'num_epochs': 100, 'batch_size': 128, 'learning_rate': 0.001, 'category': 'C', 'norm': False, 'input_size': 1536, 'layer_size': 1536, 'num_layers': 3, 'weight_decay': 1e-05, 'patience': 3, 'min_delta': 0, 'device': 'cuda:0'}\n"
     ]
    },
    {
     "name": "stderr",
     "output_type": "stream",
     "text": [
      "Current best val acc: 0.70833:  50%|█████     | 72/144 [01:27<00:28,  2.55it/s]"
     ]
    },
    {
     "name": "stdout",
     "output_type": "stream",
     "text": [
      "Early stopped on epoch: 5\n",
      "Validation accuracy: 0.6544117647058824\n",
      "Validation f1-score: 0.7521968365553603\n",
      "Validation MCC     : 0.18242262904601042\n",
      "\n",
      "Training with parameters:\n",
      " {'num_epochs': 100, 'batch_size': 128, 'learning_rate': 0.0001, 'category': 'C', 'norm': False, 'input_size': 1536, 'layer_size': 1536, 'num_layers': 1, 'weight_decay': 0.01, 'patience': 3, 'min_delta': 0, 'device': 'cuda:0'}\n"
     ]
    },
    {
     "name": "stderr",
     "output_type": "stream",
     "text": [
      "Current best val acc: 0.70833:  51%|█████     | 73/144 [01:28<00:32,  2.21it/s]"
     ]
    },
    {
     "name": "stdout",
     "output_type": "stream",
     "text": [
      "Early stopped on epoch: 10\n",
      "Validation accuracy: 0.696078431372549\n",
      "Validation f1-score: 0.8109756097560975\n",
      "Validation MCC     : 0.16309762737862568\n",
      "\n",
      "Training with parameters:\n",
      " {'num_epochs': 100, 'batch_size': 128, 'learning_rate': 0.0001, 'category': 'C', 'norm': False, 'input_size': 1536, 'layer_size': 1536, 'num_layers': 1, 'weight_decay': 0.001, 'patience': 3, 'min_delta': 0, 'device': 'cuda:0'}\n"
     ]
    },
    {
     "name": "stderr",
     "output_type": "stream",
     "text": [
      "Current best val acc: 0.70833:  51%|█████▏    | 74/144 [01:29<00:34,  2.02it/s]"
     ]
    },
    {
     "name": "stdout",
     "output_type": "stream",
     "text": [
      "Early stopped on epoch: 10\n",
      "Validation accuracy: 0.6985294117647058\n",
      "Validation f1-score: 0.8122137404580153\n",
      "Validation MCC     : 0.1741495355681114\n",
      "\n",
      "Training with parameters:\n",
      " {'num_epochs': 100, 'batch_size': 128, 'learning_rate': 0.0001, 'category': 'C', 'norm': False, 'input_size': 1536, 'layer_size': 1536, 'num_layers': 1, 'weight_decay': 0.0001, 'patience': 3, 'min_delta': 0, 'device': 'cuda:0'}\n"
     ]
    },
    {
     "name": "stderr",
     "output_type": "stream",
     "text": [
      "Current best val acc: 0.70833:  52%|█████▏    | 75/144 [01:29<00:36,  1.90it/s]"
     ]
    },
    {
     "name": "stdout",
     "output_type": "stream",
     "text": [
      "Early stopped on epoch: 10\n",
      "Validation accuracy: 0.696078431372549\n",
      "Validation f1-score: 0.8109756097560975\n",
      "Validation MCC     : 0.16309762737862568\n",
      "\n",
      "Training with parameters:\n",
      " {'num_epochs': 100, 'batch_size': 128, 'learning_rate': 0.0001, 'category': 'C', 'norm': False, 'input_size': 1536, 'layer_size': 1536, 'num_layers': 1, 'weight_decay': 1e-05, 'patience': 3, 'min_delta': 0, 'device': 'cuda:0'}\n"
     ]
    },
    {
     "name": "stderr",
     "output_type": "stream",
     "text": [
      "Current best val acc: 0.70833:  53%|█████▎    | 76/144 [01:30<00:37,  1.83it/s]"
     ]
    },
    {
     "name": "stdout",
     "output_type": "stream",
     "text": [
      "Early stopped on epoch: 10\n",
      "Validation accuracy: 0.696078431372549\n",
      "Validation f1-score: 0.8109756097560975\n",
      "Validation MCC     : 0.16309762737862568\n",
      "\n",
      "Training with parameters:\n",
      " {'num_epochs': 100, 'batch_size': 128, 'learning_rate': 0.0001, 'category': 'C', 'norm': False, 'input_size': 1536, 'layer_size': 1536, 'num_layers': 2, 'weight_decay': 0.01, 'patience': 3, 'min_delta': 0, 'device': 'cuda:0'}\n"
     ]
    },
    {
     "name": "stderr",
     "output_type": "stream",
     "text": [
      "Current best val acc: 0.70833:  53%|█████▎    | 77/144 [01:30<00:37,  1.77it/s]"
     ]
    },
    {
     "name": "stdout",
     "output_type": "stream",
     "text": [
      "Early stopped on epoch: 8\n",
      "Validation accuracy: 0.6544117647058824\n",
      "Validation f1-score: 0.7722132471728594\n",
      "Validation MCC     : 0.09193537419436038\n",
      "\n",
      "Training with parameters:\n",
      " {'num_epochs': 100, 'batch_size': 128, 'learning_rate': 0.0001, 'category': 'C', 'norm': False, 'input_size': 1536, 'layer_size': 1536, 'num_layers': 2, 'weight_decay': 0.001, 'patience': 3, 'min_delta': 0, 'device': 'cuda:0'}\n"
     ]
    },
    {
     "name": "stderr",
     "output_type": "stream",
     "text": [
      "Current best val acc: 0.70833:  54%|█████▍    | 78/144 [01:31<00:36,  1.80it/s]"
     ]
    },
    {
     "name": "stdout",
     "output_type": "stream",
     "text": [
      "Early stopped on epoch: 7\n",
      "Validation accuracy: 0.6764705882352942\n",
      "Validation f1-score: 0.7931034482758621\n",
      "Validation MCC     : 0.1217320051533709\n",
      "\n",
      "Training with parameters:\n",
      " {'num_epochs': 100, 'batch_size': 128, 'learning_rate': 0.0001, 'category': 'C', 'norm': False, 'input_size': 1536, 'layer_size': 1536, 'num_layers': 2, 'weight_decay': 0.0001, 'patience': 3, 'min_delta': 0, 'device': 'cuda:0'}\n"
     ]
    },
    {
     "name": "stderr",
     "output_type": "stream",
     "text": [
      "Current best val acc: 0.70833:  55%|█████▍    | 79/144 [01:31<00:34,  1.90it/s]"
     ]
    },
    {
     "name": "stdout",
     "output_type": "stream",
     "text": [
      "Early stopped on epoch: 6\n",
      "Validation accuracy: 0.6936274509803921\n",
      "Validation f1-score: 0.8108925869894099\n",
      "Validation MCC     : 0.14629748611581225\n",
      "\n",
      "Training with parameters:\n",
      " {'num_epochs': 100, 'batch_size': 128, 'learning_rate': 0.0001, 'category': 'C', 'norm': False, 'input_size': 1536, 'layer_size': 1536, 'num_layers': 2, 'weight_decay': 1e-05, 'patience': 3, 'min_delta': 0, 'device': 'cuda:0'}\n"
     ]
    },
    {
     "name": "stderr",
     "output_type": "stream",
     "text": [
      "Current best val acc: 0.70833:  56%|█████▌    | 80/144 [01:32<00:35,  1.81it/s]"
     ]
    },
    {
     "name": "stdout",
     "output_type": "stream",
     "text": [
      "Early stopped on epoch: 8\n",
      "Validation accuracy: 0.6666666666666666\n",
      "Validation f1-score: 0.7854889589905362\n",
      "Validation MCC     : 0.09787682587959345\n",
      "\n",
      "Training with parameters:\n",
      " {'num_epochs': 100, 'batch_size': 128, 'learning_rate': 0.0001, 'category': 'C', 'norm': False, 'input_size': 1536, 'layer_size': 1536, 'num_layers': 3, 'weight_decay': 0.01, 'patience': 3, 'min_delta': 0, 'device': 'cuda:0'}\n"
     ]
    },
    {
     "name": "stderr",
     "output_type": "stream",
     "text": [
      "Current best val acc: 0.70833:  56%|█████▋    | 81/144 [01:32<00:34,  1.81it/s]"
     ]
    },
    {
     "name": "stdout",
     "output_type": "stream",
     "text": [
      "Early stopped on epoch: 6\n",
      "Validation accuracy: 0.6225490196078431\n",
      "Validation f1-score: 0.7363013698630136\n",
      "Validation MCC     : 0.07806634003659707\n",
      "\n",
      "Training with parameters:\n",
      " {'num_epochs': 100, 'batch_size': 128, 'learning_rate': 0.0001, 'category': 'C', 'norm': False, 'input_size': 1536, 'layer_size': 1536, 'num_layers': 3, 'weight_decay': 0.001, 'patience': 3, 'min_delta': 0, 'device': 'cuda:0'}\n"
     ]
    },
    {
     "name": "stderr",
     "output_type": "stream",
     "text": [
      "Current best val acc: 0.70833:  57%|█████▋    | 82/144 [01:33<00:32,  1.91it/s]"
     ]
    },
    {
     "name": "stdout",
     "output_type": "stream",
     "text": [
      "Early stopped on epoch: 5\n",
      "Validation accuracy: 0.6715686274509803\n",
      "Validation f1-score: 0.7831715210355986\n",
      "Validation MCC     : 0.14320219565442716\n",
      "\n",
      "Training with parameters:\n",
      " {'num_epochs': 100, 'batch_size': 128, 'learning_rate': 0.0001, 'category': 'C', 'norm': False, 'input_size': 1536, 'layer_size': 1536, 'num_layers': 3, 'weight_decay': 0.0001, 'patience': 3, 'min_delta': 0, 'device': 'cuda:0'}\n"
     ]
    },
    {
     "name": "stderr",
     "output_type": "stream",
     "text": [
      "Current best val acc: 0.70833:  58%|█████▊    | 83/144 [01:33<00:32,  1.88it/s]"
     ]
    },
    {
     "name": "stdout",
     "output_type": "stream",
     "text": [
      "Early stopped on epoch: 6\n",
      "Validation accuracy: 0.6348039215686274\n",
      "Validation f1-score: 0.7408695652173914\n",
      "Validation MCC     : 0.1250638871978474\n",
      "\n",
      "Training with parameters:\n",
      " {'num_epochs': 100, 'batch_size': 128, 'learning_rate': 0.0001, 'category': 'C', 'norm': False, 'input_size': 1536, 'layer_size': 1536, 'num_layers': 3, 'weight_decay': 1e-05, 'patience': 3, 'min_delta': 0, 'device': 'cuda:0'}\n"
     ]
    },
    {
     "name": "stderr",
     "output_type": "stream",
     "text": [
      "Current best val acc: 0.70833:  58%|█████▊    | 84/144 [01:34<00:32,  1.87it/s]"
     ]
    },
    {
     "name": "stdout",
     "output_type": "stream",
     "text": [
      "Early stopped on epoch: 6\n",
      "Validation accuracy: 0.6691176470588235\n",
      "Validation f1-score: 0.78330658105939\n",
      "Validation MCC     : 0.127037326384777\n",
      "\n",
      "Training with parameters:\n",
      " {'num_epochs': 100, 'batch_size': 128, 'learning_rate': 1e-05, 'category': 'C', 'norm': False, 'input_size': 1536, 'layer_size': 1536, 'num_layers': 1, 'weight_decay': 0.01, 'patience': 3, 'min_delta': 0, 'device': 'cuda:0'}\n"
     ]
    },
    {
     "name": "stderr",
     "output_type": "stream",
     "text": [
      "Current best val acc: 0.70833:  59%|█████▉    | 85/144 [01:38<01:28,  1.51s/it]"
     ]
    },
    {
     "name": "stdout",
     "output_type": "stream",
     "text": [
      "Early stopped on epoch: 65\n",
      "Validation accuracy: 0.7034313725490197\n",
      "Validation f1-score: 0.8169440242057489\n",
      "Validation MCC     : 0.1894568312606072\n",
      "\n",
      "Training with parameters:\n",
      " {'num_epochs': 100, 'batch_size': 128, 'learning_rate': 1e-05, 'category': 'C', 'norm': False, 'input_size': 1536, 'layer_size': 1536, 'num_layers': 1, 'weight_decay': 0.001, 'patience': 3, 'min_delta': 0, 'device': 'cuda:0'}\n"
     ]
    },
    {
     "name": "stderr",
     "output_type": "stream",
     "text": [
      "Current best val acc: 0.70833:  60%|█████▉    | 86/144 [01:41<02:04,  2.15s/it]"
     ]
    },
    {
     "name": "stdout",
     "output_type": "stream",
     "text": [
      "Early stopped on epoch: 63\n",
      "Validation accuracy: 0.7083333333333334\n",
      "Validation f1-score: 0.8205128205128206\n",
      "Validation MCC     : 0.21084486793381516\n",
      "\n",
      "Training with parameters:\n",
      " {'num_epochs': 100, 'batch_size': 128, 'learning_rate': 1e-05, 'category': 'C', 'norm': False, 'input_size': 1536, 'layer_size': 1536, 'num_layers': 1, 'weight_decay': 0.0001, 'patience': 3, 'min_delta': 0, 'device': 'cuda:0'}\n"
     ]
    },
    {
     "name": "stderr",
     "output_type": "stream",
     "text": [
      "Current best val acc: 0.70833:  60%|██████    | 87/144 [01:45<02:30,  2.64s/it]"
     ]
    },
    {
     "name": "stdout",
     "output_type": "stream",
     "text": [
      "Early stopped on epoch: 65\n",
      "Validation accuracy: 0.7058823529411765\n",
      "Validation f1-score: 0.8187311178247733\n",
      "Validation MCC     : 0.19990543703818464\n",
      "\n",
      "Training with parameters:\n",
      " {'num_epochs': 100, 'batch_size': 128, 'learning_rate': 1e-05, 'category': 'C', 'norm': False, 'input_size': 1536, 'layer_size': 1536, 'num_layers': 1, 'weight_decay': 1e-05, 'patience': 3, 'min_delta': 0, 'device': 'cuda:0'}\n"
     ]
    },
    {
     "name": "stderr",
     "output_type": "stream",
     "text": [
      "Current best val acc: 0.70833:  61%|██████    | 88/144 [01:49<02:44,  2.94s/it]"
     ]
    },
    {
     "name": "stdout",
     "output_type": "stream",
     "text": [
      "Early stopped on epoch: 63\n",
      "Validation accuracy: 0.7058823529411765\n",
      "Validation f1-score: 0.8192771084337349\n",
      "Validation MCC     : 0.19947144516088813\n",
      "\n",
      "Training with parameters:\n",
      " {'num_epochs': 100, 'batch_size': 128, 'learning_rate': 1e-05, 'category': 'C', 'norm': False, 'input_size': 1536, 'layer_size': 1536, 'num_layers': 2, 'weight_decay': 0.01, 'patience': 3, 'min_delta': 0, 'device': 'cuda:0'}\n"
     ]
    },
    {
     "name": "stderr",
     "output_type": "stream",
     "text": [
      "Current best val acc: 0.70833:  62%|██████▏   | 89/144 [01:51<02:33,  2.80s/it]"
     ]
    },
    {
     "name": "stdout",
     "output_type": "stream",
     "text": [
      "Early stopped on epoch: 34\n",
      "Validation accuracy: 0.7034313725490197\n",
      "Validation f1-score: 0.8185907046476761\n",
      "Validation MCC     : 0.1874105071769544\n",
      "\n",
      "Training with parameters:\n",
      " {'num_epochs': 100, 'batch_size': 128, 'learning_rate': 1e-05, 'category': 'C', 'norm': False, 'input_size': 1536, 'layer_size': 1536, 'num_layers': 2, 'weight_decay': 0.001, 'patience': 3, 'min_delta': 0, 'device': 'cuda:0'}\n"
     ]
    },
    {
     "name": "stderr",
     "output_type": "stream",
     "text": [
      "Current best val acc: 0.70833:  62%|██████▎   | 90/144 [01:54<02:30,  2.79s/it]"
     ]
    },
    {
     "name": "stdout",
     "output_type": "stream",
     "text": [
      "Early stopped on epoch: 38\n",
      "Validation accuracy: 0.7034313725490197\n",
      "Validation f1-score: 0.8158295281582952\n",
      "Validation MCC     : 0.19215515813765438\n",
      "\n",
      "Training with parameters:\n",
      " {'num_epochs': 100, 'batch_size': 128, 'learning_rate': 1e-05, 'category': 'C', 'norm': False, 'input_size': 1536, 'layer_size': 1536, 'num_layers': 2, 'weight_decay': 0.0001, 'patience': 3, 'min_delta': 0, 'device': 'cuda:0'}\n"
     ]
    },
    {
     "name": "stderr",
     "output_type": "stream",
     "text": [
      "Current best val acc: 0.70833:  63%|██████▎   | 91/144 [01:56<02:21,  2.67s/it]"
     ]
    },
    {
     "name": "stdout",
     "output_type": "stream",
     "text": [
      "Early stopped on epoch: 33\n",
      "Validation accuracy: 0.7058823529411765\n",
      "Validation f1-score: 0.8192771084337349\n",
      "Validation MCC     : 0.19947144516088813\n",
      "\n",
      "Training with parameters:\n",
      " {'num_epochs': 100, 'batch_size': 128, 'learning_rate': 1e-05, 'category': 'C', 'norm': False, 'input_size': 1536, 'layer_size': 1536, 'num_layers': 2, 'weight_decay': 1e-05, 'patience': 3, 'min_delta': 0, 'device': 'cuda:0'}\n"
     ]
    },
    {
     "name": "stderr",
     "output_type": "stream",
     "text": [
      "Current best val acc: 0.70833:  64%|██████▍   | 92/144 [01:59<02:13,  2.57s/it]"
     ]
    },
    {
     "name": "stdout",
     "output_type": "stream",
     "text": [
      "Early stopped on epoch: 32\n",
      "Validation accuracy: 0.7058823529411765\n",
      "Validation f1-score: 0.8214285714285715\n",
      "Validation MCC     : 0.2032822906724814\n",
      "\n",
      "Training with parameters:\n",
      " {'num_epochs': 100, 'batch_size': 128, 'learning_rate': 1e-05, 'category': 'C', 'norm': False, 'input_size': 1536, 'layer_size': 1536, 'num_layers': 3, 'weight_decay': 0.01, 'patience': 3, 'min_delta': 0, 'device': 'cuda:0'}\n"
     ]
    },
    {
     "name": "stderr",
     "output_type": "stream",
     "text": [
      "Current best val acc: 0.70833:  65%|██████▍   | 93/144 [02:01<02:02,  2.40s/it]"
     ]
    },
    {
     "name": "stdout",
     "output_type": "stream",
     "text": [
      "Early stopped on epoch: 23\n",
      "Validation accuracy: 0.7058823529411765\n",
      "Validation f1-score: 0.8159509202453988\n",
      "Validation MCC     : 0.20580069088252695\n",
      "\n",
      "Training with parameters:\n",
      " {'num_epochs': 100, 'batch_size': 128, 'learning_rate': 1e-05, 'category': 'C', 'norm': False, 'input_size': 1536, 'layer_size': 1536, 'num_layers': 3, 'weight_decay': 0.001, 'patience': 3, 'min_delta': 0, 'device': 'cuda:0'}\n"
     ]
    },
    {
     "name": "stderr",
     "output_type": "stream",
     "text": [
      "Current best val acc: 0.70833:  65%|██████▌   | 94/144 [02:03<01:53,  2.27s/it]"
     ]
    },
    {
     "name": "stdout",
     "output_type": "stream",
     "text": [
      "Early stopped on epoch: 23\n",
      "Validation accuracy: 0.6985294117647058\n",
      "Validation f1-score: 0.8139183055975796\n",
      "Validation MCC     : 0.1678771586882097\n",
      "\n",
      "Training with parameters:\n",
      " {'num_epochs': 100, 'batch_size': 128, 'learning_rate': 1e-05, 'category': 'C', 'norm': False, 'input_size': 1536, 'layer_size': 1536, 'num_layers': 3, 'weight_decay': 0.0001, 'patience': 3, 'min_delta': 0, 'device': 'cuda:0'}\n"
     ]
    },
    {
     "name": "stderr",
     "output_type": "stream",
     "text": [
      "Current best val acc: 0.70833:  66%|██████▌   | 95/144 [02:05<01:45,  2.16s/it]"
     ]
    },
    {
     "name": "stdout",
     "output_type": "stream",
     "text": [
      "Early stopped on epoch: 22\n",
      "Validation accuracy: 0.7009803921568627\n",
      "Validation f1-score: 0.8162650602409639\n",
      "Validation MCC     : 0.1766170925561023\n",
      "\n",
      "Training with parameters:\n",
      " {'num_epochs': 100, 'batch_size': 128, 'learning_rate': 1e-05, 'category': 'C', 'norm': False, 'input_size': 1536, 'layer_size': 1536, 'num_layers': 3, 'weight_decay': 1e-05, 'patience': 3, 'min_delta': 0, 'device': 'cuda:0'}\n"
     ]
    },
    {
     "name": "stderr",
     "output_type": "stream",
     "text": [
      "Current best val acc: 0.70833:  67%|██████▋   | 97/144 [02:07<01:10,  1.50s/it]"
     ]
    },
    {
     "name": "stdout",
     "output_type": "stream",
     "text": [
      "Early stopped on epoch: 21\n",
      "Validation accuracy: 0.7058823529411765\n",
      "Validation f1-score: 0.8198198198198199\n",
      "Validation MCC     : 0.19944338327248648\n",
      "\n",
      "Training with parameters:\n",
      " {'num_epochs': 100, 'batch_size': 512, 'learning_rate': 0.01, 'category': 'C', 'norm': False, 'input_size': 1536, 'layer_size': 1536, 'num_layers': 1, 'weight_decay': 0.01, 'patience': 3, 'min_delta': 0, 'device': 'cuda:0'}\n",
      "Early stopped on epoch: 5\n",
      "Validation accuracy: 0.6470588235294118\n",
      "Validation f1-score: 0.7591973244147158\n",
      "Validation MCC     : 0.11308916566370686\n",
      "\n",
      "Training with parameters:\n",
      " {'num_epochs': 100, 'batch_size': 512, 'learning_rate': 0.01, 'category': 'C', 'norm': False, 'input_size': 1536, 'layer_size': 1536, 'num_layers': 1, 'weight_decay': 0.001, 'patience': 3, 'min_delta': 0, 'device': 'cuda:0'}\n"
     ]
    },
    {
     "name": "stderr",
     "output_type": "stream",
     "text": [
      "Current best val acc: 0.70833:  69%|██████▉   | 99/144 [02:07<00:38,  1.17it/s]"
     ]
    },
    {
     "name": "stdout",
     "output_type": "stream",
     "text": [
      "Early stopped on epoch: 5\n",
      "Validation accuracy: 0.6519607843137255\n",
      "Validation f1-score: 0.7641196013289036\n",
      "Validation MCC     : 0.11843644290622031\n",
      "\n",
      "Training with parameters:\n",
      " {'num_epochs': 100, 'batch_size': 512, 'learning_rate': 0.01, 'category': 'C', 'norm': False, 'input_size': 1536, 'layer_size': 1536, 'num_layers': 1, 'weight_decay': 0.0001, 'patience': 3, 'min_delta': 0, 'device': 'cuda:0'}\n",
      "Early stopped on epoch: 5\n",
      "Validation accuracy: 0.6691176470588235\n",
      "Validation f1-score: 0.7753743760399335\n",
      "Validation MCC     : 0.16553707884319585\n",
      "\n",
      "Training with parameters:\n",
      " {'num_epochs': 100, 'batch_size': 512, 'learning_rate': 0.01, 'category': 'C', 'norm': False, 'input_size': 1536, 'layer_size': 1536, 'num_layers': 1, 'weight_decay': 1e-05, 'patience': 3, 'min_delta': 0, 'device': 'cuda:0'}\n"
     ]
    },
    {
     "name": "stderr",
     "output_type": "stream",
     "text": [
      "Current best val acc: 0.70833:  69%|██████▉   | 100/144 [02:07<00:28,  1.55it/s]"
     ]
    },
    {
     "name": "stdout",
     "output_type": "stream",
     "text": [
      "Early stopped on epoch: 4\n",
      "Validation accuracy: 0.6813725490196079\n",
      "Validation f1-score: 0.7949526813880127\n",
      "Validation MCC     : 0.14491303902314365\n",
      "\n",
      "Training with parameters:\n",
      " {'num_epochs': 100, 'batch_size': 512, 'learning_rate': 0.01, 'category': 'C', 'norm': False, 'input_size': 1536, 'layer_size': 1536, 'num_layers': 2, 'weight_decay': 0.01, 'patience': 3, 'min_delta': 0, 'device': 'cuda:0'}\n"
     ]
    },
    {
     "name": "stderr",
     "output_type": "stream",
     "text": [
      "Current best val acc: 0.70833:  70%|███████   | 101/144 [02:08<00:22,  1.90it/s]"
     ]
    },
    {
     "name": "stdout",
     "output_type": "stream",
     "text": [
      "Early stopped on epoch: 6\n",
      "Validation accuracy: 0.6568627450980392\n",
      "Validation f1-score: 0.75\n",
      "Validation MCC     : 0.20316039747401346\n",
      "\n",
      "Training with parameters:\n",
      " {'num_epochs': 100, 'batch_size': 512, 'learning_rate': 0.01, 'category': 'C', 'norm': False, 'input_size': 1536, 'layer_size': 1536, 'num_layers': 2, 'weight_decay': 0.001, 'patience': 3, 'min_delta': 0, 'device': 'cuda:0'}\n"
     ]
    },
    {
     "name": "stderr",
     "output_type": "stream",
     "text": [
      "Current best val acc: 0.70833:  71%|███████   | 102/144 [02:08<00:18,  2.30it/s]"
     ]
    },
    {
     "name": "stdout",
     "output_type": "stream",
     "text": [
      "Early stopped on epoch: 5\n",
      "Validation accuracy: 0.6568627450980392\n",
      "Validation f1-score: 0.765886287625418\n",
      "Validation MCC     : 0.13861634662680086\n",
      "\n",
      "Training with parameters:\n",
      " {'num_epochs': 100, 'batch_size': 512, 'learning_rate': 0.01, 'category': 'C', 'norm': False, 'input_size': 1536, 'layer_size': 1536, 'num_layers': 2, 'weight_decay': 0.0001, 'patience': 3, 'min_delta': 0, 'device': 'cuda:0'}\n"
     ]
    },
    {
     "name": "stderr",
     "output_type": "stream",
     "text": [
      "Current best val acc: 0.70833:  72%|███████▏  | 103/144 [02:08<00:15,  2.72it/s]"
     ]
    },
    {
     "name": "stdout",
     "output_type": "stream",
     "text": [
      "Early stopped on epoch: 5\n",
      "Validation accuracy: 0.6666666666666666\n",
      "Validation f1-score: 0.7663230240549829\n",
      "Validation MCC     : 0.19052183232255254\n",
      "\n",
      "Training with parameters:\n",
      " {'num_epochs': 100, 'batch_size': 512, 'learning_rate': 0.01, 'category': 'C', 'norm': False, 'input_size': 1536, 'layer_size': 1536, 'num_layers': 2, 'weight_decay': 1e-05, 'patience': 3, 'min_delta': 0, 'device': 'cuda:0'}\n"
     ]
    },
    {
     "name": "stderr",
     "output_type": "stream",
     "text": [
      "Current best val acc: 0.70833:  72%|███████▏  | 104/144 [02:08<00:12,  3.11it/s]"
     ]
    },
    {
     "name": "stdout",
     "output_type": "stream",
     "text": [
      "Early stopped on epoch: 5\n",
      "Validation accuracy: 0.5906862745098039\n",
      "Validation f1-score: 0.6913123844731979\n",
      "Validation MCC     : 0.08618951344938493\n",
      "\n",
      "Training with parameters:\n",
      " {'num_epochs': 100, 'batch_size': 512, 'learning_rate': 0.01, 'category': 'C', 'norm': False, 'input_size': 1536, 'layer_size': 1536, 'num_layers': 3, 'weight_decay': 0.01, 'patience': 3, 'min_delta': 0, 'device': 'cuda:0'}\n"
     ]
    },
    {
     "name": "stderr",
     "output_type": "stream",
     "text": [
      "Current best val acc: 0.70833:  73%|███████▎  | 105/144 [02:09<00:11,  3.33it/s]"
     ]
    },
    {
     "name": "stdout",
     "output_type": "stream",
     "text": [
      "Early stopped on epoch: 5\n",
      "Validation accuracy: 0.6348039215686274\n",
      "Validation f1-score: 0.7381370826010545\n",
      "Validation MCC     : 0.135919390901198\n",
      "\n",
      "Training with parameters:\n",
      " {'num_epochs': 100, 'batch_size': 512, 'learning_rate': 0.01, 'category': 'C', 'norm': False, 'input_size': 1536, 'layer_size': 1536, 'num_layers': 3, 'weight_decay': 0.001, 'patience': 3, 'min_delta': 0, 'device': 'cuda:0'}\n"
     ]
    },
    {
     "name": "stderr",
     "output_type": "stream",
     "text": [
      "Current best val acc: 0.70833:  74%|███████▎  | 106/144 [02:09<00:10,  3.50it/s]"
     ]
    },
    {
     "name": "stdout",
     "output_type": "stream",
     "text": [
      "Early stopped on epoch: 5\n",
      "Validation accuracy: 0.6666666666666666\n",
      "Validation f1-score: 0.7740863787375415\n",
      "Validation MCC     : 0.15737445153292287\n",
      "\n",
      "Training with parameters:\n",
      " {'num_epochs': 100, 'batch_size': 512, 'learning_rate': 0.01, 'category': 'C', 'norm': False, 'input_size': 1536, 'layer_size': 1536, 'num_layers': 3, 'weight_decay': 0.0001, 'patience': 3, 'min_delta': 0, 'device': 'cuda:0'}\n"
     ]
    },
    {
     "name": "stderr",
     "output_type": "stream",
     "text": [
      "Current best val acc: 0.70833:  74%|███████▍  | 107/144 [02:09<00:10,  3.47it/s]"
     ]
    },
    {
     "name": "stdout",
     "output_type": "stream",
     "text": [
      "Early stopped on epoch: 6\n",
      "Validation accuracy: 0.6470588235294118\n",
      "Validation f1-score: 0.7575757575757576\n",
      "Validation MCC     : 0.1205696661658673\n",
      "\n",
      "Training with parameters:\n",
      " {'num_epochs': 100, 'batch_size': 512, 'learning_rate': 0.01, 'category': 'C', 'norm': False, 'input_size': 1536, 'layer_size': 1536, 'num_layers': 3, 'weight_decay': 1e-05, 'patience': 3, 'min_delta': 0, 'device': 'cuda:0'}\n"
     ]
    },
    {
     "name": "stderr",
     "output_type": "stream",
     "text": [
      "Current best val acc: 0.70833:  75%|███████▌  | 108/144 [02:09<00:09,  3.60it/s]"
     ]
    },
    {
     "name": "stdout",
     "output_type": "stream",
     "text": [
      "Early stopped on epoch: 5\n",
      "Validation accuracy: 0.6911764705882353\n",
      "Validation f1-score: 0.801261829652997\n",
      "Validation MCC     : 0.17627051445217715\n",
      "\n",
      "Training with parameters:\n",
      " {'num_epochs': 100, 'batch_size': 512, 'learning_rate': 0.001, 'category': 'C', 'norm': False, 'input_size': 1536, 'layer_size': 1536, 'num_layers': 1, 'weight_decay': 0.01, 'patience': 3, 'min_delta': 0, 'device': 'cuda:0'}\n"
     ]
    },
    {
     "name": "stderr",
     "output_type": "stream",
     "text": [
      "Current best val acc: 0.70833:  76%|███████▋  | 110/144 [02:10<00:08,  4.12it/s]"
     ]
    },
    {
     "name": "stdout",
     "output_type": "stream",
     "text": [
      "Early stopped on epoch: 7\n",
      "Validation accuracy: 0.6862745098039216\n",
      "Validation f1-score: 0.8006230529595016\n",
      "Validation MCC     : 0.14760639453548108\n",
      "\n",
      "Training with parameters:\n",
      " {'num_epochs': 100, 'batch_size': 512, 'learning_rate': 0.001, 'category': 'C', 'norm': False, 'input_size': 1536, 'layer_size': 1536, 'num_layers': 1, 'weight_decay': 0.001, 'patience': 3, 'min_delta': 0, 'device': 'cuda:0'}\n",
      "Early stopped on epoch: 5\n",
      "Validation accuracy: 0.7009803921568627\n",
      "Validation f1-score: 0.8134556574923548\n",
      "Validation MCC     : 0.18493920683163825\n",
      "\n",
      "Training with parameters:\n",
      " {'num_epochs': 100, 'batch_size': 512, 'learning_rate': 0.001, 'category': 'C', 'norm': False, 'input_size': 1536, 'layer_size': 1536, 'num_layers': 1, 'weight_decay': 0.0001, 'patience': 3, 'min_delta': 0, 'device': 'cuda:0'}\n"
     ]
    },
    {
     "name": "stderr",
     "output_type": "stream",
     "text": [
      "Current best val acc: 0.70833:  78%|███████▊  | 112/144 [02:10<00:07,  4.21it/s]"
     ]
    },
    {
     "name": "stdout",
     "output_type": "stream",
     "text": [
      "Early stopped on epoch: 5\n",
      "Validation accuracy: 0.696078431372549\n",
      "Validation f1-score: 0.8103975535168195\n",
      "Validation MCC     : 0.1656065918207983\n",
      "\n",
      "Training with parameters:\n",
      " {'num_epochs': 100, 'batch_size': 512, 'learning_rate': 0.001, 'category': 'C', 'norm': False, 'input_size': 1536, 'layer_size': 1536, 'num_layers': 1, 'weight_decay': 1e-05, 'patience': 3, 'min_delta': 0, 'device': 'cuda:0'}\n",
      "Early stopped on epoch: 5\n",
      "Validation accuracy: 0.696078431372549\n",
      "Validation f1-score: 0.8115501519756839\n",
      "Validation MCC     : 0.16064059415455423\n",
      "\n",
      "Training with parameters:\n",
      " {'num_epochs': 100, 'batch_size': 512, 'learning_rate': 0.001, 'category': 'C', 'norm': False, 'input_size': 1536, 'layer_size': 1536, 'num_layers': 2, 'weight_decay': 0.01, 'patience': 3, 'min_delta': 0, 'device': 'cuda:0'}\n"
     ]
    },
    {
     "name": "stderr",
     "output_type": "stream",
     "text": [
      "Current best val acc: 0.70833:  78%|███████▊  | 113/144 [02:10<00:06,  4.56it/s]"
     ]
    },
    {
     "name": "stdout",
     "output_type": "stream",
     "text": [
      "Early stopped on epoch: 4\n",
      "Validation accuracy: 0.6813725490196079\n",
      "Validation f1-score: 0.7999999999999999\n",
      "Validation MCC     : 0.11566908577376987\n",
      "\n",
      "Training with parameters:\n",
      " {'num_epochs': 100, 'batch_size': 512, 'learning_rate': 0.001, 'category': 'C', 'norm': False, 'input_size': 1536, 'layer_size': 1536, 'num_layers': 2, 'weight_decay': 0.001, 'patience': 3, 'min_delta': 0, 'device': 'cuda:0'}\n"
     ]
    },
    {
     "name": "stderr",
     "output_type": "stream",
     "text": [
      "Current best val acc: 0.70833:  80%|███████▉  | 115/144 [02:11<00:06,  4.69it/s]"
     ]
    },
    {
     "name": "stdout",
     "output_type": "stream",
     "text": [
      "Early stopped on epoch: 6\n",
      "Validation accuracy: 0.6813725490196079\n",
      "Validation f1-score: 0.7840531561461793\n",
      "Validation MCC     : 0.19631246015962545\n",
      "\n",
      "Training with parameters:\n",
      " {'num_epochs': 100, 'batch_size': 512, 'learning_rate': 0.001, 'category': 'C', 'norm': False, 'input_size': 1536, 'layer_size': 1536, 'num_layers': 2, 'weight_decay': 0.0001, 'patience': 3, 'min_delta': 0, 'device': 'cuda:0'}\n",
      "Early stopped on epoch: 4\n",
      "Validation accuracy: 0.6985294117647058\n",
      "Validation f1-score: 0.8161434977578476\n",
      "Validation MCC     : 0.16193585913035055\n",
      "\n",
      "Training with parameters:\n",
      " {'num_epochs': 100, 'batch_size': 512, 'learning_rate': 0.001, 'category': 'C', 'norm': False, 'input_size': 1536, 'layer_size': 1536, 'num_layers': 2, 'weight_decay': 1e-05, 'patience': 3, 'min_delta': 0, 'device': 'cuda:0'}\n"
     ]
    },
    {
     "name": "stderr",
     "output_type": "stream",
     "text": [
      "Current best val acc: 0.70833:  81%|████████  | 116/144 [02:11<00:05,  4.94it/s]"
     ]
    },
    {
     "name": "stdout",
     "output_type": "stream",
     "text": [
      "Early stopped on epoch: 4\n",
      "Validation accuracy: 0.696078431372549\n",
      "Validation f1-score: 0.812121212121212\n",
      "Validation MCC     : 0.15825082044051875\n",
      "\n",
      "Training with parameters:\n",
      " {'num_epochs': 100, 'batch_size': 512, 'learning_rate': 0.001, 'category': 'C', 'norm': False, 'input_size': 1536, 'layer_size': 1536, 'num_layers': 3, 'weight_decay': 0.01, 'patience': 3, 'min_delta': 0, 'device': 'cuda:0'}\n"
     ]
    },
    {
     "name": "stderr",
     "output_type": "stream",
     "text": [
      "Current best val acc: 0.70833:  81%|████████▏ | 117/144 [02:11<00:05,  4.90it/s]"
     ]
    },
    {
     "name": "stdout",
     "output_type": "stream",
     "text": [
      "Early stopped on epoch: 4\n",
      "Validation accuracy: 0.6985294117647058\n",
      "Validation f1-score: 0.8133535660091046\n",
      "Validation MCC     : 0.16986083096841023\n",
      "\n",
      "Training with parameters:\n",
      " {'num_epochs': 100, 'batch_size': 512, 'learning_rate': 0.001, 'category': 'C', 'norm': False, 'input_size': 1536, 'layer_size': 1536, 'num_layers': 3, 'weight_decay': 0.001, 'patience': 3, 'min_delta': 0, 'device': 'cuda:0'}\n"
     ]
    },
    {
     "name": "stderr",
     "output_type": "stream",
     "text": [
      "Current best val acc: 0.70833:  82%|████████▏ | 118/144 [02:11<00:05,  4.58it/s]"
     ]
    },
    {
     "name": "stdout",
     "output_type": "stream",
     "text": [
      "Early stopped on epoch: 5\n",
      "Validation accuracy: 0.6666666666666666\n",
      "Validation f1-score: 0.7740863787375415\n",
      "Validation MCC     : 0.15737445153292287\n",
      "\n",
      "Training with parameters:\n",
      " {'num_epochs': 100, 'batch_size': 512, 'learning_rate': 0.001, 'category': 'C', 'norm': False, 'input_size': 1536, 'layer_size': 1536, 'num_layers': 3, 'weight_decay': 0.0001, 'patience': 3, 'min_delta': 0, 'device': 'cuda:0'}\n"
     ]
    },
    {
     "name": "stderr",
     "output_type": "stream",
     "text": [
      "Current best val acc: 0.70833:  83%|████████▎ | 119/144 [02:12<00:06,  3.75it/s]"
     ]
    },
    {
     "name": "stdout",
     "output_type": "stream",
     "text": [
      "Early stopped on epoch: 5\n",
      "Validation accuracy: 0.6838235294117647\n",
      "Validation f1-score: 0.7860696517412935\n",
      "Validation MCC     : 0.20129428483326567\n",
      "\n",
      "Training with parameters:\n",
      " {'num_epochs': 100, 'batch_size': 512, 'learning_rate': 0.001, 'category': 'C', 'norm': False, 'input_size': 1536, 'layer_size': 1536, 'num_layers': 3, 'weight_decay': 1e-05, 'patience': 3, 'min_delta': 0, 'device': 'cuda:0'}\n"
     ]
    },
    {
     "name": "stderr",
     "output_type": "stream",
     "text": [
      "Current best val acc: 0.70833:  83%|████████▎ | 120/144 [02:12<00:06,  3.64it/s]"
     ]
    },
    {
     "name": "stdout",
     "output_type": "stream",
     "text": [
      "Early stopped on epoch: 6\n",
      "Validation accuracy: 0.6936274509803921\n",
      "Validation f1-score: 0.7987117552334944\n",
      "Validation MCC     : 0.2022984990145712\n",
      "\n",
      "Training with parameters:\n",
      " {'num_epochs': 100, 'batch_size': 512, 'learning_rate': 0.0001, 'category': 'C', 'norm': False, 'input_size': 1536, 'layer_size': 1536, 'num_layers': 1, 'weight_decay': 0.01, 'patience': 3, 'min_delta': 0, 'device': 'cuda:0'}\n"
     ]
    },
    {
     "name": "stderr",
     "output_type": "stream",
     "text": [
      "Current best val acc: 0.70833:  84%|████████▍ | 121/144 [02:13<00:09,  2.40it/s]"
     ]
    },
    {
     "name": "stdout",
     "output_type": "stream",
     "text": [
      "Early stopped on epoch: 22\n",
      "Validation accuracy: 0.7034313725490197\n",
      "Validation f1-score: 0.8163884673748103\n",
      "Validation MCC     : 0.19071017484178912\n",
      "\n",
      "Training with parameters:\n",
      " {'num_epochs': 100, 'batch_size': 512, 'learning_rate': 0.0001, 'category': 'C', 'norm': False, 'input_size': 1536, 'layer_size': 1536, 'num_layers': 1, 'weight_decay': 0.001, 'patience': 3, 'min_delta': 0, 'device': 'cuda:0'}\n"
     ]
    },
    {
     "name": "stderr",
     "output_type": "stream",
     "text": [
      "Current best val acc: 0.70833:  85%|████████▍ | 122/144 [02:14<00:11,  1.95it/s]"
     ]
    },
    {
     "name": "stdout",
     "output_type": "stream",
     "text": [
      "Early stopped on epoch: 21\n",
      "Validation accuracy: 0.7034313725490197\n",
      "Validation f1-score: 0.8169440242057489\n",
      "Validation MCC     : 0.1894568312606072\n",
      "\n",
      "Training with parameters:\n",
      " {'num_epochs': 100, 'batch_size': 512, 'learning_rate': 0.0001, 'category': 'C', 'norm': False, 'input_size': 1536, 'layer_size': 1536, 'num_layers': 1, 'weight_decay': 0.0001, 'patience': 3, 'min_delta': 0, 'device': 'cuda:0'}\n"
     ]
    },
    {
     "name": "stderr",
     "output_type": "stream",
     "text": [
      "Current best val acc: 0.71078:  85%|████████▌ | 123/144 [02:14<00:11,  1.83it/s]"
     ]
    },
    {
     "name": "stdout",
     "output_type": "stream",
     "text": [
      "Early stopped on epoch: 18\n",
      "Validation accuracy: 0.7107843137254902\n",
      "Validation f1-score: 0.8206686930091186\n",
      "Validation MCC     : 0.222181779520806\n",
      "\n",
      "Training with parameters:\n",
      " {'num_epochs': 100, 'batch_size': 512, 'learning_rate': 0.0001, 'category': 'C', 'norm': False, 'input_size': 1536, 'layer_size': 1536, 'num_layers': 1, 'weight_decay': 1e-05, 'patience': 3, 'min_delta': 0, 'device': 'cuda:0'}\n"
     ]
    },
    {
     "name": "stderr",
     "output_type": "stream",
     "text": [
      "Current best val acc: 0.71078:  86%|████████▌ | 124/144 [02:15<00:12,  1.58it/s]"
     ]
    },
    {
     "name": "stdout",
     "output_type": "stream",
     "text": [
      "Early stopped on epoch: 21\n",
      "Validation accuracy: 0.7058823529411765\n",
      "Validation f1-score: 0.8187311178247733\n",
      "Validation MCC     : 0.19990543703818464\n",
      "\n",
      "Training with parameters:\n",
      " {'num_epochs': 100, 'batch_size': 512, 'learning_rate': 0.0001, 'category': 'C', 'norm': False, 'input_size': 1536, 'layer_size': 1536, 'num_layers': 2, 'weight_decay': 0.01, 'patience': 3, 'min_delta': 0, 'device': 'cuda:0'}\n"
     ]
    },
    {
     "name": "stderr",
     "output_type": "stream",
     "text": [
      "Current best val acc: 0.71078:  87%|████████▋ | 125/144 [02:16<00:12,  1.55it/s]"
     ]
    },
    {
     "name": "stdout",
     "output_type": "stream",
     "text": [
      "Early stopped on epoch: 17\n",
      "Validation accuracy: 0.6838235294117647\n",
      "Validation f1-score: 0.8030534351145038\n",
      "Validation MCC     : 0.11533081825702743\n",
      "\n",
      "Training with parameters:\n",
      " {'num_epochs': 100, 'batch_size': 512, 'learning_rate': 0.0001, 'category': 'C', 'norm': False, 'input_size': 1536, 'layer_size': 1536, 'num_layers': 2, 'weight_decay': 0.001, 'patience': 3, 'min_delta': 0, 'device': 'cuda:0'}\n"
     ]
    },
    {
     "name": "stderr",
     "output_type": "stream",
     "text": [
      "Current best val acc: 0.71078:  88%|████████▊ | 126/144 [02:16<00:11,  1.59it/s]"
     ]
    },
    {
     "name": "stdout",
     "output_type": "stream",
     "text": [
      "Early stopped on epoch: 11\n",
      "Validation accuracy: 0.6985294117647058\n",
      "Validation f1-score: 0.8183161004431315\n",
      "Validation MCC     : 0.16493341660730046\n",
      "\n",
      "Training with parameters:\n",
      " {'num_epochs': 100, 'batch_size': 512, 'learning_rate': 0.0001, 'category': 'C', 'norm': False, 'input_size': 1536, 'layer_size': 1536, 'num_layers': 2, 'weight_decay': 0.0001, 'patience': 3, 'min_delta': 0, 'device': 'cuda:0'}\n"
     ]
    },
    {
     "name": "stderr",
     "output_type": "stream",
     "text": [
      "Current best val acc: 0.71078:  88%|████████▊ | 127/144 [02:17<00:10,  1.64it/s]"
     ]
    },
    {
     "name": "stdout",
     "output_type": "stream",
     "text": [
      "Early stopped on epoch: 14\n",
      "Validation accuracy: 0.7058823529411765\n",
      "Validation f1-score: 0.8203592814371258\n",
      "Validation MCC     : 0.1999411754004219\n",
      "\n",
      "Training with parameters:\n",
      " {'num_epochs': 100, 'batch_size': 512, 'learning_rate': 0.0001, 'category': 'C', 'norm': False, 'input_size': 1536, 'layer_size': 1536, 'num_layers': 2, 'weight_decay': 1e-05, 'patience': 3, 'min_delta': 0, 'device': 'cuda:0'}\n"
     ]
    },
    {
     "name": "stderr",
     "output_type": "stream",
     "text": [
      "Current best val acc: 0.71078:  89%|████████▉ | 128/144 [02:17<00:09,  1.71it/s]"
     ]
    },
    {
     "name": "stdout",
     "output_type": "stream",
     "text": [
      "Early stopped on epoch: 13\n",
      "Validation accuracy: 0.7034313725490197\n",
      "Validation f1-score: 0.8207407407407408\n",
      "Validation MCC     : 0.1936103315055931\n",
      "\n",
      "Training with parameters:\n",
      " {'num_epochs': 100, 'batch_size': 512, 'learning_rate': 0.0001, 'category': 'C', 'norm': False, 'input_size': 1536, 'layer_size': 1536, 'num_layers': 3, 'weight_decay': 0.01, 'patience': 3, 'min_delta': 0, 'device': 'cuda:0'}\n"
     ]
    },
    {
     "name": "stderr",
     "output_type": "stream",
     "text": [
      "Current best val acc: 0.71078:  90%|████████▉ | 129/144 [02:18<00:08,  1.81it/s]"
     ]
    },
    {
     "name": "stdout",
     "output_type": "stream",
     "text": [
      "Early stopped on epoch: 10\n",
      "Validation accuracy: 0.6985294117647058\n",
      "Validation f1-score: 0.8183161004431315\n",
      "Validation MCC     : 0.16493341660730046\n",
      "\n",
      "Training with parameters:\n",
      " {'num_epochs': 100, 'batch_size': 512, 'learning_rate': 0.0001, 'category': 'C', 'norm': False, 'input_size': 1536, 'layer_size': 1536, 'num_layers': 3, 'weight_decay': 0.001, 'patience': 3, 'min_delta': 0, 'device': 'cuda:0'}\n"
     ]
    },
    {
     "name": "stderr",
     "output_type": "stream",
     "text": [
      "Current best val acc: 0.71078:  90%|█████████ | 130/144 [02:18<00:07,  1.90it/s]"
     ]
    },
    {
     "name": "stdout",
     "output_type": "stream",
     "text": [
      "Early stopped on epoch: 10\n",
      "Validation accuracy: 0.6985294117647058\n",
      "Validation f1-score: 0.8183161004431315\n",
      "Validation MCC     : 0.16493341660730046\n",
      "\n",
      "Training with parameters:\n",
      " {'num_epochs': 100, 'batch_size': 512, 'learning_rate': 0.0001, 'category': 'C', 'norm': False, 'input_size': 1536, 'layer_size': 1536, 'num_layers': 3, 'weight_decay': 0.0001, 'patience': 3, 'min_delta': 0, 'device': 'cuda:0'}\n"
     ]
    },
    {
     "name": "stderr",
     "output_type": "stream",
     "text": [
      "Current best val acc: 0.71078:  91%|█████████ | 131/144 [02:19<00:06,  1.96it/s]"
     ]
    },
    {
     "name": "stdout",
     "output_type": "stream",
     "text": [
      "Early stopped on epoch: 10\n",
      "Validation accuracy: 0.7009803921568627\n",
      "Validation f1-score: 0.8200589970501474\n",
      "Validation MCC     : 0.18498419046491685\n",
      "\n",
      "Training with parameters:\n",
      " {'num_epochs': 100, 'batch_size': 512, 'learning_rate': 0.0001, 'category': 'C', 'norm': False, 'input_size': 1536, 'layer_size': 1536, 'num_layers': 3, 'weight_decay': 1e-05, 'patience': 3, 'min_delta': 0, 'device': 'cuda:0'}\n"
     ]
    },
    {
     "name": "stderr",
     "output_type": "stream",
     "text": [
      "Current best val acc: 0.71078:  92%|█████████▏| 132/144 [02:20<00:06,  1.78it/s]"
     ]
    },
    {
     "name": "stdout",
     "output_type": "stream",
     "text": [
      "Early stopped on epoch: 12\n",
      "Validation accuracy: 0.7034313725490197\n",
      "Validation f1-score: 0.8191330343796712\n",
      "Validation MCC     : 0.18760401395753898\n",
      "\n",
      "Training with parameters:\n",
      " {'num_epochs': 100, 'batch_size': 512, 'learning_rate': 1e-05, 'category': 'C', 'norm': False, 'input_size': 1536, 'layer_size': 1536, 'num_layers': 1, 'weight_decay': 0.01, 'patience': 3, 'min_delta': 0, 'device': 'cuda:0'}\n"
     ]
    },
    {
     "name": "stderr",
     "output_type": "stream",
     "text": [
      "Current best val acc: 0.71078:  92%|█████████▏| 133/144 [02:23<00:15,  1.45s/it]"
     ]
    },
    {
     "name": "stdout",
     "output_type": "stream",
     "text": [
      "Early stopped on epoch: 100\n",
      "Validation accuracy: 0.7034313725490197\n",
      "Validation f1-score: 0.8202080237741455\n",
      "Validation MCC     : 0.19034860044670815\n",
      "\n",
      "Training with parameters:\n",
      " {'num_epochs': 100, 'batch_size': 512, 'learning_rate': 1e-05, 'category': 'C', 'norm': False, 'input_size': 1536, 'layer_size': 1536, 'num_layers': 1, 'weight_decay': 0.001, 'patience': 3, 'min_delta': 0, 'device': 'cuda:0'}\n"
     ]
    },
    {
     "name": "stderr",
     "output_type": "stream",
     "text": [
      "Current best val acc: 0.71078:  93%|█████████▎| 134/144 [02:27<00:20,  2.09s/it]"
     ]
    },
    {
     "name": "stdout",
     "output_type": "stream",
     "text": [
      "Early stopped on epoch: 100\n",
      "Validation accuracy: 0.7009803921568627\n",
      "Validation f1-score: 0.8189910979228486\n",
      "Validation MCC     : 0.17676105706034642\n",
      "\n",
      "Training with parameters:\n",
      " {'num_epochs': 100, 'batch_size': 512, 'learning_rate': 1e-05, 'category': 'C', 'norm': False, 'input_size': 1536, 'layer_size': 1536, 'num_layers': 1, 'weight_decay': 0.0001, 'patience': 3, 'min_delta': 0, 'device': 'cuda:0'}\n"
     ]
    },
    {
     "name": "stderr",
     "output_type": "stream",
     "text": [
      "Current best val acc: 0.71078:  94%|█████████▍| 135/144 [02:30<00:22,  2.55s/it]"
     ]
    },
    {
     "name": "stdout",
     "output_type": "stream",
     "text": [
      "Early stopped on epoch: 100\n",
      "Validation accuracy: 0.7034313725490197\n",
      "Validation f1-score: 0.8202080237741455\n",
      "Validation MCC     : 0.19034860044670815\n",
      "\n",
      "Training with parameters:\n",
      " {'num_epochs': 100, 'batch_size': 512, 'learning_rate': 1e-05, 'category': 'C', 'norm': False, 'input_size': 1536, 'layer_size': 1536, 'num_layers': 1, 'weight_decay': 1e-05, 'patience': 3, 'min_delta': 0, 'device': 'cuda:0'}\n"
     ]
    },
    {
     "name": "stderr",
     "output_type": "stream",
     "text": [
      "Current best val acc: 0.71078:  94%|█████████▍| 136/144 [02:34<00:22,  2.87s/it]"
     ]
    },
    {
     "name": "stdout",
     "output_type": "stream",
     "text": [
      "Early stopped on epoch: 100\n",
      "Validation accuracy: 0.7034313725490197\n",
      "Validation f1-score: 0.8202080237741455\n",
      "Validation MCC     : 0.19034860044670815\n",
      "\n",
      "Training with parameters:\n",
      " {'num_epochs': 100, 'batch_size': 512, 'learning_rate': 1e-05, 'category': 'C', 'norm': False, 'input_size': 1536, 'layer_size': 1536, 'num_layers': 2, 'weight_decay': 0.01, 'patience': 3, 'min_delta': 0, 'device': 'cuda:0'}\n"
     ]
    },
    {
     "name": "stderr",
     "output_type": "stream",
     "text": [
      "Current best val acc: 0.71078:  95%|█████████▌| 137/144 [02:37<00:21,  3.08s/it]"
     ]
    },
    {
     "name": "stdout",
     "output_type": "stream",
     "text": [
      "Early stopped on epoch: 86\n",
      "Validation accuracy: 0.7034313725490197\n",
      "Validation f1-score: 0.8185907046476761\n",
      "Validation MCC     : 0.1874105071769544\n",
      "\n",
      "Training with parameters:\n",
      " {'num_epochs': 100, 'batch_size': 512, 'learning_rate': 1e-05, 'category': 'C', 'norm': False, 'input_size': 1536, 'layer_size': 1536, 'num_layers': 2, 'weight_decay': 0.001, 'patience': 3, 'min_delta': 0, 'device': 'cuda:0'}\n"
     ]
    },
    {
     "name": "stderr",
     "output_type": "stream",
     "text": [
      "Current best val acc: 0.71078:  96%|█████████▌| 138/144 [02:41<00:19,  3.17s/it]"
     ]
    },
    {
     "name": "stdout",
     "output_type": "stream",
     "text": [
      "Early stopped on epoch: 85\n",
      "Validation accuracy: 0.7058823529411765\n",
      "Validation f1-score: 0.8214285714285715\n",
      "Validation MCC     : 0.2032822906724814\n",
      "\n",
      "Training with parameters:\n",
      " {'num_epochs': 100, 'batch_size': 512, 'learning_rate': 1e-05, 'category': 'C', 'norm': False, 'input_size': 1536, 'layer_size': 1536, 'num_layers': 2, 'weight_decay': 0.0001, 'patience': 3, 'min_delta': 0, 'device': 'cuda:0'}\n"
     ]
    },
    {
     "name": "stderr",
     "output_type": "stream",
     "text": [
      "Current best val acc: 0.71078:  97%|█████████▋| 139/144 [02:44<00:16,  3.23s/it]"
     ]
    },
    {
     "name": "stdout",
     "output_type": "stream",
     "text": [
      "Early stopped on epoch: 81\n",
      "Validation accuracy: 0.7058823529411765\n",
      "Validation f1-score: 0.8214285714285715\n",
      "Validation MCC     : 0.2032822906724814\n",
      "\n",
      "Training with parameters:\n",
      " {'num_epochs': 100, 'batch_size': 512, 'learning_rate': 1e-05, 'category': 'C', 'norm': False, 'input_size': 1536, 'layer_size': 1536, 'num_layers': 2, 'weight_decay': 1e-05, 'patience': 3, 'min_delta': 0, 'device': 'cuda:0'}\n"
     ]
    },
    {
     "name": "stderr",
     "output_type": "stream",
     "text": [
      "Current best val acc: 0.71078:  97%|█████████▋| 140/144 [02:48<00:13,  3.28s/it]"
     ]
    },
    {
     "name": "stdout",
     "output_type": "stream",
     "text": [
      "Early stopped on epoch: 84\n",
      "Validation accuracy: 0.7083333333333334\n",
      "Validation f1-score: 0.8226527570789866\n",
      "Validation MCC     : 0.2156477983472322\n",
      "\n",
      "Training with parameters:\n",
      " {'num_epochs': 100, 'batch_size': 512, 'learning_rate': 1e-05, 'category': 'C', 'norm': False, 'input_size': 1536, 'layer_size': 1536, 'num_layers': 3, 'weight_decay': 0.01, 'patience': 3, 'min_delta': 0, 'device': 'cuda:0'}\n"
     ]
    },
    {
     "name": "stderr",
     "output_type": "stream",
     "text": [
      "Current best val acc: 0.71078:  98%|█████████▊| 141/144 [02:50<00:09,  3.00s/it]"
     ]
    },
    {
     "name": "stdout",
     "output_type": "stream",
     "text": [
      "Early stopped on epoch: 51\n",
      "Validation accuracy: 0.6985294117647058\n",
      "Validation f1-score: 0.8183161004431315\n",
      "Validation MCC     : 0.16493341660730046\n",
      "\n",
      "Training with parameters:\n",
      " {'num_epochs': 100, 'batch_size': 512, 'learning_rate': 1e-05, 'category': 'C', 'norm': False, 'input_size': 1536, 'layer_size': 1536, 'num_layers': 3, 'weight_decay': 0.001, 'patience': 3, 'min_delta': 0, 'device': 'cuda:0'}\n"
     ]
    },
    {
     "name": "stderr",
     "output_type": "stream",
     "text": [
      "Current best val acc: 0.71078:  99%|█████████▊| 142/144 [02:52<00:05,  2.84s/it]"
     ]
    },
    {
     "name": "stdout",
     "output_type": "stream",
     "text": [
      "Early stopped on epoch: 53\n",
      "Validation accuracy: 0.7009803921568627\n",
      "Validation f1-score: 0.8195266272189349\n",
      "Validation MCC     : 0.179710163362961\n",
      "\n",
      "Training with parameters:\n",
      " {'num_epochs': 100, 'batch_size': 512, 'learning_rate': 1e-05, 'category': 'C', 'norm': False, 'input_size': 1536, 'layer_size': 1536, 'num_layers': 3, 'weight_decay': 0.0001, 'patience': 3, 'min_delta': 0, 'device': 'cuda:0'}\n"
     ]
    },
    {
     "name": "stderr",
     "output_type": "stream",
     "text": [
      "Current best val acc: 0.71078:  99%|█████████▉| 143/144 [02:55<00:02,  2.78s/it]"
     ]
    },
    {
     "name": "stdout",
     "output_type": "stream",
     "text": [
      "Early stopped on epoch: 57\n",
      "Validation accuracy: 0.7058823529411765\n",
      "Validation f1-score: 0.8219584569732937\n",
      "Validation MCC     : 0.20677292192951885\n",
      "\n",
      "Training with parameters:\n",
      " {'num_epochs': 100, 'batch_size': 512, 'learning_rate': 1e-05, 'category': 'C', 'norm': False, 'input_size': 1536, 'layer_size': 1536, 'num_layers': 3, 'weight_decay': 1e-05, 'patience': 3, 'min_delta': 0, 'device': 'cuda:0'}\n"
     ]
    },
    {
     "name": "stderr",
     "output_type": "stream",
     "text": [
      "Current best val acc: 0.71078: 100%|██████████| 144/144 [02:57<00:00,  1.24s/it]"
     ]
    },
    {
     "name": "stdout",
     "output_type": "stream",
     "text": [
      "Early stopped on epoch: 50\n",
      "Validation accuracy: 0.6985294117647058\n",
      "Validation f1-score: 0.8183161004431315\n",
      "Validation MCC     : 0.16493341660730046\n",
      "\n",
      "Best Parameters: {'num_epochs': 100, 'batch_size': 512, 'learning_rate': 0.0001, 'category': 'C', 'norm': False, 'input_size': 1536, 'layer_size': 1536, 'num_layers': 1, 'weight_decay': 0.0001, 'patience': 3, 'min_delta': 0, 'device': 'cuda:0'}\n",
      "Highest Validation Accuracy: 0.7107843137254902\n"
     ]
    },
    {
     "name": "stderr",
     "output_type": "stream",
     "text": [
      "\n"
     ]
    }
   ],
   "source": [
    "verbose = True\n",
    "\n",
    "# Iterate over all combinations of hyperparameters\n",
    "bar = tqdm(all_params)\n",
    "for params in bar:\n",
    "    if verbose: print(\"\\nTraining with parameters:\\n\", params)\n",
    "    # Initialize the model with current set of hyperparameters\n",
    "    feed_forward = FeedForward(**params)\n",
    "    \n",
    "    epoch, val_loss, val_accuracy, val_f1, val_mcc = feed_forward.fit(X_train, Y_train, X_val, Y_val)\n",
    "\n",
    "    if verbose:\n",
    "        print(\"Early stopped on epoch:\", epoch)\n",
    "        print(\"Validation accuracy:\", val_accuracy)\n",
    "        print(\"Validation f1-score:\", val_f1)\n",
    "        print(\"Validation MCC     :\", val_mcc)\n",
    "    \n",
    "    # Save the parameters if they provide a better accuracy\n",
    "    if val_accuracy > highest_val_accuracy:\n",
    "        highest_val_accuracy = val_accuracy\n",
    "        best_params = params\n",
    "\n",
    "    bar.set_description(f\"Current best val acc: {highest_val_accuracy:.5f}\")\n",
    "\n",
    "# Print the best parameters\n",
    "print(\"\\nBest Parameters:\", best_params)\n",
    "print(\"Highest Validation Accuracy:\", highest_val_accuracy)"
   ]
  },
  {
   "cell_type": "markdown",
   "metadata": {},
   "source": [
    "# Evaluate Best Hyperparameters"
   ]
  },
  {
   "cell_type": "code",
   "execution_count": 48,
   "metadata": {},
   "outputs": [
    {
     "name": "stdout",
     "output_type": "stream",
     "text": [
      "(5463,)\n"
     ]
    }
   ],
   "source": [
    "best_feed_forward = FeedForward(**best_params)\n",
    "\n",
    "X = np.concatenate((X_train, X_val), axis=0)\n",
    "Y = np.concatenate((Y_train, Y_val), axis=0)\n",
    "\n",
    "best_feed_forward.fit(X, Y)\n",
    "\n",
    "preds = np.argmax(best_feed_forward.predict_proba(X_test), axis=1)\n",
    "print(preds.shape)\n",
    "\n",
    "\n",
    "df = pd.DataFrame({\n",
    "    'index': range(len(preds)),\n",
    "    'prediction': preds\n",
    "})\n",
    "\n",
    "# Write the DataFrame to a .tsv file, without the header and index\n",
    "df.to_csv('QNLI.tsv', sep='\\t', index=False, header=True)"
   ]
  }
 ],
 "metadata": {
  "kernelspec": {
   "display_name": "Python 3 (ipykernel)",
   "language": "python",
   "name": "python3"
  },
  "language_info": {
   "codemirror_mode": {
    "name": "ipython",
    "version": 3
   },
   "file_extension": ".py",
   "mimetype": "text/x-python",
   "name": "python",
   "nbconvert_exporter": "python",
   "pygments_lexer": "ipython3",
   "version": "3.9.0"
  }
 },
 "nbformat": 4,
 "nbformat_minor": 4
}
