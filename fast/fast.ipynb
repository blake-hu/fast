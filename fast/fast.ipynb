{
 "cells": [
  {
   "cell_type": "markdown",
   "metadata": {},
   "source": [
    "# FAST: Feedforward-Augmented Sentence Transformers"
   ]
  },
  {
   "cell_type": "markdown",
   "metadata": {},
   "source": [
    "# IMPORTS"
   ]
  },
  {
   "cell_type": "code",
   "execution_count": null,
   "metadata": {},
   "outputs": [],
   "source": [
    "# REQUIRED IMPORTS & SETUP\n",
    "\n",
    "import os\n",
    "import pickle\n",
    "import numpy as np \n",
    "import pandas as pd \n",
    "import warnings\n",
    "import itertools\n",
    "import csv\n",
    "import random\n",
    "random.seed(0)  # standardized default seed\n",
    "\n",
    "import torch\n",
    "from datasets import Dataset, load_dataset\n",
    "import torch\n",
    "import torch.nn.functional as F\n",
    "\n",
    "from utils.feed_forward import FeedForward\n",
    "from utils.cls import extract_cls_embeddings\n",
    "os.environ[\"TOKENIZERS_PARALLELISM\"] = \"false\"\n",
    "\n",
    "# Set Device ##########################################################\n",
    "device_name = \"cpu\"  # default device is CPU\n",
    "if torch.cuda.is_available():\n",
    "    device_name = \"cuda:0\"  # CUDA for NVIDIA GPU\n",
    "elif torch.backends.mps.is_available():\n",
    "    device_name = torch.device(\"mps\")  # Metal Performance Shaders for Apple M-series GPU\n",
    "device = torch.device(device_name)\n",
    "#######################################################################"
   ]
  },
  {
   "cell_type": "markdown",
   "metadata": {},
   "source": [
    "# LOAD MODELS & DATA\n",
    "Load models from HuggingFace and send to GPU device. Below are some options for models."
   ]
  },
  {
   "cell_type": "markdown",
   "metadata": {},
   "source": [
    "## Base Models"
   ]
  },
  {
   "cell_type": "markdown",
   "metadata": {},
   "source": [
    "### MPNet Base"
   ]
  },
  {
   "cell_type": "code",
   "execution_count": null,
   "metadata": {},
   "outputs": [],
   "source": [
    "from transformers import MPNetTokenizer, MPNetModel\n",
    "tokenizer = MPNetTokenizer.from_pretrained('sentence-transformers/all-mpnet-base-v2')\n",
    "model = MPNetModel.from_pretrained(\"microsoft/mpnet-base\").to(device)"
   ]
  },
  {
   "cell_type": "markdown",
   "metadata": {},
   "source": [
    "### Distil RoBERTa Base"
   ]
  },
  {
   "cell_type": "raw",
   "metadata": {},
   "source": [
    "from transformers import RobertaTokenizer, RobertaModel\n",
    "tokenizer = RobertaTokenizer.from_pretrained('distilroberta-base')\n",
    "model = RobertaModel.from_pretrained('distilroberta-base').to(device)"
   ]
  },
  {
   "cell_type": "markdown",
   "metadata": {},
   "source": [
    "## Sentence Transformers"
   ]
  },
  {
   "cell_type": "markdown",
   "metadata": {},
   "source": [
    "### MPNet Sentence Transformer"
   ]
  },
  {
   "cell_type": "code",
   "execution_count": null,
   "metadata": {},
   "outputs": [],
   "source": [
    "model = SentenceTransformer('sentence-transformers/all-mpnet-base-v2').to(device)"
   ]
  },
  {
   "cell_type": "markdown",
   "metadata": {},
   "source": [
    "### Distil RoBERTa Sentence Transformer"
   ]
  },
  {
   "cell_type": "code",
   "execution_count": null,
   "metadata": {},
   "outputs": [],
   "source": [
    "model = SentenceTransformer('sentence-transformers/all-distilroberta-v1').to(device)"
   ]
  },
  {
   "cell_type": "markdown",
   "metadata": {},
   "source": [
    "## Load Dataset"
   ]
  },
  {
   "cell_type": "code",
   "execution_count": null,
   "metadata": {},
   "outputs": [],
   "source": [
    "data = load_dataset(\"glue\", \"cola\")\n",
    "data"
   ]
  },
  {
   "cell_type": "markdown",
   "metadata": {},
   "source": [
    "# GENERATE EMBEDDINGS"
   ]
  },
  {
   "cell_type": "markdown",
   "metadata": {},
   "source": [
    "## Generate Embeddings for CLS"
   ]
  },
  {
   "cell_type": "markdown",
   "metadata": {},
   "source": [
    "Generate vector encodings using tokenizer."
   ]
  },
  {
   "cell_type": "code",
   "execution_count": null,
   "metadata": {},
   "outputs": [],
   "source": [
    "X_train = data[\"train\"][\"sentence\"]\n",
    "X_val = data[\"validation\"][\"sentence\"]\n",
    "X_test = data[\"test\"][\"sentence\"]\n",
    "\n",
    "Y_train = data[\"train\"][\"label\"]\n",
    "Y_val = data[\"validation\"][\"label\"]\n",
    "Y_test = data[\"test\"][\"label\"]\n",
    "\n",
    "X_train = tokenizer(X_train, padding=True, truncation=True, return_tensors='pt')\n",
    "X_val = tokenizer(X_val, padding=True, truncation=True, return_tensors='pt')\n",
    "X_test = tokenizer(X_test, padding=True, truncation=True, return_tensors='pt')"
   ]
  },
  {
   "cell_type": "markdown",
   "metadata": {},
   "source": [
    "Run vector encodings through model and extract CLS token from output."
   ]
  },
  {
   "cell_type": "code",
   "execution_count": null,
   "metadata": {},
   "outputs": [],
   "source": [
    "# EXPENSIVE OPERATION: This cell may take about 2 minutes or more to run\n",
    "\n",
    "with torch.no_grad():\n",
    "    X_train = model(**X_train)\n",
    "    X_val = model(**X_val)\n",
    "    X_test = model(**X_test)\n",
    "\n",
    "X_train = extract_cls_embeddings(X_train)\n",
    "X_val = extract_cls_embeddings(X_val)\n",
    "X_test = extract_cls_embeddings(X_test)"
   ]
  },
  {
   "cell_type": "markdown",
   "metadata": {},
   "source": [
    "Save generated CLS tokens to disk."
   ]
  },
  {
   "cell_type": "code",
   "execution_count": 55,
   "metadata": {},
   "outputs": [],
   "source": [
    "model = \"distilroberta\"  # rename to model name\n",
    "dataset = \"cola\"         # rename to dataset name\n",
    "\n",
    "from pathlib import Path\n",
    "Path(\"./output/cls\").mkdir(parents=True, exist_ok=True)\n",
    "\n",
    "with open(f'./output/cls/X_train_{dataset}_{model}.npy', 'wb') as X_train_file:\n",
    "    np.save(X_train_file, X_train)\n",
    "with open(f'./output/cls/X_val_{dataset}_{model}.npy', 'wb') as X_val_file:\n",
    "    np.save(X_val_file, X_val)\n",
    "with open(f'./output/cls/X_test_{dataset}_{model}.npy', 'wb') as X_test_file:\n",
    "    np.save(X_test_file, X_test)\n",
    "with open(f'./output/cls/Y_train_{dataset}_{model}.npy', 'wb') as Y_train_file:\n",
    "    np.save(Y_train_file, Y_train)\n",
    "with open(f'./output/cls/Y_val_{dataset}_{model}.npy', 'wb') as Y_val_file:\n",
    "    np.save(Y_val_file, Y_val)\n",
    "with open(f'./output/cls/Y_test_{dataset}_{model}.npy', 'wb') as Y_test_file:\n",
    "    np.save(Y_test_file, Y_test)"
   ]
  },
  {
   "cell_type": "markdown",
   "metadata": {},
   "source": [
    "Load generated CLS tokens from disk."
   ]
  },
  {
   "cell_type": "code",
   "execution_count": 52,
   "metadata": {},
   "outputs": [
    {
     "name": "stdout",
     "output_type": "stream",
     "text": [
      "size of X_train: 8551\n"
     ]
    }
   ],
   "source": [
    "model = \"distilroberta\"  # rename to model name\n",
    "dataset = \"cola\"         # rename to dataset name\n",
    "\n",
    "with open(f'./output/cls/X_train_{dataset}_{model}.npy', 'rb') as X_train_file:\n",
    "    X_train = np.load(X_train_file)\n",
    "with open(f'./output/cls/X_val_{dataset}_{model}.npy', 'rb') as X_val_file:\n",
    "    X_val = np.load(X_val_file)\n",
    "with open(f'./output/cls/X_test_{dataset}_{model}.npy', 'rb') as X_test_file:\n",
    "    X_test = np.load(X_test_file)\n",
    "with open(f'./output/cls/Y_train_{dataset}_{model}.npy', 'rb') as Y_train_file:\n",
    "    Y_train = np.load(Y_train_file)\n",
    "with open(f'./output/cls/Y_val_{dataset}_{model}.npy', 'rb') as Y_val_file:\n",
    "    Y_val = np.load(Y_val_file)\n",
    "with open(f'./output/cls/Y_test_{dataset}_{model}.npy', 'rb') as Y_test_file:\n",
    "    Y_test = np.load(Y_test_file)\n",
    "\n",
    "print(f\"size of X_train: {len(X_train)}\")"
   ]
  },
  {
   "cell_type": "markdown",
   "metadata": {},
   "source": [
    "# Mean Pooled Embeddings Example"
   ]
  },
  {
   "cell_type": "code",
   "execution_count": 7,
   "metadata": {},
   "outputs": [
    {
     "name": "stdout",
     "output_type": "stream",
     "text": [
      "Requirement already satisfied: transformers in /Users/michellezhang/miniconda3/envs/projectx/lib/python3.9/site-packages (4.35.0)\n",
      "Requirement already satisfied: filelock in /Users/michellezhang/miniconda3/envs/projectx/lib/python3.9/site-packages (from transformers) (3.13.1)\n",
      "Requirement already satisfied: huggingface-hub<1.0,>=0.16.4 in /Users/michellezhang/miniconda3/envs/projectx/lib/python3.9/site-packages (from transformers) (0.17.3)\n",
      "Requirement already satisfied: numpy>=1.17 in /Users/michellezhang/miniconda3/envs/projectx/lib/python3.9/site-packages (from transformers) (1.24.4)\n",
      "Requirement already satisfied: packaging>=20.0 in /Users/michellezhang/miniconda3/envs/projectx/lib/python3.9/site-packages (from transformers) (23.2)\n",
      "Requirement already satisfied: pyyaml>=5.1 in /Users/michellezhang/miniconda3/envs/projectx/lib/python3.9/site-packages (from transformers) (6.0.1)\n",
      "Requirement already satisfied: regex!=2019.12.17 in /Users/michellezhang/miniconda3/envs/projectx/lib/python3.9/site-packages (from transformers) (2023.10.3)\n",
      "Requirement already satisfied: requests in /Users/michellezhang/miniconda3/envs/projectx/lib/python3.9/site-packages (from transformers) (2.31.0)\n",
      "Requirement already satisfied: tokenizers<0.15,>=0.14 in /Users/michellezhang/miniconda3/envs/projectx/lib/python3.9/site-packages (from transformers) (0.14.1)\n",
      "Requirement already satisfied: safetensors>=0.3.1 in /Users/michellezhang/miniconda3/envs/projectx/lib/python3.9/site-packages (from transformers) (0.4.0)\n",
      "Requirement already satisfied: tqdm>=4.27 in /Users/michellezhang/miniconda3/envs/projectx/lib/python3.9/site-packages (from transformers) (4.66.1)\n",
      "Requirement already satisfied: fsspec in /Users/michellezhang/miniconda3/envs/projectx/lib/python3.9/site-packages (from huggingface-hub<1.0,>=0.16.4->transformers) (2023.6.0)\n",
      "Requirement already satisfied: typing-extensions>=3.7.4.3 in /Users/michellezhang/miniconda3/envs/projectx/lib/python3.9/site-packages (from huggingface-hub<1.0,>=0.16.4->transformers) (4.8.0)\n",
      "Requirement already satisfied: charset-normalizer<4,>=2 in /Users/michellezhang/miniconda3/envs/projectx/lib/python3.9/site-packages (from requests->transformers) (3.3.2)\n",
      "Requirement already satisfied: idna<4,>=2.5 in /Users/michellezhang/miniconda3/envs/projectx/lib/python3.9/site-packages (from requests->transformers) (3.4)\n",
      "Requirement already satisfied: urllib3<3,>=1.21.1 in /Users/michellezhang/miniconda3/envs/projectx/lib/python3.9/site-packages (from requests->transformers) (2.0.7)\n",
      "Requirement already satisfied: certifi>=2017.4.17 in /Users/michellezhang/miniconda3/envs/projectx/lib/python3.9/site-packages (from requests->transformers) (2023.7.22)\n",
      "Note: you may need to restart the kernel to use updated packages.\n",
      "Embeddings: [[-0.00309106 -0.00176029 -0.00381204 ... -0.01621991 -0.00107355\n",
      "   0.00249623]\n",
      " [ 0.00124463  0.00778843 -0.00230429 ... -0.00839902 -0.00316125\n",
      "  -0.00278425]]\n"
     ]
    }
   ],
   "source": [
    "import sys\n",
    "sys.path.append(\"..\")\n",
    "from utils import mean_pooling\n",
    "sentences = ['sentence@!!!!', 'yes']\n",
    "# tokenizer = RobertaTokenizer.from_pretrained('distilroberta-base')\n",
    "# model = RobertaModel.from_pretrained('distilroberta-base')\n",
    "encoded_input = tokenizer(sentences, padding=True, truncation=True, return_tensors='pt')\n",
    "with torch.no_grad():\n",
    "    model_output = model(**encoded_input)\n",
    "\n",
    "# Pooling\n",
    "sentence_embeddings = mean_pooling.mean_pooling(model_output, encoded_input['attention_mask'])\n",
    "\n",
    "print(\"Embeddings:\", sentence_embeddings)\n"
   ]
  },
  {
   "cell_type": "markdown",
   "metadata": {},
   "source": [
    "## Generate Embeddings for Sentence Transformers"
   ]
  },
  {
   "cell_type": "markdown",
   "metadata": {},
   "source": [
    "Generate sentence embeddings using sentence transformer model."
   ]
  },
  {
   "cell_type": "code",
   "execution_count": null,
   "metadata": {},
   "outputs": [],
   "source": [
    "# EXPENSIVE OPERATION: This cell may take about 2 minutes or more to run\n",
    "\n",
    "with torch.no_grad():\n",
    "    X_train = model.encode(data[\"train\"][\"sentence\"])\n",
    "    X_val = model.encode(data[\"validation\"][\"sentence\"])\n",
    "    X_test = model.encode(data[\"test\"][\"sentence\"])\n",
    "    \n",
    "    Y_train = np.array(data[\"train\"][\"label\"])\n",
    "    Y_val = np.array(data[\"validation\"][\"label\"])\n",
    "    Y_test = np.array(data[\"test\"][\"label\"])"
   ]
  },
  {
   "cell_type": "markdown",
   "metadata": {},
   "source": [
    "Save encodings and labels to disk for reuse. This is done because encoding embeddings takes a significant time but the encodings do not change throughout training, so we can cache it."
   ]
  },
  {
   "cell_type": "code",
   "execution_count": null,
   "metadata": {},
   "outputs": [],
   "source": [
    "model = \"distilroberta\"  # rename to model name\n",
    "dataset = \"cola\"         # rename to dataset name\n",
    "\n",
    "from pathlib import Path\n",
    "Path(\"./output/fast\").mkdir(parents=True, exist_ok=True)\n",
    "\n",
    "with open(f'./output/fast/X_train_{dataset}_{model}.pt', 'wb') as X_train_file:\n",
    "    torch.save(X_train, X_train_file)\n",
    "with open(f'./output/fast/X_val_{dataset}_{model}.pt', 'wb') as X_val_file:\n",
    "    torch.save(X_val, X_val_file)\n",
    "with open(f'./output/fast/X_test_{dataset}_{model}.pt', 'wb') as X_test_file:\n",
    "    torch.save(X_test, X_test_file)\n",
    "with open(f'./output/fast/Y_train_{dataset}_{model}.npy', 'wb') as Y_train_file:\n",
    "    np.save(Y_train_file, Y_train)\n",
    "with open(f'./output/fast/Y_val_{dataset}_{model}.npy', 'wb') as Y_val_file:\n",
    "    np.save(Y_val_file, Y_val)\n",
    "with open(f'./output/fast/Y_test_{dataset}_{model}.npy', 'wb') as Y_test_file:\n",
    "    np.save(Y_test_file, Y_test)"
   ]
  },
  {
   "cell_type": "markdown",
   "metadata": {},
   "source": [
    "Load saved encodings and labels from disk, if previously saved."
   ]
  },
  {
   "cell_type": "code",
   "execution_count": null,
   "metadata": {},
   "outputs": [],
   "source": [
    "model = \"distilroberta\"  # rename to model name\n",
    "dataset = \"cola\"         # rename to dataset name\n",
    "\n",
    "with open(f'./output/fast/X_train_{dataset}_{model}.pt', 'rb') as X_train_file:\n",
    "    X_train = torch.load(X_train_file)\n",
    "with open(f'./output/fast/X_val_{dataset}_{model}.pt', 'rb') as X_val_file:\n",
    "    X_val = torch.load(X_val_file)\n",
    "with open(f'./output/fast/X_test_{dataset}_{model}.pt', 'rb') as X_test_file:\n",
    "    X_test = torch.load(X_test_file)\n",
    "with open(f'./output/fast/Y_train_{dataset}_{model}.npy', 'rb') as Y_train_file:\n",
    "    Y_train = np.load(Y_train_file)\n",
    "with open(f'./output/fast/Y_val_{dataset}_{model}.npy', 'rb') as Y_val_file:\n",
    "    Y_val = np.load(Y_val_file)\n",
    "with open(f'./output/fast/Y_test_{dataset}_{model}.npy', 'rb') as Y_test_file:\n",
    "    Y_test = np.load(Y_test_file)\n",
    "\n",
    "print(f\"size of X_train: {len(X_train)}\")"
   ]
  },
  {
   "cell_type": "markdown",
   "metadata": {},
   "source": [
    "# TRAINING LOOP"
   ]
  },
  {
   "cell_type": "markdown",
   "metadata": {},
   "source": [
    "## Define Hyperparameters\n",
    "Defining hyperparameter grid for grid search"
   ]
  },
  {
   "cell_type": "code",
   "execution_count": null,
   "metadata": {},
   "outputs": [],
   "source": [
    "param_grid = {\n",
    "    'num_epochs': [50],\n",
    "    'batch_size': [32, 128, 512],\n",
    "    'learning_rate': [1e-2, 1e-3],\n",
    "    'category': ['C'],\n",
    "    'norm': [False],\n",
    "    'input_size': [768],\n",
    "    'layer_size': [6, 7, 8],\n",
    "    'num_layers': [1, 2, 3],\n",
    "    'weight_decay':[1e-2, 1e-3, 1e-4],\n",
    "    'patience': [3],\n",
    "    'min_delta': [0],\n",
    "    'device': [device_name]\n",
    "}\n",
    "\n",
    "# Create a list of all combinations of hyperparameters\n",
    "all_params = [dict(zip(param_grid.keys(), v)) for v in itertools.product(*param_grid.values())]"
   ]
  },
  {
   "cell_type": "code",
   "execution_count": null,
   "metadata": {
    "scrolled": true
   },
   "outputs": [],
   "source": [
    "# parameters sorted by accuracy metric\n",
    "params_sorted = []\n",
    "\n",
    "random.seed()  # set random seed based on current time just to generate random file_id\n",
    "random_file_id = str(round(random.random() * 10000))\n",
    "random.seed(0)  # reset random seed back to standard 0 seed\n",
    "\n",
    "with open('./output/cls_console_output.txt', 'a') as logfile:\n",
    "    logfile.write('\\n\\nBEGIN TRAINING LOOP\\n\\n')\n",
    "with open(f'./output/val_results_cls_{random_file_id}.csv', 'w', newline='') as csvfile:\n",
    "    print(f'CSV filename: val_results_cls_{random_file_id}.csv')\n",
    "    writer = csv.writer(csvfile)\n",
    "    headers = list(all_params[0].keys())\n",
    "    writer.writerow(['mcc', 'f1', 'accuracy'] + headers)\n",
    "\n",
    "# Iterate over all combinations of hyperparameters\n",
    "for i, params in enumerate(all_params):\n",
    "    \n",
    "    print_params = params.copy()\n",
    "    for param in ['category', 'device']:\n",
    "        del print_params[param]\n",
    "    print(f\"\\nLoop {i + 1} / {len(all_params)} | {round(i / len(all_params) * 100, 2)} %:\")\n",
    "    print(print_params)\n",
    "    \n",
    "    # Initialize the model with current set of hyperparameters\n",
    "    feed_forward = FeedForward(num_epochs=params['num_epochs'],\n",
    "                                batch_size=params['batch_size'],\n",
    "                                learning_rate=params['learning_rate'],\n",
    "                                category=params['category'],\n",
    "                                norm=params['norm'],\n",
    "                                input_size=params['input_size'],\n",
    "                                layer_size=params['layer_size'],\n",
    "                                num_layers=params['num_layers'],\n",
    "                                weight_decay=params['weight_decay'],\n",
    "                                patience=params['patience'],\n",
    "                                min_delta=params['min_delta'],\n",
    "                                device=params['device'])\n",
    "\n",
    "    # Print stats to console\n",
    "    epoch, val_loss, val_accuracy, val_f1, val_mcc = feed_forward.fit(X_train, Y_train, X_val, Y_val)\n",
    "    print(f\"Early stopped on epoch: {epoch}\")\n",
    "    print(f\"Validation accuracy: {val_accuracy}\", )\n",
    "    print(f\"Validation f1-score: {val_f1}\")\n",
    "    print(f\"Validation MCC     : {val_mcc}\")\n",
    "\n",
    "    # Write stats to log file\n",
    "    with open('./output/cls_console_output.txt', 'a') as logfile:\n",
    "        logfile.write(f\"\\n\\nTraining with parameters:\\n{print_params}\")\n",
    "        logfile.write(f\"\\nEarly stopped on epoch: {epoch}\")\n",
    "        logfile.write(f\"\\nValidation accuracy: {val_accuracy}\")\n",
    "        logfile.write(f\"\\nValidation f1-score: {val_f1}\")\n",
    "        logfile.write(f\"\\nValidation MCC     : {val_mcc}\")\n",
    "\n",
    "    with open(f'./output/val_results_cls_{random_file_id}.csv', 'a', newline='') as csvfile:\n",
    "        writer = csv.writer(csvfile)\n",
    "        writer.writerow([val_mcc, val_f1, val_accuracy] + list(params.values()))"
   ]
  },
  {
   "cell_type": "markdown",
   "metadata": {},
   "source": [
    "# PREDICT TEST SET"
   ]
  },
  {
   "cell_type": "code",
   "execution_count": null,
   "metadata": {},
   "outputs": [],
   "source": [
    "# manually set this based on output CSV file\n",
    "\n",
    "best_params = {\n",
    "    'num_epochs': 50,\n",
    "    'batch_size': 128,\n",
    "    'learning_rate': 1e-2,\n",
    "    'category': 'C',\n",
    "    'norm': False,\n",
    "    'input_size': 768,\n",
    "    'layer_size': 6,\n",
    "    'num_layers': 3,\n",
    "    'weight_decay':1e-2,\n",
    "    'patience': 3,\n",
    "    'min_delta': 0,\n",
    "    'device': device_name\n",
    "}"
   ]
  },
  {
   "cell_type": "code",
   "execution_count": null,
   "metadata": {},
   "outputs": [],
   "source": [
    "best_feed_forward = FeedForward(num_epochs=best_params['num_epochs'],\n",
    "                                batch_size=best_params['batch_size'],\n",
    "                                learning_rate=best_params['learning_rate'],\n",
    "                                category=best_params['category'],\n",
    "                                norm=best_params['norm'],\n",
    "                                input_size=best_params['input_size'],\n",
    "                                layer_size=best_params['layer_size'],\n",
    "                                num_layers=best_params['num_layers'],\n",
    "                                weight_decay=best_params['weight_decay'],\n",
    "                                patience=best_params['patience'],\n",
    "                                min_delta=best_params['min_delta'],\n",
    "                                device=best_params['device'])\n",
    "\n",
    "X = np.concatenate((X_train, X_val), axis=0)\n",
    "Y = np.concatenate((Y_train, Y_val), axis=0)\n",
    "\n",
    "best_feed_forward.fit(X, Y)\n",
    "\n",
    "preds = np.argmax(best_feed_forward.predict_proba(X_test), axis=1)\n",
    "print(preds.shape)\n",
    "\n",
    "\n",
    "df = pd.DataFrame({\n",
    "    'index': range(len(preds)),\n",
    "    'prediction': preds\n",
    "})\n",
    "\n",
    "random.seed()  # set random seed based on current time just to generate random file_id\n",
    "random_file_id = str(round(random.random() * 10000))\n",
    "random.seed(0)  # reset random seed back to standard 0 seed\n",
    "# Write the DataFrame to a .tsv file, without the header and index\n",
    "df.to_csv(f'CoLA_{random_file_id}.tsv', sep='\\t', index=False, header=True)"
   ]
  }
 ],
 "metadata": {
  "kernelspec": {
   "display_name": "Python 3 (ipykernel)",
   "language": "python",
   "name": "python3"
  },
  "language_info": {
   "codemirror_mode": {
    "name": "ipython",
    "version": 3
   },
   "file_extension": ".py",
   "mimetype": "text/x-python",
   "name": "python",
   "nbconvert_exporter": "python",
   "pygments_lexer": "ipython3",
   "version": "3.9.0"
  }
 },
 "nbformat": 4,
 "nbformat_minor": 4
}
