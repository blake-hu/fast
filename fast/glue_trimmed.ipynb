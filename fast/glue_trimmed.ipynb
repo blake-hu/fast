{
 "cells": [
  {
   "cell_type": "markdown",
   "metadata": {},
   "source": [
    "# FAST: Feedforward-Augmented Sentence Transformers"
   ]
  },
  {
   "cell_type": "markdown",
   "metadata": {},
   "source": [
    "Notebook for running GLUE tasks."
   ]
  },
  {
   "cell_type": "markdown",
   "metadata": {},
   "source": [
    "# Setup"
   ]
  },
  {
   "cell_type": "markdown",
   "metadata": {},
   "source": [
    "## Modules"
   ]
  },
  {
   "cell_type": "code",
   "execution_count": 1,
   "metadata": {},
   "outputs": [],
   "source": [
    "import random\n",
    "import time\n",
    "import csv\n",
    "import os\n",
    "import pathlib\n",
    "import itertools\n",
    "from datetime import datetime\n",
    "from collections import namedtuple\n",
    "from tqdm.notebook import tqdm\n",
    "\n",
    "import numpy as np\n",
    "import pandas as pd\n",
    "\n",
    "import torch\n",
    "from torch.utils.data import Dataset, DataLoader\n",
    "from datasets import load_dataset\n",
    "\n",
    "from utils.feed_forward import FeedForward\n",
    "from utils.cls import extract_cls_embeddings\n",
    "from utils.mean_pooling import mean_pooling\n",
    "from utils.energy import get_energy"
   ]
  },
  {
   "cell_type": "code",
   "execution_count": 2,
   "metadata": {},
   "outputs": [],
   "source": [
    "# Standardized default seed\n",
    "seed = 7\n",
    "random.seed(seed)\n",
    "np.random.seed(seed)\n",
    "torch.manual_seed(seed)\n",
    "torch.cuda.manual_seed_all(seed)"
   ]
  },
  {
   "cell_type": "markdown",
   "metadata": {},
   "source": [
    "## Device"
   ]
  },
  {
   "cell_type": "code",
   "execution_count": 3,
   "metadata": {},
   "outputs": [
    {
     "name": "stdout",
     "output_type": "stream",
     "text": [
      "cuda\n"
     ]
    }
   ],
   "source": [
    "device_name = \"cpu\"  # default device is CPU\n",
    "if torch.cuda.is_available():\n",
    "    # I read that this works for detecting if notebook is being run in a colab environment, not sure though\n",
    "    if 'COLAB_GPU' in os.environ:\n",
    "        print(\"colab environment\")\n",
    "        device_name = \"gpu\" \n",
    "    else:\n",
    "        device_name = \"cuda\" # CUDA for NVIDIA GPU\n",
    "elif torch.backends.mps.is_available():\n",
    "    device_name = torch.device(\"mps\")  # Metal Performance Shaders for Apple M-series GPU\n",
    "\n",
    "device = torch.device(device_name)\n",
    "print(device_name)"
   ]
  },
  {
   "cell_type": "markdown",
   "metadata": {},
   "source": [
    "## User parameters"
   ]
  },
  {
   "cell_type": "markdown",
   "metadata": {},
   "source": [
    "Parameters to set:\n",
    "- Model\n",
    "    - MPNetBase\n",
    "    - DistilRoBERTaBase\n",
    "    - MPNetST\n",
    "    - DistilRoBERTaST\n",
    "- Task\n",
    "    - cola\n",
    "    - sst2\n",
    "    - mrpc\n",
    "    - stsb\n",
    "    - qqp\n",
    "    - mnli_matched\n",
    "    - mnli_mismatched\n",
    "    - qnli\n",
    "    - rte\n",
    "    - wnli\n",
    "- Embedding type\n",
    "    - cls\n",
    "    - mean_pooling\n",
    "    - sentence"
   ]
  },
  {
   "cell_type": "code",
   "execution_count": 14,
   "metadata": {},
   "outputs": [],
   "source": [
    "model_param = \"DistilRoBERTaBase\"\n",
    "task_param = \"qqp\"\n",
    "embedding_param = \"mean_pooling\"\n",
    "\n",
    "use_carbontracker = False \n",
    "# NOTE: Carbontracker should generate its own output file \n",
    "# => logged benchmarking results will be dummy values if use_carbontracker = True"
   ]
  },
  {
   "cell_type": "markdown",
   "metadata": {},
   "source": [
    "## Models"
   ]
  },
  {
   "cell_type": "code",
   "execution_count": 15,
   "metadata": {},
   "outputs": [
    {
     "name": "stderr",
     "output_type": "stream",
     "text": [
      "Some weights of the model checkpoint at distilroberta-base were not used when initializing RobertaModel: ['lm_head.layer_norm.weight', 'lm_head.dense.weight', 'lm_head.bias', 'lm_head.dense.bias', 'lm_head.layer_norm.bias']\n",
      "- This IS expected if you are initializing RobertaModel from the checkpoint of a model trained on another task or with another architecture (e.g. initializing a BertForSequenceClassification model from a BertForPreTraining model).\n",
      "- This IS NOT expected if you are initializing RobertaModel from the checkpoint of a model that you expect to be exactly identical (initializing a BertForSequenceClassification model from a BertForSequenceClassification model).\n"
     ]
    }
   ],
   "source": [
    "if model_param == \"MPNetBase\": # MPNet Base\n",
    "    from transformers import MPNetTokenizer, MPNetModel\n",
    "    tokenizer = MPNetTokenizer.from_pretrained('sentence-transformers/all-mpnet-base-v2')\n",
    "    model = MPNetModel.from_pretrained(\"microsoft/mpnet-base\").to(device)\n",
    "elif model_param == \"DistilRoBERTaBase\": # DistilRoBERTa Base\n",
    "    from transformers import RobertaTokenizer, RobertaModel\n",
    "    tokenizer = RobertaTokenizer.from_pretrained('distilroberta-base')\n",
    "    model = RobertaModel.from_pretrained('distilroberta-base').to(device)\n",
    "elif model_param == \"MPNetST\": # MPNet Sentence Transformer\n",
    "    from sentence_transformers import SentenceTransformer\n",
    "    model = SentenceTransformer('sentence-transformers/all-mpnet-base-v2').to(device)\n",
    "elif model_param == \"DistilRoBERTaST\": # DistilRoBERTa Sentence Transformer\n",
    "    from sentence_transformers import SentenceTransformer\n",
    "    model = SentenceTransformer('sentence-transformers/all-distilroberta-v1').to(device)\n",
    "else:\n",
    "    raise Exception(f\"ERROR: Bad model_param\")"
   ]
  },
  {
   "cell_type": "code",
   "execution_count": 16,
   "metadata": {},
   "outputs": [],
   "source": [
    "# sentence_type: [\"one\", \"two\"]\n",
    "# class_type: [\"BC\", \"MC\", \"R\"]\n",
    "# input_size: int (represents input size of feedforward, aka embedding size)\n",
    "# col_names: column names of relavent sentences on hugging face\n",
    "# num_classes needs to be 1 for BC and R, only change value to number of classes for MC\n",
    "\n",
    "TaskConfig = namedtuple(\"TaskConfig\", [\"sentence_type\", \"class_type\", \"num_classes\", \"input_size\", \"col_names\"])\n",
    "\n",
    "task_configs = {\n",
    "    \"cola\": TaskConfig(\"one\", \"BC\", 1, 768, ['sentence']),\n",
    "    \"sst2\": TaskConfig(\"one\", \"BC\", 1, 768, ['sentence']),\n",
    "    \"mrpc\": TaskConfig(\"two\", \"BC\", 1, 768, ['sentence1', 'sentence2']),\n",
    "    \"stsb\": TaskConfig(\"two\", \"R\", 1, 768, ['sentence1', 'sentence2']),\n",
    "    \"qqp\": TaskConfig(\"two\", \"BC\", 1, 768, ['question1', 'question2']),\n",
    "    \"mnli_matched\": TaskConfig(\"two\", \"MC\", 3, 768, ['premise', 'hypothesis']),\n",
    "    \"mnli_mismatched\": TaskConfig(\"two\", \"MC\", 3, 768, ['premise', 'hypothesis']),\n",
    "    \"qnli\": TaskConfig(\"two\", \"BC\", 1, 768, ['question', 'sentence']),\n",
    "    \"rte\": TaskConfig(\"two\", \"BC\", 1, 768, ['sentence1', 'sentence2']),\n",
    "    \"wnli\": TaskConfig(\"two\", \"BC\", 1, 768, ['sentence1', 'sentence2']),\n",
    "}\n",
    "\n",
    "task_config = task_configs[task_param]"
   ]
  },
  {
   "cell_type": "markdown",
   "metadata": {},
   "source": [
    "## Dataset"
   ]
  },
  {
   "cell_type": "code",
   "execution_count": 17,
   "metadata": {},
   "outputs": [
    {
     "data": {
      "text/plain": [
       "DatasetDict({\n",
       "    train: Dataset({\n",
       "        features: ['question1', 'question2', 'label', 'idx'],\n",
       "        num_rows: 363846\n",
       "    })\n",
       "    validation: Dataset({\n",
       "        features: ['question1', 'question2', 'label', 'idx'],\n",
       "        num_rows: 40430\n",
       "    })\n",
       "    test: Dataset({\n",
       "        features: ['question1', 'question2', 'label', 'idx'],\n",
       "        num_rows: 390965\n",
       "    })\n",
       "})"
      ]
     },
     "execution_count": 17,
     "metadata": {},
     "output_type": "execute_result"
    }
   ],
   "source": [
    "if task_param == \"mnli_matched\": \n",
    "    data = load_dataset(\"glue\", \"mnli\") \n",
    "    val_key = \"validation_matched\"\n",
    "    test_key = \"test_matched\"\n",
    "elif task_param == \"mnli_mismatched\":\n",
    "    data = load_dataset(\"glue\", \"mnli\") \n",
    "    val_key = \"validation_mismatched\"\n",
    "    test_key = \"test_mismatched\"\n",
    "else:\n",
    "    data = load_dataset(\"glue\", task_param)\n",
    "    val_key = \"validation\"\n",
    "    test_key = \"test\"\n",
    "\n",
    "data"
   ]
  },
  {
   "cell_type": "markdown",
   "metadata": {},
   "source": [
    "### Trimming data"
   ]
  },
  {
   "cell_type": "code",
   "execution_count": 8,
   "metadata": {},
   "outputs": [],
   "source": [
    "N = 20000\n",
    "\n",
    "train_N = min(N, len(data['train']))\n",
    "train_idxs = np.random.choice(train_N, size=train_N, replace=False)\n",
    "val_N = min(N, len(data['validation']))\n",
    "val_idxs = np.random.choice(val_N, size=val_N, replace=False)\n",
    "test_N = min(N, len(data['test']))\n",
    "test_idxs = np.random.choice(test_N, size=test_N, replace=False)"
   ]
  },
  {
   "cell_type": "markdown",
   "metadata": {},
   "source": [
    "# Embeddings"
   ]
  },
  {
   "cell_type": "markdown",
   "metadata": {},
   "source": [
    "Labels come directly from dataset so no need to save to file"
   ]
  },
  {
   "cell_type": "code",
   "execution_count": 18,
   "metadata": {},
   "outputs": [
    {
     "name": "stdout",
     "output_type": "stream",
     "text": [
      "(20000,)\n",
      "(20000,)\n",
      "(20000,)\n"
     ]
    }
   ],
   "source": [
    "from sklearn.preprocessing import OneHotEncoder\n",
    "\n",
    "Y_train = np.array(data[\"train\"][\"label\"])\n",
    "Y_val = np.array(data[val_key][\"label\"])\n",
    "Y_test = np.array(data[test_key][\"label\"])\n",
    "\n",
    "if task_config.class_type == \"MC\":\n",
    "    Y_train = np.reshape(Y_train, (-1, 1))\n",
    "    Y_val = np.reshape(Y_val, (-1, 1))\n",
    "    Y_test = np.reshape(Y_test, (-1, 1))\n",
    "    \n",
    "    ohe = OneHotEncoder(handle_unknown='ignore', sparse=False).fit(Y_train)\n",
    "    print(ohe.categories_)\n",
    "     \n",
    "    Y_train = ohe.transform(Y_train)\n",
    "    Y_val = ohe.transform(Y_val)\n",
    "    Y_test = ohe.transform(Y_test)\n",
    "\n",
    "Y_train = Y_train[train_idxs]\n",
    "Y_val = Y_val[val_idxs]\n",
    "Y_test = Y_test[test_idxs]\n",
    "\n",
    "print(Y_train.shape)\n",
    "print(Y_val.shape)\n",
    "print(Y_test.shape)"
   ]
  },
  {
   "cell_type": "markdown",
   "metadata": {},
   "source": [
    "## Check for saved embeddings"
   ]
  },
  {
   "cell_type": "code",
   "execution_count": 19,
   "metadata": {},
   "outputs": [
    {
     "name": "stdout",
     "output_type": "stream",
     "text": [
      "Saved embeddings found!\n"
     ]
    }
   ],
   "source": [
    "cache_dir = f\"./cache/{embedding_param}/{task_param}\"\n",
    "cache_path = pathlib.Path(cache_dir)\n",
    "cache_path.mkdir(parents=True, exist_ok=True)\n",
    "\n",
    "file_names = ['X_train', 'X_val', 'X_test']\n",
    "paths = [pathlib.Path(cache_path / f\"{f}_{model_param}.npy\") for f in file_names]\n",
    "\n",
    "use_cached_embeddings = False\n",
    "if all(path.exists() for path in paths):\n",
    "    print(\"Saved embeddings found!\")\n",
    "    X_train = np.load(paths[0])\n",
    "    X_val = np.load(paths[1])\n",
    "    X_test = np.load(paths[2])\n",
    "    use_cached_embeddings = True\n",
    "else:\n",
    "    print(\"No saved embeddings found\")"
   ]
  },
  {
   "cell_type": "markdown",
   "metadata": {},
   "source": [
    "## Generate embeddings"
   ]
  },
  {
   "cell_type": "code",
   "execution_count": 47,
   "metadata": {},
   "outputs": [],
   "source": [
    "class GLUESingleSentence(Dataset):\n",
    "    def __init__(self, texts):\n",
    "        self.texts = texts\n",
    "\n",
    "    def __len__(self):\n",
    "        return len(self.texts)\n",
    "\n",
    "    def __getitem__(self, idx):\n",
    "        return self.texts[idx]\n",
    "    \n",
    "class GLUEPairedSentence(Dataset):\n",
    "    def __init__(self, texts1, texts2):\n",
    "        self.texts1 = texts1\n",
    "        self.texts2 = texts2\n",
    "\n",
    "    def __len__(self):\n",
    "        return len(self.texts1)\n",
    "\n",
    "    def __getitem__(self, idx):\n",
    "        text1 = self.texts1[idx]\n",
    "        text2 = self.texts2[idx]\n",
    "\n",
    "        return text1, text2\n",
    "    \n",
    "def tokenize_batch(tokenizer, text_batch, max_len=512):\n",
    "    encoded = tokenizer(text_batch,\n",
    "                        add_special_tokens=True,\n",
    "                        padding='max_length',\n",
    "                        truncation=True,\n",
    "                        max_length=max_len,\n",
    "                        return_tensors='pt')\n",
    "    return {k: v.to(device) for k, v in encoded.items()}"
   ]
  },
  {
   "cell_type": "code",
   "execution_count": 48,
   "metadata": {},
   "outputs": [],
   "source": [
    "if task_config.sentence_type == \"one\":\n",
    "    train_dataset = GLUESingleSentence(data['train']['sentence'])\n",
    "    val_dataset = GLUESingleSentence(data['validation']['sentence'])\n",
    "    test_dataset = GLUESingleSentence(data['test']['sentence'])\n",
    "    \n",
    "elif task_config.sentence_type == \"two\":\n",
    "    key1, key2 = task_config.col_names\n",
    "    \n",
    "    train_dataset = GLUEPairedSentence(data['train'][key1], data['train'][key2])\n",
    "    val_dataset = GLUEPairedSentence(data[val_key][key1], data[val_key][key2])\n",
    "    test_dataset = GLUEPairedSentence(data[test_key][key1], data[test_key][key2])\n",
    "        \n",
    "else:\n",
    "    raise Exception(f\"{task_config.sentence_type}: sentence type not recognized\")\n",
    "\n",
    "# pick batch size based on GPU memory\n",
    "batch_size = 1024\n",
    "train_loader = DataLoader(train_dataset, batch_size=batch_size, shuffle=False)\n",
    "val_loader = DataLoader(val_dataset, batch_size=batch_size, shuffle=False)\n",
    "test_loader = DataLoader(test_dataset, batch_size=batch_size, shuffle=False)"
   ]
  },
  {
   "cell_type": "code",
   "execution_count": 49,
   "metadata": {},
   "outputs": [],
   "source": [
    "def compute_single_embeddings(loader):\n",
    "    embeddings = []\n",
    "    model.eval()\n",
    "    with torch.no_grad():\n",
    "        for text in tqdm(loader):\n",
    "            encoded = tokenize_batch(tokenizer, text)\n",
    "            outputs = model(encoded[\"input_ids\"], attention_mask=encoded[\"attention_mask\"])\n",
    "\n",
    "            if embedding_param == \"cls\":\n",
    "                embed = extract_cls_embeddings(outputs)\n",
    "            elif embedding_param == \"mean_pooling\":\n",
    "                embed = mean_pooling(outputs, encoded[\"attention_mask\"])\n",
    "                \n",
    "            embeddings.append(embed.cpu().numpy())\n",
    "\n",
    "    return np.concatenate(embeddings, axis=0)\n",
    "\n",
    "def compute_pair_embeddings(loader):\n",
    "    embeddings = []\n",
    "    model.eval()\n",
    "    with torch.no_grad():\n",
    "\n",
    "        for text1, text2 in tqdm(loader):\n",
    "            encoded1 = tokenize_batch(tokenizer, text1)\n",
    "            encoded2 = tokenize_batch(tokenizer, text2)\n",
    "\n",
    "            if embedding_param == \"sentence\":\n",
    "                U = torch.tensor(model.encode(encoded1[\"input_ids\"]))\n",
    "                V = torch.tensor(model.encode(encoded2[\"input_ids\"]))\n",
    "            else: # cls or mean_pooling\n",
    "                outputs1 = model(encoded1[\"input_ids\"], attention_mask=encoded1[\"attention_mask\"])\n",
    "                outputs2 = model(encoded2[\"input_ids\"], attention_mask=encoded2[\"attention_mask\"])\n",
    "\n",
    "                if embedding_param == \"cls\":\n",
    "                    U = extract_cls_embeddings(outputs1)\n",
    "                    V = extract_cls_embeddings(outputs2)\n",
    "                elif embedding_param == \"mean_pooling\":\n",
    "                    U = mean_pooling(outputs1, encoded1[\"attention_mask\"])\n",
    "                    V = mean_pooling(outputs2, encoded2[\"attention_mask\"])\n",
    "\n",
    "            embed = torch.cat([U, V], dim=1)\n",
    "            embeddings.append(embed.cpu().numpy())\n",
    "\n",
    "    return np.concatenate(embeddings, axis=0)\n",
    "\n",
    "if not use_cached_embeddings:\n",
    "    start_time = time.time()\n",
    "\n",
    "    if task_config.sentence_type == \"one\":\n",
    "        X_train = compute_single_embeddings(train_loader)\n",
    "        X_val = compute_single_embeddings(val_loader)\n",
    "        X_test = compute_single_embeddings(test_loader)\n",
    "    elif task_config.sentence_type == \"two\":\n",
    "        X_train = compute_pair_embeddings(train_loader)\n",
    "        X_val = compute_pair_embeddings(val_loader)\n",
    "        X_test = compute_pair_embeddings(test_loader)\n",
    "    \n",
    "    embedding_time = time.time() - start_time\n",
    "else:\n",
    "    embedding_time = 0.0"
   ]
  },
  {
   "cell_type": "code",
   "execution_count": 20,
   "metadata": {},
   "outputs": [
    {
     "name": "stdout",
     "output_type": "stream",
     "text": [
      "(363846, 1536)\n",
      "(40430, 1536)\n",
      "(390965, 1536)\n"
     ]
    }
   ],
   "source": [
    "print(X_train.shape)\n",
    "print(X_val.shape)\n",
    "print(X_test.shape)"
   ]
  },
  {
   "cell_type": "markdown",
   "metadata": {},
   "source": [
    "## Saving embeddings to file"
   ]
  },
  {
   "cell_type": "code",
   "execution_count": 51,
   "metadata": {},
   "outputs": [],
   "source": [
    "if not use_cached_embeddings:\n",
    "    cache_path.mkdir(parents=True, exist_ok=True)\n",
    "\n",
    "    file_names = ['X_train', 'X_val', 'X_test']\n",
    "    paths = [pathlib.Path(cache_path / f\"{f}_{model_param}.npy\") for f in file_names]\n",
    "\n",
    "    with open(paths[0], 'wb') as X_train_file:\n",
    "        np.save(X_train_file, X_train)\n",
    "    with open(paths[1], 'wb') as X_val_file:\n",
    "        np.save(X_val_file, X_val)\n",
    "    with open(paths[2], 'wb') as X_test_file:\n",
    "        np.save(X_test_file, X_test)"
   ]
  },
  {
   "cell_type": "markdown",
   "metadata": {},
   "source": [
    "## Transforming Embeddings"
   ]
  },
  {
   "cell_type": "code",
   "execution_count": 21,
   "metadata": {},
   "outputs": [],
   "source": [
    "# TRIMMING\n",
    "X_train = X_train[train_idxs]\n",
    "X_val = X_val[val_idxs]\n",
    "X_test = X_test[test_idxs]"
   ]
  },
  {
   "cell_type": "code",
   "execution_count": 53,
   "metadata": {},
   "outputs": [],
   "source": [
    "def compute_diff(embeddings):\n",
    "    U = embeddings[:, :768]\n",
    "    V = embeddings[:, 768:]\n",
    "    return U - V"
   ]
  },
  {
   "cell_type": "code",
   "execution_count": 54,
   "metadata": {},
   "outputs": [],
   "source": [
    "def compute_UVdiff(embeddings):\n",
    "    return np.concatenate([embeddings, compute_diff(embeddings)], axis=1)"
   ]
  },
  {
   "cell_type": "code",
   "execution_count": 55,
   "metadata": {},
   "outputs": [],
   "source": [
    "transform_param = \"diff\""
   ]
  },
  {
   "cell_type": "code",
   "execution_count": 56,
   "metadata": {},
   "outputs": [],
   "source": [
    "EmbeddingTransformConfig = namedtuple(\"EmbeddingTransformConfig\", [\"input_size_factor\", \"transform\"])\n",
    "transform_config = {\n",
    "    \"UV\": EmbeddingTransformConfig(2, lambda x: x),\n",
    "    \"diff\": EmbeddingTransformConfig(1, compute_diff),\n",
    "    \"UVdiff\": EmbeddingTransformConfig(3, compute_UVdiff),\n",
    "}"
   ]
  },
  {
   "cell_type": "code",
   "execution_count": 57,
   "metadata": {},
   "outputs": [
    {
     "name": "stdout",
     "output_type": "stream",
     "text": [
      "(10000, 768)\n",
      "(10000, 768)\n",
      "(10000, 768)\n"
     ]
    }
   ],
   "source": [
    "# transform is only valid for two sentence tasks\n",
    "if task_config.sentence_type == \"two\":\n",
    "    f = transform_config[transform_param].transform\n",
    "    X_train_computed = f(X_train)\n",
    "    X_val_computed = f(X_val)\n",
    "    X_test_computed = f(X_test)\n",
    "else:\n",
    "    X_train_computed = X_train\n",
    "    X_val_computed = X_val\n",
    "    X_test_computed = X_test\n",
    "\n",
    "print(X_train_computed.shape)\n",
    "print(X_val_computed.shape)\n",
    "print(X_test_computed.shape)"
   ]
  },
  {
   "cell_type": "markdown",
   "metadata": {},
   "source": [
    "# Training loop"
   ]
  },
  {
   "cell_type": "code",
   "execution_count": 58,
   "metadata": {},
   "outputs": [
    {
     "name": "stdout",
     "output_type": "stream",
     "text": [
      "160 hyperparameter combinations\n"
     ]
    }
   ],
   "source": [
    "input_size = task_config.input_size\n",
    "if task_config.sentence_type == \"two\":\n",
    "    input_size *= transform_config[transform_param].input_size_factor\n",
    "\n",
    "param_grid = {\n",
    "    'num_epochs': [50],\n",
    "    'batch_size': [32, 512],\n",
    "    'learning_rate': [1e-2, 1e-3],\n",
    "    'category': [task_config.class_type],\n",
    "    'norm': [False],\n",
    "    'input_size': [input_size],\n",
    "    'layer_size': [input_size // 4, input_size // 2, input_size, input_size * 2, input_size * 4],\n",
    "    'num_classes': [task_config.num_classes],\n",
    "    'num_layers': [1, 3, 5, 10],\n",
    "    'weight_decay':[1e-2, 1e-4],\n",
    "    'patience': [3],\n",
    "    'min_delta': [0],\n",
    "    'device': [device_name]\n",
    "}\n",
    "\n",
    "# Create a list of all combinations of hyperparameters\n",
    "all_params = [dict(zip(param_grid.keys(), v)) for v in itertools.product(*param_grid.values())]\n",
    "print(f\"{len(all_params)} hyperparameter combinations\")"
   ]
  },
  {
   "cell_type": "code",
   "execution_count": 59,
   "metadata": {},
   "outputs": [
    {
     "name": "stdout",
     "output_type": "stream",
     "text": [
      "saving results to ./results/cls/qqp/val_20231223_155623_DistilRoBERTaBase.csv\n"
     ]
    },
    {
     "data": {
      "application/vnd.jupyter.widget-view+json": {
       "model_id": "c9f0563fa5914c15b85f8d97e42e74b6",
       "version_major": 2,
       "version_minor": 0
      },
      "text/plain": [
       "  0%|          | 0/160 [00:00<?, ?it/s]"
      ]
     },
     "metadata": {},
     "output_type": "display_data"
    }
   ],
   "source": [
    "# Setup for logging\n",
    "console_output_filename = f'./output/{embedding_param}_{task_param}_console_output.txt'\n",
    "with open(console_output_filename, 'a') as logfile:\n",
    "    logfile.write('\\n\\nBEGIN TRAINING LOOP\\n\\n')\n",
    "\n",
    "# Setup for saving results\n",
    "results_folder = pathlib.Path(f\"results/{embedding_param}/{task_param}\")\n",
    "results_folder.mkdir(parents=True, exist_ok=True)\n",
    "save_file_id = datetime.now().strftime(\"%Y%m%d_%H%M%S\")\n",
    "results_file = results_folder / f\"val_{save_file_id}_{model_param}.csv\"\n",
    "\n",
    "# different metrics are recorded for classification vs regression tasks\n",
    "if task_config.class_type in [\"BC\", \"MC\"]:\n",
    "    metric_types = ['mcc', 'f1', 'accuracy']\n",
    "elif task_config.class_type == \"R\":\n",
    "    metric_types = ['pearson', 'spearman']\n",
    "\n",
    "with open(results_file, 'w', newline='') as csvfile:\n",
    "    writer = csv.writer(csvfile)\n",
    "    header = metric_types + ['training time', 'embedding time', 'training energy', 'embedding energy'] + list(all_params[0].keys())\n",
    "    writer.writerow(header)\n",
    "print(f\"saving results to ./{results_file}\")\n",
    "# Saves best accuracy for progress bar display\n",
    "display_best = float(\"-inf\")\n",
    "\n",
    "# Iterate over all combinations of hyperparameters\n",
    "bar = tqdm(enumerate(all_params), total=len(all_params))\n",
    "for i, params in bar:\n",
    "    # Formatting params to display\n",
    "    print_params = params.copy()\n",
    "    for param in ['category', 'device']:\n",
    "        del print_params[param]\n",
    "\n",
    "    # Initialize the model with current set of hyperparameters\n",
    "    feed_forward = FeedForward(**params)\n",
    "\n",
    "    metrics, train_times_per_epoch, energy_per_epoch = feed_forward.fit(X_train_computed,\n",
    "                                                                        Y_train,\n",
    "                                                                        X_val_computed,\n",
    "                                                                        Y_val,\n",
    "                                                                        use_carbontracker)\n",
    "    \n",
    "    # Log average training time per epoch for current parameter set\n",
    "    # Note: FFN frequently stops early\n",
    "    training_time = np.mean(train_times_per_epoch)\n",
    "    training_energy = np.mean(energy_per_epoch) \n",
    "    # Compute energy for embedding generation\n",
    "    embedding_energy = get_energy(embedding_time, device) # This method effectively just computes energy for a given time\n",
    "    \n",
    "    metric_vals = [metrics[mt] for mt in metric_types]\n",
    "    \n",
    "    # displaying results in progress bar\n",
    "    display_recent = metrics[\"pearson\" if task_config.class_type == \"R\" else \"accuracy\"]\n",
    "    display_best = max(display_best, display_recent)\n",
    "    bar.set_description(f\"Best: {display_best:.5f}, Last: {display_recent:.5f}\")\n",
    "\n",
    "    # Write stats to log file\n",
    "    with open(console_output_filename, 'a') as logfile:\n",
    "        logfile.write(f\"\\n\\nTraining with parameters:\\n{print_params}\")\n",
    "        logfile.write(f\"\\nEarly stopped on epoch: {metrics['epoch']}\")\n",
    "        for name, val in zip(metric_types, metric_vals):\n",
    "            logfile.write(f\"\\nValidation {name}: {val}\")\n",
    "        logfile.write(f\"\\nTraining time      : {training_time}\") \n",
    "        logfile.write(f\"\\nEmbedding time      : {embedding_time}\") \n",
    "        logfile.write(f\"\\nTraining energy    : {training_energy}\") \n",
    "        logfile.write(f\"\\nEmbedding energy    : {embedding_energy}\") \n",
    "    # Write to results csv\n",
    "    with open(results_file, 'a', newline='') as csvfile:\n",
    "        writer = csv.writer(csvfile)\n",
    "        row = metric_vals + [training_time, embedding_time, training_energy, embedding_energy] + list(params.values())\n",
    "        writer.writerow(row)"
   ]
  },
  {
   "cell_type": "code",
   "execution_count": null,
   "metadata": {},
   "outputs": [],
   "source": [
    "results_df = pd.read_csv(results_file)\n",
    "# results_df = pd.read_csv(\"output/val_results_cola_20231127_151717.csv\")\n",
    "if task_config.class_type in [\"BC\", \"MC\"]:\n",
    "    print_metric = \"accuracy\"\n",
    "elif task_config.class_type == \"R\":\n",
    "    print_metric = \"pearson\"\n",
    "\n",
    "best = results_df[print_metric].max()\n",
    "best_row = results_df[results_df[print_metric] == best]\n",
    "\n",
    "best_row"
   ]
  }
 ],
 "metadata": {
  "kernelspec": {
   "display_name": "Python 3 (ipykernel)",
   "language": "python",
   "name": "python3"
  },
  "language_info": {
   "codemirror_mode": {
    "name": "ipython",
    "version": 3
   },
   "file_extension": ".py",
   "mimetype": "text/x-python",
   "name": "python",
   "nbconvert_exporter": "python",
   "pygments_lexer": "ipython3",
   "version": "3.9.0"
  }
 },
 "nbformat": 4,
 "nbformat_minor": 4
}
