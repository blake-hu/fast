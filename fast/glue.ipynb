{
 "cells": [
  {
   "cell_type": "markdown",
   "metadata": {},
   "source": [
    "# FAST: Feedforward-Augmented Sentence Transformers"
   ]
  },
  {
   "cell_type": "markdown",
   "metadata": {},
   "source": [
    "Notebook for running GLUE tasks."
   ]
  },
  {
   "cell_type": "markdown",
   "metadata": {},
   "source": [
    "# Setup"
   ]
  },
  {
   "cell_type": "markdown",
   "metadata": {},
   "source": [
    "## Modules"
   ]
  },
  {
   "cell_type": "code",
   "execution_count": 1,
   "metadata": {},
   "outputs": [],
   "source": [
    "import random\n",
    "random.seed(0)  # standardized default seed\n",
    "\n",
    "import torch\n",
    "from datasets import load_dataset\n",
    "\n",
    "from collections import namedtuple\n",
    "\n",
    "import numpy as np\n",
    "\n",
    "from utils.feed_forward import FeedForward\n",
    "from utils.cls import extract_cls_embeddings\n",
    "from utils.mean_pooling import mean_pooling\n",
    "\n",
    "import itertools\n",
    "import pandas as pd\n",
    "\n",
    "from pathlib import Path\n",
    "\n",
    "import datetime\n",
    "import csv\n",
    "import tqdm"
   ]
  },
  {
   "cell_type": "markdown",
   "metadata": {},
   "source": [
    "## Device"
   ]
  },
  {
   "cell_type": "code",
   "execution_count": 2,
   "metadata": {},
   "outputs": [
    {
     "name": "stdout",
     "output_type": "stream",
     "text": [
      "cpu\n"
     ]
    }
   ],
   "source": [
    "device_name = \"cpu\"  # default device is CPU\n",
    "if torch.cuda.is_available():\n",
    "    device_name = \"cuda\"  # CUDA for NVIDIA GPU\n",
    "elif torch.backends.mps.is_available():\n",
    "    device_name = torch.device(\"mps\")  # Metal Performance Shaders for Apple M-series GPU\n",
    "device = torch.device(device_name)\n",
    "print(device_name)"
   ]
  },
  {
   "cell_type": "markdown",
   "metadata": {},
   "source": [
    "## User parameters"
   ]
  },
  {
   "cell_type": "markdown",
   "metadata": {},
   "source": [
    "Parameters to set:\n",
    "- Model\n",
    "    - MPNetBase\n",
    "    - DistilRoBERTaBase\n",
    "    - MPNetST\n",
    "    - DistilRoBERTaST\n",
    "- Task\n",
    "    - cola\n",
    "    - sst2\n",
    "    - mrpc\n",
    "    - stsb\n",
    "    - qqp\n",
    "    - mnli-m\n",
    "    - mnli-mm\n",
    "    - qnli\n",
    "    - rte\n",
    "    - wnli\n",
    "- Embedding type\n",
    "    - cls\n",
    "    - mean_pooling\n",
    "    - sentence_transformer"
   ]
  },
  {
   "cell_type": "code",
   "execution_count": 3,
   "metadata": {},
   "outputs": [],
   "source": [
    "model_param = \"DistilRoBERTaBase\"\n",
    "task_param = \"cola\"\n",
    "embedding_param = \"cls\""
   ]
  },
  {
   "cell_type": "markdown",
   "metadata": {},
   "source": [
    "## Models"
   ]
  },
  {
   "cell_type": "code",
   "execution_count": 4,
   "metadata": {},
   "outputs": [],
   "source": [
    "if model_param == \"MPNetBase\": # MPNet Base\n",
    "    from transformers import MPNetTokenizer, MPNetModel\n",
    "    tokenizer = MPNetTokenizer.from_pretrained('sentence-transformers/all-mpnet-base-v2')\n",
    "    model = MPNetModel.from_pretrained(\"microsoft/mpnet-base\").to(device)\n",
    "elif model_param == \"DistilRoBERTaBase\": # DistilRoBERTa Base\n",
    "    from transformers import RobertaTokenizer, RobertaModel\n",
    "    tokenizer = RobertaTokenizer.from_pretrained('distilroberta-base')\n",
    "    model = RobertaModel.from_pretrained('distilroberta-base').to(device)\n",
    "elif model_param == \"MPNetST\": # MPNet Sentence Transformer\n",
    "    from sentence_transformers import SentenceTransformer\n",
    "    model = SentenceTransformer('sentence-transformers/all-mpnet-base-v2').to(device)\n",
    "elif model_param == \"DistilRoBERTaST\": # DistilRoBERTa Sentence Transformer\n",
    "    from sentence_transformers import SentenceTransformer\n",
    "    model = SentenceTransformer('sentence-transformers/all-distilroberta-v1').to(device)\n",
    "else:\n",
    "    raise Exception(f\"ERROR: Bad model_param\")"
   ]
  },
  {
   "cell_type": "markdown",
   "metadata": {},
   "source": [
    "## Tasks"
   ]
  },
  {
   "cell_type": "code",
   "execution_count": 5,
   "metadata": {},
   "outputs": [],
   "source": [
    "# sentence_type: [\"one\", \"two\"]\n",
    "# class_type: [\"binary\", \"multi\", \"regression\"]\n",
    "# input_size: int (represents input size of feedforward, could also be called embedding size)\n",
    "# col_names: column names of relavent sentences on hugging face\n",
    "\n",
    "TaskConfig = namedtuple(\"TaskConfig\", [\"sentence_type\", \"class_type\", \"input_size\", \"col_names\"])\n",
    "task_configs = {\n",
    "    \"cola\": TaskConfig(\"one\", \"binary\", 768, ['sentence']),\n",
    "    \"sst2\": TaskConfig(\"one\", \"binary\", 768, ['sentence']),\n",
    "    \"mrpc\": TaskConfig(\"two\", \"binary\", 768*2, ['sentence1', 'sentence2']),\n",
    "    \"stsb\": TaskConfig(\"two\", \"regression\", 768*2, ['sentence1', 'sentence2']),\n",
    "    \"qqp\": TaskConfig(\"two\", \"binary\", 768*2, ['question1', 'question2']),\n",
    "    \"mnli-m\": TaskConfig(\"two\", \"multi\", 768*2, ['premise', 'hypothesis']),\n",
    "    \"mnli-mm\": TaskConfig(\"two\", \"multi\", 768*2, ['premise', 'hypothesis']),\n",
    "    \"qnli\": TaskConfig(\"two\", \"binary\", 768*2, ['question', 'sentence']),\n",
    "    \"rte\": TaskConfig(\"two\", \"binary\", 768*2, ['sentence1', 'sentence2']),\n",
    "    \"wnli\": TaskConfig(\"two\", \"binary\", 768*2, ['sentence1', 'sentence2']),\n",
    "}\n",
    "\n",
    "task_config = task_configs[task_param]"
   ]
  },
  {
   "cell_type": "markdown",
   "metadata": {},
   "source": [
    "## Dataset"
   ]
  },
  {
   "cell_type": "code",
   "execution_count": 6,
   "metadata": {},
   "outputs": [
    {
     "data": {
      "text/plain": [
       "DatasetDict({\n",
       "    train: Dataset({\n",
       "        features: ['sentence', 'label', 'idx'],\n",
       "        num_rows: 8551\n",
       "    })\n",
       "    validation: Dataset({\n",
       "        features: ['sentence', 'label', 'idx'],\n",
       "        num_rows: 1043\n",
       "    })\n",
       "    test: Dataset({\n",
       "        features: ['sentence', 'label', 'idx'],\n",
       "        num_rows: 1063\n",
       "    })\n",
       "})"
      ]
     },
     "execution_count": 6,
     "metadata": {},
     "output_type": "execute_result"
    }
   ],
   "source": [
    "data = load_dataset(\"glue\", task_param)\n",
    "data"
   ]
  },
  {
   "cell_type": "markdown",
   "metadata": {},
   "source": [
    "## Embedding"
   ]
  },
  {
   "cell_type": "code",
   "execution_count": 7,
   "metadata": {},
   "outputs": [],
   "source": [
    "# Generate encodings\n",
    "\n",
    "if embedding_param == \"cls\" or embedding_param == \"mean_pooling\":\n",
    "    X_train = data[\"train\"][\"sentence\"]\n",
    "    X_val = data[\"validation\"][\"sentence\"]\n",
    "    X_test = data[\"test\"][\"sentence\"]\n",
    "\n",
    "    Y_train = data[\"train\"][\"label\"]\n",
    "    Y_val = data[\"validation\"][\"label\"]\n",
    "    Y_test = data[\"test\"][\"label\"]\n",
    "\n",
    "    X_train = tokenizer(X_train, padding=True, truncation=True, return_tensors='pt')\n",
    "    X_val = tokenizer(X_val, padding=True, truncation=True, return_tensors='pt')\n",
    "    X_test = tokenizer(X_test, padding=True, truncation=True, return_tensors='pt')\n",
    "elif embedding_param == \"sentence_transformer\":\n",
    "    # EXPENSIVE OPERATION: This cell may take about 2 minutes or more to run\n",
    "    with torch.no_grad():\n",
    "        if task_config.sentence_type == \"one\":\n",
    "            X_train = model.encode(data[\"train\"][task_config.col_names[0]])\n",
    "            X_val = model.encode(data[\"validation\"][task_config.col_names[0]])\n",
    "            X_test = model.encode(data[\"test\"][task_config.col_names[0]])\n",
    "        elif task_config.sentence_type == \"two\":\n",
    "            X_train_u = model.encode(data[\"train\"][task_config.col_names[0]])\n",
    "            X_val_u = model.encode(data[\"validation\"][task_config.col_names[0]])\n",
    "            X_test_u = model.encode(data[\"test\"][task_config.col_names[0]])\n",
    "\n",
    "            X_train_v = model.encode(data[\"train\"][task_config.col_names[1]])\n",
    "            X_val_v = model.encode(data[\"validation\"][task_config.col_names[1]])\n",
    "            X_test_v = model.encode(data[\"test\"][task_config.col_names[1]])\n",
    "\n",
    "            X_train = np.concatenate([X_train_u, X_train_v]\n",
    "                                    , axis=1)\n",
    "            X_val = np.concatenate([X_val_u, X_val_v], axis=1)\n",
    "            X_test = np.concatenate([X_test_u, X_test_v], axis=1)\n",
    "        else:\n",
    "            raise Exception(f\"{task_config.sentence_type}: sentence type not recognized\")\n",
    "        \n",
    "        Y_train = np.array(data[\"train\"][\"label\"])\n",
    "        Y_val = np.array(data[\"validation\"][\"label\"])\n",
    "        Y_test = np.array(data[\"test\"][\"label\"])"
   ]
  },
  {
   "cell_type": "code",
   "execution_count": 8,
   "metadata": {},
   "outputs": [
    {
     "name": "stdout",
     "output_type": "stream",
     "text": [
      "what\n",
      "here?\n"
     ]
    }
   ],
   "source": [
    "# Extract embeddings for CLS or mean pooling\n",
    "if embedding_param == \"cls\":\n",
    "    # EXPENSIVE OPERATION: This cell may take about 2 minutes or more to run\n",
    "    with torch.no_grad():\n",
    "        X_train = model(**X_train)\n",
    "        X_val = model(**X_val)\n",
    "        X_test = model(**X_test)\n",
    "    \n",
    "    X_train = extract_cls_embeddings(X_train)\n",
    "    X_val = extract_cls_embeddings(X_val)\n",
    "    X_test = extract_cls_embeddings(X_test)\n",
    "\n",
    "elif embedding_param == \"mean_pooling\":\n",
    "    X_train_saved_mask = X_train['attention_mask'].to(device)\n",
    "    X_val_saved_mask = X_val['attention_mask'].to(device)\n",
    "    X_test_saved_mask = X_test['attention_mask'].to(device)\n",
    "\n",
    "    X_train.to(device)\n",
    "    X_val.to(device)\n",
    "    X_test.to(device)\n",
    "\n",
    "    with torch.no_grad():\n",
    "        X_train = model(**X_train)\n",
    "        X_val = model(**X_val)\n",
    "        X_test = model(**X_test)\n",
    "\n",
    "    X_train = mean_pooling(X_train, X_train_saved_mask)\n",
    "    X_val = mean_pooling(X_val, X_val_saved_mask)\n",
    "    X_test = mean_pooling(X_test, X_test_saved_mask)"
   ]
  },
  {
   "cell_type": "code",
   "execution_count": null,
   "metadata": {},
   "outputs": [],
   "source": [
    "# Save files\n",
    "output_directory = f\"./output/{embedding_param}\"\n",
    "\n",
    "Path(output_directory).mkdir(parents=True, exist_ok=True)\n",
    "\n",
    "if embedding_param == \"cls\" or embedding_param == \"mean_pooling\":\n",
    "    x_suffix = \"npy\"\n",
    "    def save_file(file1, file2):\n",
    "        np.save(file1, file2)\n",
    "    def load_file(file1):\n",
    "        np.load(file1)\n",
    "elif embedding_param == \"sentence_transformer\":\n",
    "    x_suffix = \"pt\"\n",
    "    def save_file(file1, file2):\n",
    "        torch.save(file1, file2)\n",
    "    def load_file(file1):\n",
    "        torch.load(file1)\n",
    "\n",
    "# write\n",
    "with open(f'{output_directory}/X_train_{task_param}_{model_param}.{x_suffix}', 'wb') as X_train_file:\n",
    "    save_file(X_train_file, X_train)\n",
    "with open(f'{output_directory}/X_val_{task_param}_{model_param}.{x_suffix}', 'wb') as X_val_file:\n",
    "    save_file(X_val_file, X_val)\n",
    "with open(f'{output_directory}/X_test_{task_param}_{model_param}.{x_suffix}', 'wb') as X_test_file:\n",
    "    save_file(X_test_file, X_test)\n",
    "with open(f'{output_directory}/Y_train_{task_param}_{model_param}.npy', 'wb') as Y_train_file:\n",
    "    np.save(Y_train_file, Y_train)\n",
    "with open(f'{output_directory}/Y_val_{task_param}_{model_param}.npy', 'wb') as Y_val_file:\n",
    "    np.save(Y_val_file, Y_val)\n",
    "with open(f'{output_directory}/Y_test_{task_param}_{model_param}.npy', 'wb') as Y_test_file:\n",
    "    np.save(Y_test_file, Y_test)\n",
    "\n",
    "# read\n",
    "with open(f'{output_directory}/X_train_{task_param}_{model_param}.{x_suffix}', 'rb') as X_train_file:\n",
    "    X_train = load_file(X_train_file)\n",
    "with open(f'{output_directory}/X_val_{task_param}_{model_param}.{x_suffix}', 'rb') as X_val_file:\n",
    "    X_val = load_file(X_val_file)\n",
    "with open(f'{output_directory}/X_test_{task_param}_{model_param}.{x_suffix}', 'rb') as X_test_file:\n",
    "    X_test = load_file(X_test_file)\n",
    "with open(f'{output_directory}/Y_train_{task_param}_{model_param}.npy', 'rb') as Y_train_file:\n",
    "    Y_train = np.load(Y_train_file)\n",
    "with open(f'{output_directory}/Y_val_{task_param}_{model_param}.npy', 'rb') as Y_val_file:\n",
    "    Y_val = np.load(Y_val_file)\n",
    "with open(f'{output_directory}/Y_test_{task_param}_{model_param}.npy', 'rb') as Y_test_file:\n",
    "    Y_test = np.load(Y_test_file)\n",
    "\n",
    "print(f\"size of X_train: {len(X_train)}\")"
   ]
  },
  {
   "cell_type": "markdown",
   "metadata": {},
   "source": [
    "# Training loop"
   ]
  },
  {
   "cell_type": "code",
   "execution_count": null,
   "metadata": {},
   "outputs": [],
   "source": [
    "param_grid = {\n",
    "    'num_epochs': [50],\n",
    "    'batch_size': [32, 128, 512],\n",
    "    'learning_rate': [1e-2, 1e-3],\n",
    "    'category': ['BC'],\n",
    "    'norm': [False],\n",
    "    'input_size': [task_config.input_size],\n",
    "    'layer_size': [task_config.input_size],\n",
    "    'num_layers': [1, 2, 3],\n",
    "    'weight_decay':[1e-2, 1e-3, 1e-4],\n",
    "    'patience': [3],\n",
    "    'min_delta': [0],\n",
    "    'device': [device_name]\n",
    "}\n",
    "\n",
    "# Create a list of all combinations of hyperparameters\n",
    "all_params = [dict(zip(param_grid.keys(), v)) for v in itertools.product(*param_grid.values())]\n",
    "print(f\"{len(all_params)} hyperparameter combinations\")"
   ]
  },
  {
   "cell_type": "code",
   "execution_count": null,
   "metadata": {},
   "outputs": [],
   "source": [
    "# setup for logging\n",
    "save_file_id = datetime.now().strftime(\"%Y%m%d_%H%M%S\")\n",
    "console_output_filename = f'./output/{task_param}_console_output.txt'\n",
    "with open(console_output_filename, 'a') as logfile:\n",
    "    logfile.write('\\n\\nBEGIN TRAINING LOOP\\n\\n')\n",
    "results_filename = f'./output/val_results_{embedding_param}_{task_param}_{save_file_id}.csv'\n",
    "with open(results_filename, 'w', newline='') as csvfile:\n",
    "    writer = csv.writer(csvfile)\n",
    "    headers = list(all_params[0].keys())\n",
    "    writer.writerow(['mcc', 'f1', 'accuracy'] + headers)\n",
    "print(f\"saving results to {results_filename}\")\n",
    "\n",
    "# saves best accuracy for progress bar display\n",
    "best_acc = 0\n",
    "# Iterate over all combinations of hyperparameters\n",
    "bar = tqdm(enumerate(all_params), total=len(all_params))\n",
    "for i, params in bar:\n",
    "    # formatting params to display\n",
    "    print_params = params.copy()\n",
    "    for param in ['category', 'device']:\n",
    "        del print_params[param]\n",
    "    \n",
    "    # Initialize the model with current set of hyperparameters\n",
    "    feed_forward = FeedForward(**params)\n",
    "\n",
    "    # Print stats to console\n",
    "    epoch, val_loss, val_accuracy, val_f1, val_mcc = feed_forward.fit(X_train, Y_train, X_val, Y_val)\n",
    "\n",
    "    best_acc = max(best_acc, val_accuracy)\n",
    "    bar.set_description(f\"Best Acc: {best_acc:.5f}, Last test: {val_accuracy:.5f}\")\n",
    "\n",
    "    # Write stats to log file\n",
    "    with open(console_output_filename, 'a') as logfile:\n",
    "        logfile.write(f\"\\n\\nTraining with parameters:\\n{print_params}\")\n",
    "        logfile.write(f\"\\nEarly stopped on epoch: {epoch}\")\n",
    "        logfile.write(f\"\\nValidation accuracy: {val_accuracy}\")\n",
    "        logfile.write(f\"\\nValidation f1-score: {val_f1}\")\n",
    "        logfile.write(f\"\\nValidation MCC     : {val_mcc}\")\n",
    "\n",
    "    with open(results_filename, 'a', newline='') as csvfile:\n",
    "        writer = csv.writer(csvfile)\n",
    "        writer.writerow([val_mcc, val_f1, val_accuracy] + list(params.values()))"
   ]
  },
  {
   "cell_type": "code",
   "execution_count": null,
   "metadata": {},
   "outputs": [],
   "source": [
    "# results_df = pd.read_csv(results_filename)\n",
    "results_df = pd.read_csv(\"output/val_results_cola_20231127_151717.csv\")\n",
    "\n",
    "metric = \"mcc\"\n",
    "best = results_df[metric].max()\n",
    "best_row = results_df[results_df[metric] == best]\n",
    "print(f\"Best {metric}: {best:.5f}\")\n",
    "print(best_row)"
   ]
  },
  {
   "cell_type": "markdown",
   "metadata": {},
   "source": [
    "# Predictions"
   ]
  },
  {
   "cell_type": "code",
   "execution_count": null,
   "metadata": {},
   "outputs": [],
   "source": [
    "# manually set this based on output CSV file\n",
    "\n",
    "best_params = {\n",
    "    'num_epochs': 50,\n",
    "    'batch_size': 128,\n",
    "    'learning_rate': 1e-2,\n",
    "    'category': 'C',\n",
    "    'norm': False,\n",
    "    'input_size': 768,\n",
    "    'layer_size': 6,\n",
    "    'num_layers': 3,\n",
    "    'weight_decay':1e-2,\n",
    "    'patience': 3,\n",
    "    'min_delta': 0,\n",
    "    'device': device_name\n",
    "}"
   ]
  },
  {
   "cell_type": "code",
   "execution_count": null,
   "metadata": {},
   "outputs": [],
   "source": [
    "best_feed_forward = FeedForward(**best_params)\n",
    "\n",
    "X = np.concatenate((X_train, X_val), axis=0)\n",
    "Y = np.concatenate((Y_train, Y_val), axis=0)\n",
    "\n",
    "best_feed_forward.fit(X, Y)\n",
    "\n",
    "preds = np.argmax(best_feed_forward.predict_proba(X_test), axis=1)\n",
    "print(preds.shape)\n",
    "\n",
    "df = pd.DataFrame({\n",
    "    'index': range(len(preds)),\n",
    "    'prediction': preds\n",
    "})\n",
    "\n",
    "random.seed()  # set random seed based on current time just to generate random file_id\n",
    "random_file_id = str(round(random.random() * 10000))\n",
    "random.seed(0)  # reset random seed back to standard 0 seed\n",
    "# Write the DataFrame to a .tsv file, without the header and index\n",
    "df.to_csv(f'CoLA_{random_file_id}.tsv', sep='\\t', index=False, header=True)"
   ]
  }
 ],
 "metadata": {
  "kernelspec": {
   "display_name": "projectx",
   "language": "python",
   "name": "python3"
  },
  "language_info": {
   "codemirror_mode": {
    "name": "ipython",
    "version": 3
   },
   "file_extension": ".py",
   "mimetype": "text/x-python",
   "name": "python",
   "nbconvert_exporter": "python",
   "pygments_lexer": "ipython3",
   "version": "3.9.0"
  }
 },
 "nbformat": 4,
 "nbformat_minor": 2
}
