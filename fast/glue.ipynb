{
 "cells": [
  {
   "cell_type": "markdown",
   "metadata": {},
   "source": [
    "# FAST: Feedforward-ASsisted Transformers"
   ]
  },
  {
   "cell_type": "markdown",
   "metadata": {},
   "source": [
    "Notebook for running GLUE tasks."
   ]
  },
  {
   "cell_type": "markdown",
   "metadata": {},
   "source": [
    "# Setup"
   ]
  },
  {
   "cell_type": "markdown",
   "metadata": {},
   "source": [
    "## Modules"
   ]
  },
  {
   "cell_type": "code",
   "execution_count": 64,
   "metadata": {},
   "outputs": [],
   "source": [
    "import random\n",
    "import time\n",
    "import csv\n",
    "import os\n",
    "import pathlib\n",
    "import itertools\n",
    "from datetime import datetime\n",
    "from collections import namedtuple\n",
    "from tqdm.notebook import tqdm\n",
    "\n",
    "import numpy as np\n",
    "import pandas as pd\n",
    "\n",
    "import torch\n",
    "from torch.utils.data import Dataset, DataLoader\n",
    "from datasets import load_dataset\n",
    "\n",
    "from utils.feed_forward import FeedForward\n",
    "from utils.cls import extract_cls_embeddings\n",
    "from utils.mean_pooling import mean_pooling\n",
    "from utils.energy import get_energy"
   ]
  },
  {
   "cell_type": "markdown",
   "metadata": {},
   "source": [
    "## Device"
   ]
  },
  {
   "cell_type": "code",
   "execution_count": 65,
   "metadata": {},
   "outputs": [],
   "source": [
    "# Set CUBLAS_WORKSPACE_CONFIG\n",
    "os.environ[\"CUBLAS_WORKSPACE_CONFIG\"] = \":4096:8\"  # or \":16:8\"\n",
    "os.environ['CUDNN_DETERMINISTIC'] = '1'\n",
    "\n",
    "# Standardized default seed\n",
    "seed = 7\n",
    "random.seed(seed)\n",
    "np.random.seed(seed)\n",
    "torch.backends.cudnn.benchmark = False\n",
    "torch.backends.cudnn.deterministic = True\n",
    "torch.use_deterministic_algorithms(mode=True)"
   ]
  },
  {
   "cell_type": "code",
   "execution_count": 66,
   "metadata": {},
   "outputs": [
    {
     "name": "stdout",
     "output_type": "stream",
     "text": [
      "mps\n"
     ]
    }
   ],
   "source": [
    "device_name = \"cpu\"  # default device is CPU\n",
    "if torch.cuda.is_available():\n",
    "    # I read that this works for detecting if notebook is being run in a colab environment, not sure though\n",
    "    if 'COLAB_GPU' in os.environ:\n",
    "        print(\"colab environment\")\n",
    "        device_name = \"gpu\" \n",
    "    else:\n",
    "        device_name = \"cuda\" # CUDA for NVIDIA GPU\n",
    "elif torch.backends.mps.is_available():\n",
    "    device_name = torch.device(\"mps\")  # Metal Performance Shaders for Apple M-series GPU\n",
    "\n",
    "# device_name = \"cuda:0\"\n",
    "device = torch.device(device_name)\n",
    "print(device_name)"
   ]
  },
  {
   "cell_type": "markdown",
   "metadata": {},
   "source": [
    "## User parameters"
   ]
  },
  {
   "cell_type": "markdown",
   "metadata": {},
   "source": [
    "Parameters to set:\n",
    "- Model\n",
    "    - MPNet\n",
    "    - DistilRoBERTa\n",
    "- Task\n",
    "    - cola\n",
    "    - sst2\n",
    "    - mrpc\n",
    "    - stsb\n",
    "    - qqp\n",
    "    - mnli_matched\n",
    "    - mnli_mismatched\n",
    "    - qnli\n",
    "    - rte\n",
    "    - wnli\n",
    "- Embedding type\n",
    "    - Single Sentence\n",
    "        - cls\n",
    "        - meanpool\n",
    "        - sentence\n",
    "    - Two Sentence\n",
    "        - Each sentence separately\n",
    "            - cls_single\n",
    "            - meanpool_single\n",
    "        - Both sentences at once\n",
    "            - cls_double\n",
    "            - meanpool_double\n",
    "        - sentence_single (no sentence_double option)"
   ]
  },
  {
   "cell_type": "code",
   "execution_count": 67,
   "metadata": {},
   "outputs": [],
   "source": [
    "model_param = \"DistilRoBERTa\"\n",
    "task_param = \"mnli_matched\"\n",
    "embedding_param = [\"cls_single\"]"
   ]
  },
  {
   "cell_type": "markdown",
   "metadata": {},
   "source": [
    "## Models"
   ]
  },
  {
   "cell_type": "code",
   "execution_count": 68,
   "metadata": {},
   "outputs": [],
   "source": [
    "if model_param == \"MPNet\":\n",
    "\n",
    "    if \"cls\" in \"_\".join(embedding_param) or \"meanpool\" in \"_\".join(embedding_param):\n",
    "        from transformers import MPNetTokenizer, MPNetModel\n",
    "        tokenizer = MPNetTokenizer.from_pretrained('sentence-transformers/all-mpnet-base-v2')\n",
    "        model = MPNetModel.from_pretrained(\"microsoft/mpnet-base\").to(device)\n",
    "        \n",
    "    if \"sentence\" in \"_\".join(embedding_param):\n",
    "        from sentence_transformers import SentenceTransformer\n",
    "        sentence_model = SentenceTransformer('sentence-transformers/all-mpnet-base-v2').to(device)\n",
    "\n",
    "elif model_param == \"DistilRoBERTa\":\n",
    "\n",
    "    if \"cls\" in \"_\".join(embedding_param) or \"meanpool\" in \"_\".join(embedding_param):\n",
    "        from transformers import RobertaTokenizer, RobertaModel\n",
    "        tokenizer = RobertaTokenizer.from_pretrained('distilroberta-base')\n",
    "        model = RobertaModel.from_pretrained('distilroberta-base').to(device)\n",
    "\n",
    "    if \"sentence\" in \"_\".join(embedding_param):\n",
    "        from sentence_transformers import SentenceTransformer\n",
    "        sentence_model = SentenceTransformer('sentence-transformers/all-distilroberta-v1').to(device)"
   ]
  },
  {
   "cell_type": "code",
   "execution_count": 69,
   "metadata": {},
   "outputs": [],
   "source": [
    "TaskConfig = namedtuple(\"TaskConfig\", [\"sentence_type\", \"class_type\", \"num_classes\", \"col_names\"])\n",
    "\n",
    "task_configs = {\n",
    "    \"cola\": TaskConfig(\"one\", \"BC\", 1, ['sentence']),\n",
    "    \"sst2\": TaskConfig(\"one\", \"BC\", 1, ['sentence']),\n",
    "    \"mrpc\": TaskConfig(\"two\", \"BC\", 1, ['sentence1', 'sentence2']),\n",
    "    \"stsb\": TaskConfig(\"two\", \"R\", 1, ['sentence1', 'sentence2']),\n",
    "    \"qqp\": TaskConfig(\"two\", \"BC\", 1, ['question1', 'question2']),\n",
    "    \"mnli_matched\": TaskConfig(\"two\", \"MC\", 3, ['premise', 'hypothesis']),\n",
    "    \"mnli_mismatched\": TaskConfig(\"two\", \"MC\", 3, ['premise', 'hypothesis']),\n",
    "    \"qnli\": TaskConfig(\"two\", \"BC\", 1, ['question', 'sentence']),\n",
    "    \"rte\": TaskConfig(\"two\", \"BC\", 1, ['sentence1', 'sentence2']),\n",
    "    \"wnli\": TaskConfig(\"two\", \"BC\", 1, ['sentence1', 'sentence2']),\n",
    "}\n",
    "\n",
    "task_config = task_configs[task_param]"
   ]
  },
  {
   "cell_type": "markdown",
   "metadata": {},
   "source": [
    "## Dataset"
   ]
  },
  {
   "cell_type": "code",
   "execution_count": 70,
   "metadata": {},
   "outputs": [
    {
     "data": {
      "text/plain": [
       "DatasetDict({\n",
       "    train: Dataset({\n",
       "        features: ['premise', 'hypothesis', 'label', 'idx'],\n",
       "        num_rows: 392702\n",
       "    })\n",
       "    validation_matched: Dataset({\n",
       "        features: ['premise', 'hypothesis', 'label', 'idx'],\n",
       "        num_rows: 9815\n",
       "    })\n",
       "    validation_mismatched: Dataset({\n",
       "        features: ['premise', 'hypothesis', 'label', 'idx'],\n",
       "        num_rows: 9832\n",
       "    })\n",
       "    test_matched: Dataset({\n",
       "        features: ['premise', 'hypothesis', 'label', 'idx'],\n",
       "        num_rows: 9796\n",
       "    })\n",
       "    test_mismatched: Dataset({\n",
       "        features: ['premise', 'hypothesis', 'label', 'idx'],\n",
       "        num_rows: 9847\n",
       "    })\n",
       "})"
      ]
     },
     "execution_count": 70,
     "metadata": {},
     "output_type": "execute_result"
    }
   ],
   "source": [
    "if task_param == \"mnli_matched\": \n",
    "    data = load_dataset(\"glue\", \"mnli\") \n",
    "    val_key = \"validation_matched\"\n",
    "    test_key = \"test_matched\"\n",
    "elif task_param == \"mnli_mismatched\":\n",
    "    data = load_dataset(\"glue\", \"mnli\") \n",
    "    val_key = \"validation_mismatched\"\n",
    "    test_key = \"test_mismatched\"\n",
    "else:\n",
    "    data = load_dataset(\"glue\", task_param)\n",
    "    val_key = \"validation\"\n",
    "    test_key = \"test\"\n",
    "\n",
    "data"
   ]
  },
  {
   "cell_type": "markdown",
   "metadata": {},
   "source": [
    "# Embeddings"
   ]
  },
  {
   "cell_type": "markdown",
   "metadata": {},
   "source": [
    "Labels come directly from dataset so no need to save to file"
   ]
  },
  {
   "cell_type": "code",
   "execution_count": 71,
   "metadata": {},
   "outputs": [
    {
     "name": "stdout",
     "output_type": "stream",
     "text": [
      "[array([0, 1, 2])]\n",
      "(392702, 3)\n",
      "(9815, 3)\n",
      "(9796, 3)\n"
     ]
    }
   ],
   "source": [
    "from sklearn.preprocessing import OneHotEncoder\n",
    "\n",
    "Y_train = np.array(data[\"train\"][\"label\"])\n",
    "Y_val = np.array(data[val_key][\"label\"])\n",
    "Y_test = np.array(data[test_key][\"label\"])\n",
    "\n",
    "if task_config.class_type == \"MC\":\n",
    "    Y_train = np.reshape(Y_train, (-1, 1))\n",
    "    Y_val = np.reshape(Y_val, (-1, 1))\n",
    "    Y_test = np.reshape(Y_test, (-1, 1))\n",
    "    \n",
    "    ohe = OneHotEncoder(handle_unknown='ignore', sparse=False).fit(Y_train)\n",
    "    print(ohe.categories_)\n",
    "     \n",
    "    Y_train = ohe.transform(Y_train)\n",
    "    Y_val = ohe.transform(Y_val)\n",
    "    Y_test = ohe.transform(Y_test)\n",
    "\n",
    "print(Y_train.shape)\n",
    "print(Y_val.shape)\n",
    "print(Y_test.shape)"
   ]
  },
  {
   "cell_type": "markdown",
   "metadata": {},
   "source": [
    "## Check for saved embeddings"
   ]
  },
  {
   "cell_type": "code",
   "execution_count": 72,
   "metadata": {},
   "outputs": [
    {
     "name": "stdout",
     "output_type": "stream",
     "text": [
      "['cls_single']\n",
      "cls_single embeddings found!\n",
      "X_train shape: (392702, 1536)\n",
      "X_val shape  : (9815, 1536)\n",
      "X_test shape : (9796, 1536)\n"
     ]
    }
   ],
   "source": [
    "total_length = len(embedding_param)\n",
    "print(embedding_param)\n",
    "\n",
    "X_train, X_val, X_test, embedding_tracker = [None]*total_length, [None]*total_length, [None]*total_length, []\n",
    "create_dataloader, create_sentence = False, False\n",
    "\n",
    "for id, embedding in enumerate(embedding_param):\n",
    "    \n",
    "    cache_path = pathlib.Path(f\"./cache/{embedding}/{task_param}\")\n",
    "    cache_path.mkdir(parents=True, exist_ok=True)\n",
    "\n",
    "    file_names = ['X_train', 'X_val', 'X_test']\n",
    "    paths = [pathlib.Path(cache_path / f\"{f}_{model_param}.npy\") for f in file_names]\n",
    "\n",
    "    if all(path.exists() for path in paths):\n",
    "        print(f\"{embedding} embeddings found!\")\n",
    "        X_train[id] = np.load(paths[0])\n",
    "        X_val[id] = np.load(paths[1])\n",
    "        X_test[id] = np.load(paths[2])\n",
    "\n",
    "        print(f\"X_train shape: {X_train[0].shape}\")\n",
    "        print(f\"X_val shape  : {X_val[0].shape}\")\n",
    "        print(f\"X_test shape : {X_test[0].shape}\")\n",
    "\n",
    "    else:\n",
    "        embedding_tracker.append(id)\n",
    "        print(f\"No {embedding} saved embeddings found\")\n",
    "\n",
    "        if \"cls\" in embedding_param[id] or \"meanpool\" in embedding_param[id]:\n",
    "            create_dataloader = True\n",
    "        elif \"sentence\" in embedding_param[id]:\n",
    "            create_sentence = True"
   ]
  },
  {
   "cell_type": "markdown",
   "metadata": {},
   "source": [
    "## Tokenize dataset"
   ]
  },
  {
   "cell_type": "code",
   "execution_count": 73,
   "metadata": {},
   "outputs": [],
   "source": [
    "max_len=512\n",
    "\n",
    "def tokenize(examples, name):\n",
    "    tokenized = tokenizer(examples[task_config.col_names[0]],\n",
    "                          add_special_tokens=True,\n",
    "                          padding='max_length',\n",
    "                          truncation=True,\n",
    "                          max_length=max_len,\n",
    "                          return_tensors='pt')\n",
    "    return {name + \"_\" + key: value.to(device) for key, value in tokenized.items()}\n",
    "\n",
    "def tokenize_single(examples, name):\n",
    "    tokenized_1 = tokenizer(examples[task_config.col_names[0]],\n",
    "                         add_special_tokens=True,\n",
    "                         padding='max_length',\n",
    "                         truncation=True,\n",
    "                         max_length=max_len,\n",
    "                         return_tensors='pt')\n",
    "    tokenized_2 = tokenizer(examples[task_config.col_names[1]],\n",
    "                         add_special_tokens=True,\n",
    "                         padding='max_length',\n",
    "                         truncation=True,\n",
    "                         max_length=max_len,\n",
    "                         return_tensors='pt')\n",
    "    \n",
    "    tokenized_output = {name + \"_\" + key + \"_1\": value.to(device) for key, value in tokenized_1.items()}\n",
    "    tokenized_output.update({name + \"_\" + key + \"_2\": value.to(device) for key, value in tokenized_2.items()})\n",
    "    return tokenized_output\n",
    "\n",
    "def tokenize_double(examples, name):\n",
    "    tokenized = tokenizer(examples[task_config.col_names[0]],\n",
    "                          examples[task_config.col_names[1]],\n",
    "                          add_special_tokens=True,\n",
    "                          padding='max_length',\n",
    "                          truncation=True,\n",
    "                          max_length=max_len,\n",
    "                          return_tensors='pt')\n",
    "    return {name + \"_\" + key: value.to(device) for key, value in tokenized.items()}\n",
    "\n",
    "inputs = []\n",
    "for id, embedding in enumerate(embedding_param):\n",
    "    if id in embedding_tracker and \"sentence\" not in embedding:\n",
    "        if \"single\" in embedding:\n",
    "            inputs.append(data.map(lambda examples: tokenize_single(examples, name=embedding), batched=True))\n",
    "        elif \"double\" in embedding:\n",
    "            inputs.append(data.map(lambda examples: tokenize_double(examples, name=embedding), batched=True))\n",
    "        else:\n",
    "            inputs.append(data.map(lambda examples: tokenize(examples, name=embedding), batched=True))"
   ]
  },
  {
   "cell_type": "markdown",
   "metadata": {},
   "source": [
    "## Create Dataloader"
   ]
  },
  {
   "cell_type": "code",
   "execution_count": 74,
   "metadata": {},
   "outputs": [],
   "source": [
    "import pandas as pd\n",
    "import numpy as np\n",
    "from torch.utils.data import Dataset, DataLoader\n",
    "import torch\n",
    "\n",
    "# Function to merge datasets\n",
    "def clean_dataset(inputs, split):\n",
    "    common_columns_to_remove = {'sentence', 'sentence1', 'sentence2', 'label', 'question1', 'question2', 'premise', 'hypothesis', 'question'}\n",
    "\n",
    "    if isinstance(inputs, list):\n",
    "        dataframe = [ds[split].to_pandas() for ds in inputs]\n",
    "        dataframe = [df.drop(columns=common_columns_to_remove, errors='ignore') for df in dataframe]\n",
    "        cleaned_df = dataframe[0]\n",
    "        for df in dataframe[1:]:\n",
    "            cleaned_df = pd.merge(cleaned_df, df, on='idx', how='inner')\n",
    "    else:\n",
    "        dataframe = inputs[split].to_pandas()\n",
    "        cleaned_df = dataframe.drop(columns=common_columns_to_remove, errors='ignore')\n",
    "\n",
    "    return cleaned_df\n",
    "\n",
    "class TransformerDataset(Dataset):\n",
    "    def __init__(self, dataframe):\n",
    "        self.dataframe = dataframe\n",
    "        # Exclude 'idx' column and convert others to tensors\n",
    "        self.columns = [col for col in dataframe.columns if col != 'idx']\n",
    "        for col in self.columns:\n",
    "            # Convert to NumPy array first for efficiency\n",
    "            np_array = np.array(dataframe[col].tolist())\n",
    "            setattr(self, col, torch.tensor(np_array, dtype=torch.int64))\n",
    "\n",
    "    def __len__(self):\n",
    "        return len(self.dataframe)\n",
    "\n",
    "    def __getitem__(self, idx):\n",
    "        # Retrieve tensors by index for each column\n",
    "        item = {col: getattr(self, col)[idx] for col in self.columns}\n",
    "        return item\n",
    "\n",
    "# Define batch size\n",
    "batch_size = 128\n",
    "\n",
    "if create_dataloader:\n",
    "\n",
    "    # Merge datasets for each split and convert to PyTorch datasets\n",
    "    train_df = clean_dataset(inputs, 'train')\n",
    "    validation_df = clean_dataset(inputs, 'validation')\n",
    "    test_df = clean_dataset(inputs, 'test')\n",
    "\n",
    "    # Create dataset instances\n",
    "    train_dataset = TransformerDataset(train_df)\n",
    "    validation_dataset = TransformerDataset(validation_df)\n",
    "    test_dataset = TransformerDataset(test_df)\n",
    "\n",
    "    # Create DataLoaders\n",
    "    train_loader = DataLoader(train_dataset, batch_size=batch_size, shuffle=False)\n",
    "    validation_loader = DataLoader(validation_dataset, batch_size=batch_size, shuffle=False)\n",
    "    test_loader = DataLoader(test_dataset, batch_size=batch_size, shuffle=False)"
   ]
  },
  {
   "cell_type": "markdown",
   "metadata": {},
   "source": [
    "## Compute Embbeddings"
   ]
  },
  {
   "cell_type": "code",
   "execution_count": 75,
   "metadata": {},
   "outputs": [
    {
     "name": "stdout",
     "output_type": "stream",
     "text": [
      "Embedding: Using default time tracking\n"
     ]
    }
   ],
   "source": [
    "def compute_embeddings(loader, X):\n",
    "    column_names = list(next(iter(loader)).keys())\n",
    "\n",
    "    # Creating pairs of input IDs and attention masks\n",
    "    pairs = []\n",
    "    for name in column_names:\n",
    "        if 'input_ids' in name:\n",
    "            mask_name = name.replace('input_ids', 'attention_mask')\n",
    "            pairs.append((name, mask_name))\n",
    "\n",
    "    # Loop over each pair of input ID and attention mask\n",
    "    for input_id_name, mask_name in pairs:\n",
    "        embedding = []\n",
    "        tqdm.write(f\"{input_id_name} {mask_name}\")\n",
    "        # time.sleep(0.2) # tqdm prints weird without slight time delay - delay subtracted when calculating embedding time\n",
    "    \n",
    "        for input_embedding in tqdm(loader):\n",
    "            # Move batch to device\n",
    "            model.eval()\n",
    "            input_embedding = {key: value.to(device) for key, value in input_embedding.items()}\n",
    "            with torch.no_grad():\n",
    "                outputs = model(input_embedding[input_id_name], attention_mask=input_embedding[mask_name])\n",
    "\n",
    "                if \"cls\" in input_id_name:\n",
    "                    embed = extract_cls_embeddings(outputs)\n",
    "                elif \"meanpool\" in input_id_name:\n",
    "                    embed = mean_pooling(outputs, input_embedding[mask_name])\n",
    "\n",
    "            embedding.append(embed.cpu().numpy())\n",
    "\n",
    "        id = embedding_param.index(input_id_name.split(\"_input_ids\")[0])\n",
    "        # print(id)\n",
    "        if \"2\" in input_id_name:\n",
    "            U, V = X[id], np.concatenate(embedding, axis=0)\n",
    "            X[id] = np.hstack([U, V])\n",
    "            # print(X[id])\n",
    "        else:\n",
    "            X[id] = np.concatenate(embedding, axis=0)\n",
    "            # print(X[id])\n",
    "\n",
    "def compute_sentence(sentences):\n",
    "    embeddings = []\n",
    "    for i in range(0, len(sentences), batch_size):\n",
    "        batch_sentences = sentences[i:i + batch_size]\n",
    "        batch_embeddings = sentence_model.encode(batch_sentences)\n",
    "        embeddings.append(batch_embeddings)\n",
    "    return np.concatenate(embeddings, axis=0)\n",
    "\n",
    "print(\"Embedding: Using default time tracking\")\n",
    "# Track time\n",
    "start_time = time.time()\n",
    "\n",
    "if create_dataloader: # Compute CLS/Meanpool embeddings\n",
    "    compute_embeddings(train_loader, X_train)\n",
    "    compute_embeddings(validation_loader, X_val)\n",
    "    compute_embeddings(test_loader, X_test)\n",
    "if create_sentence: # Compute Sentence embeddings\n",
    "    if \"sentence_single\" in embedding_param:\n",
    "        id = embedding_param.index(\"sentence_single\")\n",
    "        U_train, V_train = compute_sentence(data[\"train\"][task_config.col_names[0]]), compute_sentence(data[\"train\"][task_config.col_names[1]])\n",
    "        U_val, V_val = compute_sentence(data[\"validation\"][task_config.col_names[0]]), compute_sentence(data[\"validation\"][task_config.col_names[1]])\n",
    "        U_test, V_test = compute_sentence(data[\"test\"][task_config.col_names[0]]), compute_sentence(data[\"test\"][task_config.col_names[1]])\n",
    "\n",
    "        X_train[id] = np.hstack([U_train, V_train])\n",
    "        X_val[id] = np.hstack([U_val, V_val])\n",
    "        X_test[id] = np.hstack([U_test, V_test])\n",
    "\n",
    "    elif \"sentence\" in embedding_param:\n",
    "        id = embedding_param.index(\"sentence\")\n",
    "        X_train[id] = compute_sentence(data[\"train\"][task_config.col_names[0]])\n",
    "        X_val[id] = compute_sentence(data[\"validation\"][task_config.col_names[0]])\n",
    "        X_test[id] = compute_sentence(data[\"test\"][task_config.col_names[0]])\n",
    "\n",
    "embedding_time = time.time() - start_time"
   ]
  },
  {
   "cell_type": "markdown",
   "metadata": {},
   "source": [
    "## Save Embeddings to File"
   ]
  },
  {
   "cell_type": "code",
   "execution_count": 76,
   "metadata": {},
   "outputs": [],
   "source": [
    "for id in embedding_tracker:\n",
    "\n",
    "    cache_path = pathlib.Path(f\"./cache/{embedding_param[id]}/{task_param}\")\n",
    "    cache_path.mkdir(parents=True, exist_ok=True)\n",
    "\n",
    "    file_names = ['X_train', 'X_val', 'X_test']\n",
    "    paths = [pathlib.Path(cache_path / f\"{f}_{model_param}.npy\") for f in file_names]\n",
    "\n",
    "    with open(paths[0], 'wb') as X_train_file:\n",
    "        np.save(X_train_file, X_train[id])\n",
    "    with open(paths[1], 'wb') as X_val_file:\n",
    "        np.save(X_val_file, X_val[id])\n",
    "    with open(paths[2], 'wb') as X_test_file:\n",
    "        np.save(X_test_file, X_test[id])"
   ]
  },
  {
   "cell_type": "code",
   "execution_count": 77,
   "metadata": {},
   "outputs": [
    {
     "name": "stdout",
     "output_type": "stream",
     "text": [
      "X_train shape: (392702, 1536)\n",
      "X_val shape  : (9815, 1536)\n",
      "X_test shape : (9796, 1536)\n"
     ]
    }
   ],
   "source": [
    "X_train = np.concatenate(X_train, axis=1)\n",
    "X_val = np.concatenate(X_val, axis=1)\n",
    "X_test = np.concatenate(X_test, axis=1)\n",
    "print(f\"X_train shape: {X_train.shape}\")\n",
    "print(f\"X_val shape  : {X_val.shape}\")\n",
    "print(f\"X_test shape : {X_test.shape}\")"
   ]
  },
  {
   "cell_type": "markdown",
   "metadata": {},
   "source": [
    "## Transforming Embeddings"
   ]
  },
  {
   "cell_type": "code",
   "execution_count": 78,
   "metadata": {},
   "outputs": [],
   "source": [
    "def add_embeddings(embeddings, column_ids, embedding_size, is_UV, is_diff, is_mult):\n",
    "    '''\n",
    "    Add embeddings at specific column_ids. For example, for the matrix\n",
    "    [Z1, Z2, U1, V1, Z3, U2, V2], if we want to replace this with:\n",
    "    [Z1, Z2, U1 - V1, Z3, U2, V2, U2 - V2, U2 * V2], we provide the parameters:\n",
    "    is_UV = [False, True] : U1, V1 are NOT kept, but U2, V2 are kept\n",
    "    is_diff = [True, True] : both U1 - V1 and U2 - V2 are added\n",
    "    is_mult = [False, True] : U1 * V1 is not included, U2 * V2 is included\n",
    "\n",
    "    Args:\n",
    "        embeddings : original matrix to replace\n",
    "        column_ids : location of Ux (we assume Vx immedeately follows Ux), \n",
    "                     for the above example, we would provide column_ids = [2, 5].\n",
    "                     If you DO NOT want to replace a certain Ux, simply don't include its id in column_ids\n",
    "        is_UV : should Ux, Vx be included\n",
    "        is_diff : should Ux - Vx be included\n",
    "        is_mult : should Ux * Vx be included\n",
    "    '''\n",
    "\n",
    "    id_delta = 0 # keep track of changes to embedding inserts/deletions\n",
    "    for id, column_id in enumerate(column_ids):\n",
    "\n",
    "        if id>0:\n",
    "            if not is_UV[id-1]:\n",
    "                id_delta -= 2\n",
    "            if is_diff[id-1]:\n",
    "                id_delta += 1\n",
    "            if is_mult[id-1]:\n",
    "                id_delta += 1\n",
    "\n",
    "        start_id = (column_id + id_delta) * embedding_size\n",
    "        U_id = start_id + embedding_size\n",
    "        V_id = start_id + (2*embedding_size)\n",
    "\n",
    "        U = embeddings[:, start_id:U_id]\n",
    "        V = embeddings[:, U_id:V_id]\n",
    "\n",
    "        if is_diff[id] and not is_mult[id]:\n",
    "            new_embeddings = (U - V)\n",
    "        elif not is_diff[id] and is_mult[id]:\n",
    "            new_embeddings = U * V\n",
    "        else: # both\n",
    "            new_embeddings = np.hstack([(U - V), (U * V)])\n",
    "\n",
    "        if is_UV[id]:                  \n",
    "            embeddings = np.hstack([\n",
    "                embeddings[:, :V_id],       # Part of original matrix before replacement\n",
    "                new_embeddings,             # New embeddings to insert\n",
    "                embeddings[:, V_id:]        # Part of original matrix after replacement\n",
    "            ])\n",
    "        else:\n",
    "            embeddings = np.hstack([\n",
    "                embeddings[:, :start_id],   # Part of original matrix before replacement\n",
    "                new_embeddings,             # New embeddings to insert\n",
    "                embeddings[:, V_id:]        # Part of original matrix after replacement\n",
    "            ])\n",
    "    return embeddings"
   ]
  },
  {
   "cell_type": "code",
   "execution_count": 79,
   "metadata": {},
   "outputs": [
    {
     "name": "stdout",
     "output_type": "stream",
     "text": [
      "(392702, 768)\n",
      "(9815, 768)\n",
      "(9796, 768)\n"
     ]
    }
   ],
   "source": [
    "######################\n",
    "# Choose ids of (Ux, Vx) to alter embeddings\n",
    "column_ids = [] if task_config.sentence_type == \"one\" else [0]\n",
    "######################\n",
    "\n",
    "if column_ids:\n",
    "    f = lambda embeddings : add_embeddings(embeddings=embeddings, column_ids=column_ids, embedding_size=768, \n",
    "                                           is_UV=[False], is_diff=[True], is_mult=[False])\n",
    "\n",
    "    X_train_computed = f(embeddings=X_train)\n",
    "    X_val_computed = f(embeddings=X_val)\n",
    "    X_test_computed = f(embeddings=X_test)\n",
    "else:\n",
    "    X_train_computed = X_train\n",
    "    X_val_computed = X_val\n",
    "    X_test_computed = X_test\n",
    "    \n",
    "print(X_train_computed.shape)\n",
    "print(X_val_computed.shape)\n",
    "print(X_test_computed.shape)"
   ]
  },
  {
   "cell_type": "markdown",
   "metadata": {},
   "source": [
    "# Training loop"
   ]
  },
  {
   "cell_type": "code",
   "execution_count": 80,
   "metadata": {},
   "outputs": [
    {
     "name": "stdout",
     "output_type": "stream",
     "text": [
      "1 hyperparameter combinations\n"
     ]
    }
   ],
   "source": [
    "input_size = X_train_computed.shape[1]\n",
    "\n",
    "param_grid = {\n",
    "    'max_epochs': [8],\n",
    "    'batch_size': [32],\n",
    "    'learning_rate': [0.001],\n",
    "    'category': ['MC'],\n",
    "    'norm': [False],\n",
    "    'input_size': [768],\n",
    "    'layer_size': [768],\n",
    "    'num_classes': [3],\n",
    "    'num_layers': [1],\n",
    "    'weight_decay': [0.01],\n",
    "    'patience': [3],\n",
    "    'min_delta': [0],\n",
    "    'device': [device_name],\n",
    "    'verbose': [True]\n",
    "}\n",
    "\n",
    "# default overrides\n",
    "param_grid['verbose'] = [True]\n",
    "param_grid['device'] = [device_name]\n",
    "\n",
    "# Create a list of all combinations of hyperparameters\n",
    "all_params = [dict(zip(param_grid.keys(), v)) for v in itertools.product(*param_grid.values())]\n",
    "print(f\"{len(all_params)} hyperparameter combinations\")"
   ]
  },
  {
   "cell_type": "code",
   "execution_count": 82,
   "metadata": {},
   "outputs": [
    {
     "name": "stdout",
     "output_type": "stream",
     "text": [
      "saving results to ./results/cls_single/mnli_matched/val_20240109_234436_DistilRoBERTa.csv\n"
     ]
    },
    {
     "data": {
      "application/vnd.jupyter.widget-view+json": {
       "model_id": "05cc20282f3a432ea7c8fecf2b1bc883",
       "version_major": 2,
       "version_minor": 0
      },
      "text/plain": [
       "  0%|          | 0/1 [00:00<?, ?it/s]"
      ]
     },
     "metadata": {},
     "output_type": "display_data"
    },
    {
     "name": "stdout",
     "output_type": "stream",
     "text": [
      "Epoch 1/8 | Training Loss : 0.5699546933174133 | Validation Loss : 0.8087353706359863\n",
      "Accuracy : 0.6489047376464595 | f1 : 0.6489047376464595\n",
      "\n",
      "Epoch 2/8 | Training Loss : 0.7104381322860718 | Validation Loss : 0.7938345670700073\n",
      "Accuracy : 0.6575649516046868 | f1 : 0.6575649516046868\n",
      "\n"
     ]
    }
   ],
   "source": [
    "# Create output folder if it doesn't exist\n",
    "if not os.path.exists('output'):\n",
    "    os.makedirs('output')\n",
    "\n",
    "# Setup for logging\n",
    "console_output_filename = f'./output/{\"_\".join(embedding_param[0])}_{task_param}_console_output.txt'\n",
    "\n",
    "with open(console_output_filename, 'a') as logfile:\n",
    "    logfile.write('\\n\\nBEGIN TRAINING LOOP\\n\\n')\n",
    "\n",
    "# Setup for saving results\n",
    "results_folder = pathlib.Path(f\"results/{embedding_param[0]}/{task_param}\")\n",
    "results_folder.mkdir(parents=True, exist_ok=True)\n",
    "save_file_id = datetime.now().strftime(\"%Y%m%d_%H%M%S\")\n",
    "results_file = results_folder / f\"val_{save_file_id}_{model_param}.csv\"\n",
    "\n",
    "# different metrics are recorded for classification vs regression tasks\n",
    "if task_config.class_type in [\"BC\", \"MC\"]:\n",
    "    metric_types = ['mcc', 'f1', 'accuracy']\n",
    "elif task_config.class_type == \"R\":\n",
    "    metric_types = ['pearson', 'spearman']\n",
    "\n",
    "with open(results_file, 'w', newline='') as csvfile:\n",
    "    writer = csv.writer(csvfile)\n",
    "    header = metric_types + ['num_epochs', 'training time / epoch', 'embedding time', 'training energy / epoch', 'embedding energy'] + list(all_params[0].keys())\n",
    "    writer.writerow(header)\n",
    "print(f\"saving results to ./{results_file}\")\n",
    "metric_types += [\"epoch\"]\n",
    "# Saves best accuracy for progress bar display\n",
    "display_best = float(\"-inf\")\n",
    "\n",
    "# Iterate over all combinations of hyperparameters\n",
    "bar = tqdm(enumerate(all_params), total=len(all_params))\n",
    "for i, params in bar:\n",
    "    # Formatting params to display\n",
    "    print_params = params.copy()\n",
    "    for param in ['category', 'device']:\n",
    "        del print_params[param]\n",
    "        \n",
    "    # reset torch so that results are consistent\n",
    "    torch.manual_seed(seed)\n",
    "    torch.cuda.manual_seed_all(seed)\n",
    "\n",
    "    # Initialize the model with current set of hyperparameters\n",
    "    feed_forward = FeedForward(**params)\n",
    "\n",
    "    metrics, train_times_per_epoch, energy_per_epoch = feed_forward.fit(X_train_computed,\n",
    "                                                                        Y_train,\n",
    "                                                                        X_val_computed,\n",
    "                                                                        Y_val)\n",
    "    \n",
    "    # Log average training time per epoch for current parameter set\n",
    "    # Note: FFN frequently stops early\n",
    "    training_time = np.mean(train_times_per_epoch)\n",
    "    training_energy = np.mean(energy_per_epoch) \n",
    "    # Compute energy for embedding generation\n",
    "    embedding_energy = get_energy(embedding_time, device) # This method effectively just computes energy for a given time\n",
    "\n",
    "    metric_vals = [metrics[mt] for mt in metric_types]\n",
    "    \n",
    "    # displaying results in progress bar\n",
    "    display_recent = metrics[\"pearson\" if task_config.class_type == \"R\" else \"accuracy\"]\n",
    "    display_best = max(display_best, display_recent)\n",
    "    bar.set_description(f\"Best: {display_best:.5f}, Last: {display_recent:.5f}\")\n",
    "\n",
    "    # Write stats to log file\n",
    "    with open(console_output_filename, 'a') as logfile:\n",
    "        logfile.write(f\"\\n\\nTraining with parameters:\\n{print_params}\")\n",
    "        logfile.write(f\"\\nEarly stopped on epoch: {metrics['epoch']}\")\n",
    "        for name, val in zip(metric_types, metric_vals):\n",
    "            logfile.write(f\"\\nValidation {name}: {val}\")\n",
    "        logfile.write(f\"\\nTraining time      : {training_time}\") \n",
    "        logfile.write(f\"\\nEmbedding time     : {embedding_time}\") \n",
    "        logfile.write(f\"\\nTraining energy    : {training_energy}\") \n",
    "        logfile.write(f\"\\nEmbedding energy   : {embedding_energy}\") \n",
    "    # Write to results csv\n",
    "    with open(results_file, 'a', newline='') as csvfile:\n",
    "        writer = csv.writer(csvfile)\n",
    "        row = metric_vals + [training_time, embedding_time, training_energy, embedding_energy] + list(params.values())\n",
    "        writer.writerow(row)"
   ]
  },
  {
   "cell_type": "code",
   "execution_count": null,
   "metadata": {},
   "outputs": [
    {
     "data": {
      "text/html": [
       "<div>\n",
       "<style scoped>\n",
       "    .dataframe tbody tr th:only-of-type {\n",
       "        vertical-align: middle;\n",
       "    }\n",
       "\n",
       "    .dataframe tbody tr th {\n",
       "        vertical-align: top;\n",
       "    }\n",
       "\n",
       "    .dataframe thead th {\n",
       "        text-align: right;\n",
       "    }\n",
       "</style>\n",
       "<table border=\"1\" class=\"dataframe\">\n",
       "  <thead>\n",
       "    <tr style=\"text-align: right;\">\n",
       "      <th></th>\n",
       "      <th>mcc</th>\n",
       "      <th>f1</th>\n",
       "      <th>accuracy</th>\n",
       "      <th>num_epochs</th>\n",
       "      <th>training time / epoch</th>\n",
       "      <th>embedding time</th>\n",
       "      <th>training energy / epoch</th>\n",
       "      <th>embedding energy</th>\n",
       "      <th>max_epochs</th>\n",
       "      <th>batch_size</th>\n",
       "      <th>...</th>\n",
       "      <th>norm</th>\n",
       "      <th>input_size</th>\n",
       "      <th>layer_size</th>\n",
       "      <th>num_classes</th>\n",
       "      <th>num_layers</th>\n",
       "      <th>weight_decay</th>\n",
       "      <th>patience</th>\n",
       "      <th>min_delta</th>\n",
       "      <th>verbose</th>\n",
       "      <th>device</th>\n",
       "    </tr>\n",
       "  </thead>\n",
       "  <tbody>\n",
       "    <tr>\n",
       "      <th>0</th>\n",
       "      <td>0.515257</td>\n",
       "      <td>0.677025</td>\n",
       "      <td>0.677025</td>\n",
       "      <td>8</td>\n",
       "      <td>63.702099</td>\n",
       "      <td>0.00019</td>\n",
       "      <td>4777.65743</td>\n",
       "      <td>0.014251</td>\n",
       "      <td>50</td>\n",
       "      <td>32</td>\n",
       "      <td>...</td>\n",
       "      <td>False</td>\n",
       "      <td>768</td>\n",
       "      <td>768</td>\n",
       "      <td>3</td>\n",
       "      <td>1</td>\n",
       "      <td>0.01</td>\n",
       "      <td>3</td>\n",
       "      <td>0</td>\n",
       "      <td>True</td>\n",
       "      <td>mps</td>\n",
       "    </tr>\n",
       "  </tbody>\n",
       "</table>\n",
       "<p>1 rows × 22 columns</p>\n",
       "</div>"
      ],
      "text/plain": [
       "        mcc        f1  accuracy  num_epochs  training time / epoch  \\\n",
       "0  0.515257  0.677025  0.677025           8              63.702099   \n",
       "\n",
       "   embedding time  training energy / epoch  embedding energy  max_epochs  \\\n",
       "0         0.00019               4777.65743          0.014251          50   \n",
       "\n",
       "   batch_size  ...   norm input_size  layer_size  num_classes  num_layers  \\\n",
       "0          32  ...  False        768         768            3           1   \n",
       "\n",
       "   weight_decay  patience  min_delta  verbose  device  \n",
       "0          0.01         3          0     True     mps  \n",
       "\n",
       "[1 rows x 22 columns]"
      ]
     },
     "execution_count": 39,
     "metadata": {},
     "output_type": "execute_result"
    }
   ],
   "source": [
    "results_df = pd.read_csv(results_file)\n",
    "if task_config.class_type in [\"BC\", \"MC\"]:\n",
    "    print_metric = \"accuracy\"\n",
    "elif task_config.class_type == \"R\":\n",
    "    print_metric = \"pearson\"\n",
    "\n",
    "best = results_df[print_metric].max()\n",
    "best_row = results_df[results_df[print_metric] == best]\n",
    "\n",
    "results_df"
   ]
  },
  {
   "cell_type": "code",
   "execution_count": null,
   "metadata": {},
   "outputs": [
    {
     "data": {
      "text/html": [
       "<div>\n",
       "<style scoped>\n",
       "    .dataframe tbody tr th:only-of-type {\n",
       "        vertical-align: middle;\n",
       "    }\n",
       "\n",
       "    .dataframe tbody tr th {\n",
       "        vertical-align: top;\n",
       "    }\n",
       "\n",
       "    .dataframe thead th {\n",
       "        text-align: right;\n",
       "    }\n",
       "</style>\n",
       "<table border=\"1\" class=\"dataframe\">\n",
       "  <thead>\n",
       "    <tr style=\"text-align: right;\">\n",
       "      <th></th>\n",
       "      <th>mcc</th>\n",
       "      <th>f1</th>\n",
       "      <th>accuracy</th>\n",
       "      <th>num_epochs</th>\n",
       "      <th>training time / epoch</th>\n",
       "      <th>embedding time</th>\n",
       "      <th>training energy / epoch</th>\n",
       "      <th>embedding energy</th>\n",
       "      <th>max_epochs</th>\n",
       "      <th>batch_size</th>\n",
       "      <th>...</th>\n",
       "      <th>norm</th>\n",
       "      <th>input_size</th>\n",
       "      <th>layer_size</th>\n",
       "      <th>num_classes</th>\n",
       "      <th>num_layers</th>\n",
       "      <th>weight_decay</th>\n",
       "      <th>patience</th>\n",
       "      <th>min_delta</th>\n",
       "      <th>verbose</th>\n",
       "      <th>device</th>\n",
       "    </tr>\n",
       "  </thead>\n",
       "  <tbody>\n",
       "    <tr>\n",
       "      <th>0</th>\n",
       "      <td>0.515257</td>\n",
       "      <td>0.677025</td>\n",
       "      <td>0.677025</td>\n",
       "      <td>8</td>\n",
       "      <td>63.702099</td>\n",
       "      <td>0.00019</td>\n",
       "      <td>4777.65743</td>\n",
       "      <td>0.014251</td>\n",
       "      <td>50</td>\n",
       "      <td>32</td>\n",
       "      <td>...</td>\n",
       "      <td>False</td>\n",
       "      <td>768</td>\n",
       "      <td>768</td>\n",
       "      <td>3</td>\n",
       "      <td>1</td>\n",
       "      <td>0.01</td>\n",
       "      <td>3</td>\n",
       "      <td>0</td>\n",
       "      <td>True</td>\n",
       "      <td>mps</td>\n",
       "    </tr>\n",
       "  </tbody>\n",
       "</table>\n",
       "<p>1 rows × 22 columns</p>\n",
       "</div>"
      ],
      "text/plain": [
       "        mcc        f1  accuracy  num_epochs  training time / epoch  \\\n",
       "0  0.515257  0.677025  0.677025           8              63.702099   \n",
       "\n",
       "   embedding time  training energy / epoch  embedding energy  max_epochs  \\\n",
       "0         0.00019               4777.65743          0.014251          50   \n",
       "\n",
       "   batch_size  ...   norm input_size  layer_size  num_classes  num_layers  \\\n",
       "0          32  ...  False        768         768            3           1   \n",
       "\n",
       "   weight_decay  patience  min_delta  verbose  device  \n",
       "0          0.01         3          0     True     mps  \n",
       "\n",
       "[1 rows x 22 columns]"
      ]
     },
     "execution_count": 40,
     "metadata": {},
     "output_type": "execute_result"
    }
   ],
   "source": [
    "best_row"
   ]
  },
  {
   "cell_type": "markdown",
   "metadata": {},
   "source": [
    "# Train & Eval on Test set"
   ]
  },
  {
   "cell_type": "markdown",
   "metadata": {},
   "source": [
    "## Set best hyperparameter combination"
   ]
  },
  {
   "cell_type": "code",
   "execution_count": null,
   "metadata": {},
   "outputs": [
    {
     "name": "stdout",
     "output_type": "stream",
     "text": [
      "1 hyperparameter combinations\n"
     ]
    }
   ],
   "source": [
    "input_size = X_train_computed.shape[1]\n",
    "\n",
    "# best hyperparameter combination\n",
    "param_grid = {\n",
    "    'max_epochs': [7],\n",
    "    'batch_size': [512],\n",
    "    'learning_rate': [0.01],\n",
    "    'category': ['R'],\n",
    "    'norm': [False],\n",
    "    'input_size': [768],\n",
    "    'layer_size': [768],\n",
    "    'num_classes': [1],\n",
    "    'num_layers': [5],\n",
    "    'weight_decay': [0.0001],\n",
    "    'patience': [5],\n",
    "    'min_delta': [0],\n",
    "    'device': ['mps'],\n",
    "    'verbose': [False]\n",
    "}\n",
    "\n",
    "# Create a list of all combinations of hyperparameters\n",
    "all_params = [dict(zip(param_grid.keys(), v)) for v in itertools.product(*param_grid.values())]\n",
    "print(f\"{len(all_params)} hyperparameter combinations\")"
   ]
  },
  {
   "cell_type": "code",
   "execution_count": null,
   "metadata": {},
   "outputs": [
    {
     "name": "stdout",
     "output_type": "stream",
     "text": [
      "saving results to ./results/cls_single/mnli_matched/test_20240109_224600_DistilRoBERTa.csv\n"
     ]
    },
    {
     "data": {
      "application/vnd.jupyter.widget-view+json": {
       "model_id": "2cc63967f6a841349f8eee7bbf2908a5",
       "version_major": 2,
       "version_minor": 0
      },
      "text/plain": [
       "  0%|          | 0/1 [00:00<?, ?it/s]"
      ]
     },
     "metadata": {},
     "output_type": "display_data"
    },
    {
     "ename": "RuntimeError",
     "evalue": "shape '[512, 1]' is invalid for input of size 1536",
     "output_type": "error",
     "traceback": [
      "\u001b[0;31m---------------------------------------------------------------------------\u001b[0m",
      "\u001b[0;31mRuntimeError\u001b[0m                              Traceback (most recent call last)",
      "Cell \u001b[0;32mIn[42], line 49\u001b[0m\n\u001b[1;32m     46\u001b[0m \u001b[38;5;66;03m# Initialize the model with current set of hyperparameters\u001b[39;00m\n\u001b[1;32m     47\u001b[0m feed_forward \u001b[38;5;241m=\u001b[39m FeedForward(\u001b[38;5;241m*\u001b[39m\u001b[38;5;241m*\u001b[39mparams)\n\u001b[0;32m---> 49\u001b[0m _, train_times_per_epoch, energy_per_epoch \u001b[38;5;241m=\u001b[39m \u001b[43mfeed_forward\u001b[49m\u001b[38;5;241;43m.\u001b[39;49m\u001b[43mfit\u001b[49m\u001b[43m(\u001b[49m\u001b[43mX_train_computed\u001b[49m\u001b[43m,\u001b[49m\n\u001b[1;32m     50\u001b[0m \u001b[43m                                                            \u001b[49m\u001b[43mY_train\u001b[49m\u001b[43m,\u001b[49m\n\u001b[1;32m     51\u001b[0m \u001b[43m                                                            \u001b[49m\u001b[43mX_val_computed\u001b[49m\u001b[43m,\u001b[49m\n\u001b[1;32m     52\u001b[0m \u001b[43m                                                            \u001b[49m\u001b[43mY_val\u001b[49m\u001b[43m)\u001b[49m\n\u001b[1;32m     54\u001b[0m metrics \u001b[38;5;241m=\u001b[39m feed_forward\u001b[38;5;241m.\u001b[39m_validate(X_test_computed, Y_test, return_predictions\u001b[38;5;241m=\u001b[39m\u001b[38;5;28;01mTrue\u001b[39;00m)\n\u001b[1;32m     56\u001b[0m y_pred \u001b[38;5;241m=\u001b[39m metrics[\u001b[38;5;124m\"\u001b[39m\u001b[38;5;124mpredictions\u001b[39m\u001b[38;5;124m\"\u001b[39m]\n",
      "File \u001b[0;32m~/Documents/TECH/research/projectx/fast/fast/utils/feed_forward.py:238\u001b[0m, in \u001b[0;36mFeedForward.fit\u001b[0;34m(self, X, y, X_val, y_val)\u001b[0m\n\u001b[1;32m    236\u001b[0m inputs, targets \u001b[38;5;241m=\u001b[39m data\n\u001b[1;32m    237\u001b[0m inputs, targets \u001b[38;5;241m=\u001b[39m inputs\u001b[38;5;241m.\u001b[39mfloat()\u001b[38;5;241m.\u001b[39mto(\u001b[38;5;28mself\u001b[39m\u001b[38;5;241m.\u001b[39mdevice), targets\u001b[38;5;241m.\u001b[39mfloat()\u001b[38;5;241m.\u001b[39mto(\u001b[38;5;28mself\u001b[39m\u001b[38;5;241m.\u001b[39mdevice)\n\u001b[0;32m--> 238\u001b[0m targets \u001b[38;5;241m=\u001b[39m \u001b[43mtargets\u001b[49m\u001b[38;5;241;43m.\u001b[39;49m\u001b[43mreshape\u001b[49m\u001b[43m(\u001b[49m\u001b[43m(\u001b[49m\u001b[43mtargets\u001b[49m\u001b[38;5;241;43m.\u001b[39;49m\u001b[43mshape\u001b[49m\u001b[43m[\u001b[49m\u001b[38;5;241;43m0\u001b[39;49m\u001b[43m]\u001b[49m\u001b[43m,\u001b[49m\u001b[43m \u001b[49m\u001b[38;5;28;43mself\u001b[39;49m\u001b[38;5;241;43m.\u001b[39;49m\u001b[43mnum_classes\u001b[49m\u001b[43m)\u001b[49m\u001b[43m)\u001b[49m\n\u001b[1;32m    240\u001b[0m \u001b[38;5;28mself\u001b[39m\u001b[38;5;241m.\u001b[39moptimizer\u001b[38;5;241m.\u001b[39mzero_grad()\n\u001b[1;32m    242\u001b[0m outputs \u001b[38;5;241m=\u001b[39m \u001b[38;5;28mself\u001b[39m\u001b[38;5;241m.\u001b[39mmodel(inputs)\n",
      "\u001b[0;31mRuntimeError\u001b[0m: shape '[512, 1]' is invalid for input of size 1536"
     ]
    }
   ],
   "source": [
    "y_pred = None\n",
    "\n",
    "# Create output folder if it doesn't exist\n",
    "if not os.path.exists('output'):\n",
    "    os.makedirs('output')\n",
    "\n",
    "# Setup for logging\n",
    "console_output_filename = f'./output/{\"_\".join(embedding_param[0])}_{task_param}_console_output.txt'\n",
    "\n",
    "with open(console_output_filename, 'a') as logfile:\n",
    "    logfile.write('\\n\\nBEGIN FINAL TRAINING LOOP\\n\\n')\n",
    "\n",
    "# Setup for saving results\n",
    "results_folder = pathlib.Path(f\"results/{embedding_param[0]}/{task_param}\")\n",
    "results_folder.mkdir(parents=True, exist_ok=True)\n",
    "save_file_id = datetime.now().strftime(\"%Y%m%d_%H%M%S\")\n",
    "test_results_file = results_folder / f\"test_{save_file_id}_{model_param}.csv\"\n",
    "test_y_pred_file = results_folder / f\"y_pred_{save_file_id}_{model_param}.tsv\"\n",
    "\n",
    "# different metrics are recorded for classification vs regression tasks\n",
    "if task_config.class_type in [\"BC\", \"MC\"]:\n",
    "    metric_types = ['mcc', 'f1', 'accuracy']\n",
    "elif task_config.class_type == \"R\":\n",
    "    metric_types = ['pearson', 'spearman']\n",
    "\n",
    "with open(test_results_file, 'w', newline='') as csvfile:\n",
    "    writer = csv.writer(csvfile)\n",
    "    header = metric_types + ['training time / epoch', 'embedding time', 'training energy / epoch', 'embedding energy'] + list(all_params[0].keys())\n",
    "    writer.writerow(header)\n",
    "print(f\"saving results to ./{test_results_file}\")\n",
    "# Saves best accuracy for progress bar display\n",
    "display_best = float(\"-inf\")\n",
    "\n",
    "# Iterate over all combinations of hyperparameters\n",
    "bar = tqdm(enumerate(all_params), total=len(all_params))\n",
    "for i, params in bar:\n",
    "    # Formatting params to display\n",
    "    print_params = params.copy()\n",
    "    for param in ['category', 'device']:\n",
    "        del print_params[param]\n",
    "        \n",
    "    # reset torch so that results are consistent\n",
    "    torch.manual_seed(seed)\n",
    "    torch.cuda.manual_seed_all(seed)\n",
    "\n",
    "    # Initialize the model with current set of hyperparameters\n",
    "    feed_forward = FeedForward(**params)\n",
    "\n",
    "    _, train_times_per_epoch, energy_per_epoch = feed_forward.fit(X_train_computed,\n",
    "                                                                Y_train,\n",
    "                                                                X_val_computed,\n",
    "                                                                Y_val)\n",
    "    \n",
    "    metrics = feed_forward._validate(X_test_computed, Y_test, return_predictions=True)\n",
    "\n",
    "    y_pred = metrics[\"predictions\"]\n",
    "    del metrics[\"predictions\"]\n",
    "\n",
    "    y_pred_df = pd.DataFrame(y_pred, columns=[\"prediction\"])\n",
    "    y_pred_df[\"index\"] = y_pred_df.index\n",
    "    y_pred_df = y_pred_df[[\"index\", \"prediction\"]]\n",
    "    y_pred_df.to_csv(test_y_pred_file, sep='\\t', index=False, header=True)\n",
    "    print(f\"saving predictions to ./{test_y_pred_file}\")\n",
    "    \n",
    "    # Log average training time per epoch for current parameter set\n",
    "    # Note: FFN frequently stops early\n",
    "    training_time = np.mean(train_times_per_epoch)\n",
    "    training_energy = np.mean(energy_per_epoch) \n",
    "    # Compute energy for embedding generation\n",
    "    embedding_energy = get_energy(embedding_time, device) # This method effectively just computes energy for a given time\n",
    "\n",
    "    metric_vals = [metrics[mt] for mt in metric_types]\n",
    "    \n",
    "    # displaying results in progress bar\n",
    "    display_recent = metrics[\"pearson\" if task_config.class_type == \"R\" else \"accuracy\"]\n",
    "    display_best = max(display_best, display_recent)\n",
    "    bar.set_description(f\"Best: {display_best:.5f}, Last: {display_recent:.5f}\")\n",
    "\n",
    "    # Write stats to log file\n",
    "    with open(console_output_filename, 'a') as logfile:\n",
    "        logfile.write(f\"\\n\\nTraining with parameters:\\n{print_params}\")\n",
    "        for name, val in zip(metric_types, metric_vals):\n",
    "            logfile.write(f\"\\nValidation {name}: {val}\")\n",
    "        logfile.write(f\"\\nTraining time      : {training_time}\")\n",
    "        logfile.write(f\"\\nEmbedding time     : {embedding_time}\") \n",
    "        logfile.write(f\"\\nTraining energy    : {training_energy}\") \n",
    "        logfile.write(f\"\\nEmbedding energy   : {embedding_energy}\") \n",
    "    # Write to results csv\n",
    "    with open(test_results_file, 'a', newline='') as csvfile:\n",
    "        writer = csv.writer(csvfile)\n",
    "        row = metric_vals + [training_time, embedding_time, training_energy, embedding_energy] + list(params.values())\n",
    "        writer.writerow(row)"
   ]
  },
  {
   "cell_type": "code",
   "execution_count": null,
   "metadata": {},
   "outputs": [
    {
     "data": {
      "text/html": [
       "<div>\n",
       "<style scoped>\n",
       "    .dataframe tbody tr th:only-of-type {\n",
       "        vertical-align: middle;\n",
       "    }\n",
       "\n",
       "    .dataframe tbody tr th {\n",
       "        vertical-align: top;\n",
       "    }\n",
       "\n",
       "    .dataframe thead th {\n",
       "        text-align: right;\n",
       "    }\n",
       "</style>\n",
       "<table border=\"1\" class=\"dataframe\">\n",
       "  <thead>\n",
       "    <tr style=\"text-align: right;\">\n",
       "      <th></th>\n",
       "      <th>mcc</th>\n",
       "      <th>f1</th>\n",
       "      <th>accuracy</th>\n",
       "      <th>training time / epoch</th>\n",
       "      <th>embedding time</th>\n",
       "      <th>training energy / epoch</th>\n",
       "      <th>embedding energy</th>\n",
       "      <th>max_epochs</th>\n",
       "      <th>batch_size</th>\n",
       "      <th>learning_rate</th>\n",
       "      <th>...</th>\n",
       "      <th>norm</th>\n",
       "      <th>input_size</th>\n",
       "      <th>layer_size</th>\n",
       "      <th>num_classes</th>\n",
       "      <th>num_layers</th>\n",
       "      <th>weight_decay</th>\n",
       "      <th>patience</th>\n",
       "      <th>min_delta</th>\n",
       "      <th>device</th>\n",
       "      <th>verbose</th>\n",
       "    </tr>\n",
       "  </thead>\n",
       "  <tbody>\n",
       "    <tr>\n",
       "      <th>0</th>\n",
       "      <td>0.0</td>\n",
       "      <td>0.0</td>\n",
       "      <td>0.0</td>\n",
       "      <td>2.717449</td>\n",
       "      <td>0.000642</td>\n",
       "      <td>203.808668</td>\n",
       "      <td>0.048119</td>\n",
       "      <td>17</td>\n",
       "      <td>32</td>\n",
       "      <td>0.001</td>\n",
       "      <td>...</td>\n",
       "      <td>False</td>\n",
       "      <td>768</td>\n",
       "      <td>768</td>\n",
       "      <td>1</td>\n",
       "      <td>3</td>\n",
       "      <td>0.0001</td>\n",
       "      <td>5</td>\n",
       "      <td>0</td>\n",
       "      <td>mps</td>\n",
       "      <td>True</td>\n",
       "    </tr>\n",
       "  </tbody>\n",
       "</table>\n",
       "<p>1 rows × 21 columns</p>\n",
       "</div>"
      ],
      "text/plain": [
       "   mcc   f1  accuracy  training time / epoch  embedding time  \\\n",
       "0  0.0  0.0       0.0               2.717449        0.000642   \n",
       "\n",
       "   training energy / epoch  embedding energy  max_epochs  batch_size  \\\n",
       "0               203.808668          0.048119          17          32   \n",
       "\n",
       "   learning_rate  ...   norm  input_size  layer_size  num_classes  num_layers  \\\n",
       "0          0.001  ...  False         768         768            1           3   \n",
       "\n",
       "   weight_decay  patience  min_delta  device verbose  \n",
       "0        0.0001         5          0     mps    True  \n",
       "\n",
       "[1 rows x 21 columns]"
      ]
     },
     "execution_count": 86,
     "metadata": {},
     "output_type": "execute_result"
    }
   ],
   "source": [
    "results_df = pd.read_csv(test_results_file)\n",
    "results_df"
   ]
  },
  {
   "cell_type": "code",
   "execution_count": null,
   "metadata": {},
   "outputs": [
    {
     "data": {
      "text/plain": [
       "{'loss': 2.4890098571777344,\n",
       " 'accuracy': 0.0,\n",
       " 'f1': 0.0,\n",
       " 'mcc': 0.0,\n",
       " 'predictions': tensor([[1],\n",
       "         [1],\n",
       "         [1],\n",
       "         ...,\n",
       "         [1],\n",
       "         [1],\n",
       "         [0]])}"
      ]
     },
     "execution_count": 84,
     "metadata": {},
     "output_type": "execute_result"
    }
   ],
   "source": [
    "feed_forward._validate(X_test_computed, Y_test, return_predictions=True)"
   ]
  }
 ],
 "metadata": {
  "kernelspec": {
   "display_name": "Python 3 (ipykernel)",
   "language": "python",
   "name": "python3"
  },
  "language_info": {
   "codemirror_mode": {
    "name": "ipython",
    "version": 3
   },
   "file_extension": ".py",
   "mimetype": "text/x-python",
   "name": "python",
   "nbconvert_exporter": "python",
   "pygments_lexer": "ipython3",
   "version": "3.9.0"
  }
 },
 "nbformat": 4,
 "nbformat_minor": 4
}
