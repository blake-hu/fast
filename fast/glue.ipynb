{
 "cells": [
  {
   "cell_type": "markdown",
   "metadata": {},
   "source": [
    "# FAST: Feedforward-Augmented Sentence Transformers"
   ]
  },
  {
   "cell_type": "markdown",
   "metadata": {},
   "source": [
    "Notebook for running GLUE tasks."
   ]
  },
  {
   "cell_type": "markdown",
   "metadata": {},
   "source": [
    "# Setup"
   ]
  },
  {
   "cell_type": "markdown",
   "metadata": {},
   "source": [
    "## Modules"
   ]
  },
  {
   "cell_type": "code",
   "execution_count": 1,
   "metadata": {},
   "outputs": [],
   "source": [
    "import random\n",
    "import time\n",
    "import csv\n",
    "import os\n",
    "import pathlib\n",
    "import itertools\n",
    "from datetime import datetime\n",
    "from collections import namedtuple\n",
    "from tqdm.notebook import tqdm\n",
    "\n",
    "from carbontracker.tracker import CarbonTracker\n",
    "\n",
    "import numpy as np\n",
    "import pandas as pd\n",
    "\n",
    "import torch\n",
    "from torch.utils.data import Dataset, DataLoader\n",
    "from datasets import load_dataset\n",
    "\n",
    "from utils.feed_forward import FeedForward\n",
    "from utils.cls import extract_cls_embeddings\n",
    "from utils.mean_pooling import mean_pooling\n",
    "from utils.energy import get_energy"
   ]
  },
  {
   "cell_type": "code",
   "execution_count": 2,
   "metadata": {},
   "outputs": [],
   "source": [
    "# Standardized default seed\n",
    "seed = 7\n",
    "random.seed(seed)\n",
    "np.random.seed(seed)\n",
    "torch.manual_seed(seed)\n",
    "torch.cuda.manual_seed_all(seed)"
   ]
  },
  {
   "cell_type": "markdown",
   "metadata": {},
   "source": [
    "## Device"
   ]
  },
  {
   "cell_type": "code",
   "execution_count": 3,
   "metadata": {},
   "outputs": [
    {
     "name": "stdout",
     "output_type": "stream",
     "text": [
      "cuda\n"
     ]
    }
   ],
   "source": [
    "device_name = \"cpu\"  # default device is CPU\n",
    "if torch.cuda.is_available():\n",
    "    # I read that this works for detecting if notebook is being run in a colab environment, not sure though\n",
    "    if 'COLAB_GPU' in os.environ:\n",
    "        print(\"colab environment\")\n",
    "        device_name = \"gpu\" \n",
    "    else:\n",
    "        device_name = \"cuda\" # CUDA for NVIDIA GPU\n",
    "elif torch.backends.mps.is_available():\n",
    "    device_name = torch.device(\"mps\")  # Metal Performance Shaders for Apple M-series GPU\n",
    "\n",
    "device = torch.device(device_name)\n",
    "print(device_name)"
   ]
  },
  {
   "cell_type": "markdown",
   "metadata": {},
   "source": [
    "## User parameters"
   ]
  },
  {
   "cell_type": "markdown",
   "metadata": {},
   "source": [
    "Parameters to set:\n",
    "- Model\n",
    "    - MPNetBase\n",
    "    - DistilRoBERTaBase\n",
    "    - MPNetST\n",
    "    - DistilRoBERTaST\n",
    "- Task\n",
    "    - cola\n",
    "    - sst2\n",
    "    - mrpc\n",
    "    - stsb\n",
    "    - qqp\n",
    "    - mnli_matched\n",
    "    - mnli_mismatched\n",
    "    - qnli\n",
    "    - rte\n",
    "    - wnli\n",
    "- Embedding type\n",
    "    - cls\n",
    "    - mean_pooling\n",
    "    - sentence"
   ]
  },
  {
   "cell_type": "code",
   "execution_count": 4,
   "metadata": {},
   "outputs": [],
   "source": [
    "model_param = \"DistilRoBERTaBase\"\n",
    "task_param = \"wnli\"\n",
    "embedding_param = \"cls\"\n",
    "\n",
    "use_carbontracker = False \n",
    "# NOTE: Carbontracker should generate its own output file \n",
    "# => logged benchmarking results will be dummy values if use_carbontracker = True"
   ]
  },
  {
   "cell_type": "markdown",
   "metadata": {},
   "source": [
    "## Models"
   ]
  },
  {
   "cell_type": "code",
   "execution_count": 5,
   "metadata": {},
   "outputs": [
    {
     "name": "stderr",
     "output_type": "stream",
     "text": [
      "Some weights of the model checkpoint at distilroberta-base were not used when initializing RobertaModel: ['lm_head.layer_norm.bias', 'lm_head.dense.weight', 'lm_head.layer_norm.weight', 'lm_head.bias', 'lm_head.dense.bias']\n",
      "- This IS expected if you are initializing RobertaModel from the checkpoint of a model trained on another task or with another architecture (e.g. initializing a BertForSequenceClassification model from a BertForPreTraining model).\n",
      "- This IS NOT expected if you are initializing RobertaModel from the checkpoint of a model that you expect to be exactly identical (initializing a BertForSequenceClassification model from a BertForSequenceClassification model).\n"
     ]
    }
   ],
   "source": [
    "if model_param == \"MPNetBase\": # MPNet Base\n",
    "    from transformers import MPNetTokenizer, MPNetModel\n",
    "    tokenizer = MPNetTokenizer.from_pretrained('sentence-transformers/all-mpnet-base-v2')\n",
    "    model = MPNetModel.from_pretrained(\"microsoft/mpnet-base\").to(device)\n",
    "elif model_param == \"DistilRoBERTaBase\": # DistilRoBERTa Base\n",
    "    from transformers import RobertaTokenizer, RobertaModel\n",
    "    tokenizer = RobertaTokenizer.from_pretrained('distilroberta-base')\n",
    "    model = RobertaModel.from_pretrained('distilroberta-base').to(device)\n",
    "elif model_param == \"MPNetST\": # MPNet Sentence Transformer\n",
    "    from sentence_transformers import SentenceTransformer\n",
    "    model = SentenceTransformer('sentence-transformers/all-mpnet-base-v2').to(device)\n",
    "elif model_param == \"DistilRoBERTaST\": # DistilRoBERTa Sentence Transformer\n",
    "    from sentence_transformers import SentenceTransformer\n",
    "    model = SentenceTransformer('sentence-transformers/all-distilroberta-v1').to(device)\n",
    "else:\n",
    "    raise Exception(f\"ERROR: Bad model_param\")"
   ]
  },
  {
   "cell_type": "code",
   "execution_count": 6,
   "metadata": {},
   "outputs": [],
   "source": [
    "# sentence_type: [\"one\", \"two\"]\n",
    "# class_type: [\"BC\", \"MC\", \"R\"]\n",
    "# input_size: int (represents input size of feedforward, aka embedding size)\n",
    "# col_names: column names of relavent sentences on hugging face\n",
    "# num_classes needs to be 1 for BC and R, only change value to number of classes for MC\n",
    "\n",
    "TaskConfig = namedtuple(\"TaskConfig\", [\"sentence_type\", \"class_type\", \"num_classes\", \"input_size\", \"col_names\"])\n",
    "\n",
    "task_configs = {\n",
    "    \"cola\": TaskConfig(\"one\", \"BC\", 1, 768, ['sentence']),\n",
    "    \"sst2\": TaskConfig(\"one\", \"BC\", 1, 768, ['sentence']),\n",
    "    \"mrpc\": TaskConfig(\"two\", \"BC\", 1, 768*2, ['sentence1', 'sentence2']),\n",
    "    \"stsb\": TaskConfig(\"two\", \"R\", 1, 768*2, ['sentence1', 'sentence2']),\n",
    "    \"qqp\": TaskConfig(\"two\", \"BC\", 1, 768*2, ['question1', 'question2']),\n",
    "    \"mnli_matched\": TaskConfig(\"two\", \"MC\", 3, 768*2, ['premise', 'hypothesis']),\n",
    "    \"mnli_mismatched\": TaskConfig(\"two\", \"MC\", 3, 768*2, ['premise', 'hypothesis']),\n",
    "    \"qnli\": TaskConfig(\"two\", \"BC\", 1, 768*2, ['question', 'sentence']),\n",
    "    \"rte\": TaskConfig(\"two\", \"BC\", 1, 768*2, ['sentence1', 'sentence2']),\n",
    "    \"wnli\": TaskConfig(\"two\", \"BC\", 1, 768*2, ['sentence1', 'sentence2']),\n",
    "}\n",
    "\n",
    "task_config = task_configs[task_param]"
   ]
  },
  {
   "cell_type": "markdown",
   "metadata": {},
   "source": [
    "## Dataset"
   ]
  },
  {
   "cell_type": "code",
   "execution_count": 7,
   "metadata": {},
   "outputs": [
    {
     "data": {
      "text/plain": [
       "DatasetDict({\n",
       "    train: Dataset({\n",
       "        features: ['sentence1', 'sentence2', 'label', 'idx'],\n",
       "        num_rows: 635\n",
       "    })\n",
       "    validation: Dataset({\n",
       "        features: ['sentence1', 'sentence2', 'label', 'idx'],\n",
       "        num_rows: 71\n",
       "    })\n",
       "    test: Dataset({\n",
       "        features: ['sentence1', 'sentence2', 'label', 'idx'],\n",
       "        num_rows: 146\n",
       "    })\n",
       "})"
      ]
     },
     "execution_count": 7,
     "metadata": {},
     "output_type": "execute_result"
    }
   ],
   "source": [
    "if task_param == \"mnli_matched\": \n",
    "    data = load_dataset(\"glue\", \"mnli\") \n",
    "    val_key = \"validation_matched\"\n",
    "    test_key = \"test_matched\"\n",
    "elif task_param == \"mnli_mismatched\":\n",
    "    data = load_dataset(\"glue\", \"mnli\") \n",
    "    val_key = \"validation_mismatched\"\n",
    "    test_key = \"test_mismatched\"\n",
    "else:\n",
    "    data = load_dataset(\"glue\", task_param)\n",
    "    val_key = \"validation\"\n",
    "    test_key = \"test\"\n",
    "\n",
    "data"
   ]
  },
  {
   "cell_type": "markdown",
   "metadata": {},
   "source": [
    "# Embeddings"
   ]
  },
  {
   "cell_type": "markdown",
   "metadata": {},
   "source": [
    "Labels come directly from dataset so no need to save to file"
   ]
  },
  {
   "cell_type": "code",
   "execution_count": 8,
   "metadata": {},
   "outputs": [
    {
     "name": "stdout",
     "output_type": "stream",
     "text": [
      "(635,)\n",
      "(71,)\n",
      "(146,)\n"
     ]
    }
   ],
   "source": [
    "from sklearn.preprocessing import OneHotEncoder\n",
    "\n",
    "Y_train = np.array(data[\"train\"][\"label\"])\n",
    "Y_val = np.array(data[val_key][\"label\"])\n",
    "Y_test = np.array(data[test_key][\"label\"])\n",
    "\n",
    "if task_config.class_type == \"MC\":\n",
    "    Y_train = np.reshape(Y_train, (-1, 1))\n",
    "    Y_val = np.reshape(Y_val, (-1, 1))\n",
    "    Y_test = np.reshape(Y_test, (-1, 1))\n",
    "    \n",
    "    ohe = OneHotEncoder(handle_unknown='ignore', sparse=False).fit(Y_train)\n",
    "    print(ohe.categories_)\n",
    "     \n",
    "    Y_train = ohe.transform(Y_train)\n",
    "    Y_val = ohe.transform(Y_val)\n",
    "    Y_test = ohe.transform(Y_test)\n",
    "\n",
    "print(Y_train.shape)\n",
    "print(Y_val.shape)\n",
    "print(Y_test.shape)"
   ]
  },
  {
   "cell_type": "markdown",
   "metadata": {},
   "source": [
    "## Check for saved embeddings"
   ]
  },
  {
   "cell_type": "code",
   "execution_count": 9,
   "metadata": {},
   "outputs": [
    {
     "name": "stdout",
     "output_type": "stream",
     "text": [
      "Saved embeddings found!\n"
     ]
    }
   ],
   "source": [
    "cache_dir = f\"./cache/{embedding_param}/{task_param}\"\n",
    "cache_path = pathlib.Path(cache_dir)\n",
    "cache_path.mkdir(parents=True, exist_ok=True)\n",
    "\n",
    "file_names = ['X_train', 'X_val', 'X_test']\n",
    "paths = [pathlib.Path(cache_path / f\"{f}_{model_param}.npy\") for f in file_names]\n",
    "\n",
    "use_cached_embeddings = False\n",
    "if all(path.exists() for path in paths):\n",
    "    print(\"Saved embeddings found!\")\n",
    "    X_train = np.load(paths[0])\n",
    "    X_val = np.load(paths[1])\n",
    "    X_test = np.load(paths[2])\n",
    "    use_cached_embeddings = True\n",
    "else:\n",
    "    print(\"No saved embeddings found\")"
   ]
  },
  {
   "cell_type": "code",
   "execution_count": 10,
   "metadata": {},
   "outputs": [],
   "source": [
    "use_cached_embeddings = False"
   ]
  },
  {
   "cell_type": "markdown",
   "metadata": {},
   "source": [
    "## Generate embeddings"
   ]
  },
  {
   "cell_type": "code",
   "execution_count": 11,
   "metadata": {},
   "outputs": [],
   "source": [
    "class GLUESingleSentence(Dataset):\n",
    "    def __init__(self, texts):\n",
    "        self.texts = texts\n",
    "\n",
    "    def __len__(self):\n",
    "        return len(self.texts)\n",
    "\n",
    "    def __getitem__(self, idx):\n",
    "        return self.texts[idx]\n",
    "    \n",
    "class GLUEPairedSentence(Dataset):\n",
    "    def __init__(self, texts1, texts2):\n",
    "        self.texts1 = texts1\n",
    "        self.texts2 = texts2\n",
    "\n",
    "    def __len__(self):\n",
    "        return len(self.texts1)\n",
    "\n",
    "    def __getitem__(self, idx):\n",
    "        text1 = self.texts1[idx]\n",
    "        text2 = self.texts2[idx]\n",
    "\n",
    "        return text1, text2\n",
    "    \n",
    "def tokenize_batch(tokenizer, text_batch, max_len=512):\n",
    "    encoded = tokenizer(text_batch,\n",
    "                        add_special_tokens=True,\n",
    "                        padding='max_length',\n",
    "                        truncation=True,\n",
    "                        max_length=max_len,\n",
    "                        return_tensors='pt')\n",
    "    return {k: v.to(device) for k, v in encoded.items()}"
   ]
  },
  {
   "cell_type": "code",
   "execution_count": 12,
   "metadata": {},
   "outputs": [],
   "source": [
    "if task_config.sentence_type == \"one\":\n",
    "    train_dataset = GLUESingleSentence(data['train']['sentence'])\n",
    "    val_dataset = GLUESingleSentence(data['validation']['sentence'])\n",
    "    test_dataset = GLUESingleSentence(data['test']['sentence'])\n",
    "    \n",
    "elif task_config.sentence_type == \"two\":\n",
    "    key1 = task_config.col_names[0]\n",
    "    key2 = task_config.col_names[1]\n",
    "    \n",
    "    train_dataset = GLUEPairedSentence(data['train'][key1], data['train'][key2])\n",
    "    val_dataset = GLUEPairedSentence(data[val_key][key1], data[val_key][key2])\n",
    "    test_dataset = GLUEPairedSentence(data[test_key][key1], data[test_key][key2])\n",
    "        \n",
    "else:\n",
    "    raise Exception(f\"{task_config.sentence_type}: sentence type not recognized\")\n",
    "\n",
    "# pick batch size based on GPU memory\n",
    "batch_size = 1024\n",
    "train_loader = DataLoader(train_dataset, batch_size=batch_size, shuffle=False)\n",
    "val_loader = DataLoader(val_dataset, batch_size=batch_size, shuffle=False)\n",
    "test_loader = DataLoader(test_dataset, batch_size=batch_size, shuffle=False)"
   ]
  },
  {
   "cell_type": "code",
   "execution_count": 13,
   "metadata": {},
   "outputs": [
    {
     "name": "stdout",
     "output_type": "stream",
     "text": [
      "Embedding: Using default time tracking\n"
     ]
    },
    {
     "data": {
      "application/vnd.jupyter.widget-view+json": {
       "model_id": "537aacde0cbe4e9c8cbbcb7d7868f3bc",
       "version_major": 2,
       "version_minor": 0
      },
      "text/plain": [
       "  0%|          | 0/1 [00:00<?, ?it/s]"
      ]
     },
     "metadata": {},
     "output_type": "display_data"
    },
    {
     "data": {
      "application/vnd.jupyter.widget-view+json": {
       "model_id": "f5da3f873a0447369dcbd6aadc405d03",
       "version_major": 2,
       "version_minor": 0
      },
      "text/plain": [
       "  0%|          | 0/1 [00:00<?, ?it/s]"
      ]
     },
     "metadata": {},
     "output_type": "display_data"
    },
    {
     "data": {
      "application/vnd.jupyter.widget-view+json": {
       "model_id": "8273801bfe1746a28b27aaaba6a18bdd",
       "version_major": 2,
       "version_minor": 0
      },
      "text/plain": [
       "  0%|          | 0/1 [00:00<?, ?it/s]"
      ]
     },
     "metadata": {},
     "output_type": "display_data"
    }
   ],
   "source": [
    "def compute_single_embeddings(loader):\n",
    "    embeddings = []\n",
    "    model.eval()\n",
    "    with torch.no_grad():\n",
    "        for text in tqdm(loader):\n",
    "            encoded = tokenize_batch(tokenizer, text)\n",
    "            outputs = model(encoded[\"input_ids\"], attention_mask=encoded[\"attention_mask\"])\n",
    "\n",
    "            if embedding_param == \"cls\":\n",
    "                embed = extract_cls_embeddings(outputs)\n",
    "            elif embedding_param == \"mean_pooling\":\n",
    "                embed = mean_pooling(outputs, encoded[\"attention_mask\"])\n",
    "                \n",
    "            embeddings.append(embed.cpu().numpy())\n",
    "\n",
    "    return np.concatenate(embeddings, axis=0)\n",
    "\n",
    "def compute_pair_embeddings(loader):\n",
    "    embeddings = []\n",
    "    model.eval()\n",
    "    with torch.no_grad():\n",
    "\n",
    "        for text1, text2 in tqdm(loader):\n",
    "            encoded1 = tokenize_batch(tokenizer, text1)\n",
    "            encoded2 = tokenize_batch(tokenizer, text2)\n",
    "\n",
    "            if embedding_param == \"sentence\":\n",
    "                U = torch.tensor(model.encode(encoded1[\"input_ids\"]))\n",
    "                V = torch.tensor(model.encode(encoded2[\"input_ids\"]))\n",
    "            else: # cls or mean_pooling\n",
    "                outputs1 = model(encoded1[\"input_ids\"], attention_mask=encoded1[\"attention_mask\"])\n",
    "                outputs2 = model(encoded2[\"input_ids\"], attention_mask=encoded2[\"attention_mask\"])\n",
    "\n",
    "                if embedding_param == \"cls\":\n",
    "                    U = extract_cls_embeddings(outputs1)\n",
    "                    V = extract_cls_embeddings(outputs2)\n",
    "                elif embedding_param == \"mean_pooling\":\n",
    "                    U = mean_pooling(outputs1, encoded1[\"attention_mask\"])\n",
    "                    V = mean_pooling(outputs2, encoded2[\"attention_mask\"])\n",
    "\n",
    "            embed = torch.cat([U, V], dim=1)\n",
    "            embeddings.append(embed.cpu().numpy())\n",
    "\n",
    "    return np.concatenate(embeddings, axis=0)\n",
    "\n",
    "if use_cached_embeddings == False:\n",
    "    if use_carbontracker:\n",
    "        print(\"Embedding: Using Carbontracker\")\n",
    "        tracker = CarbonTracker(epochs=1)\n",
    "        tracker.epoch_start()\n",
    "    else:\n",
    "        print(\"Embedding: Using default time tracking\")\n",
    "        # Track time\n",
    "        start_time = time.time()\n",
    "\n",
    "    if task_config.sentence_type == \"one\":\n",
    "        train_embed = compute_single_embeddings(train_loader)\n",
    "        val_embed = compute_single_embeddings(val_loader)\n",
    "        test_embed = compute_single_embeddings(test_loader)\n",
    "    elif task_config.sentence_type == \"two\":\n",
    "        train_embed = compute_pair_embeddings(train_loader)\n",
    "        val_embed = compute_pair_embeddings(val_loader)\n",
    "        test_embed = compute_pair_embeddings(test_loader)\n",
    "    \n",
    "    if use_carbontracker:\n",
    "        tracker.epoch_end()\n",
    "        embedding_time = 0.0 # temporary value for logging\n",
    "    else:\n",
    "        embedding_time = time.time() - start_time\n",
    "else:\n",
    "    embedding_time = 0.0"
   ]
  },
  {
   "cell_type": "code",
   "execution_count": 14,
   "metadata": {},
   "outputs": [],
   "source": [
    "if use_cached_embeddings == False:\n",
    "    X_train = train_embed\n",
    "    X_val = val_embed\n",
    "    X_test = test_embed"
   ]
  },
  {
   "cell_type": "code",
   "execution_count": 15,
   "metadata": {},
   "outputs": [],
   "source": [
    "# recompute tensors for two sentence tasks\n",
    "def recompute_embedding(dataset):\n",
    "    U = dataset[:, :768]\n",
    "    V = dataset[:, 768:]\n",
    "    new = U - V\n",
    "    \n",
    "    return new"
   ]
  },
  {
   "cell_type": "code",
   "execution_count": 16,
   "metadata": {},
   "outputs": [
    {
     "name": "stdout",
     "output_type": "stream",
     "text": [
      "(635, 768)\n",
      "(71, 768)\n",
      "(146, 768)\n"
     ]
    }
   ],
   "source": [
    "recomputed = True\n",
    "X_train_recomputed = recompute_embedding(X_train)\n",
    "X_val_recomputed = recompute_embedding(X_val)\n",
    "X_test_recomputed = recompute_embedding(X_test)\n",
    "\n",
    "print(X_train_recomputed.shape)\n",
    "print(X_val_recomputed.shape)\n",
    "print(X_test_recomputed.shape)"
   ]
  },
  {
   "cell_type": "code",
   "execution_count": 17,
   "metadata": {},
   "outputs": [
    {
     "name": "stdout",
     "output_type": "stream",
     "text": [
      "(635, 1536)\n",
      "(71, 1536)\n",
      "(146, 1536)\n"
     ]
    }
   ],
   "source": [
    "print(X_train.shape)\n",
    "print(X_val.shape)\n",
    "print(X_test.shape)"
   ]
  },
  {
   "cell_type": "markdown",
   "metadata": {},
   "source": [
    "## Saving embeddings to file"
   ]
  },
  {
   "cell_type": "code",
   "execution_count": 18,
   "metadata": {},
   "outputs": [],
   "source": [
    "if use_cached_embeddings == False:\n",
    "    cache_path.mkdir(parents=True, exist_ok=True)\n",
    "\n",
    "    file_names = ['X_train', 'X_val', 'X_test']\n",
    "    paths = [pathlib.Path(cache_path / f\"{f}_{model_param}.npy\") for f in file_names]\n",
    "\n",
    "    with open(paths[0], 'wb') as X_train_file:\n",
    "        np.save(X_train_file, X_train)\n",
    "    with open(paths[1], 'wb') as X_val_file:\n",
    "        np.save(X_val_file, X_val)\n",
    "    with open(paths[2], 'wb') as X_test_file:\n",
    "        np.save(X_test_file, X_test)"
   ]
  },
  {
   "cell_type": "markdown",
   "metadata": {},
   "source": [
    "# Training loop"
   ]
  },
  {
   "cell_type": "code",
   "execution_count": 19,
   "metadata": {},
   "outputs": [
    {
     "name": "stdout",
     "output_type": "stream",
     "text": [
      "160 hyperparameter combinations\n"
     ]
    }
   ],
   "source": [
    "input_size = task_config.input_size\n",
    "if recomputed:\n",
    "    input_size = task_config.input_size // 2\n",
    "\n",
    "param_grid = {\n",
    "    'num_epochs': [50],\n",
    "    'batch_size': [32, 512],\n",
    "    'learning_rate': [1e-2, 1e-3],\n",
    "    'category': [task_config.class_type],\n",
    "    'norm': [False],\n",
    "    'input_size': [input_size],\n",
    "    'layer_size': [input_size // 4, input_size // 2, input_size, input_size * 2, input_size * 4],\n",
    "    'num_classes': [task_config.num_classes],\n",
    "    'num_layers': [1, 3, 5, 10],\n",
    "    'weight_decay':[1e-2, 1e-4],\n",
    "    'patience': [3],\n",
    "    'min_delta': [0],\n",
    "    'device': [device_name]\n",
    "}\n",
    "\n",
    "# Create a list of all combinations of hyperparameters\n",
    "all_params = [dict(zip(param_grid.keys(), v)) for v in itertools.product(*param_grid.values())]\n",
    "print(f\"{len(all_params)} hyperparameter combinations\")"
   ]
  },
  {
   "cell_type": "code",
   "execution_count": 20,
   "metadata": {},
   "outputs": [
    {
     "name": "stdout",
     "output_type": "stream",
     "text": [
      "saving results to ./results/cls/wnli/val_20231223_031823_DistilRoBERTaBase.csv\n"
     ]
    },
    {
     "data": {
      "application/vnd.jupyter.widget-view+json": {
       "model_id": "bbd5837130e54f50ba4fe7701e5f4425",
       "version_major": 2,
       "version_minor": 0
      },
      "text/plain": [
       "  0%|          | 0/160 [00:00<?, ?it/s]"
      ]
     },
     "metadata": {},
     "output_type": "display_data"
    }
   ],
   "source": [
    "# Setup for logging\n",
    "console_output_filename = f'./output/{embedding_param}_{task_param}_console_output.txt'\n",
    "with open(console_output_filename, 'a') as logfile:\n",
    "    logfile.write('\\n\\nBEGIN TRAINING LOOP\\n\\n')\n",
    "\n",
    "# Setup for saving results\n",
    "results_folder = pathlib.Path(f\"results/{embedding_param}/{task_param}\")\n",
    "results_folder.mkdir(parents=True, exist_ok=True)\n",
    "save_file_id = datetime.now().strftime(\"%Y%m%d_%H%M%S\")\n",
    "results_file = results_folder / f\"val_{save_file_id}_{model_param}.csv\"\n",
    "\n",
    "# different metrics are recorded for classification vs regression tasks\n",
    "if task_config.class_type in [\"BC\", \"MC\"]:\n",
    "    metric_types = ['mcc', 'f1', 'accuracy']\n",
    "elif task_config.class_type == \"R\":\n",
    "    metric_types = ['pearson', 'spearman']\n",
    "\n",
    "with open(results_file, 'w', newline='') as csvfile:\n",
    "    writer = csv.writer(csvfile)\n",
    "    header = metric_types + ['training time', 'embedding time', 'training energy', 'embedding energy'] + list(all_params[0].keys())\n",
    "    writer.writerow(header)\n",
    "print(f\"saving results to ./{results_file}\")\n",
    "# Saves best accuracy for progress bar display\n",
    "display_best = float(\"-inf\")\n",
    "\n",
    "# Iterate over all combinations of hyperparameters\n",
    "bar = tqdm(enumerate(all_params), total=len(all_params))\n",
    "for i, params in bar:\n",
    "    # Formatting params to display\n",
    "    print_params = params.copy()\n",
    "    for param in ['category', 'device']:\n",
    "        del print_params[param]\n",
    "\n",
    "    # Initialize the model with current set of hyperparameters\n",
    "    feed_forward = FeedForward(**params)\n",
    "\n",
    "    if recomputed:\n",
    "        metrics, train_times_per_epoch, energy_per_epoch = feed_forward.fit(X_train_recomputed,\n",
    "                                                                            Y_train,\n",
    "                                                                            X_val_recomputed,\n",
    "                                                                            Y_val,\n",
    "                                                                            use_carbontracker)\n",
    "    else:\n",
    "        metrics, train_times_per_epoch, energy_per_epoch = feed_forward.fit(X_train,\n",
    "                                                                            Y_train,\n",
    "                                                                            X_val,\n",
    "                                                                            Y_val,\n",
    "                                                                            use_carbontracker)\n",
    "    \n",
    "    # Log average training time per epoch for current parameter set\n",
    "    # Note: FFN frequently stops early\n",
    "    training_time = np.mean(train_times_per_epoch)\n",
    "    training_energy = np.mean(energy_per_epoch) \n",
    "    # Compute energy for embedding generation\n",
    "    embedding_energy = get_energy(embedding_time, device) # This method effectively just computes energy for a given time\n",
    "    \n",
    "    metric_vals = [metrics[mt] for mt in metrics]\n",
    "    \n",
    "    # displaying results in progress bar\n",
    "    display_recent = metrics[\"pearson\" if task_config.class_type == \"R\" else \"accuracy\"]\n",
    "    display_best = max(display_best, display_recent)\n",
    "    bar.set_description(f\"Best: {display_best:.5f}, Last: {display_recent:.5f}\")\n",
    "\n",
    "    # Write stats to log file\n",
    "    with open(console_output_filename, 'a') as logfile:\n",
    "        logfile.write(f\"\\n\\nTraining with parameters:\\n{print_params}\")\n",
    "        logfile.write(f\"\\nEarly stopped on epoch: {metrics['epoch']}\")\n",
    "        for name, val in zip(metric_types, metric_vals):\n",
    "            logfile.write(f\"\\nValidation {name}: {val}\")\n",
    "        logfile.write(f\"\\nTraining time      : {training_time}\") \n",
    "        logfile.write(f\"\\nEmbedding time      : {embedding_time}\") \n",
    "        logfile.write(f\"\\nTraining energy    : {training_energy}\") \n",
    "        logfile.write(f\"\\nEmbedding energy    : {embedding_energy}\") \n",
    "    # Write to results csv\n",
    "    with open(results_file, 'a', newline='') as csvfile:\n",
    "        writer = csv.writer(csvfile)\n",
    "        row = metric_vals + [training_time, embedding_time, training_energy, embedding_energy] + list(params.values())\n",
    "        writer.writerow(row)"
   ]
  },
  {
   "cell_type": "code",
   "execution_count": 21,
   "metadata": {},
   "outputs": [
    {
     "data": {
      "text/html": [
       "<div>\n",
       "<style scoped>\n",
       "    .dataframe tbody tr th:only-of-type {\n",
       "        vertical-align: middle;\n",
       "    }\n",
       "\n",
       "    .dataframe tbody tr th {\n",
       "        vertical-align: top;\n",
       "    }\n",
       "\n",
       "    .dataframe thead th {\n",
       "        text-align: right;\n",
       "    }\n",
       "</style>\n",
       "<table border=\"1\" class=\"dataframe\">\n",
       "  <thead>\n",
       "    <tr style=\"text-align: right;\">\n",
       "      <th></th>\n",
       "      <th></th>\n",
       "      <th>mcc</th>\n",
       "      <th>f1</th>\n",
       "      <th>accuracy</th>\n",
       "      <th>training time</th>\n",
       "      <th>embedding time</th>\n",
       "      <th>training energy</th>\n",
       "      <th>embedding energy</th>\n",
       "      <th>num_epochs</th>\n",
       "      <th>batch_size</th>\n",
       "      <th>learning_rate</th>\n",
       "      <th>category</th>\n",
       "      <th>norm</th>\n",
       "      <th>input_size</th>\n",
       "      <th>layer_size</th>\n",
       "      <th>num_classes</th>\n",
       "      <th>num_layers</th>\n",
       "      <th>weight_decay</th>\n",
       "      <th>patience</th>\n",
       "      <th>min_delta</th>\n",
       "      <th>device</th>\n",
       "    </tr>\n",
       "  </thead>\n",
       "  <tbody>\n",
       "    <tr>\n",
       "      <th>0.691049</th>\n",
       "      <th>0.56338</th>\n",
       "      <td>0.56338</td>\n",
       "      <td>0.0</td>\n",
       "      <td>15</td>\n",
       "      <td>0.037287</td>\n",
       "      <td>7.014166</td>\n",
       "      <td>2.796539</td>\n",
       "      <td>526.062477</td>\n",
       "      <td>50</td>\n",
       "      <td>32</td>\n",
       "      <td>0.01</td>\n",
       "      <td>BC</td>\n",
       "      <td>False</td>\n",
       "      <td>768</td>\n",
       "      <td>768</td>\n",
       "      <td>1</td>\n",
       "      <td>5</td>\n",
       "      <td>0.01</td>\n",
       "      <td>3</td>\n",
       "      <td>0</td>\n",
       "      <td>cuda</td>\n",
       "    </tr>\n",
       "  </tbody>\n",
       "</table>\n",
       "</div>"
      ],
      "text/plain": [
       "                      mcc   f1  accuracy  training time  embedding time  \\\n",
       "0.691049 0.56338  0.56338  0.0        15       0.037287        7.014166   \n",
       "\n",
       "                  training energy  embedding energy  num_epochs  batch_size  \\\n",
       "0.691049 0.56338         2.796539        526.062477          50          32   \n",
       "\n",
       "                  learning_rate category   norm  input_size  layer_size  \\\n",
       "0.691049 0.56338           0.01       BC  False         768         768   \n",
       "\n",
       "                  num_classes  num_layers  weight_decay  patience  min_delta  \\\n",
       "0.691049 0.56338            1           5          0.01         3          0   \n",
       "\n",
       "                 device  \n",
       "0.691049 0.56338   cuda  "
      ]
     },
     "execution_count": 21,
     "metadata": {},
     "output_type": "execute_result"
    }
   ],
   "source": [
    "results_df = pd.read_csv(results_file)\n",
    "# results_df = pd.read_csv(\"output/val_results_cola_20231127_151717.csv\")\n",
    "if task_config.class_type in [\"BC\", \"MC\"]:\n",
    "    print_metric = \"accuracy\"\n",
    "elif task_config.class_type == \"R\":\n",
    "    print_metric = \"pearson\"\n",
    "\n",
    "best = results_df[print_metric].max()\n",
    "best_row = results_df[results_df[print_metric] == best]\n",
    "\n",
    "best_row"
   ]
  }
 ],
 "metadata": {
  "kernelspec": {
   "display_name": "Python 3 (ipykernel)",
   "language": "python",
   "name": "python3"
  },
  "language_info": {
   "codemirror_mode": {
    "name": "ipython",
    "version": 3
   },
   "file_extension": ".py",
   "mimetype": "text/x-python",
   "name": "python",
   "nbconvert_exporter": "python",
   "pygments_lexer": "ipython3",
   "version": "3.9.0"
  }
 },
 "nbformat": 4,
 "nbformat_minor": 4
}
