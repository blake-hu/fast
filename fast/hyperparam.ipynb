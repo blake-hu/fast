{
 "cells": [
  {
   "cell_type": "markdown",
   "id": "c61a5329-3d6e-438a-b5b6-76b9172f903a",
   "metadata": {},
   "source": [
    "# Extract Best Results & Hyperparameters"
   ]
  },
  {
   "cell_type": "markdown",
   "id": "e0c3da16",
   "metadata": {},
   "source": [
    "### Definitions"
   ]
  },
  {
   "cell_type": "code",
   "execution_count": 2,
   "id": "a4d91904-7fb0-40ff-a07c-2664660f5d7d",
   "metadata": {},
   "outputs": [],
   "source": [
    "import os\n",
    "import pandas as pd\n",
    "import warnings\n",
    "warnings.filterwarnings(\"ignore\")\n",
    "\n",
    "def extract_hyperparameters_from_dir(results_base, embedding, task, dates=[]):\n",
    "    results_dir = os.path.join(results_base, embedding, task)\n",
    "    file_list = os.listdir(results_dir)\n",
    "    \n",
    "    results_df = pd.DataFrame()\n",
    "    \n",
    "    for filename in file_list:\n",
    "        filepath = os.path.join(results_dir, filename)\n",
    "        if not dates or any(date in filepath for date in dates):\n",
    "            if \"y_pred\" in filepath:\n",
    "                continue\n",
    "            with open(filepath, 'r') as file:\n",
    "                df_new = pd.read_csv(file)\n",
    "                if results_df.empty:\n",
    "                    results_df = df_new\n",
    "                else:\n",
    "                    results_df = pd.concat([results_df, df_new])\n",
    "    \n",
    "    return extract_hyperparameters(results_df, embedding, task) if not results_df.empty else {\"error\": \"no csv found\"}\n",
    "\n",
    "def extract_hyperparameters_from_file(filepath, embedding, task):\n",
    "\n",
    "    with open(filepath, 'r') as file:\n",
    "        results_df = pd.read_csv(file)\n",
    "\n",
    "    return extract_hyperparameters(results_df, embedding, task)\n",
    "\n",
    "def extract_hyperparameters(results_df, embedding, task):\n",
    "    \n",
    "    metric = \"accuracy\"\n",
    "    second_metric = \"\"\n",
    "    if task.lower() == \"stsb\":\n",
    "        metric = \"pearson\"\n",
    "        second_metric = \"spearman\"\n",
    "    if task.lower() == \"cola\":\n",
    "        metric = \"mcc\"\n",
    "    if task.lower() in [\"mrpc\", \"qqp\"]:\n",
    "        metric = \"f1\"\n",
    "        second_metric = \"accuracy\"\n",
    "        \n",
    "    best = results_df[metric].max()\n",
    "    best_row = results_df[results_df[metric] == best]\n",
    "    \n",
    "    hyperparam_grid = {}\n",
    "    for key, val in best_row.to_dict().items():\n",
    "        hyperparam_grid[key] = [list(val.values())[0]]\n",
    "    print(f\"embedding: {embedding}\")\n",
    "    print(f\"task: {task}\")\n",
    "    if not second_metric:\n",
    "        print(f\"{metric}: {hyperparam_grid[metric][0]}\")\n",
    "    else:\n",
    "        print(f\"{metric} / {second_metric}: {hyperparam_grid[metric][0]} / {hyperparam_grid[second_metric][0]}\")\n",
    "    print()\n",
    "    \n",
    "    for key in [\"pearson\", \"spearman\", \"accuracy\", \"mcc\", \"f1\", \"loss\", \"training time\", \"training energy\", \"embedding time\", \"embedding energy\", \"training time / epoch\", \"training energy / epoch\", 'num_epochs.1']:\n",
    "        if key in hyperparam_grid:\n",
    "            del hyperparam_grid[key]\n",
    "\n",
    "    if \"num_classes\" in hyperparam_grid:\n",
    "        hyperparam_grid[\"num_classes\"][0] = int(hyperparam_grid[\"num_classes\"][0])\n",
    "\n",
    "    return hyperparam_grid"
   ]
  },
  {
   "cell_type": "markdown",
   "id": "570ff9c2-42cd-41b7-be0f-cc6775ff37b8",
   "metadata": {},
   "source": [
    "### Get best row and return as dict"
   ]
  },
  {
   "cell_type": "code",
   "execution_count": 3,
   "id": "036b2c55-d063-4094-a481-dc1466d81e1e",
   "metadata": {},
   "outputs": [
    {
     "name": "stdout",
     "output_type": "stream",
     "text": [
      "embedding: cls_single\n",
      "task: mnli_mismatched\n",
      "accuracy: 0.676159479251424\n",
      "\n"
     ]
    },
    {
     "data": {
      "text/plain": [
       "{'num_epochs': [6],\n",
       " 'max_epochs': [50],\n",
       " 'batch_size': [32],\n",
       " 'learning_rate': [0.001],\n",
       " 'category': ['MC'],\n",
       " 'norm': [False],\n",
       " 'input_size': [768],\n",
       " 'layer_size': [384],\n",
       " 'num_classes': [3],\n",
       " 'num_layers': [10],\n",
       " 'weight_decay': [0.0001],\n",
       " 'patience': [3],\n",
       " 'min_delta': [0],\n",
       " 'verbose': [True],\n",
       " 'device': ['mps']}"
      ]
     },
     "execution_count": 3,
     "metadata": {},
     "output_type": "execute_result"
    }
   ],
   "source": [
    "embedding = \"cls_single\"\n",
    "task = \"mnli_mismatched\"\n",
    "filepath = \"./results/\" # base directory for results .csv files\n",
    "dates = [\"20240105\", \"20240106\", \"20240107\", \"20240108\", \"20240109\", \"20240110\"] # get results from specific dates\n",
    "\n",
    "extract_hyperparameters_from_dir(filepath, embedding, task, dates=dates)"
   ]
  },
  {
   "cell_type": "code",
   "execution_count": null,
   "id": "502c36db",
   "metadata": {},
   "outputs": [],
   "source": []
  }
 ],
 "metadata": {
  "kernelspec": {
   "display_name": "Python 3 (ipykernel)",
   "language": "python",
   "name": "python3"
  },
  "language_info": {
   "codemirror_mode": {
    "name": "ipython",
    "version": 3
   },
   "file_extension": ".py",
   "mimetype": "text/x-python",
   "name": "python",
   "nbconvert_exporter": "python",
   "pygments_lexer": "ipython3",
   "version": "3.9.0"
  }
 },
 "nbformat": 4,
 "nbformat_minor": 5
}
