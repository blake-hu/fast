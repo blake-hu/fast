{
 "cells": [
  {
   "cell_type": "markdown",
   "metadata": {},
   "source": [
    "# FAST: Energy Benchmarking"
   ]
  },
  {
   "cell_type": "code",
   "execution_count": 65,
   "metadata": {},
   "outputs": [],
   "source": [
    "import torch\n",
    "import subprocess\n",
    "import re\n",
    "import time"
   ]
  },
  {
   "cell_type": "code",
   "execution_count": 3,
   "metadata": {},
   "outputs": [
    {
     "name": "stdout",
     "output_type": "stream",
     "text": [
      "Device: mps\n"
     ]
    }
   ],
   "source": [
    "device_name = \"cpu\"  # Default device is CPU\n",
    "if torch.cuda.is_available():\n",
    "    # I read that this works for detecting if notebook is being run in a colab environment, not sure though\n",
    "    if 'COLAB_GPU' in os.environ:\n",
    "        print(\"colab environment detected\")\n",
    "        device_name = \"gpu\" \n",
    "    else:\n",
    "        device_name = \"cuda\" # CUDA for NVIDIA GPU\n",
    "elif torch.backends.mps.is_available():\n",
    "    device_name = torch.device(\"mps\")  # Metal Performance Shaders for Apple M-series GPU\n",
    "\n",
    "# device_name = \"cuda:0\"\n",
    "device = torch.device(device_name)\n",
    "print(f\"Device: {device_name}\")"
   ]
  },
  {
   "cell_type": "code",
   "execution_count": 81,
   "metadata": {},
   "outputs": [],
   "source": [
    "def match_regex(output, pattern):\n",
    "    match = pattern.search(output, re.MULTILINE)\n",
    "    if match:\n",
    "        return float(match.group(1))\n",
    "    else:\n",
    "        raise ValueError(\"Regex not found in output\")"
   ]
  },
  {
   "cell_type": "code",
   "execution_count": 82,
   "metadata": {},
   "outputs": [],
   "source": [
    "def get_power_mW(verbose=False):\n",
    "    try:\n",
    "        output = subprocess.check_output([\"sudo\", \"powermetrics\", \"-n\", \"1\", \"-i\", \"1000\", \"--samplers\", \"all\"], universal_newlines=True)  # Suppress output\n",
    "        gpu_power = match_regex(output, re.compile(r\"GPU Power: (\\d+) mW\"))\n",
    "        total_cpu_power = match_regex(output, re.compile(r\"CPU Power: (\\d+) mW\"))\n",
    "        cpu_time  = match_regex(output, re.compile(r\"python3\\.9\\s+\\d+\\s+(\\d+\\.\\d+)\"))  # assumes we are on python3.9\n",
    "        total_cpu_time  = match_regex(output, re.compile(r\"ALL_TASKS\\s+\\-2+\\s+(\\d+\\.\\d+)\"))  # assumes we are on python3.9\n",
    "\n",
    "        scaled_cpu_power = total_cpu_power * cpu_time / total_cpu_time\n",
    "        if verbose:\n",
    "            print(f\"Total CPU Power: {total_cpu_power} mW\")\n",
    "            print(f\"CPU Time: {cpu_time} ms\")\n",
    "            print(f\"Total CPU Time: {total_cpu_time} ms\")\n",
    "            print(f\"Scaled CPU Power: {scaled_cpu_power} mW\")\n",
    "            print(f\"GPU Power: {gpu_power} mW\")\n",
    "            print(f\"Power for python3.9: {scaled_cpu_power + gpu_power} mW\")\n",
    "            # write output to file\n",
    "            with open(\"power.out\", \"w\") as f:\n",
    "                f.write(str(output))\n",
    "\n",
    "        return scaled_cpu_power + gpu_power\n",
    "    \n",
    "    except Exception as e:\n",
    "        print(f\"Error: {e}\")"
   ]
  },
  {
   "cell_type": "code",
   "execution_count": 83,
   "metadata": {},
   "outputs": [],
   "source": [
    "def poll_power(values, period=5, verbose=False):\n",
    "    try:\n",
    "        while True:\n",
    "            power = get_power_mW(verbose=verbose)\n",
    "            values.append(power)\n",
    "            print(power)\n",
    "            time.sleep(period)\n",
    "    except Exception as e:\n",
    "        print(f\"Error: {e}\")"
   ]
  },
  {
   "cell_type": "code",
   "execution_count": 86,
   "metadata": {},
   "outputs": [
    {
     "name": "stdout",
     "output_type": "stream",
     "text": [
      "Total CPU Power: 7943.0 mW\n",
      "CPU Time: 873.78 ms\n",
      "Total CPU Time: 3566.04 ms\n",
      "Scaled CPU Power: 1946.2581855503583 mW\n",
      "GPU Power: 3636.0 mW\n",
      "Power for python3.9: 5582.258185550359 mW\n",
      "5582.258185550359\n"
     ]
    },
    {
     "name": "stderr",
     "output_type": "stream",
     "text": [
      "Second underflow occured.\n"
     ]
    },
    {
     "name": "stdout",
     "output_type": "stream",
     "text": [
      "Total CPU Power: 6604.0 mW\n",
      "CPU Time: 859.26 ms\n",
      "Total CPU Time: 2989.29 ms\n",
      "Scaled CPU Power: 1898.2945916923418 mW\n",
      "GPU Power: 3521.0 mW\n",
      "Power for python3.9: 5419.294591692342 mW\n",
      "5419.294591692342\n"
     ]
    },
    {
     "ename": "KeyboardInterrupt",
     "evalue": "",
     "output_type": "error",
     "traceback": [
      "\u001b[0;31m---------------------------------------------------------------------------\u001b[0m",
      "\u001b[0;31mKeyboardInterrupt\u001b[0m                         Traceback (most recent call last)",
      "Cell \u001b[0;32mIn[86], line 2\u001b[0m\n\u001b[1;32m      1\u001b[0m power_values \u001b[38;5;241m=\u001b[39m []\n\u001b[0;32m----> 2\u001b[0m \u001b[43mpoll_power\u001b[49m\u001b[43m(\u001b[49m\u001b[43mpower_values\u001b[49m\u001b[43m,\u001b[49m\u001b[43m \u001b[49m\u001b[43mperiod\u001b[49m\u001b[38;5;241;43m=\u001b[39;49m\u001b[38;5;241;43m3\u001b[39;49m\u001b[43m,\u001b[49m\u001b[43m \u001b[49m\u001b[43mverbose\u001b[49m\u001b[38;5;241;43m=\u001b[39;49m\u001b[38;5;28;43;01mTrue\u001b[39;49;00m\u001b[43m)\u001b[49m\n",
      "Cell \u001b[0;32mIn[83], line 7\u001b[0m, in \u001b[0;36mpoll_power\u001b[0;34m(values, period, verbose)\u001b[0m\n\u001b[1;32m      5\u001b[0m         values\u001b[38;5;241m.\u001b[39mappend(power)\n\u001b[1;32m      6\u001b[0m         \u001b[38;5;28mprint\u001b[39m(power)\n\u001b[0;32m----> 7\u001b[0m         \u001b[43mtime\u001b[49m\u001b[38;5;241;43m.\u001b[39;49m\u001b[43msleep\u001b[49m\u001b[43m(\u001b[49m\u001b[43mperiod\u001b[49m\u001b[43m)\u001b[49m\n\u001b[1;32m      8\u001b[0m \u001b[38;5;28;01mexcept\u001b[39;00m \u001b[38;5;167;01mException\u001b[39;00m \u001b[38;5;28;01mas\u001b[39;00m e:\n\u001b[1;32m      9\u001b[0m     \u001b[38;5;28mprint\u001b[39m(\u001b[38;5;124mf\u001b[39m\u001b[38;5;124m\"\u001b[39m\u001b[38;5;124mError: \u001b[39m\u001b[38;5;132;01m{\u001b[39;00me\u001b[38;5;132;01m}\u001b[39;00m\u001b[38;5;124m\"\u001b[39m)\n",
      "\u001b[0;31mKeyboardInterrupt\u001b[0m: "
     ]
    }
   ],
   "source": [
    "power_values = []\n",
    "poll_power(power_values, period=3, verbose=True)"
   ]
  },
  {
   "cell_type": "code",
   "execution_count": null,
   "metadata": {},
   "outputs": [],
   "source": []
  }
 ],
 "metadata": {
  "kernelspec": {
   "display_name": "Python 3 (ipykernel)",
   "language": "python",
   "name": "python3"
  },
  "language_info": {
   "codemirror_mode": {
    "name": "ipython",
    "version": 3
   },
   "file_extension": ".py",
   "mimetype": "text/x-python",
   "name": "python",
   "nbconvert_exporter": "python",
   "pygments_lexer": "ipython3",
   "version": "3.9.0"
  }
 },
 "nbformat": 4,
 "nbformat_minor": 4
}
