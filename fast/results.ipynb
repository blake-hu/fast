{
 "cells": [
  {
   "cell_type": "code",
   "execution_count": 9,
   "metadata": {},
   "outputs": [],
   "source": [
    "import os\n",
    "import pandas as pd\n",
    "\n",
    "from datetime import datetime"
   ]
  },
  {
   "cell_type": "markdown",
   "metadata": {},
   "source": [
    "## printing all best results"
   ]
  },
  {
   "cell_type": "code",
   "execution_count": 1,
   "metadata": {},
   "outputs": [],
   "source": [
    "metrics = {\n",
    "    \"cola\": [\"mcc\"],\n",
    "    \"sst2\": [\"accuracy\"],\n",
    "    \"mrpc\": [\"f1\", \"accuracy\"],\n",
    "    \"stsb\": [\"pearson\"],\n",
    "    \"qqp\": [\"f1\", \"accuracy\"],\n",
    "    \"mnli_matched\": [\"accuracy\"],\n",
    "    \"mnli_mismatched\": [\"accuracy\"],\n",
    "    \"qnli\": [\"accuracy\"],\n",
    "    \"rte\": [\"accuracy\"],\n",
    "    \"wnli\": [\"accuracy\"],\n",
    "}"
   ]
  },
  {
   "cell_type": "code",
   "execution_count": 12,
   "metadata": {},
   "outputs": [],
   "source": [
    "def parse_results_name(filename):\n",
    "    _, date, time, model = filename.split(\".\")[0].split(\"_\")\n",
    "\n",
    "    date_obj = datetime.strptime(date + time, '%Y%m%d%H%M%S')\n",
    "\n",
    "    formatted_date = date_obj.strftime('%Y-%m-%d')\n",
    "    formatted_time = date_obj.strftime('%H:%M:%S')\n",
    "\n",
    "    return formatted_date, formatted_time, model"
   ]
  },
  {
   "cell_type": "code",
   "execution_count": 23,
   "metadata": {},
   "outputs": [
    {
     "name": "stdout",
     "output_type": "stream",
     "text": [
      "--- Results from 2023-11-29 15:53:54: DistilRoBERTaBase, mean_pooling, cola ---\n",
      "Best mcc: 0.49233\n",
      "--- Results from 2023-12-08 01:11:58: MPNetBase, mean_pooling, cola ---\n",
      "Best mcc: 0.43973\n",
      "--- Results from 2023-12-13 17:34:56: MPNetBase, mean_pooling, cola ---\n",
      "Best mcc: 0.46715\n",
      "--- Results from 2023-11-29 15:58:59: DistilRoBERTaBase, mean_pooling, mrpc ---\n",
      "Best f1: 0.72304\n",
      "Best accuracy: 0.72304\n",
      "--- Results from 2023-12-01 15:35:54: DistilRoBERTaBase, mean_pooling, mrpc ---\n",
      "Best f1: 0.72059\n",
      "Best accuracy: 0.72059\n",
      "--- Results from 2023-11-29 16:02:59: DistilRoBERTaBase, mean_pooling, rte ---\n",
      "Best accuracy: 0.57040\n",
      "--- Results from 2023-12-13 17:55:22: MPNetBase, mean_pooling, rte ---\n",
      "Best accuracy: 0.61372\n",
      "--- Results from 2023-11-29 16:03:58: DistilRoBERTaBase, mean_pooling, wnli ---\n",
      "Best accuracy: 0.56338\n",
      "--- Results from 2023-12-13 17:56:02: MPNetBase, mean_pooling, wnli ---\n",
      "Best accuracy: 0.56338\n",
      "--- Results from 2023-11-29 16:21:24: DistilRoBERTaBase, mean_pooling, qnli ---\n",
      "Best accuracy: 0.68863\n",
      "--- Results from 2023-12-01 15:01:43: DistilRoBERTaBase, mean_pooling, qnli ---\n",
      "Best accuracy: 0.74977\n",
      "--- Results from 2023-12-08 13:58:54: DistilRoBERTaBase, mean_pooling, qnli ---\n",
      "Best accuracy: 0.75252\n",
      "--- Results from 2023-12-08 02:49:08: DistilRoBERTaBase, mean_pooling, qqp ---\n",
      "Best f1: 0.82795\n",
      "Best accuracy: 0.82795\n",
      "--- Results from 2023-12-08 03:03:55: DistilRoBERTaBase, mean_pooling, qqp ---\n",
      "Best f1: 0.82795\n",
      "Best accuracy: 0.82795\n",
      "--- Results from 2023-12-13 17:44:42: MPNetBase, mean_pooling, sst2 ---\n",
      "Best accuracy: 0.90138\n",
      "--- Results from 2023-12-01 14:00:48: DistilRoBERTaBase, cls, rte ---\n",
      "Best accuracy: 0.57401\n",
      "--- Results from 2023-12-13 17:44:03: MPNetBase, cls, rte ---\n",
      "Best accuracy: 0.55235\n",
      "--- Results from 2023-12-01 14:01:42: DistilRoBERTaBase, cls, wnli ---\n",
      "Best accuracy: 0.56338\n",
      "--- Results from 2023-12-13 17:44:29: MPNetBase, cls, wnli ---\n",
      "Best accuracy: 0.56338\n",
      "--- Results from 2023-12-01 14:03:31: DistilRoBERTaBase, cls, mrpc ---\n",
      "Best f1: 0.70588\n",
      "Best accuracy: 0.70588\n",
      "--- Results from 2023-12-08 00:57:01: DistilRoBERTaBase, cls, cola ---\n",
      "Best mcc: 0.43394\n",
      "--- Results from 2023-12-08 01:06:03: DistilRoBERTaBase, cls, cola ---\n",
      "Best mcc: 0.43394\n",
      "--- Results from 2023-12-08 01:08:40: MPNetBase, cls, cola ---\n",
      "Best mcc: 0.41281\n",
      "--- Results from 2023-12-08 14:53:21: MPNetBase, cls, cola ---\n",
      "Best mcc: 0.40611\n",
      "--- Results from 2023-12-13 17:26:46: MPNetBase, cls, cola ---\n",
      "Best mcc: 0.40930\n",
      "--- Results from 2023-12-13 17:33:17: MPNetBase, cls, cola ---\n",
      "Best mcc: 0.36905\n",
      "--- Results from 2023-12-08 13:02:49: DistilRoBERTaBase, cls, qnli ---\n",
      "Best accuracy: 0.69925\n",
      "--- Results from 2023-12-08 14:33:50: DistilRoBERTaBase, cls, qqp ---\n",
      "Best f1: 0.82340\n",
      "Best accuracy: 0.82340\n",
      "--- Results from 2023-12-08 15:05:09: MPNetBase, cls, sst2 ---\n",
      "Best accuracy: 0.86353\n",
      "--- Results from 2023-12-13 17:34:37: MPNetBase, cls, sst2 ---\n",
      "Best accuracy: 0.87156\n"
     ]
    }
   ],
   "source": [
    "results_path = \"results\"\n",
    "\n",
    "for root, dirs, files in os.walk(results_path):\n",
    "    for file in files:\n",
    "        if not file.endswith(\"csv\"):\n",
    "            continue\n",
    "\n",
    "        df = pd.read_csv(os.path.join(root, file))\n",
    "\n",
    "        # skipping empty results files\n",
    "        if df.shape[0] == 0:\n",
    "            continue\n",
    "\n",
    "        _, embedding_type, task = root.split(\"/\")\n",
    "        date, time, model = parse_results_name(file)\n",
    "        print(f\"--- Results from {date} {time}: {model}, {embedding_type}, {task} ---\")\n",
    "\n",
    "        for m in metrics[task]:\n",
    "            best = df[m].max()\n",
    "            best_row = df[df[m] == best]\n",
    "            print(f\"Best {m}: {best:.5f}\")\n",
    "\n",
    "        "
   ]
  }
 ],
 "metadata": {
  "kernelspec": {
   "display_name": "fast",
   "language": "python",
   "name": "python3"
  },
  "language_info": {
   "codemirror_mode": {
    "name": "ipython",
    "version": 3
   },
   "file_extension": ".py",
   "mimetype": "text/x-python",
   "name": "python",
   "nbconvert_exporter": "python",
   "pygments_lexer": "ipython3",
   "version": "3.9.0"
  }
 },
 "nbformat": 4,
 "nbformat_minor": 2
}
